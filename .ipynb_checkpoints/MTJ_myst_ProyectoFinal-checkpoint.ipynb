{
 "cells": [
  {
   "cell_type": "markdown",
   "metadata": {},
   "source": [
    "___\n",
    "<img style=\"float: right; margin: 0px 0px 15px 15px;\" src=\"https://www.carrerasenlinea.mx/logos/original/logo-instituto-tecnologico-y-de-estudios-superiores-de-occidente.png\" width=\"150px\" height=\"100px\" />\n",
    "\n",
    "# Microestructuras y Sistemas de Trading\n",
    "## Proyecto Final\n",
    "### Equipo MTJ\n",
    "\n",
    "## <font color=\"navy\">  \"ANÁLISIS FUNDAMENTAL\"\n",
    "    \n",
    "* <font color=\"black\">**INTEGRANTE 1 :**</font> Tere Castillo\n",
    "* <font color=\"black\">**INTEGRANTE 2 :**</font> Marysol Cantarero Velazquez Del Valle\n",
    "* <font color=\"black\">**INTEGRANTE 3 :**</font> Juan Lopez\n",
    " "
   ]
  },
  {
   "cell_type": "markdown",
   "metadata": {},
   "source": [
    "### <font color = navy> SITUACIÓN\n",
    "En el mercado de Forex es ampliamente utilizado el \"Calendario Económico\" el cual es aquel que incorpora información de las principales economíad del mundo. Esta información se utiliza para realizar distintos análisis.\n",
    "\n",
    "### <font color = navy> OBJETIVO\n",
    "Diseñar una estrategia de trading con base a la reacción del precio ante el comunicado de indicadores macroeconómicos (Análisis fundamental). \n",
    "    \n",
    "### <font color = navy> MARCO TEÓRICO\n",
    "\"Trade Balance EUR\" = La Balanza comercial mide la diferencia de valor entre los bienes y servicios importados y exportados durante el período informado. Un número positivo indica que se exportaron más bienes y servicios que importados. Es decir si la lectura es positiva, EUR tiene un super hábit en la balanza comercial , de ser el caso contrario se tendría un déficit\n",
    "    \n",
    "\"Trade Balance USD\" = La Balanza comercial mide la diferencia de valor entre los bienes y servicios importados y exportados durante el período informado. Un número positivo indica que se exportaron más bienes y servicios que importados. Es decir si la lectura es positiva, USD tiene un super hábit en la balanza comercial , de ser el caso contrario se tendría un déficit\n",
    "\n",
    " Reglas de lectura indicadores = Ej: Si X indicador es positivo entonces se espera movimiento alcista\n",
    " "
   ]
  },
  {
   "cell_type": "markdown",
   "metadata": {},
   "source": [
    "### <font color = navy> Procedimiento\n",
    "\n",
    "Importando librerías"
   ]
  },
  {
   "cell_type": "code",
   "execution_count": 3,
   "metadata": {},
   "outputs": [
    {
     "data": {
      "text/html": [
       "        <script type=\"text/javascript\">\n",
       "        window.PlotlyConfig = {MathJaxConfig: 'local'};\n",
       "        if (window.MathJax) {MathJax.Hub.Config({SVG: {font: \"STIX-Web\"}});}\n",
       "        if (typeof require !== 'undefined') {\n",
       "        require.undef(\"plotly\");\n",
       "        requirejs.config({\n",
       "            paths: {\n",
       "                'plotly': ['https://cdn.plot.ly/plotly-latest.min']\n",
       "            }\n",
       "        });\n",
       "        require(['plotly'], function(Plotly) {\n",
       "            window._Plotly = Plotly;\n",
       "        });\n",
       "        }\n",
       "        </script>\n",
       "        "
      ]
     },
     "metadata": {},
     "output_type": "display_data"
    }
   ],
   "source": [
    "import numpy as np\n",
    "import pandas as pd\n",
    "import warnings\n",
    "warnings.filterwarnings(\"ignore\")\n",
    "from plotly.subplots import make_subplots\n",
    "import plotly.graph_objs as go # Si no se puede con plotly.graph_objects trate plotly.graph_objs\n",
    "from plotly.offline import init_notebook_mode, plot, iplot\n",
    "init_notebook_mode(connected=True)\n",
    "import pandas as pd\n",
    "import plotly.graph_objects as go\n",
    "import numpy as np\n",
    "import plotly.offline as py                               # para visualizar plots de plotly offline\n",
    "# Inicializar modalidad offline para visualizar plots, sin conexion a internet y sin generar link de plot\n",
    "py.offline.init_notebook_mode(connected=False)"
   ]
  },
  {
   "cell_type": "code",
   "execution_count": 4,
   "metadata": {
    "scrolled": true
   },
   "outputs": [
    {
     "ename": "FileNotFoundError",
     "evalue": "[Errno 2] File b'calendario_economico.csv' does not exist: b'calendario_economico.csv'",
     "output_type": "error",
     "traceback": [
      "\u001b[0;31m---------------------------------------------------------------------------\u001b[0m",
      "\u001b[0;31mFileNotFoundError\u001b[0m                         Traceback (most recent call last)",
      "\u001b[0;32m<ipython-input-4-c520ea32522f>\u001b[0m in \u001b[0;36m<module>\u001b[0;34m\u001b[0m\n\u001b[1;32m      1\u001b[0m \u001b[0;31m#CALENDARIO ECONÓMICO\u001b[0m\u001b[0;34m\u001b[0m\u001b[0;34m\u001b[0m\u001b[0;34m\u001b[0m\u001b[0m\n\u001b[0;32m----> 2\u001b[0;31m \u001b[0mcal_ec\u001b[0m \u001b[0;34m=\u001b[0m \u001b[0mpd\u001b[0m\u001b[0;34m.\u001b[0m\u001b[0mread_csv\u001b[0m\u001b[0;34m(\u001b[0m\u001b[0;34m\"calendario_economico.csv\"\u001b[0m\u001b[0;34m)\u001b[0m \u001b[0;31m# leen los datos del excel calendario economico\u001b[0m\u001b[0;34m\u001b[0m\u001b[0;34m\u001b[0m\u001b[0m\n\u001b[0m\u001b[1;32m      3\u001b[0m \u001b[0mcal_ec\u001b[0m\u001b[0;34m[\u001b[0m\u001b[0;34m'timestamp'\u001b[0m\u001b[0;34m]\u001b[0m \u001b[0;34m=\u001b[0m \u001b[0;34m[\u001b[0m\u001b[0mpd\u001b[0m\u001b[0;34m.\u001b[0m\u001b[0mto_datetime\u001b[0m\u001b[0;34m(\u001b[0m\u001b[0mcal_ec\u001b[0m\u001b[0;34m.\u001b[0m\u001b[0miat\u001b[0m\u001b[0;34m[\u001b[0m\u001b[0mi\u001b[0m\u001b[0;34m,\u001b[0m\u001b[0;36m0\u001b[0m\u001b[0;34m]\u001b[0m\u001b[0;34m)\u001b[0m\u001b[0;34m.\u001b[0m\u001b[0mtz_localize\u001b[0m\u001b[0;34m(\u001b[0m\u001b[0;34m'GMT'\u001b[0m\u001b[0;34m)\u001b[0m \u001b[0;32mfor\u001b[0m \u001b[0mi\u001b[0m \u001b[0;32min\u001b[0m \u001b[0mrange\u001b[0m \u001b[0;34m(\u001b[0m\u001b[0mlen\u001b[0m\u001b[0;34m(\u001b[0m\u001b[0mcal_ec\u001b[0m\u001b[0;34m)\u001b[0m\u001b[0;34m)\u001b[0m\u001b[0;34m]\u001b[0m\u001b[0;34m\u001b[0m\u001b[0;34m\u001b[0m\u001b[0m\n\u001b[1;32m      4\u001b[0m \u001b[0;31m# iat ayuda a agarrar solo un valor de un dataframe\u001b[0m\u001b[0;34m\u001b[0m\u001b[0;34m\u001b[0m\u001b[0;34m\u001b[0m\u001b[0m\n\u001b[1;32m      5\u001b[0m \u001b[0;31m# tz_localize, ubica en un index de un dataframe la zona horaria(en este caso 'GMT')\u001b[0m\u001b[0;34m\u001b[0m\u001b[0;34m\u001b[0m\u001b[0;34m\u001b[0m\u001b[0m\n",
      "\u001b[0;32m//anaconda3/lib/python3.7/site-packages/pandas/io/parsers.py\u001b[0m in \u001b[0;36mparser_f\u001b[0;34m(filepath_or_buffer, sep, delimiter, header, names, index_col, usecols, squeeze, prefix, mangle_dupe_cols, dtype, engine, converters, true_values, false_values, skipinitialspace, skiprows, skipfooter, nrows, na_values, keep_default_na, na_filter, verbose, skip_blank_lines, parse_dates, infer_datetime_format, keep_date_col, date_parser, dayfirst, iterator, chunksize, compression, thousands, decimal, lineterminator, quotechar, quoting, doublequote, escapechar, comment, encoding, dialect, tupleize_cols, error_bad_lines, warn_bad_lines, delim_whitespace, low_memory, memory_map, float_precision)\u001b[0m\n\u001b[1;32m    700\u001b[0m                     skip_blank_lines=skip_blank_lines)\n\u001b[1;32m    701\u001b[0m \u001b[0;34m\u001b[0m\u001b[0m\n\u001b[0;32m--> 702\u001b[0;31m         \u001b[0;32mreturn\u001b[0m \u001b[0m_read\u001b[0m\u001b[0;34m(\u001b[0m\u001b[0mfilepath_or_buffer\u001b[0m\u001b[0;34m,\u001b[0m \u001b[0mkwds\u001b[0m\u001b[0;34m)\u001b[0m\u001b[0;34m\u001b[0m\u001b[0;34m\u001b[0m\u001b[0m\n\u001b[0m\u001b[1;32m    703\u001b[0m \u001b[0;34m\u001b[0m\u001b[0m\n\u001b[1;32m    704\u001b[0m     \u001b[0mparser_f\u001b[0m\u001b[0;34m.\u001b[0m\u001b[0m__name__\u001b[0m \u001b[0;34m=\u001b[0m \u001b[0mname\u001b[0m\u001b[0;34m\u001b[0m\u001b[0;34m\u001b[0m\u001b[0m\n",
      "\u001b[0;32m//anaconda3/lib/python3.7/site-packages/pandas/io/parsers.py\u001b[0m in \u001b[0;36m_read\u001b[0;34m(filepath_or_buffer, kwds)\u001b[0m\n\u001b[1;32m    427\u001b[0m \u001b[0;34m\u001b[0m\u001b[0m\n\u001b[1;32m    428\u001b[0m     \u001b[0;31m# Create the parser.\u001b[0m\u001b[0;34m\u001b[0m\u001b[0;34m\u001b[0m\u001b[0;34m\u001b[0m\u001b[0m\n\u001b[0;32m--> 429\u001b[0;31m     \u001b[0mparser\u001b[0m \u001b[0;34m=\u001b[0m \u001b[0mTextFileReader\u001b[0m\u001b[0;34m(\u001b[0m\u001b[0mfilepath_or_buffer\u001b[0m\u001b[0;34m,\u001b[0m \u001b[0;34m**\u001b[0m\u001b[0mkwds\u001b[0m\u001b[0;34m)\u001b[0m\u001b[0;34m\u001b[0m\u001b[0;34m\u001b[0m\u001b[0m\n\u001b[0m\u001b[1;32m    430\u001b[0m \u001b[0;34m\u001b[0m\u001b[0m\n\u001b[1;32m    431\u001b[0m     \u001b[0;32mif\u001b[0m \u001b[0mchunksize\u001b[0m \u001b[0;32mor\u001b[0m \u001b[0miterator\u001b[0m\u001b[0;34m:\u001b[0m\u001b[0;34m\u001b[0m\u001b[0;34m\u001b[0m\u001b[0m\n",
      "\u001b[0;32m//anaconda3/lib/python3.7/site-packages/pandas/io/parsers.py\u001b[0m in \u001b[0;36m__init__\u001b[0;34m(self, f, engine, **kwds)\u001b[0m\n\u001b[1;32m    893\u001b[0m             \u001b[0mself\u001b[0m\u001b[0;34m.\u001b[0m\u001b[0moptions\u001b[0m\u001b[0;34m[\u001b[0m\u001b[0;34m'has_index_names'\u001b[0m\u001b[0;34m]\u001b[0m \u001b[0;34m=\u001b[0m \u001b[0mkwds\u001b[0m\u001b[0;34m[\u001b[0m\u001b[0;34m'has_index_names'\u001b[0m\u001b[0;34m]\u001b[0m\u001b[0;34m\u001b[0m\u001b[0;34m\u001b[0m\u001b[0m\n\u001b[1;32m    894\u001b[0m \u001b[0;34m\u001b[0m\u001b[0m\n\u001b[0;32m--> 895\u001b[0;31m         \u001b[0mself\u001b[0m\u001b[0;34m.\u001b[0m\u001b[0m_make_engine\u001b[0m\u001b[0;34m(\u001b[0m\u001b[0mself\u001b[0m\u001b[0;34m.\u001b[0m\u001b[0mengine\u001b[0m\u001b[0;34m)\u001b[0m\u001b[0;34m\u001b[0m\u001b[0;34m\u001b[0m\u001b[0m\n\u001b[0m\u001b[1;32m    896\u001b[0m \u001b[0;34m\u001b[0m\u001b[0m\n\u001b[1;32m    897\u001b[0m     \u001b[0;32mdef\u001b[0m \u001b[0mclose\u001b[0m\u001b[0;34m(\u001b[0m\u001b[0mself\u001b[0m\u001b[0;34m)\u001b[0m\u001b[0;34m:\u001b[0m\u001b[0;34m\u001b[0m\u001b[0;34m\u001b[0m\u001b[0m\n",
      "\u001b[0;32m//anaconda3/lib/python3.7/site-packages/pandas/io/parsers.py\u001b[0m in \u001b[0;36m_make_engine\u001b[0;34m(self, engine)\u001b[0m\n\u001b[1;32m   1120\u001b[0m     \u001b[0;32mdef\u001b[0m \u001b[0m_make_engine\u001b[0m\u001b[0;34m(\u001b[0m\u001b[0mself\u001b[0m\u001b[0;34m,\u001b[0m \u001b[0mengine\u001b[0m\u001b[0;34m=\u001b[0m\u001b[0;34m'c'\u001b[0m\u001b[0;34m)\u001b[0m\u001b[0;34m:\u001b[0m\u001b[0;34m\u001b[0m\u001b[0;34m\u001b[0m\u001b[0m\n\u001b[1;32m   1121\u001b[0m         \u001b[0;32mif\u001b[0m \u001b[0mengine\u001b[0m \u001b[0;34m==\u001b[0m \u001b[0;34m'c'\u001b[0m\u001b[0;34m:\u001b[0m\u001b[0;34m\u001b[0m\u001b[0;34m\u001b[0m\u001b[0m\n\u001b[0;32m-> 1122\u001b[0;31m             \u001b[0mself\u001b[0m\u001b[0;34m.\u001b[0m\u001b[0m_engine\u001b[0m \u001b[0;34m=\u001b[0m \u001b[0mCParserWrapper\u001b[0m\u001b[0;34m(\u001b[0m\u001b[0mself\u001b[0m\u001b[0;34m.\u001b[0m\u001b[0mf\u001b[0m\u001b[0;34m,\u001b[0m \u001b[0;34m**\u001b[0m\u001b[0mself\u001b[0m\u001b[0;34m.\u001b[0m\u001b[0moptions\u001b[0m\u001b[0;34m)\u001b[0m\u001b[0;34m\u001b[0m\u001b[0;34m\u001b[0m\u001b[0m\n\u001b[0m\u001b[1;32m   1123\u001b[0m         \u001b[0;32melse\u001b[0m\u001b[0;34m:\u001b[0m\u001b[0;34m\u001b[0m\u001b[0;34m\u001b[0m\u001b[0m\n\u001b[1;32m   1124\u001b[0m             \u001b[0;32mif\u001b[0m \u001b[0mengine\u001b[0m \u001b[0;34m==\u001b[0m \u001b[0;34m'python'\u001b[0m\u001b[0;34m:\u001b[0m\u001b[0;34m\u001b[0m\u001b[0;34m\u001b[0m\u001b[0m\n",
      "\u001b[0;32m//anaconda3/lib/python3.7/site-packages/pandas/io/parsers.py\u001b[0m in \u001b[0;36m__init__\u001b[0;34m(self, src, **kwds)\u001b[0m\n\u001b[1;32m   1851\u001b[0m         \u001b[0mkwds\u001b[0m\u001b[0;34m[\u001b[0m\u001b[0;34m'usecols'\u001b[0m\u001b[0;34m]\u001b[0m \u001b[0;34m=\u001b[0m \u001b[0mself\u001b[0m\u001b[0;34m.\u001b[0m\u001b[0musecols\u001b[0m\u001b[0;34m\u001b[0m\u001b[0;34m\u001b[0m\u001b[0m\n\u001b[1;32m   1852\u001b[0m \u001b[0;34m\u001b[0m\u001b[0m\n\u001b[0;32m-> 1853\u001b[0;31m         \u001b[0mself\u001b[0m\u001b[0;34m.\u001b[0m\u001b[0m_reader\u001b[0m \u001b[0;34m=\u001b[0m \u001b[0mparsers\u001b[0m\u001b[0;34m.\u001b[0m\u001b[0mTextReader\u001b[0m\u001b[0;34m(\u001b[0m\u001b[0msrc\u001b[0m\u001b[0;34m,\u001b[0m \u001b[0;34m**\u001b[0m\u001b[0mkwds\u001b[0m\u001b[0;34m)\u001b[0m\u001b[0;34m\u001b[0m\u001b[0;34m\u001b[0m\u001b[0m\n\u001b[0m\u001b[1;32m   1854\u001b[0m         \u001b[0mself\u001b[0m\u001b[0;34m.\u001b[0m\u001b[0munnamed_cols\u001b[0m \u001b[0;34m=\u001b[0m \u001b[0mself\u001b[0m\u001b[0;34m.\u001b[0m\u001b[0m_reader\u001b[0m\u001b[0;34m.\u001b[0m\u001b[0munnamed_cols\u001b[0m\u001b[0;34m\u001b[0m\u001b[0;34m\u001b[0m\u001b[0m\n\u001b[1;32m   1855\u001b[0m \u001b[0;34m\u001b[0m\u001b[0m\n",
      "\u001b[0;32mpandas/_libs/parsers.pyx\u001b[0m in \u001b[0;36mpandas._libs.parsers.TextReader.__cinit__\u001b[0;34m()\u001b[0m\n",
      "\u001b[0;32mpandas/_libs/parsers.pyx\u001b[0m in \u001b[0;36mpandas._libs.parsers.TextReader._setup_parser_source\u001b[0;34m()\u001b[0m\n",
      "\u001b[0;31mFileNotFoundError\u001b[0m: [Errno 2] File b'calendario_economico.csv' does not exist: b'calendario_economico.csv'"
     ]
    }
   ],
   "source": [
    "#CALENDARIO ECONÓMICO\n",
    "cal_ec = pd.read_csv(\"calendario_economico.csv\") # leen los datos del excel calendario economico\n",
    "cal_ec['timestamp'] = [pd.to_datetime(cal_ec.iat[i,0]).tz_localize('GMT') for i in range (len(cal_ec))]\n",
    "# iat ayuda a agarrar solo un valor de un dataframe\n",
    "# tz_localize, ubica en un index de un dataframe la zona horaria(en este caso 'GMT')\n",
    "cal_ec.head() #MES/DIA"
   ]
  },
  {
   "cell_type": "code",
   "execution_count": 3,
   "metadata": {},
   "outputs": [
    {
     "data": {
      "text/html": [
       "<div>\n",
       "<style scoped>\n",
       "    .dataframe tbody tr th:only-of-type {\n",
       "        vertical-align: middle;\n",
       "    }\n",
       "\n",
       "    .dataframe tbody tr th {\n",
       "        vertical-align: top;\n",
       "    }\n",
       "\n",
       "    .dataframe thead th {\n",
       "        text-align: right;\n",
       "    }\n",
       "</style>\n",
       "<table border=\"1\" class=\"dataframe\">\n",
       "  <thead>\n",
       "    <tr style=\"text-align: right;\">\n",
       "      <th></th>\n",
       "      <th>timestamp</th>\n",
       "      <th>open</th>\n",
       "      <th>high</th>\n",
       "      <th>low</th>\n",
       "      <th>close</th>\n",
       "    </tr>\n",
       "  </thead>\n",
       "  <tbody>\n",
       "    <tr>\n",
       "      <th>0</th>\n",
       "      <td>2009-01-06 05:00:00+00:00</td>\n",
       "      <td>1.35564</td>\n",
       "      <td>1.35565</td>\n",
       "      <td>1.35383</td>\n",
       "      <td>1.35439</td>\n",
       "    </tr>\n",
       "    <tr>\n",
       "      <th>1</th>\n",
       "      <td>2009-01-06 05:05:00+00:00</td>\n",
       "      <td>1.35443</td>\n",
       "      <td>1.35489</td>\n",
       "      <td>1.35424</td>\n",
       "      <td>1.35474</td>\n",
       "    </tr>\n",
       "    <tr>\n",
       "      <th>2</th>\n",
       "      <td>2009-01-06 05:10:00+00:00</td>\n",
       "      <td>1.35480</td>\n",
       "      <td>1.35552</td>\n",
       "      <td>1.35439</td>\n",
       "      <td>1.35539</td>\n",
       "    </tr>\n",
       "    <tr>\n",
       "      <th>3</th>\n",
       "      <td>2009-01-06 05:15:00+00:00</td>\n",
       "      <td>1.35545</td>\n",
       "      <td>1.35549</td>\n",
       "      <td>1.35101</td>\n",
       "      <td>1.35101</td>\n",
       "    </tr>\n",
       "    <tr>\n",
       "      <th>4</th>\n",
       "      <td>2009-01-06 05:20:00+00:00</td>\n",
       "      <td>1.35101</td>\n",
       "      <td>1.35130</td>\n",
       "      <td>1.35021</td>\n",
       "      <td>1.35086</td>\n",
       "    </tr>\n",
       "  </tbody>\n",
       "</table>\n",
       "</div>"
      ],
      "text/plain": [
       "                  timestamp     open     high      low    close\n",
       "0 2009-01-06 05:00:00+00:00  1.35564  1.35565  1.35383  1.35439\n",
       "1 2009-01-06 05:05:00+00:00  1.35443  1.35489  1.35424  1.35474\n",
       "2 2009-01-06 05:10:00+00:00  1.35480  1.35552  1.35439  1.35539\n",
       "3 2009-01-06 05:15:00+00:00  1.35545  1.35549  1.35101  1.35101\n",
       "4 2009-01-06 05:20:00+00:00  1.35101  1.35130  1.35021  1.35086"
      ]
     },
     "execution_count": 3,
     "metadata": {},
     "output_type": "execute_result"
    }
   ],
   "source": [
    "# PRECIOS HISTÓRICOS (2019) (para hacer pruebas iniciales)\n",
    "precios = pd.read_csv(\"precios_historicos_eurusd.csv\") #Lectura de datos\n",
    "precios['timestamp'] = [pd.to_datetime(precios.iat[i,0]).tz_localize('GMT') for i in range (len(precios))] \n",
    "# iat ayuda a agarrar solo un valor de un dataframe\n",
    "# tz_localize, ubica en un index de un dataframe la zona horaria(en este caso 'GMT')\n",
    "precios.head() #MES/DIA"
   ]
  },
  {
   "cell_type": "code",
   "execution_count": 4,
   "metadata": {},
   "outputs": [],
   "source": [
    "EUR = pd.DataFrame() #data frames vacios\n",
    "USD = pd.DataFrame() #data frames vacios\n",
    "for i in range(len(cal_ec)):\n",
    "    d = cal_ec.index[i]\n",
    "    if cal_ec['Name'][i] == \"Trade Balance EUR\":\n",
    "        EUR[d] = cal_ec.iloc[i]\n",
    "    elif cal_ec['Name'][i] == \"Trade Balance\":\n",
    "        USD[d] = cal_ec.iloc[i]\n",
    "EUR = EUR.T; EUR = EUR.reset_index(drop=True) \n",
    "EUR=EUR.drop(0);EUR = EUR.reset_index(drop=True)  # Se quita el primer dato ya que no tiene previous y es el primero.\n",
    "USD = USD.T; USD = USD.reset_index(drop=True)"
   ]
  },
  {
   "cell_type": "code",
   "execution_count": 5,
   "metadata": {},
   "outputs": [
    {
     "data": {
      "text/html": [
       "<div>\n",
       "<style scoped>\n",
       "    .dataframe tbody tr th:only-of-type {\n",
       "        vertical-align: middle;\n",
       "    }\n",
       "\n",
       "    .dataframe tbody tr th {\n",
       "        vertical-align: top;\n",
       "    }\n",
       "\n",
       "    .dataframe thead th {\n",
       "        text-align: right;\n",
       "    }\n",
       "</style>\n",
       "<table border=\"1\" class=\"dataframe\">\n",
       "  <thead>\n",
       "    <tr style=\"text-align: right;\">\n",
       "      <th></th>\n",
       "      <th>timestamp</th>\n",
       "      <th>Currency</th>\n",
       "      <th>Name</th>\n",
       "      <th>Country</th>\n",
       "      <th>Volatility</th>\n",
       "      <th>actual</th>\n",
       "      <th>previous</th>\n",
       "      <th>consensus</th>\n",
       "    </tr>\n",
       "  </thead>\n",
       "  <tbody>\n",
       "    <tr>\n",
       "      <th>0</th>\n",
       "      <td>2011-02-08 07:45:00+00:00</td>\n",
       "      <td>EUR</td>\n",
       "      <td>Trade Balance EUR</td>\n",
       "      <td>France</td>\n",
       "      <td>1</td>\n",
       "      <td>-5.1</td>\n",
       "      <td>-4.1</td>\n",
       "      <td>NaN</td>\n",
       "    </tr>\n",
       "    <tr>\n",
       "      <th>1</th>\n",
       "      <td>2011-03-08 06:45:00+00:00</td>\n",
       "      <td>EUR</td>\n",
       "      <td>Trade Balance EUR</td>\n",
       "      <td>France</td>\n",
       "      <td>1</td>\n",
       "      <td>-6.1</td>\n",
       "      <td>-5.1</td>\n",
       "      <td>NaN</td>\n",
       "    </tr>\n",
       "    <tr>\n",
       "      <th>2</th>\n",
       "      <td>2011-04-07 06:45:00+00:00</td>\n",
       "      <td>EUR</td>\n",
       "      <td>Trade Balance EUR</td>\n",
       "      <td>France</td>\n",
       "      <td>1</td>\n",
       "      <td>-6.4</td>\n",
       "      <td>-6.1</td>\n",
       "      <td>NaN</td>\n",
       "    </tr>\n",
       "    <tr>\n",
       "      <th>3</th>\n",
       "      <td>2011-05-06 06:45:00+00:00</td>\n",
       "      <td>EUR</td>\n",
       "      <td>Trade Balance EUR</td>\n",
       "      <td>France</td>\n",
       "      <td>1</td>\n",
       "      <td>-5.906</td>\n",
       "      <td>-6.4</td>\n",
       "      <td>NaN</td>\n",
       "    </tr>\n",
       "    <tr>\n",
       "      <th>4</th>\n",
       "      <td>2011-06-08 06:45:00+00:00</td>\n",
       "      <td>EUR</td>\n",
       "      <td>Trade Balance EUR</td>\n",
       "      <td>France</td>\n",
       "      <td>1</td>\n",
       "      <td>-7.2</td>\n",
       "      <td>-5.906</td>\n",
       "      <td>NaN</td>\n",
       "    </tr>\n",
       "  </tbody>\n",
       "</table>\n",
       "</div>"
      ],
      "text/plain": [
       "                   timestamp Currency               Name Country Volatility  \\\n",
       "0  2011-02-08 07:45:00+00:00      EUR  Trade Balance EUR  France          1   \n",
       "1  2011-03-08 06:45:00+00:00      EUR  Trade Balance EUR  France          1   \n",
       "2  2011-04-07 06:45:00+00:00      EUR  Trade Balance EUR  France          1   \n",
       "3  2011-05-06 06:45:00+00:00      EUR  Trade Balance EUR  France          1   \n",
       "4  2011-06-08 06:45:00+00:00      EUR  Trade Balance EUR  France          1   \n",
       "\n",
       "  actual previous consensus  \n",
       "0   -5.1     -4.1       NaN  \n",
       "1   -6.1     -5.1       NaN  \n",
       "2   -6.4     -6.1       NaN  \n",
       "3 -5.906     -6.4       NaN  \n",
       "4   -7.2   -5.906       NaN  "
      ]
     },
     "execution_count": 5,
     "metadata": {},
     "output_type": "execute_result"
    }
   ],
   "source": [
    "EUR.head()"
   ]
  },
  {
   "cell_type": "code",
   "execution_count": 6,
   "metadata": {},
   "outputs": [
    {
     "data": {
      "text/html": [
       "<div>\n",
       "<style scoped>\n",
       "    .dataframe tbody tr th:only-of-type {\n",
       "        vertical-align: middle;\n",
       "    }\n",
       "\n",
       "    .dataframe tbody tr th {\n",
       "        vertical-align: top;\n",
       "    }\n",
       "\n",
       "    .dataframe thead th {\n",
       "        text-align: right;\n",
       "    }\n",
       "</style>\n",
       "<table border=\"1\" class=\"dataframe\">\n",
       "  <thead>\n",
       "    <tr style=\"text-align: right;\">\n",
       "      <th></th>\n",
       "      <th>timestamp</th>\n",
       "      <th>Currency</th>\n",
       "      <th>Name</th>\n",
       "      <th>Country</th>\n",
       "      <th>Volatility</th>\n",
       "      <th>actual</th>\n",
       "      <th>previous</th>\n",
       "      <th>consensus</th>\n",
       "    </tr>\n",
       "  </thead>\n",
       "  <tbody>\n",
       "    <tr>\n",
       "      <th>0</th>\n",
       "      <td>2009-01-13 13:30:00+00:00</td>\n",
       "      <td>USD</td>\n",
       "      <td>Trade Balance</td>\n",
       "      <td>United States</td>\n",
       "      <td>3</td>\n",
       "      <td>-41.58</td>\n",
       "      <td>-56.69</td>\n",
       "      <td>-51.4</td>\n",
       "    </tr>\n",
       "    <tr>\n",
       "      <th>1</th>\n",
       "      <td>2009-02-11 13:30:00+00:00</td>\n",
       "      <td>USD</td>\n",
       "      <td>Trade Balance</td>\n",
       "      <td>United States</td>\n",
       "      <td>3</td>\n",
       "      <td>-39.9</td>\n",
       "      <td>-41.58</td>\n",
       "      <td>-35.9</td>\n",
       "    </tr>\n",
       "    <tr>\n",
       "      <th>2</th>\n",
       "      <td>2009-03-13 12:30:00+00:00</td>\n",
       "      <td>USD</td>\n",
       "      <td>Trade Balance</td>\n",
       "      <td>United States</td>\n",
       "      <td>3</td>\n",
       "      <td>-36.2</td>\n",
       "      <td>-39.9</td>\n",
       "      <td>-38</td>\n",
       "    </tr>\n",
       "    <tr>\n",
       "      <th>3</th>\n",
       "      <td>2009-04-09 12:30:00+00:00</td>\n",
       "      <td>USD</td>\n",
       "      <td>Trade Balance</td>\n",
       "      <td>United States</td>\n",
       "      <td>3</td>\n",
       "      <td>-26.13</td>\n",
       "      <td>-36.2</td>\n",
       "      <td>-36.7</td>\n",
       "    </tr>\n",
       "    <tr>\n",
       "      <th>4</th>\n",
       "      <td>2009-05-12 12:30:00+00:00</td>\n",
       "      <td>USD</td>\n",
       "      <td>Trade Balance</td>\n",
       "      <td>United States</td>\n",
       "      <td>3</td>\n",
       "      <td>-28.53</td>\n",
       "      <td>-26.13</td>\n",
       "      <td>-28.9</td>\n",
       "    </tr>\n",
       "  </tbody>\n",
       "</table>\n",
       "</div>"
      ],
      "text/plain": [
       "                   timestamp Currency           Name        Country  \\\n",
       "0  2009-01-13 13:30:00+00:00      USD  Trade Balance  United States   \n",
       "1  2009-02-11 13:30:00+00:00      USD  Trade Balance  United States   \n",
       "2  2009-03-13 12:30:00+00:00      USD  Trade Balance  United States   \n",
       "3  2009-04-09 12:30:00+00:00      USD  Trade Balance  United States   \n",
       "4  2009-05-12 12:30:00+00:00      USD  Trade Balance  United States   \n",
       "\n",
       "  Volatility actual previous consensus  \n",
       "0          3 -41.58   -56.69     -51.4  \n",
       "1          3  -39.9   -41.58     -35.9  \n",
       "2          3  -36.2    -39.9       -38  \n",
       "3          3 -26.13    -36.2     -36.7  \n",
       "4          3 -28.53   -26.13     -28.9  "
      ]
     },
     "execution_count": 6,
     "metadata": {},
     "output_type": "execute_result"
    }
   ],
   "source": [
    "USD.head()"
   ]
  },
  {
   "cell_type": "markdown",
   "metadata": {},
   "source": [
    "Para las filas que no tienen Consensus, se usará Previous como Consensus"
   ]
  },
  {
   "cell_type": "code",
   "execution_count": 7,
   "metadata": {},
   "outputs": [],
   "source": [
    "EUR=EUR.drop(0);EUR = EUR.reset_index(drop=True)  # Se quita el primer dato ya que no tiene previous y es el primero.\n",
    "EUR['consensus'][0] = EUR['previous'][0] # para el primer dato se agarra el mismo de previous ya que no se hay uno antes para sustituirlo\n",
    "for i in range(len(EUR['consensus'])-1): #ciclo for para rellenar los datos vacios de consensus con los datos de previous\n",
    "    strEUR = str(EUR['consensus'][i+1])\n",
    "    strUSD = str(USD['consensus'][i])\n",
    "    if strEUR == 'nan':\n",
    "        EUR['consensus'][i+1] = EUR['previous'][i]\n",
    "    if strUSD == 'nan':\n",
    "        USD['consensus'][i] = USD['previous'][i-1]"
   ]
  },
  {
   "cell_type": "code",
   "execution_count": 8,
   "metadata": {},
   "outputs": [
    {
     "data": {
      "text/html": [
       "<div>\n",
       "<style scoped>\n",
       "    .dataframe tbody tr th:only-of-type {\n",
       "        vertical-align: middle;\n",
       "    }\n",
       "\n",
       "    .dataframe tbody tr th {\n",
       "        vertical-align: top;\n",
       "    }\n",
       "\n",
       "    .dataframe thead th {\n",
       "        text-align: right;\n",
       "    }\n",
       "</style>\n",
       "<table border=\"1\" class=\"dataframe\">\n",
       "  <thead>\n",
       "    <tr style=\"text-align: right;\">\n",
       "      <th></th>\n",
       "      <th>timestamp</th>\n",
       "      <th>Currency</th>\n",
       "      <th>Name</th>\n",
       "      <th>Country</th>\n",
       "      <th>Volatility</th>\n",
       "      <th>actual</th>\n",
       "      <th>previous</th>\n",
       "      <th>consensus</th>\n",
       "    </tr>\n",
       "  </thead>\n",
       "  <tbody>\n",
       "    <tr>\n",
       "      <th>0</th>\n",
       "      <td>2011-03-08 06:45:00+00:00</td>\n",
       "      <td>EUR</td>\n",
       "      <td>Trade Balance EUR</td>\n",
       "      <td>France</td>\n",
       "      <td>1</td>\n",
       "      <td>-6.1</td>\n",
       "      <td>-5.1</td>\n",
       "      <td>-5.1</td>\n",
       "    </tr>\n",
       "    <tr>\n",
       "      <th>1</th>\n",
       "      <td>2011-04-07 06:45:00+00:00</td>\n",
       "      <td>EUR</td>\n",
       "      <td>Trade Balance EUR</td>\n",
       "      <td>France</td>\n",
       "      <td>1</td>\n",
       "      <td>-6.4</td>\n",
       "      <td>-6.1</td>\n",
       "      <td>-5.1</td>\n",
       "    </tr>\n",
       "    <tr>\n",
       "      <th>2</th>\n",
       "      <td>2011-05-06 06:45:00+00:00</td>\n",
       "      <td>EUR</td>\n",
       "      <td>Trade Balance EUR</td>\n",
       "      <td>France</td>\n",
       "      <td>1</td>\n",
       "      <td>-5.906</td>\n",
       "      <td>-6.4</td>\n",
       "      <td>-6.1</td>\n",
       "    </tr>\n",
       "    <tr>\n",
       "      <th>3</th>\n",
       "      <td>2011-06-08 06:45:00+00:00</td>\n",
       "      <td>EUR</td>\n",
       "      <td>Trade Balance EUR</td>\n",
       "      <td>France</td>\n",
       "      <td>1</td>\n",
       "      <td>-7.2</td>\n",
       "      <td>-5.906</td>\n",
       "      <td>-6.4</td>\n",
       "    </tr>\n",
       "    <tr>\n",
       "      <th>4</th>\n",
       "      <td>2011-07-07 06:45:00+00:00</td>\n",
       "      <td>EUR</td>\n",
       "      <td>Trade Balance EUR</td>\n",
       "      <td>France</td>\n",
       "      <td>1</td>\n",
       "      <td>-6.4</td>\n",
       "      <td>-7.2</td>\n",
       "      <td>-5.906</td>\n",
       "    </tr>\n",
       "  </tbody>\n",
       "</table>\n",
       "</div>"
      ],
      "text/plain": [
       "                   timestamp Currency               Name Country Volatility  \\\n",
       "0  2011-03-08 06:45:00+00:00      EUR  Trade Balance EUR  France          1   \n",
       "1  2011-04-07 06:45:00+00:00      EUR  Trade Balance EUR  France          1   \n",
       "2  2011-05-06 06:45:00+00:00      EUR  Trade Balance EUR  France          1   \n",
       "3  2011-06-08 06:45:00+00:00      EUR  Trade Balance EUR  France          1   \n",
       "4  2011-07-07 06:45:00+00:00      EUR  Trade Balance EUR  France          1   \n",
       "\n",
       "  actual previous consensus  \n",
       "0   -6.1     -5.1      -5.1  \n",
       "1   -6.4     -6.1      -5.1  \n",
       "2 -5.906     -6.4      -6.1  \n",
       "3   -7.2   -5.906      -6.4  \n",
       "4   -6.4     -7.2    -5.906  "
      ]
     },
     "execution_count": 8,
     "metadata": {},
     "output_type": "execute_result"
    }
   ],
   "source": [
    "EUR.head()"
   ]
  },
  {
   "cell_type": "code",
   "execution_count": 9,
   "metadata": {},
   "outputs": [
    {
     "data": {
      "text/html": [
       "<div>\n",
       "<style scoped>\n",
       "    .dataframe tbody tr th:only-of-type {\n",
       "        vertical-align: middle;\n",
       "    }\n",
       "\n",
       "    .dataframe tbody tr th {\n",
       "        vertical-align: top;\n",
       "    }\n",
       "\n",
       "    .dataframe thead th {\n",
       "        text-align: right;\n",
       "    }\n",
       "</style>\n",
       "<table border=\"1\" class=\"dataframe\">\n",
       "  <thead>\n",
       "    <tr style=\"text-align: right;\">\n",
       "      <th></th>\n",
       "      <th>timestamp</th>\n",
       "      <th>Currency</th>\n",
       "      <th>Name</th>\n",
       "      <th>Country</th>\n",
       "      <th>Volatility</th>\n",
       "      <th>actual</th>\n",
       "      <th>previous</th>\n",
       "      <th>consensus</th>\n",
       "    </tr>\n",
       "  </thead>\n",
       "  <tbody>\n",
       "    <tr>\n",
       "      <th>0</th>\n",
       "      <td>2009-01-13 13:30:00+00:00</td>\n",
       "      <td>USD</td>\n",
       "      <td>Trade Balance</td>\n",
       "      <td>United States</td>\n",
       "      <td>3</td>\n",
       "      <td>-41.58</td>\n",
       "      <td>-56.69</td>\n",
       "      <td>-51.4</td>\n",
       "    </tr>\n",
       "    <tr>\n",
       "      <th>1</th>\n",
       "      <td>2009-02-11 13:30:00+00:00</td>\n",
       "      <td>USD</td>\n",
       "      <td>Trade Balance</td>\n",
       "      <td>United States</td>\n",
       "      <td>3</td>\n",
       "      <td>-39.9</td>\n",
       "      <td>-41.58</td>\n",
       "      <td>-35.9</td>\n",
       "    </tr>\n",
       "    <tr>\n",
       "      <th>2</th>\n",
       "      <td>2009-03-13 12:30:00+00:00</td>\n",
       "      <td>USD</td>\n",
       "      <td>Trade Balance</td>\n",
       "      <td>United States</td>\n",
       "      <td>3</td>\n",
       "      <td>-36.2</td>\n",
       "      <td>-39.9</td>\n",
       "      <td>-38</td>\n",
       "    </tr>\n",
       "    <tr>\n",
       "      <th>3</th>\n",
       "      <td>2009-04-09 12:30:00+00:00</td>\n",
       "      <td>USD</td>\n",
       "      <td>Trade Balance</td>\n",
       "      <td>United States</td>\n",
       "      <td>3</td>\n",
       "      <td>-26.13</td>\n",
       "      <td>-36.2</td>\n",
       "      <td>-36.7</td>\n",
       "    </tr>\n",
       "    <tr>\n",
       "      <th>4</th>\n",
       "      <td>2009-05-12 12:30:00+00:00</td>\n",
       "      <td>USD</td>\n",
       "      <td>Trade Balance</td>\n",
       "      <td>United States</td>\n",
       "      <td>3</td>\n",
       "      <td>-28.53</td>\n",
       "      <td>-26.13</td>\n",
       "      <td>-28.9</td>\n",
       "    </tr>\n",
       "  </tbody>\n",
       "</table>\n",
       "</div>"
      ],
      "text/plain": [
       "                   timestamp Currency           Name        Country  \\\n",
       "0  2009-01-13 13:30:00+00:00      USD  Trade Balance  United States   \n",
       "1  2009-02-11 13:30:00+00:00      USD  Trade Balance  United States   \n",
       "2  2009-03-13 12:30:00+00:00      USD  Trade Balance  United States   \n",
       "3  2009-04-09 12:30:00+00:00      USD  Trade Balance  United States   \n",
       "4  2009-05-12 12:30:00+00:00      USD  Trade Balance  United States   \n",
       "\n",
       "  Volatility actual previous consensus  \n",
       "0          3 -41.58   -56.69     -51.4  \n",
       "1          3  -39.9   -41.58     -35.9  \n",
       "2          3  -36.2    -39.9       -38  \n",
       "3          3 -26.13    -36.2     -36.7  \n",
       "4          3 -28.53   -26.13     -28.9  "
      ]
     },
     "execution_count": 9,
     "metadata": {},
     "output_type": "execute_result"
    }
   ],
   "source": [
    "USD.head()"
   ]
  },
  {
   "cell_type": "markdown",
   "metadata": {},
   "source": [
    "Clasificación de las observaciones de los comunicados según el siguiente criterio:\n",
    "\n",
    "    oA Actual >= Consensus >= Previous\n",
    "    oB Actual >= Consensus < Previous\n",
    "    oC Actual < Consensus >= Previous\n",
    "    oD Actual < Consensus < Previous"
   ]
  },
  {
   "cell_type": "code",
   "execution_count": 10,
   "metadata": {},
   "outputs": [],
   "source": [
    "def clasificacion(indicador): #funcion de creacion de esenarios \n",
    "    indicador['escenario'] = '0'\n",
    "    for i in range(len(indicador['actual'])):\n",
    "        if str(indicador['actual'][i] >= indicador['consensus'][i] >= indicador['previous'][i]) == 'True':\n",
    "            indicador['escenario'][i] = 'A'\n",
    "        elif str(indicador['actual'][i] >= indicador['consensus'][i] < indicador['previous'][i]) == 'True':\n",
    "            indicador['escenario'][i] = 'B'\n",
    "        elif str(indicador['actual'][i] < indicador['consensus'][i] >= indicador['previous'][i]) == 'True':\n",
    "            indicador['escenario'][i] = 'C'\n",
    "        elif str(indicador['actual'][i] < indicador['consensus'][i] < indicador['previous'][i]) == 'True':\n",
    "            indicador['escenario'][i] = 'D'\n",
    "    return(indicador)"
   ]
  },
  {
   "cell_type": "code",
   "execution_count": 11,
   "metadata": {},
   "outputs": [
    {
     "data": {
      "text/html": [
       "<div>\n",
       "<style scoped>\n",
       "    .dataframe tbody tr th:only-of-type {\n",
       "        vertical-align: middle;\n",
       "    }\n",
       "\n",
       "    .dataframe tbody tr th {\n",
       "        vertical-align: top;\n",
       "    }\n",
       "\n",
       "    .dataframe thead th {\n",
       "        text-align: right;\n",
       "    }\n",
       "</style>\n",
       "<table border=\"1\" class=\"dataframe\">\n",
       "  <thead>\n",
       "    <tr style=\"text-align: right;\">\n",
       "      <th></th>\n",
       "      <th>timestamp</th>\n",
       "      <th>Currency</th>\n",
       "      <th>Name</th>\n",
       "      <th>Country</th>\n",
       "      <th>Volatility</th>\n",
       "      <th>actual</th>\n",
       "      <th>previous</th>\n",
       "      <th>consensus</th>\n",
       "      <th>escenario</th>\n",
       "    </tr>\n",
       "  </thead>\n",
       "  <tbody>\n",
       "    <tr>\n",
       "      <th>0</th>\n",
       "      <td>2011-03-08 06:45:00+00:00</td>\n",
       "      <td>EUR</td>\n",
       "      <td>Trade Balance EUR</td>\n",
       "      <td>France</td>\n",
       "      <td>1</td>\n",
       "      <td>-6.1</td>\n",
       "      <td>-5.1</td>\n",
       "      <td>-5.1</td>\n",
       "      <td>C</td>\n",
       "    </tr>\n",
       "    <tr>\n",
       "      <th>1</th>\n",
       "      <td>2011-04-07 06:45:00+00:00</td>\n",
       "      <td>EUR</td>\n",
       "      <td>Trade Balance EUR</td>\n",
       "      <td>France</td>\n",
       "      <td>1</td>\n",
       "      <td>-6.4</td>\n",
       "      <td>-6.1</td>\n",
       "      <td>-5.1</td>\n",
       "      <td>C</td>\n",
       "    </tr>\n",
       "    <tr>\n",
       "      <th>2</th>\n",
       "      <td>2011-05-06 06:45:00+00:00</td>\n",
       "      <td>EUR</td>\n",
       "      <td>Trade Balance EUR</td>\n",
       "      <td>France</td>\n",
       "      <td>1</td>\n",
       "      <td>-5.906</td>\n",
       "      <td>-6.4</td>\n",
       "      <td>-6.1</td>\n",
       "      <td>A</td>\n",
       "    </tr>\n",
       "    <tr>\n",
       "      <th>3</th>\n",
       "      <td>2011-06-08 06:45:00+00:00</td>\n",
       "      <td>EUR</td>\n",
       "      <td>Trade Balance EUR</td>\n",
       "      <td>France</td>\n",
       "      <td>1</td>\n",
       "      <td>-7.2</td>\n",
       "      <td>-5.906</td>\n",
       "      <td>-6.4</td>\n",
       "      <td>D</td>\n",
       "    </tr>\n",
       "    <tr>\n",
       "      <th>4</th>\n",
       "      <td>2011-07-07 06:45:00+00:00</td>\n",
       "      <td>EUR</td>\n",
       "      <td>Trade Balance EUR</td>\n",
       "      <td>France</td>\n",
       "      <td>1</td>\n",
       "      <td>-6.4</td>\n",
       "      <td>-7.2</td>\n",
       "      <td>-5.906</td>\n",
       "      <td>C</td>\n",
       "    </tr>\n",
       "  </tbody>\n",
       "</table>\n",
       "</div>"
      ],
      "text/plain": [
       "                   timestamp Currency               Name Country Volatility  \\\n",
       "0  2011-03-08 06:45:00+00:00      EUR  Trade Balance EUR  France          1   \n",
       "1  2011-04-07 06:45:00+00:00      EUR  Trade Balance EUR  France          1   \n",
       "2  2011-05-06 06:45:00+00:00      EUR  Trade Balance EUR  France          1   \n",
       "3  2011-06-08 06:45:00+00:00      EUR  Trade Balance EUR  France          1   \n",
       "4  2011-07-07 06:45:00+00:00      EUR  Trade Balance EUR  France          1   \n",
       "\n",
       "  actual previous consensus escenario  \n",
       "0   -6.1     -5.1      -5.1         C  \n",
       "1   -6.4     -6.1      -5.1         C  \n",
       "2 -5.906     -6.4      -6.1         A  \n",
       "3   -7.2   -5.906      -6.4         D  \n",
       "4   -6.4     -7.2    -5.906         C  "
      ]
     },
     "execution_count": 11,
     "metadata": {},
     "output_type": "execute_result"
    }
   ],
   "source": [
    "clasificacion(EUR).head()"
   ]
  },
  {
   "cell_type": "code",
   "execution_count": 12,
   "metadata": {},
   "outputs": [
    {
     "data": {
      "text/html": [
       "<div>\n",
       "<style scoped>\n",
       "    .dataframe tbody tr th:only-of-type {\n",
       "        vertical-align: middle;\n",
       "    }\n",
       "\n",
       "    .dataframe tbody tr th {\n",
       "        vertical-align: top;\n",
       "    }\n",
       "\n",
       "    .dataframe thead th {\n",
       "        text-align: right;\n",
       "    }\n",
       "</style>\n",
       "<table border=\"1\" class=\"dataframe\">\n",
       "  <thead>\n",
       "    <tr style=\"text-align: right;\">\n",
       "      <th></th>\n",
       "      <th>timestamp</th>\n",
       "      <th>Currency</th>\n",
       "      <th>Name</th>\n",
       "      <th>Country</th>\n",
       "      <th>Volatility</th>\n",
       "      <th>actual</th>\n",
       "      <th>previous</th>\n",
       "      <th>consensus</th>\n",
       "      <th>escenario</th>\n",
       "    </tr>\n",
       "  </thead>\n",
       "  <tbody>\n",
       "    <tr>\n",
       "      <th>0</th>\n",
       "      <td>2009-01-13 13:30:00+00:00</td>\n",
       "      <td>USD</td>\n",
       "      <td>Trade Balance</td>\n",
       "      <td>United States</td>\n",
       "      <td>3</td>\n",
       "      <td>-41.58</td>\n",
       "      <td>-56.69</td>\n",
       "      <td>-51.4</td>\n",
       "      <td>A</td>\n",
       "    </tr>\n",
       "    <tr>\n",
       "      <th>1</th>\n",
       "      <td>2009-02-11 13:30:00+00:00</td>\n",
       "      <td>USD</td>\n",
       "      <td>Trade Balance</td>\n",
       "      <td>United States</td>\n",
       "      <td>3</td>\n",
       "      <td>-39.9</td>\n",
       "      <td>-41.58</td>\n",
       "      <td>-35.9</td>\n",
       "      <td>C</td>\n",
       "    </tr>\n",
       "    <tr>\n",
       "      <th>2</th>\n",
       "      <td>2009-03-13 12:30:00+00:00</td>\n",
       "      <td>USD</td>\n",
       "      <td>Trade Balance</td>\n",
       "      <td>United States</td>\n",
       "      <td>3</td>\n",
       "      <td>-36.2</td>\n",
       "      <td>-39.9</td>\n",
       "      <td>-38</td>\n",
       "      <td>A</td>\n",
       "    </tr>\n",
       "    <tr>\n",
       "      <th>3</th>\n",
       "      <td>2009-04-09 12:30:00+00:00</td>\n",
       "      <td>USD</td>\n",
       "      <td>Trade Balance</td>\n",
       "      <td>United States</td>\n",
       "      <td>3</td>\n",
       "      <td>-26.13</td>\n",
       "      <td>-36.2</td>\n",
       "      <td>-36.7</td>\n",
       "      <td>B</td>\n",
       "    </tr>\n",
       "    <tr>\n",
       "      <th>4</th>\n",
       "      <td>2009-05-12 12:30:00+00:00</td>\n",
       "      <td>USD</td>\n",
       "      <td>Trade Balance</td>\n",
       "      <td>United States</td>\n",
       "      <td>3</td>\n",
       "      <td>-28.53</td>\n",
       "      <td>-26.13</td>\n",
       "      <td>-28.9</td>\n",
       "      <td>B</td>\n",
       "    </tr>\n",
       "  </tbody>\n",
       "</table>\n",
       "</div>"
      ],
      "text/plain": [
       "                   timestamp Currency           Name        Country  \\\n",
       "0  2009-01-13 13:30:00+00:00      USD  Trade Balance  United States   \n",
       "1  2009-02-11 13:30:00+00:00      USD  Trade Balance  United States   \n",
       "2  2009-03-13 12:30:00+00:00      USD  Trade Balance  United States   \n",
       "3  2009-04-09 12:30:00+00:00      USD  Trade Balance  United States   \n",
       "4  2009-05-12 12:30:00+00:00      USD  Trade Balance  United States   \n",
       "\n",
       "  Volatility actual previous consensus escenario  \n",
       "0          3 -41.58   -56.69     -51.4         A  \n",
       "1          3  -39.9   -41.58     -35.9         C  \n",
       "2          3  -36.2    -39.9       -38         A  \n",
       "3          3 -26.13    -36.2     -36.7         B  \n",
       "4          3 -28.53   -26.13     -28.9         B  "
      ]
     },
     "execution_count": 12,
     "metadata": {},
     "output_type": "execute_result"
    }
   ],
   "source": [
    "clasificacion(USD).head()"
   ]
  },
  {
   "cell_type": "code",
   "execution_count": 13,
   "metadata": {},
   "outputs": [
    {
     "data": {
      "text/html": [
       "<div>\n",
       "<style scoped>\n",
       "    .dataframe tbody tr th:only-of-type {\n",
       "        vertical-align: middle;\n",
       "    }\n",
       "\n",
       "    .dataframe tbody tr th {\n",
       "        vertical-align: top;\n",
       "    }\n",
       "\n",
       "    .dataframe thead th {\n",
       "        text-align: right;\n",
       "    }\n",
       "</style>\n",
       "<table border=\"1\" class=\"dataframe\">\n",
       "  <thead>\n",
       "    <tr style=\"text-align: right;\">\n",
       "      <th></th>\n",
       "      <th>timestamp</th>\n",
       "      <th>open</th>\n",
       "      <th>high</th>\n",
       "      <th>low</th>\n",
       "      <th>close</th>\n",
       "    </tr>\n",
       "  </thead>\n",
       "  <tbody>\n",
       "    <tr>\n",
       "      <th>165746</th>\n",
       "      <td>2011-03-08 06:15:00+00:00</td>\n",
       "      <td>1.39771</td>\n",
       "      <td>1.39800</td>\n",
       "      <td>1.39766</td>\n",
       "      <td>1.39792</td>\n",
       "    </tr>\n",
       "    <tr>\n",
       "      <th>165747</th>\n",
       "      <td>2011-03-08 06:20:00+00:00</td>\n",
       "      <td>1.39795</td>\n",
       "      <td>1.39815</td>\n",
       "      <td>1.39773</td>\n",
       "      <td>1.39775</td>\n",
       "    </tr>\n",
       "    <tr>\n",
       "      <th>165748</th>\n",
       "      <td>2011-03-08 06:25:00+00:00</td>\n",
       "      <td>1.39773</td>\n",
       "      <td>1.39788</td>\n",
       "      <td>1.39749</td>\n",
       "      <td>1.39766</td>\n",
       "    </tr>\n",
       "    <tr>\n",
       "      <th>165749</th>\n",
       "      <td>2011-03-08 06:30:00+00:00</td>\n",
       "      <td>1.39763</td>\n",
       "      <td>1.39815</td>\n",
       "      <td>1.39760</td>\n",
       "      <td>1.39795</td>\n",
       "    </tr>\n",
       "    <tr>\n",
       "      <th>165750</th>\n",
       "      <td>2011-03-08 06:35:00+00:00</td>\n",
       "      <td>1.39799</td>\n",
       "      <td>1.39804</td>\n",
       "      <td>1.39756</td>\n",
       "      <td>1.39758</td>\n",
       "    </tr>\n",
       "    <tr>\n",
       "      <th>165751</th>\n",
       "      <td>2011-03-08 06:40:00+00:00</td>\n",
       "      <td>1.39761</td>\n",
       "      <td>1.39783</td>\n",
       "      <td>1.39752</td>\n",
       "      <td>1.39766</td>\n",
       "    </tr>\n",
       "    <tr>\n",
       "      <th>165752</th>\n",
       "      <td>2011-03-08 06:45:00+00:00</td>\n",
       "      <td>1.39763</td>\n",
       "      <td>1.39765</td>\n",
       "      <td>1.39726</td>\n",
       "      <td>1.39760</td>\n",
       "    </tr>\n",
       "    <tr>\n",
       "      <th>165753</th>\n",
       "      <td>2011-03-08 06:50:00+00:00</td>\n",
       "      <td>1.39763</td>\n",
       "      <td>1.39763</td>\n",
       "      <td>1.39645</td>\n",
       "      <td>1.39657</td>\n",
       "    </tr>\n",
       "    <tr>\n",
       "      <th>165754</th>\n",
       "      <td>2011-03-08 06:55:00+00:00</td>\n",
       "      <td>1.39659</td>\n",
       "      <td>1.39716</td>\n",
       "      <td>1.39657</td>\n",
       "      <td>1.39704</td>\n",
       "    </tr>\n",
       "    <tr>\n",
       "      <th>165755</th>\n",
       "      <td>2011-03-08 07:00:00+00:00</td>\n",
       "      <td>1.39707</td>\n",
       "      <td>1.39748</td>\n",
       "      <td>1.39707</td>\n",
       "      <td>1.39746</td>\n",
       "    </tr>\n",
       "    <tr>\n",
       "      <th>165756</th>\n",
       "      <td>2011-03-08 07:05:00+00:00</td>\n",
       "      <td>1.39748</td>\n",
       "      <td>1.39794</td>\n",
       "      <td>1.39738</td>\n",
       "      <td>1.39780</td>\n",
       "    </tr>\n",
       "    <tr>\n",
       "      <th>165757</th>\n",
       "      <td>2011-03-08 07:10:00+00:00</td>\n",
       "      <td>1.39783</td>\n",
       "      <td>1.39795</td>\n",
       "      <td>1.39761</td>\n",
       "      <td>1.39767</td>\n",
       "    </tr>\n",
       "    <tr>\n",
       "      <th>165758</th>\n",
       "      <td>2011-03-08 07:15:00+00:00</td>\n",
       "      <td>1.39770</td>\n",
       "      <td>1.39770</td>\n",
       "      <td>1.39735</td>\n",
       "      <td>1.39740</td>\n",
       "    </tr>\n",
       "  </tbody>\n",
       "</table>\n",
       "</div>"
      ],
      "text/plain": [
       "                       timestamp     open     high      low    close\n",
       "165746 2011-03-08 06:15:00+00:00  1.39771  1.39800  1.39766  1.39792\n",
       "165747 2011-03-08 06:20:00+00:00  1.39795  1.39815  1.39773  1.39775\n",
       "165748 2011-03-08 06:25:00+00:00  1.39773  1.39788  1.39749  1.39766\n",
       "165749 2011-03-08 06:30:00+00:00  1.39763  1.39815  1.39760  1.39795\n",
       "165750 2011-03-08 06:35:00+00:00  1.39799  1.39804  1.39756  1.39758\n",
       "165751 2011-03-08 06:40:00+00:00  1.39761  1.39783  1.39752  1.39766\n",
       "165752 2011-03-08 06:45:00+00:00  1.39763  1.39765  1.39726  1.39760\n",
       "165753 2011-03-08 06:50:00+00:00  1.39763  1.39763  1.39645  1.39657\n",
       "165754 2011-03-08 06:55:00+00:00  1.39659  1.39716  1.39657  1.39704\n",
       "165755 2011-03-08 07:00:00+00:00  1.39707  1.39748  1.39707  1.39746\n",
       "165756 2011-03-08 07:05:00+00:00  1.39748  1.39794  1.39738  1.39780\n",
       "165757 2011-03-08 07:10:00+00:00  1.39783  1.39795  1.39761  1.39767\n",
       "165758 2011-03-08 07:15:00+00:00  1.39770  1.39770  1.39735  1.39740"
      ]
     },
     "execution_count": 13,
     "metadata": {},
     "output_type": "execute_result"
    }
   ],
   "source": [
    "gEUR = [int(np.where(precios['timestamp'] == EUR['timestamp'][i])[0]) for i in range(0, len(EUR.index))]\n",
    "intervEUR = [precios.iloc[j-6:j+7] for j in gEUR]\n",
    "intervEUR[0]"
   ]
  },
  {
   "cell_type": "code",
   "execution_count": 14,
   "metadata": {},
   "outputs": [
    {
     "data": {
      "text/html": [
       "<div>\n",
       "<style scoped>\n",
       "    .dataframe tbody tr th:only-of-type {\n",
       "        vertical-align: middle;\n",
       "    }\n",
       "\n",
       "    .dataframe tbody tr th {\n",
       "        vertical-align: top;\n",
       "    }\n",
       "\n",
       "    .dataframe thead th {\n",
       "        text-align: right;\n",
       "    }\n",
       "</style>\n",
       "<table border=\"1\" class=\"dataframe\">\n",
       "  <thead>\n",
       "    <tr style=\"text-align: right;\">\n",
       "      <th></th>\n",
       "      <th>timestamp</th>\n",
       "      <th>open</th>\n",
       "      <th>high</th>\n",
       "      <th>low</th>\n",
       "      <th>close</th>\n",
       "    </tr>\n",
       "  </thead>\n",
       "  <tbody>\n",
       "    <tr>\n",
       "      <th>1580</th>\n",
       "      <td>2009-01-13 13:00:00+00:00</td>\n",
       "      <td>1.32832</td>\n",
       "      <td>1.32938</td>\n",
       "      <td>1.32808</td>\n",
       "      <td>1.32873</td>\n",
       "    </tr>\n",
       "    <tr>\n",
       "      <th>1581</th>\n",
       "      <td>2009-01-13 13:05:00+00:00</td>\n",
       "      <td>1.32883</td>\n",
       "      <td>1.32937</td>\n",
       "      <td>1.32758</td>\n",
       "      <td>1.32758</td>\n",
       "    </tr>\n",
       "    <tr>\n",
       "      <th>1582</th>\n",
       "      <td>2009-01-13 13:10:00+00:00</td>\n",
       "      <td>1.32755</td>\n",
       "      <td>1.32793</td>\n",
       "      <td>1.32573</td>\n",
       "      <td>1.32623</td>\n",
       "    </tr>\n",
       "    <tr>\n",
       "      <th>1583</th>\n",
       "      <td>2009-01-13 13:15:00+00:00</td>\n",
       "      <td>1.32623</td>\n",
       "      <td>1.32663</td>\n",
       "      <td>1.32323</td>\n",
       "      <td>1.32408</td>\n",
       "    </tr>\n",
       "    <tr>\n",
       "      <th>1584</th>\n",
       "      <td>2009-01-13 13:20:00+00:00</td>\n",
       "      <td>1.32408</td>\n",
       "      <td>1.32578</td>\n",
       "      <td>1.32348</td>\n",
       "      <td>1.32536</td>\n",
       "    </tr>\n",
       "    <tr>\n",
       "      <th>1585</th>\n",
       "      <td>2009-01-13 13:25:00+00:00</td>\n",
       "      <td>1.32536</td>\n",
       "      <td>1.32713</td>\n",
       "      <td>1.32393</td>\n",
       "      <td>1.32603</td>\n",
       "    </tr>\n",
       "    <tr>\n",
       "      <th>1586</th>\n",
       "      <td>2009-01-13 13:30:00+00:00</td>\n",
       "      <td>1.32603</td>\n",
       "      <td>1.32618</td>\n",
       "      <td>1.32278</td>\n",
       "      <td>1.32598</td>\n",
       "    </tr>\n",
       "    <tr>\n",
       "      <th>1587</th>\n",
       "      <td>2009-01-13 13:35:00+00:00</td>\n",
       "      <td>1.32588</td>\n",
       "      <td>1.32818</td>\n",
       "      <td>1.32583</td>\n",
       "      <td>1.32722</td>\n",
       "    </tr>\n",
       "    <tr>\n",
       "      <th>1588</th>\n",
       "      <td>2009-01-13 13:40:00+00:00</td>\n",
       "      <td>1.32722</td>\n",
       "      <td>1.32928</td>\n",
       "      <td>1.32273</td>\n",
       "      <td>1.32463</td>\n",
       "    </tr>\n",
       "    <tr>\n",
       "      <th>1589</th>\n",
       "      <td>2009-01-13 13:45:00+00:00</td>\n",
       "      <td>1.32463</td>\n",
       "      <td>1.32498</td>\n",
       "      <td>1.32298</td>\n",
       "      <td>1.32358</td>\n",
       "    </tr>\n",
       "    <tr>\n",
       "      <th>1590</th>\n",
       "      <td>2009-01-13 13:50:00+00:00</td>\n",
       "      <td>1.32358</td>\n",
       "      <td>1.32448</td>\n",
       "      <td>1.31974</td>\n",
       "      <td>1.32148</td>\n",
       "    </tr>\n",
       "    <tr>\n",
       "      <th>1591</th>\n",
       "      <td>2009-01-13 13:55:00+00:00</td>\n",
       "      <td>1.32148</td>\n",
       "      <td>1.32248</td>\n",
       "      <td>1.31988</td>\n",
       "      <td>1.32078</td>\n",
       "    </tr>\n",
       "    <tr>\n",
       "      <th>1592</th>\n",
       "      <td>2009-01-13 14:00:00+00:00</td>\n",
       "      <td>1.32078</td>\n",
       "      <td>1.32288</td>\n",
       "      <td>1.32034</td>\n",
       "      <td>1.32266</td>\n",
       "    </tr>\n",
       "  </tbody>\n",
       "</table>\n",
       "</div>"
      ],
      "text/plain": [
       "                     timestamp     open     high      low    close\n",
       "1580 2009-01-13 13:00:00+00:00  1.32832  1.32938  1.32808  1.32873\n",
       "1581 2009-01-13 13:05:00+00:00  1.32883  1.32937  1.32758  1.32758\n",
       "1582 2009-01-13 13:10:00+00:00  1.32755  1.32793  1.32573  1.32623\n",
       "1583 2009-01-13 13:15:00+00:00  1.32623  1.32663  1.32323  1.32408\n",
       "1584 2009-01-13 13:20:00+00:00  1.32408  1.32578  1.32348  1.32536\n",
       "1585 2009-01-13 13:25:00+00:00  1.32536  1.32713  1.32393  1.32603\n",
       "1586 2009-01-13 13:30:00+00:00  1.32603  1.32618  1.32278  1.32598\n",
       "1587 2009-01-13 13:35:00+00:00  1.32588  1.32818  1.32583  1.32722\n",
       "1588 2009-01-13 13:40:00+00:00  1.32722  1.32928  1.32273  1.32463\n",
       "1589 2009-01-13 13:45:00+00:00  1.32463  1.32498  1.32298  1.32358\n",
       "1590 2009-01-13 13:50:00+00:00  1.32358  1.32448  1.31974  1.32148\n",
       "1591 2009-01-13 13:55:00+00:00  1.32148  1.32248  1.31988  1.32078\n",
       "1592 2009-01-13 14:00:00+00:00  1.32078  1.32288  1.32034  1.32266"
      ]
     },
     "execution_count": 14,
     "metadata": {},
     "output_type": "execute_result"
    }
   ],
   "source": [
    "USD=USD.drop([21,22]); USD = USD.reset_index(drop=True) # Se quitan ya que no se encontraron estas fechas.\n",
    "gUSD = [int(np.where(precios['timestamp'] == USD['timestamp'][i])[0]) for i in range(0, len(USD.index))]\n",
    "intervUSD = [precios.iloc[j-6:j+7] for j in gUSD]\n",
    "intervUSD[0]"
   ]
  },
  {
   "cell_type": "code",
   "execution_count": 15,
   "metadata": {},
   "outputs": [],
   "source": [
    "def metricas(indicador,interv):\n",
    "    indicador['Direccion']=[interv[i].iloc[12]['close'] - interv[i].iloc[6]['open'] for i in range(len(interv))]\n",
    "    indicador['Pips Alcistas']=[max(interv[i].iloc[6:]['high']) - interv[i].iloc[6]['open'] for i in range(len(interv))]\n",
    "    indicador['Pips Bajistas']=[interv[i].iloc[6]['open'] - min(interv[i].iloc[6:]['low']) for i in range(len(interv))]\n",
    "    indicador['Volatilidad']=[max(interv[i]['high']) - min(interv[i]['low']) for i in range(len(interv))]"
   ]
  },
  {
   "cell_type": "code",
   "execution_count": 16,
   "metadata": {},
   "outputs": [
    {
     "data": {
      "text/html": [
       "<div>\n",
       "<style scoped>\n",
       "    .dataframe tbody tr th:only-of-type {\n",
       "        vertical-align: middle;\n",
       "    }\n",
       "\n",
       "    .dataframe tbody tr th {\n",
       "        vertical-align: top;\n",
       "    }\n",
       "\n",
       "    .dataframe thead th {\n",
       "        text-align: right;\n",
       "    }\n",
       "</style>\n",
       "<table border=\"1\" class=\"dataframe\">\n",
       "  <thead>\n",
       "    <tr style=\"text-align: right;\">\n",
       "      <th></th>\n",
       "      <th>timestamp</th>\n",
       "      <th>Currency</th>\n",
       "      <th>Name</th>\n",
       "      <th>Country</th>\n",
       "      <th>Volatility</th>\n",
       "      <th>actual</th>\n",
       "      <th>previous</th>\n",
       "      <th>consensus</th>\n",
       "      <th>escenario</th>\n",
       "      <th>Direccion</th>\n",
       "      <th>Pips Alcistas</th>\n",
       "      <th>Pips Bajistas</th>\n",
       "      <th>Volatilidad</th>\n",
       "    </tr>\n",
       "  </thead>\n",
       "  <tbody>\n",
       "    <tr>\n",
       "      <th>0</th>\n",
       "      <td>2011-03-08 06:45:00+00:00</td>\n",
       "      <td>EUR</td>\n",
       "      <td>Trade Balance EUR</td>\n",
       "      <td>France</td>\n",
       "      <td>1</td>\n",
       "      <td>-6.1</td>\n",
       "      <td>-5.1</td>\n",
       "      <td>-5.1</td>\n",
       "      <td>C</td>\n",
       "      <td>-0.00023</td>\n",
       "      <td>0.00032</td>\n",
       "      <td>0.00118</td>\n",
       "      <td>0.00170</td>\n",
       "    </tr>\n",
       "    <tr>\n",
       "      <th>1</th>\n",
       "      <td>2011-04-07 06:45:00+00:00</td>\n",
       "      <td>EUR</td>\n",
       "      <td>Trade Balance EUR</td>\n",
       "      <td>France</td>\n",
       "      <td>1</td>\n",
       "      <td>-6.4</td>\n",
       "      <td>-6.1</td>\n",
       "      <td>-5.1</td>\n",
       "      <td>C</td>\n",
       "      <td>-0.00132</td>\n",
       "      <td>0.00054</td>\n",
       "      <td>0.00150</td>\n",
       "      <td>0.00260</td>\n",
       "    </tr>\n",
       "    <tr>\n",
       "      <th>2</th>\n",
       "      <td>2011-05-06 06:45:00+00:00</td>\n",
       "      <td>EUR</td>\n",
       "      <td>Trade Balance EUR</td>\n",
       "      <td>France</td>\n",
       "      <td>1</td>\n",
       "      <td>-5.906</td>\n",
       "      <td>-6.4</td>\n",
       "      <td>-6.1</td>\n",
       "      <td>A</td>\n",
       "      <td>-0.00119</td>\n",
       "      <td>0.00116</td>\n",
       "      <td>0.00232</td>\n",
       "      <td>0.00415</td>\n",
       "    </tr>\n",
       "    <tr>\n",
       "      <th>3</th>\n",
       "      <td>2011-06-08 06:45:00+00:00</td>\n",
       "      <td>EUR</td>\n",
       "      <td>Trade Balance EUR</td>\n",
       "      <td>France</td>\n",
       "      <td>1</td>\n",
       "      <td>-7.2</td>\n",
       "      <td>-5.906</td>\n",
       "      <td>-6.4</td>\n",
       "      <td>D</td>\n",
       "      <td>0.00014</td>\n",
       "      <td>0.00105</td>\n",
       "      <td>0.00181</td>\n",
       "      <td>0.00345</td>\n",
       "    </tr>\n",
       "    <tr>\n",
       "      <th>4</th>\n",
       "      <td>2011-07-07 06:45:00+00:00</td>\n",
       "      <td>EUR</td>\n",
       "      <td>Trade Balance EUR</td>\n",
       "      <td>France</td>\n",
       "      <td>1</td>\n",
       "      <td>-6.4</td>\n",
       "      <td>-7.2</td>\n",
       "      <td>-5.906</td>\n",
       "      <td>C</td>\n",
       "      <td>-0.00296</td>\n",
       "      <td>0.00092</td>\n",
       "      <td>0.00302</td>\n",
       "      <td>0.00407</td>\n",
       "    </tr>\n",
       "  </tbody>\n",
       "</table>\n",
       "</div>"
      ],
      "text/plain": [
       "                   timestamp Currency               Name Country Volatility  \\\n",
       "0  2011-03-08 06:45:00+00:00      EUR  Trade Balance EUR  France          1   \n",
       "1  2011-04-07 06:45:00+00:00      EUR  Trade Balance EUR  France          1   \n",
       "2  2011-05-06 06:45:00+00:00      EUR  Trade Balance EUR  France          1   \n",
       "3  2011-06-08 06:45:00+00:00      EUR  Trade Balance EUR  France          1   \n",
       "4  2011-07-07 06:45:00+00:00      EUR  Trade Balance EUR  France          1   \n",
       "\n",
       "  actual previous consensus escenario  Direccion  Pips Alcistas  \\\n",
       "0   -6.1     -5.1      -5.1         C   -0.00023        0.00032   \n",
       "1   -6.4     -6.1      -5.1         C   -0.00132        0.00054   \n",
       "2 -5.906     -6.4      -6.1         A   -0.00119        0.00116   \n",
       "3   -7.2   -5.906      -6.4         D    0.00014        0.00105   \n",
       "4   -6.4     -7.2    -5.906         C   -0.00296        0.00092   \n",
       "\n",
       "   Pips Bajistas  Volatilidad  \n",
       "0        0.00118      0.00170  \n",
       "1        0.00150      0.00260  \n",
       "2        0.00232      0.00415  \n",
       "3        0.00181      0.00345  \n",
       "4        0.00302      0.00407  "
      ]
     },
     "execution_count": 16,
     "metadata": {},
     "output_type": "execute_result"
    }
   ],
   "source": [
    "metricas(EUR,intervEUR)\n",
    "EUR.head()"
   ]
  },
  {
   "cell_type": "code",
   "execution_count": 17,
   "metadata": {},
   "outputs": [
    {
     "data": {
      "text/html": [
       "<div>\n",
       "<style scoped>\n",
       "    .dataframe tbody tr th:only-of-type {\n",
       "        vertical-align: middle;\n",
       "    }\n",
       "\n",
       "    .dataframe tbody tr th {\n",
       "        vertical-align: top;\n",
       "    }\n",
       "\n",
       "    .dataframe thead th {\n",
       "        text-align: right;\n",
       "    }\n",
       "</style>\n",
       "<table border=\"1\" class=\"dataframe\">\n",
       "  <thead>\n",
       "    <tr style=\"text-align: right;\">\n",
       "      <th></th>\n",
       "      <th>timestamp</th>\n",
       "      <th>Currency</th>\n",
       "      <th>Name</th>\n",
       "      <th>Country</th>\n",
       "      <th>Volatility</th>\n",
       "      <th>actual</th>\n",
       "      <th>previous</th>\n",
       "      <th>consensus</th>\n",
       "      <th>escenario</th>\n",
       "      <th>Direccion</th>\n",
       "      <th>Pips Alcistas</th>\n",
       "      <th>Pips Bajistas</th>\n",
       "      <th>Volatilidad</th>\n",
       "    </tr>\n",
       "  </thead>\n",
       "  <tbody>\n",
       "    <tr>\n",
       "      <th>0</th>\n",
       "      <td>2009-01-13 13:30:00+00:00</td>\n",
       "      <td>USD</td>\n",
       "      <td>Trade Balance</td>\n",
       "      <td>United States</td>\n",
       "      <td>3</td>\n",
       "      <td>-41.58</td>\n",
       "      <td>-56.69</td>\n",
       "      <td>-51.4</td>\n",
       "      <td>A</td>\n",
       "      <td>-0.00337</td>\n",
       "      <td>0.00325</td>\n",
       "      <td>0.00629</td>\n",
       "      <td>0.00964</td>\n",
       "    </tr>\n",
       "    <tr>\n",
       "      <th>1</th>\n",
       "      <td>2009-02-11 13:30:00+00:00</td>\n",
       "      <td>USD</td>\n",
       "      <td>Trade Balance</td>\n",
       "      <td>United States</td>\n",
       "      <td>3</td>\n",
       "      <td>-39.9</td>\n",
       "      <td>-41.58</td>\n",
       "      <td>-35.9</td>\n",
       "      <td>C</td>\n",
       "      <td>0.00214</td>\n",
       "      <td>0.00516</td>\n",
       "      <td>0.00028</td>\n",
       "      <td>0.00814</td>\n",
       "    </tr>\n",
       "    <tr>\n",
       "      <th>2</th>\n",
       "      <td>2009-03-13 12:30:00+00:00</td>\n",
       "      <td>USD</td>\n",
       "      <td>Trade Balance</td>\n",
       "      <td>United States</td>\n",
       "      <td>3</td>\n",
       "      <td>-36.2</td>\n",
       "      <td>-39.9</td>\n",
       "      <td>-38</td>\n",
       "      <td>A</td>\n",
       "      <td>-0.00141</td>\n",
       "      <td>0.00203</td>\n",
       "      <td>0.00157</td>\n",
       "      <td>0.00600</td>\n",
       "    </tr>\n",
       "    <tr>\n",
       "      <th>3</th>\n",
       "      <td>2009-04-09 12:30:00+00:00</td>\n",
       "      <td>USD</td>\n",
       "      <td>Trade Balance</td>\n",
       "      <td>United States</td>\n",
       "      <td>3</td>\n",
       "      <td>-26.13</td>\n",
       "      <td>-36.2</td>\n",
       "      <td>-36.7</td>\n",
       "      <td>B</td>\n",
       "      <td>-0.00329</td>\n",
       "      <td>0.00108</td>\n",
       "      <td>0.00346</td>\n",
       "      <td>0.00559</td>\n",
       "    </tr>\n",
       "    <tr>\n",
       "      <th>4</th>\n",
       "      <td>2009-05-12 12:30:00+00:00</td>\n",
       "      <td>USD</td>\n",
       "      <td>Trade Balance</td>\n",
       "      <td>United States</td>\n",
       "      <td>3</td>\n",
       "      <td>-28.53</td>\n",
       "      <td>-26.13</td>\n",
       "      <td>-28.9</td>\n",
       "      <td>B</td>\n",
       "      <td>-0.00310</td>\n",
       "      <td>0.00250</td>\n",
       "      <td>0.00398</td>\n",
       "      <td>0.00648</td>\n",
       "    </tr>\n",
       "  </tbody>\n",
       "</table>\n",
       "</div>"
      ],
      "text/plain": [
       "                   timestamp Currency           Name        Country  \\\n",
       "0  2009-01-13 13:30:00+00:00      USD  Trade Balance  United States   \n",
       "1  2009-02-11 13:30:00+00:00      USD  Trade Balance  United States   \n",
       "2  2009-03-13 12:30:00+00:00      USD  Trade Balance  United States   \n",
       "3  2009-04-09 12:30:00+00:00      USD  Trade Balance  United States   \n",
       "4  2009-05-12 12:30:00+00:00      USD  Trade Balance  United States   \n",
       "\n",
       "  Volatility actual previous consensus escenario  Direccion  Pips Alcistas  \\\n",
       "0          3 -41.58   -56.69     -51.4         A   -0.00337        0.00325   \n",
       "1          3  -39.9   -41.58     -35.9         C    0.00214        0.00516   \n",
       "2          3  -36.2    -39.9       -38         A   -0.00141        0.00203   \n",
       "3          3 -26.13    -36.2     -36.7         B   -0.00329        0.00108   \n",
       "4          3 -28.53   -26.13     -28.9         B   -0.00310        0.00250   \n",
       "\n",
       "   Pips Bajistas  Volatilidad  \n",
       "0        0.00629      0.00964  \n",
       "1        0.00028      0.00814  \n",
       "2        0.00157      0.00600  \n",
       "3        0.00346      0.00559  \n",
       "4        0.00398      0.00648  "
      ]
     },
     "execution_count": 17,
     "metadata": {},
     "output_type": "execute_result"
    }
   ],
   "source": [
    "metricas(USD,intervUSD)\n",
    "USD.head()"
   ]
  },
  {
   "cell_type": "code",
   "execution_count": 18,
   "metadata": {},
   "outputs": [],
   "source": [
    "def esc(indicador):\n",
    "    A = indicador.loc[indicador['escenario'] == 'A']\n",
    "    B = indicador.loc[indicador['escenario'] == 'B']\n",
    "    C = indicador.loc[indicador['escenario'] == 'C']\n",
    "    D = indicador.loc[indicador['escenario'] == 'D']\n",
    "    return A,B,C,D"
   ]
  },
  {
   "cell_type": "code",
   "execution_count": 19,
   "metadata": {},
   "outputs": [],
   "source": [
    "def plotesc(indicador,escenario,title):\n",
    "    A,B,C,D = esc(indicador)\n",
    "    # Inicializando figura con subplots \n",
    "    fig = make_subplots(rows=2, cols=2, subplot_titles=(\"Dirección\", \n",
    "                                        \"Pips Alcistas\", \n",
    "                                        \"Pips Bajistas\", \"Volatilidad\"))\n",
    "\n",
    "    x = escenario['timestamp']\n",
    "    # Agregando figuras(trazos)\n",
    "    fig.add_trace(go.Scatter( x=x, y=escenario['Direccion'].values), row=1, col=1)\n",
    "    fig.add_trace(go.Scatter( x=x, y=escenario['Pips Alcistas'].values), row=1, col=2)\n",
    "    fig.add_trace(go.Scatter( x=x, y=escenario['Pips Bajistas'].values), row=2, col=1)\n",
    "    fig.add_trace(go.Scatter(x=x, y=escenario['Volatilidad'].values), row=2, col=2)\n",
    "\n",
    "    # Actualzando los ejes \"x\"\n",
    "    fig.update_xaxes(title_text=\"Fecha\", row=1, col=1)\n",
    "    fig.update_xaxes(title_text=\"Fecha\",row=1, col=2)\n",
    "    fig.update_xaxes(title_text=\"Fecha\", row=2, col=1)\n",
    "    fig.update_xaxes(title_text=\"Fecha\", row=2, col=2)\n",
    "\n",
    "    # Actualzando los ejes \"y\"\n",
    "    fig.update_yaxes(title_text=\"Valor\", row=1, col=1)\n",
    "    fig.update_yaxes(title_text=\"Valor\", row=1, col=2)\n",
    "    fig.update_yaxes(title_text=\"Valor\",row=2, col=1)\n",
    "    fig.update_yaxes(title_text=\"Valor\", row=2, col=2)\n",
    "\n",
    "    # Actualizando título\n",
    "    fig.layout.update(showlegend=False, title_text=title, height=700)\n",
    "\n",
    "    #plot(fig,filename= 'basic-scatter')\n",
    "    fig.show()"
   ]
  },
  {
   "cell_type": "code",
   "execution_count": 20,
   "metadata": {},
   "outputs": [],
   "source": [
    "Aeur,Beur,Ceur,Deur = esc(EUR)\n",
    "Ausd,Busd,Cusd,Dusd = esc(USD)"
   ]
  },
  {
   "cell_type": "code",
   "execution_count": 21,
   "metadata": {},
   "outputs": [
    {
     "data": {
      "application/vnd.plotly.v1+json": {
       "config": {
        "plotlyServerURL": "https://plot.ly"
       },
       "data": [
        {
         "type": "scatter",
         "x": [
          "2011-05-06T06:45:00+00:00",
          "2011-10-07T06:45:00+00:00",
          "2011-12-07T07:45:00+00:00",
          "2012-05-09T06:45:00+00:00",
          "2012-07-06T06:45:00+00:00",
          "2012-09-07T06:45:00+00:00",
          "2012-11-08T07:45:00+00:00",
          "2012-12-07T07:45:00+00:00",
          "2013-05-07T06:45:00+00:00",
          "2013-06-07T06:45:00+00:00",
          "2013-08-07T06:45:00+00:00",
          "2013-12-06T07:45:00+00:00",
          "2014-04-08T06:45:00+00:00",
          "2014-10-09T06:45:00+00:00",
          "2015-06-05T06:45:00+00:00",
          "2015-08-07T06:45:00+00:00",
          "2016-02-05T07:45:00+00:00",
          "2016-07-07T06:45:00+00:00",
          "2017-01-06T07:45:00+00:00",
          "2017-05-10T06:45:00+00:00",
          "2017-07-07T06:45:00+00:00",
          "2017-10-06T06:45:00+00:00",
          "2018-02-07T07:45:00+00:00",
          "2018-09-07T06:45:00+00:00",
          "2019-07-05T06:45:00+00:00"
         ],
         "xaxis": "x",
         "y": [
          -0.0011899999999998023,
          0.0026399999999999757,
          0.00012000000000012001,
          -0.0009900000000000464,
          -0.0009700000000001374,
          0.0018700000000000383,
          0,
          0.0006300000000001305,
          -7.00000000000145e-05,
          0.0005799999999998029,
          -0.0007699999999999374,
          -0.0003500000000000725,
          0.0006900000000000794,
          0.0009399999999999409,
          0.0009000000000001229,
          0.0005399999999999849,
          -0.00013999999999980695,
          -0.0004099999999997994,
          0.0012399999999999078,
          0.000600000000000156,
          9.999999999998899e-05,
          0,
          -0.0023299999999999432,
          -9.999999999998899e-05,
          -0.00029999999999996696
         ],
         "yaxis": "y"
        },
        {
         "type": "scatter",
         "x": [
          "2011-05-06T06:45:00+00:00",
          "2011-10-07T06:45:00+00:00",
          "2011-12-07T07:45:00+00:00",
          "2012-05-09T06:45:00+00:00",
          "2012-07-06T06:45:00+00:00",
          "2012-09-07T06:45:00+00:00",
          "2012-11-08T07:45:00+00:00",
          "2012-12-07T07:45:00+00:00",
          "2013-05-07T06:45:00+00:00",
          "2013-06-07T06:45:00+00:00",
          "2013-08-07T06:45:00+00:00",
          "2013-12-06T07:45:00+00:00",
          "2014-04-08T06:45:00+00:00",
          "2014-10-09T06:45:00+00:00",
          "2015-06-05T06:45:00+00:00",
          "2015-08-07T06:45:00+00:00",
          "2016-02-05T07:45:00+00:00",
          "2016-07-07T06:45:00+00:00",
          "2017-01-06T07:45:00+00:00",
          "2017-05-10T06:45:00+00:00",
          "2017-07-07T06:45:00+00:00",
          "2017-10-06T06:45:00+00:00",
          "2018-02-07T07:45:00+00:00",
          "2018-09-07T06:45:00+00:00",
          "2019-07-05T06:45:00+00:00"
         ],
         "xaxis": "x2",
         "y": [
          0.0011600000000000499,
          0.0031200000000000117,
          0.0006200000000000649,
          0.000220000000000109,
          0,
          0.00266999999999995,
          0.0012100000000001554,
          0.001080000000000192,
          0.00024000000000001798,
          0.0016799999999999038,
          0.0010099999999999554,
          0.0006099999999999994,
          0.0008600000000000829,
          0.002569999999999961,
          0.0031200000000000117,
          0.0007600000000000939,
          0.0014500000000001734,
          0.0004999999999999449,
          0.0014499999999999513,
          0.0010200000000000209,
          0.0010799999999997478,
          0.000660000000000105,
          0.0005800000000000249,
          0.0010799999999999699,
          8.999999999992347e-05
         ],
         "yaxis": "y2"
        },
        {
         "type": "scatter",
         "x": [
          "2011-05-06T06:45:00+00:00",
          "2011-10-07T06:45:00+00:00",
          "2011-12-07T07:45:00+00:00",
          "2012-05-09T06:45:00+00:00",
          "2012-07-06T06:45:00+00:00",
          "2012-09-07T06:45:00+00:00",
          "2012-11-08T07:45:00+00:00",
          "2012-12-07T07:45:00+00:00",
          "2013-05-07T06:45:00+00:00",
          "2013-06-07T06:45:00+00:00",
          "2013-08-07T06:45:00+00:00",
          "2013-12-06T07:45:00+00:00",
          "2014-04-08T06:45:00+00:00",
          "2014-10-09T06:45:00+00:00",
          "2015-06-05T06:45:00+00:00",
          "2015-08-07T06:45:00+00:00",
          "2016-02-05T07:45:00+00:00",
          "2016-07-07T06:45:00+00:00",
          "2017-01-06T07:45:00+00:00",
          "2017-05-10T06:45:00+00:00",
          "2017-07-07T06:45:00+00:00",
          "2017-10-06T06:45:00+00:00",
          "2018-02-07T07:45:00+00:00",
          "2018-09-07T06:45:00+00:00",
          "2019-07-05T06:45:00+00:00"
         ],
         "xaxis": "x3",
         "y": [
          0.0023199999999998777,
          0.00039999999999995595,
          0.0007599999999998719,
          0.0017699999999998273,
          0.0017700000000000493,
          0.0006500000000000394,
          0.00031999999999987594,
          5.999999999994898e-05,
          0.0014799999999999258,
          4.000000000026205e-05,
          0.0010900000000000354,
          0.0004999999999999449,
          0.00018999999999991246,
          0,
          0.0008799999999999919,
          0.0008399999999999519,
          0.0010099999999999554,
          0.0007999999999999119,
          0.00039999999999995595,
          5.999999999972694e-05,
          0.00034000000000000696,
          0.000180000000000069,
          0.0027400000000001867,
          0.0005599999999998939,
          0.00039999999999995595
         ],
         "yaxis": "y3"
        },
        {
         "type": "scatter",
         "x": [
          "2011-05-06T06:45:00+00:00",
          "2011-10-07T06:45:00+00:00",
          "2011-12-07T07:45:00+00:00",
          "2012-05-09T06:45:00+00:00",
          "2012-07-06T06:45:00+00:00",
          "2012-09-07T06:45:00+00:00",
          "2012-11-08T07:45:00+00:00",
          "2012-12-07T07:45:00+00:00",
          "2013-05-07T06:45:00+00:00",
          "2013-06-07T06:45:00+00:00",
          "2013-08-07T06:45:00+00:00",
          "2013-12-06T07:45:00+00:00",
          "2014-04-08T06:45:00+00:00",
          "2014-10-09T06:45:00+00:00",
          "2015-06-05T06:45:00+00:00",
          "2015-08-07T06:45:00+00:00",
          "2016-02-05T07:45:00+00:00",
          "2016-07-07T06:45:00+00:00",
          "2017-01-06T07:45:00+00:00",
          "2017-05-10T06:45:00+00:00",
          "2017-07-07T06:45:00+00:00",
          "2017-10-06T06:45:00+00:00",
          "2018-02-07T07:45:00+00:00",
          "2018-09-07T06:45:00+00:00",
          "2019-07-05T06:45:00+00:00"
         ],
         "xaxis": "x4",
         "y": [
          0.004150000000000098,
          0.0040199999999999125,
          0.0020899999999999253,
          0.0019899999999999363,
          0.001980000000000093,
          0.0035800000000001386,
          0.0023900000000001143,
          0.0035000000000000586,
          0.0017199999999999438,
          0.0017599999999999838,
          0.0021599999999999397,
          0.0011099999999999444,
          0.0012600000000000389,
          0.003689999999999971,
          0.005440000000000111,
          0.002020000000000133,
          0.0024600000000001288,
          0.0017099999999998783,
          0.0018499999999999073,
          0.0013399999999998968,
          0.0016999999999998128,
          0.000980000000000203,
          0.0043600000000001415,
          0.0016399999999998638,
          0.0006599999999998829
         ],
         "yaxis": "y4"
        }
       ],
       "layout": {
        "annotations": [
         {
          "font": {
           "size": 16
          },
          "showarrow": false,
          "text": "Dirección",
          "x": 0.225,
          "xanchor": "center",
          "xref": "paper",
          "y": 1,
          "yanchor": "bottom",
          "yref": "paper"
         },
         {
          "font": {
           "size": 16
          },
          "showarrow": false,
          "text": "Pips Alcistas",
          "x": 0.775,
          "xanchor": "center",
          "xref": "paper",
          "y": 1,
          "yanchor": "bottom",
          "yref": "paper"
         },
         {
          "font": {
           "size": 16
          },
          "showarrow": false,
          "text": "Pips Bajistas",
          "x": 0.225,
          "xanchor": "center",
          "xref": "paper",
          "y": 0.375,
          "yanchor": "bottom",
          "yref": "paper"
         },
         {
          "font": {
           "size": 16
          },
          "showarrow": false,
          "text": "Volatilidad",
          "x": 0.775,
          "xanchor": "center",
          "xref": "paper",
          "y": 0.375,
          "yanchor": "bottom",
          "yref": "paper"
         }
        ],
        "height": 700,
        "showlegend": false,
        "template": {
         "data": {
          "bar": [
           {
            "error_x": {
             "color": "#2a3f5f"
            },
            "error_y": {
             "color": "#2a3f5f"
            },
            "marker": {
             "line": {
              "color": "#E5ECF6",
              "width": 0.5
             }
            },
            "type": "bar"
           }
          ],
          "barpolar": [
           {
            "marker": {
             "line": {
              "color": "#E5ECF6",
              "width": 0.5
             }
            },
            "type": "barpolar"
           }
          ],
          "carpet": [
           {
            "aaxis": {
             "endlinecolor": "#2a3f5f",
             "gridcolor": "white",
             "linecolor": "white",
             "minorgridcolor": "white",
             "startlinecolor": "#2a3f5f"
            },
            "baxis": {
             "endlinecolor": "#2a3f5f",
             "gridcolor": "white",
             "linecolor": "white",
             "minorgridcolor": "white",
             "startlinecolor": "#2a3f5f"
            },
            "type": "carpet"
           }
          ],
          "choropleth": [
           {
            "colorbar": {
             "outlinewidth": 0,
             "ticks": ""
            },
            "type": "choropleth"
           }
          ],
          "contour": [
           {
            "colorbar": {
             "outlinewidth": 0,
             "ticks": ""
            },
            "colorscale": [
             [
              0,
              "#0d0887"
             ],
             [
              0.1111111111111111,
              "#46039f"
             ],
             [
              0.2222222222222222,
              "#7201a8"
             ],
             [
              0.3333333333333333,
              "#9c179e"
             ],
             [
              0.4444444444444444,
              "#bd3786"
             ],
             [
              0.5555555555555556,
              "#d8576b"
             ],
             [
              0.6666666666666666,
              "#ed7953"
             ],
             [
              0.7777777777777778,
              "#fb9f3a"
             ],
             [
              0.8888888888888888,
              "#fdca26"
             ],
             [
              1,
              "#f0f921"
             ]
            ],
            "type": "contour"
           }
          ],
          "contourcarpet": [
           {
            "colorbar": {
             "outlinewidth": 0,
             "ticks": ""
            },
            "type": "contourcarpet"
           }
          ],
          "heatmap": [
           {
            "colorbar": {
             "outlinewidth": 0,
             "ticks": ""
            },
            "colorscale": [
             [
              0,
              "#0d0887"
             ],
             [
              0.1111111111111111,
              "#46039f"
             ],
             [
              0.2222222222222222,
              "#7201a8"
             ],
             [
              0.3333333333333333,
              "#9c179e"
             ],
             [
              0.4444444444444444,
              "#bd3786"
             ],
             [
              0.5555555555555556,
              "#d8576b"
             ],
             [
              0.6666666666666666,
              "#ed7953"
             ],
             [
              0.7777777777777778,
              "#fb9f3a"
             ],
             [
              0.8888888888888888,
              "#fdca26"
             ],
             [
              1,
              "#f0f921"
             ]
            ],
            "type": "heatmap"
           }
          ],
          "heatmapgl": [
           {
            "colorbar": {
             "outlinewidth": 0,
             "ticks": ""
            },
            "colorscale": [
             [
              0,
              "#0d0887"
             ],
             [
              0.1111111111111111,
              "#46039f"
             ],
             [
              0.2222222222222222,
              "#7201a8"
             ],
             [
              0.3333333333333333,
              "#9c179e"
             ],
             [
              0.4444444444444444,
              "#bd3786"
             ],
             [
              0.5555555555555556,
              "#d8576b"
             ],
             [
              0.6666666666666666,
              "#ed7953"
             ],
             [
              0.7777777777777778,
              "#fb9f3a"
             ],
             [
              0.8888888888888888,
              "#fdca26"
             ],
             [
              1,
              "#f0f921"
             ]
            ],
            "type": "heatmapgl"
           }
          ],
          "histogram": [
           {
            "marker": {
             "colorbar": {
              "outlinewidth": 0,
              "ticks": ""
             }
            },
            "type": "histogram"
           }
          ],
          "histogram2d": [
           {
            "colorbar": {
             "outlinewidth": 0,
             "ticks": ""
            },
            "colorscale": [
             [
              0,
              "#0d0887"
             ],
             [
              0.1111111111111111,
              "#46039f"
             ],
             [
              0.2222222222222222,
              "#7201a8"
             ],
             [
              0.3333333333333333,
              "#9c179e"
             ],
             [
              0.4444444444444444,
              "#bd3786"
             ],
             [
              0.5555555555555556,
              "#d8576b"
             ],
             [
              0.6666666666666666,
              "#ed7953"
             ],
             [
              0.7777777777777778,
              "#fb9f3a"
             ],
             [
              0.8888888888888888,
              "#fdca26"
             ],
             [
              1,
              "#f0f921"
             ]
            ],
            "type": "histogram2d"
           }
          ],
          "histogram2dcontour": [
           {
            "colorbar": {
             "outlinewidth": 0,
             "ticks": ""
            },
            "colorscale": [
             [
              0,
              "#0d0887"
             ],
             [
              0.1111111111111111,
              "#46039f"
             ],
             [
              0.2222222222222222,
              "#7201a8"
             ],
             [
              0.3333333333333333,
              "#9c179e"
             ],
             [
              0.4444444444444444,
              "#bd3786"
             ],
             [
              0.5555555555555556,
              "#d8576b"
             ],
             [
              0.6666666666666666,
              "#ed7953"
             ],
             [
              0.7777777777777778,
              "#fb9f3a"
             ],
             [
              0.8888888888888888,
              "#fdca26"
             ],
             [
              1,
              "#f0f921"
             ]
            ],
            "type": "histogram2dcontour"
           }
          ],
          "mesh3d": [
           {
            "colorbar": {
             "outlinewidth": 0,
             "ticks": ""
            },
            "type": "mesh3d"
           }
          ],
          "parcoords": [
           {
            "line": {
             "colorbar": {
              "outlinewidth": 0,
              "ticks": ""
             }
            },
            "type": "parcoords"
           }
          ],
          "pie": [
           {
            "automargin": true,
            "type": "pie"
           }
          ],
          "scatter": [
           {
            "marker": {
             "colorbar": {
              "outlinewidth": 0,
              "ticks": ""
             }
            },
            "type": "scatter"
           }
          ],
          "scatter3d": [
           {
            "line": {
             "colorbar": {
              "outlinewidth": 0,
              "ticks": ""
             }
            },
            "marker": {
             "colorbar": {
              "outlinewidth": 0,
              "ticks": ""
             }
            },
            "type": "scatter3d"
           }
          ],
          "scattercarpet": [
           {
            "marker": {
             "colorbar": {
              "outlinewidth": 0,
              "ticks": ""
             }
            },
            "type": "scattercarpet"
           }
          ],
          "scattergeo": [
           {
            "marker": {
             "colorbar": {
              "outlinewidth": 0,
              "ticks": ""
             }
            },
            "type": "scattergeo"
           }
          ],
          "scattergl": [
           {
            "marker": {
             "colorbar": {
              "outlinewidth": 0,
              "ticks": ""
             }
            },
            "type": "scattergl"
           }
          ],
          "scattermapbox": [
           {
            "marker": {
             "colorbar": {
              "outlinewidth": 0,
              "ticks": ""
             }
            },
            "type": "scattermapbox"
           }
          ],
          "scatterpolar": [
           {
            "marker": {
             "colorbar": {
              "outlinewidth": 0,
              "ticks": ""
             }
            },
            "type": "scatterpolar"
           }
          ],
          "scatterpolargl": [
           {
            "marker": {
             "colorbar": {
              "outlinewidth": 0,
              "ticks": ""
             }
            },
            "type": "scatterpolargl"
           }
          ],
          "scatterternary": [
           {
            "marker": {
             "colorbar": {
              "outlinewidth": 0,
              "ticks": ""
             }
            },
            "type": "scatterternary"
           }
          ],
          "surface": [
           {
            "colorbar": {
             "outlinewidth": 0,
             "ticks": ""
            },
            "colorscale": [
             [
              0,
              "#0d0887"
             ],
             [
              0.1111111111111111,
              "#46039f"
             ],
             [
              0.2222222222222222,
              "#7201a8"
             ],
             [
              0.3333333333333333,
              "#9c179e"
             ],
             [
              0.4444444444444444,
              "#bd3786"
             ],
             [
              0.5555555555555556,
              "#d8576b"
             ],
             [
              0.6666666666666666,
              "#ed7953"
             ],
             [
              0.7777777777777778,
              "#fb9f3a"
             ],
             [
              0.8888888888888888,
              "#fdca26"
             ],
             [
              1,
              "#f0f921"
             ]
            ],
            "type": "surface"
           }
          ],
          "table": [
           {
            "cells": {
             "fill": {
              "color": "#EBF0F8"
             },
             "line": {
              "color": "white"
             }
            },
            "header": {
             "fill": {
              "color": "#C8D4E3"
             },
             "line": {
              "color": "white"
             }
            },
            "type": "table"
           }
          ]
         },
         "layout": {
          "annotationdefaults": {
           "arrowcolor": "#2a3f5f",
           "arrowhead": 0,
           "arrowwidth": 1
          },
          "coloraxis": {
           "colorbar": {
            "outlinewidth": 0,
            "ticks": ""
           }
          },
          "colorscale": {
           "diverging": [
            [
             0,
             "#8e0152"
            ],
            [
             0.1,
             "#c51b7d"
            ],
            [
             0.2,
             "#de77ae"
            ],
            [
             0.3,
             "#f1b6da"
            ],
            [
             0.4,
             "#fde0ef"
            ],
            [
             0.5,
             "#f7f7f7"
            ],
            [
             0.6,
             "#e6f5d0"
            ],
            [
             0.7,
             "#b8e186"
            ],
            [
             0.8,
             "#7fbc41"
            ],
            [
             0.9,
             "#4d9221"
            ],
            [
             1,
             "#276419"
            ]
           ],
           "sequential": [
            [
             0,
             "#0d0887"
            ],
            [
             0.1111111111111111,
             "#46039f"
            ],
            [
             0.2222222222222222,
             "#7201a8"
            ],
            [
             0.3333333333333333,
             "#9c179e"
            ],
            [
             0.4444444444444444,
             "#bd3786"
            ],
            [
             0.5555555555555556,
             "#d8576b"
            ],
            [
             0.6666666666666666,
             "#ed7953"
            ],
            [
             0.7777777777777778,
             "#fb9f3a"
            ],
            [
             0.8888888888888888,
             "#fdca26"
            ],
            [
             1,
             "#f0f921"
            ]
           ],
           "sequentialminus": [
            [
             0,
             "#0d0887"
            ],
            [
             0.1111111111111111,
             "#46039f"
            ],
            [
             0.2222222222222222,
             "#7201a8"
            ],
            [
             0.3333333333333333,
             "#9c179e"
            ],
            [
             0.4444444444444444,
             "#bd3786"
            ],
            [
             0.5555555555555556,
             "#d8576b"
            ],
            [
             0.6666666666666666,
             "#ed7953"
            ],
            [
             0.7777777777777778,
             "#fb9f3a"
            ],
            [
             0.8888888888888888,
             "#fdca26"
            ],
            [
             1,
             "#f0f921"
            ]
           ]
          },
          "colorway": [
           "#636efa",
           "#EF553B",
           "#00cc96",
           "#ab63fa",
           "#FFA15A",
           "#19d3f3",
           "#FF6692",
           "#B6E880",
           "#FF97FF",
           "#FECB52"
          ],
          "font": {
           "color": "#2a3f5f"
          },
          "geo": {
           "bgcolor": "white",
           "lakecolor": "white",
           "landcolor": "#E5ECF6",
           "showlakes": true,
           "showland": true,
           "subunitcolor": "white"
          },
          "hoverlabel": {
           "align": "left"
          },
          "hovermode": "closest",
          "mapbox": {
           "style": "light"
          },
          "paper_bgcolor": "white",
          "plot_bgcolor": "#E5ECF6",
          "polar": {
           "angularaxis": {
            "gridcolor": "white",
            "linecolor": "white",
            "ticks": ""
           },
           "bgcolor": "#E5ECF6",
           "radialaxis": {
            "gridcolor": "white",
            "linecolor": "white",
            "ticks": ""
           }
          },
          "scene": {
           "xaxis": {
            "backgroundcolor": "#E5ECF6",
            "gridcolor": "white",
            "gridwidth": 2,
            "linecolor": "white",
            "showbackground": true,
            "ticks": "",
            "zerolinecolor": "white"
           },
           "yaxis": {
            "backgroundcolor": "#E5ECF6",
            "gridcolor": "white",
            "gridwidth": 2,
            "linecolor": "white",
            "showbackground": true,
            "ticks": "",
            "zerolinecolor": "white"
           },
           "zaxis": {
            "backgroundcolor": "#E5ECF6",
            "gridcolor": "white",
            "gridwidth": 2,
            "linecolor": "white",
            "showbackground": true,
            "ticks": "",
            "zerolinecolor": "white"
           }
          },
          "shapedefaults": {
           "line": {
            "color": "#2a3f5f"
           }
          },
          "ternary": {
           "aaxis": {
            "gridcolor": "white",
            "linecolor": "white",
            "ticks": ""
           },
           "baxis": {
            "gridcolor": "white",
            "linecolor": "white",
            "ticks": ""
           },
           "bgcolor": "#E5ECF6",
           "caxis": {
            "gridcolor": "white",
            "linecolor": "white",
            "ticks": ""
           }
          },
          "title": {
           "x": 0.05
          },
          "xaxis": {
           "automargin": true,
           "gridcolor": "white",
           "linecolor": "white",
           "ticks": "",
           "title": {
            "standoff": 15
           },
           "zerolinecolor": "white",
           "zerolinewidth": 2
          },
          "yaxis": {
           "automargin": true,
           "gridcolor": "white",
           "linecolor": "white",
           "ticks": "",
           "title": {
            "standoff": 15
           },
           "zerolinecolor": "white",
           "zerolinewidth": 2
          }
         }
        },
        "title": {
         "text": "ESCENARIO A : Actual >= Consensus >= Previous"
        },
        "xaxis": {
         "anchor": "y",
         "domain": [
          0,
          0.45
         ],
         "title": {
          "text": "Fecha"
         }
        },
        "xaxis2": {
         "anchor": "y2",
         "domain": [
          0.55,
          1
         ],
         "title": {
          "text": "Fecha"
         }
        },
        "xaxis3": {
         "anchor": "y3",
         "domain": [
          0,
          0.45
         ],
         "title": {
          "text": "Fecha"
         }
        },
        "xaxis4": {
         "anchor": "y4",
         "domain": [
          0.55,
          1
         ],
         "title": {
          "text": "Fecha"
         }
        },
        "yaxis": {
         "anchor": "x",
         "domain": [
          0.625,
          1
         ],
         "title": {
          "text": "Valor"
         }
        },
        "yaxis2": {
         "anchor": "x2",
         "domain": [
          0.625,
          1
         ],
         "title": {
          "text": "Valor"
         }
        },
        "yaxis3": {
         "anchor": "x3",
         "domain": [
          0,
          0.375
         ],
         "title": {
          "text": "Valor"
         }
        },
        "yaxis4": {
         "anchor": "x4",
         "domain": [
          0,
          0.375
         ],
         "title": {
          "text": "Valor"
         }
        }
       }
      },
      "text/html": [
       "<div>\n",
       "        \n",
       "        \n",
       "            <div id=\"b56fe2e6-838e-4925-8379-2d1430ac2510\" class=\"plotly-graph-div\" style=\"height:700px; width:100%;\"></div>\n",
       "            <script type=\"text/javascript\">\n",
       "                require([\"plotly\"], function(Plotly) {\n",
       "                    window.PLOTLYENV=window.PLOTLYENV || {};\n",
       "                    \n",
       "                if (document.getElementById(\"b56fe2e6-838e-4925-8379-2d1430ac2510\")) {\n",
       "                    Plotly.newPlot(\n",
       "                        'b56fe2e6-838e-4925-8379-2d1430ac2510',\n",
       "                        [{\"type\": \"scatter\", \"x\": [\"2011-05-06T06:45:00+00:00\", \"2011-10-07T06:45:00+00:00\", \"2011-12-07T07:45:00+00:00\", \"2012-05-09T06:45:00+00:00\", \"2012-07-06T06:45:00+00:00\", \"2012-09-07T06:45:00+00:00\", \"2012-11-08T07:45:00+00:00\", \"2012-12-07T07:45:00+00:00\", \"2013-05-07T06:45:00+00:00\", \"2013-06-07T06:45:00+00:00\", \"2013-08-07T06:45:00+00:00\", \"2013-12-06T07:45:00+00:00\", \"2014-04-08T06:45:00+00:00\", \"2014-10-09T06:45:00+00:00\", \"2015-06-05T06:45:00+00:00\", \"2015-08-07T06:45:00+00:00\", \"2016-02-05T07:45:00+00:00\", \"2016-07-07T06:45:00+00:00\", \"2017-01-06T07:45:00+00:00\", \"2017-05-10T06:45:00+00:00\", \"2017-07-07T06:45:00+00:00\", \"2017-10-06T06:45:00+00:00\", \"2018-02-07T07:45:00+00:00\", \"2018-09-07T06:45:00+00:00\", \"2019-07-05T06:45:00+00:00\"], \"xaxis\": \"x\", \"y\": [-0.0011899999999998023, 0.0026399999999999757, 0.00012000000000012001, -0.0009900000000000464, -0.0009700000000001374, 0.0018700000000000383, 0.0, 0.0006300000000001305, -7.00000000000145e-05, 0.0005799999999998029, -0.0007699999999999374, -0.0003500000000000725, 0.0006900000000000794, 0.0009399999999999409, 0.0009000000000001229, 0.0005399999999999849, -0.00013999999999980695, -0.0004099999999997994, 0.0012399999999999078, 0.000600000000000156, 9.999999999998899e-05, 0.0, -0.0023299999999999432, -9.999999999998899e-05, -0.00029999999999996696], \"yaxis\": \"y\"}, {\"type\": \"scatter\", \"x\": [\"2011-05-06T06:45:00+00:00\", \"2011-10-07T06:45:00+00:00\", \"2011-12-07T07:45:00+00:00\", \"2012-05-09T06:45:00+00:00\", \"2012-07-06T06:45:00+00:00\", \"2012-09-07T06:45:00+00:00\", \"2012-11-08T07:45:00+00:00\", \"2012-12-07T07:45:00+00:00\", \"2013-05-07T06:45:00+00:00\", \"2013-06-07T06:45:00+00:00\", \"2013-08-07T06:45:00+00:00\", \"2013-12-06T07:45:00+00:00\", \"2014-04-08T06:45:00+00:00\", \"2014-10-09T06:45:00+00:00\", \"2015-06-05T06:45:00+00:00\", \"2015-08-07T06:45:00+00:00\", \"2016-02-05T07:45:00+00:00\", \"2016-07-07T06:45:00+00:00\", \"2017-01-06T07:45:00+00:00\", \"2017-05-10T06:45:00+00:00\", \"2017-07-07T06:45:00+00:00\", \"2017-10-06T06:45:00+00:00\", \"2018-02-07T07:45:00+00:00\", \"2018-09-07T06:45:00+00:00\", \"2019-07-05T06:45:00+00:00\"], \"xaxis\": \"x2\", \"y\": [0.0011600000000000499, 0.0031200000000000117, 0.0006200000000000649, 0.000220000000000109, 0.0, 0.00266999999999995, 0.0012100000000001554, 0.001080000000000192, 0.00024000000000001798, 0.0016799999999999038, 0.0010099999999999554, 0.0006099999999999994, 0.0008600000000000829, 0.002569999999999961, 0.0031200000000000117, 0.0007600000000000939, 0.0014500000000001734, 0.0004999999999999449, 0.0014499999999999513, 0.0010200000000000209, 0.0010799999999997478, 0.000660000000000105, 0.0005800000000000249, 0.0010799999999999699, 8.999999999992347e-05], \"yaxis\": \"y2\"}, {\"type\": \"scatter\", \"x\": [\"2011-05-06T06:45:00+00:00\", \"2011-10-07T06:45:00+00:00\", \"2011-12-07T07:45:00+00:00\", \"2012-05-09T06:45:00+00:00\", \"2012-07-06T06:45:00+00:00\", \"2012-09-07T06:45:00+00:00\", \"2012-11-08T07:45:00+00:00\", \"2012-12-07T07:45:00+00:00\", \"2013-05-07T06:45:00+00:00\", \"2013-06-07T06:45:00+00:00\", \"2013-08-07T06:45:00+00:00\", \"2013-12-06T07:45:00+00:00\", \"2014-04-08T06:45:00+00:00\", \"2014-10-09T06:45:00+00:00\", \"2015-06-05T06:45:00+00:00\", \"2015-08-07T06:45:00+00:00\", \"2016-02-05T07:45:00+00:00\", \"2016-07-07T06:45:00+00:00\", \"2017-01-06T07:45:00+00:00\", \"2017-05-10T06:45:00+00:00\", \"2017-07-07T06:45:00+00:00\", \"2017-10-06T06:45:00+00:00\", \"2018-02-07T07:45:00+00:00\", \"2018-09-07T06:45:00+00:00\", \"2019-07-05T06:45:00+00:00\"], \"xaxis\": \"x3\", \"y\": [0.0023199999999998777, 0.00039999999999995595, 0.0007599999999998719, 0.0017699999999998273, 0.0017700000000000493, 0.0006500000000000394, 0.00031999999999987594, 5.999999999994898e-05, 0.0014799999999999258, 4.000000000026205e-05, 0.0010900000000000354, 0.0004999999999999449, 0.00018999999999991246, 0.0, 0.0008799999999999919, 0.0008399999999999519, 0.0010099999999999554, 0.0007999999999999119, 0.00039999999999995595, 5.999999999972694e-05, 0.00034000000000000696, 0.000180000000000069, 0.0027400000000001867, 0.0005599999999998939, 0.00039999999999995595], \"yaxis\": \"y3\"}, {\"type\": \"scatter\", \"x\": [\"2011-05-06T06:45:00+00:00\", \"2011-10-07T06:45:00+00:00\", \"2011-12-07T07:45:00+00:00\", \"2012-05-09T06:45:00+00:00\", \"2012-07-06T06:45:00+00:00\", \"2012-09-07T06:45:00+00:00\", \"2012-11-08T07:45:00+00:00\", \"2012-12-07T07:45:00+00:00\", \"2013-05-07T06:45:00+00:00\", \"2013-06-07T06:45:00+00:00\", \"2013-08-07T06:45:00+00:00\", \"2013-12-06T07:45:00+00:00\", \"2014-04-08T06:45:00+00:00\", \"2014-10-09T06:45:00+00:00\", \"2015-06-05T06:45:00+00:00\", \"2015-08-07T06:45:00+00:00\", \"2016-02-05T07:45:00+00:00\", \"2016-07-07T06:45:00+00:00\", \"2017-01-06T07:45:00+00:00\", \"2017-05-10T06:45:00+00:00\", \"2017-07-07T06:45:00+00:00\", \"2017-10-06T06:45:00+00:00\", \"2018-02-07T07:45:00+00:00\", \"2018-09-07T06:45:00+00:00\", \"2019-07-05T06:45:00+00:00\"], \"xaxis\": \"x4\", \"y\": [0.004150000000000098, 0.0040199999999999125, 0.0020899999999999253, 0.0019899999999999363, 0.001980000000000093, 0.0035800000000001386, 0.0023900000000001143, 0.0035000000000000586, 0.0017199999999999438, 0.0017599999999999838, 0.0021599999999999397, 0.0011099999999999444, 0.0012600000000000389, 0.003689999999999971, 0.005440000000000111, 0.002020000000000133, 0.0024600000000001288, 0.0017099999999998783, 0.0018499999999999073, 0.0013399999999998968, 0.0016999999999998128, 0.000980000000000203, 0.0043600000000001415, 0.0016399999999998638, 0.0006599999999998829], \"yaxis\": \"y4\"}],\n",
       "                        {\"annotations\": [{\"font\": {\"size\": 16}, \"showarrow\": false, \"text\": \"Direcci\\u00f3n\", \"x\": 0.225, \"xanchor\": \"center\", \"xref\": \"paper\", \"y\": 1.0, \"yanchor\": \"bottom\", \"yref\": \"paper\"}, {\"font\": {\"size\": 16}, \"showarrow\": false, \"text\": \"Pips Alcistas\", \"x\": 0.775, \"xanchor\": \"center\", \"xref\": \"paper\", \"y\": 1.0, \"yanchor\": \"bottom\", \"yref\": \"paper\"}, {\"font\": {\"size\": 16}, \"showarrow\": false, \"text\": \"Pips Bajistas\", \"x\": 0.225, \"xanchor\": \"center\", \"xref\": \"paper\", \"y\": 0.375, \"yanchor\": \"bottom\", \"yref\": \"paper\"}, {\"font\": {\"size\": 16}, \"showarrow\": false, \"text\": \"Volatilidad\", \"x\": 0.775, \"xanchor\": \"center\", \"xref\": \"paper\", \"y\": 0.375, \"yanchor\": \"bottom\", \"yref\": \"paper\"}], \"height\": 700, \"showlegend\": false, \"template\": {\"data\": {\"bar\": [{\"error_x\": {\"color\": \"#2a3f5f\"}, \"error_y\": {\"color\": \"#2a3f5f\"}, \"marker\": {\"line\": {\"color\": \"#E5ECF6\", \"width\": 0.5}}, \"type\": \"bar\"}], \"barpolar\": [{\"marker\": {\"line\": {\"color\": \"#E5ECF6\", \"width\": 0.5}}, \"type\": \"barpolar\"}], \"carpet\": [{\"aaxis\": {\"endlinecolor\": \"#2a3f5f\", \"gridcolor\": \"white\", \"linecolor\": \"white\", \"minorgridcolor\": \"white\", \"startlinecolor\": \"#2a3f5f\"}, \"baxis\": {\"endlinecolor\": \"#2a3f5f\", \"gridcolor\": \"white\", \"linecolor\": \"white\", \"minorgridcolor\": \"white\", \"startlinecolor\": \"#2a3f5f\"}, \"type\": \"carpet\"}], \"choropleth\": [{\"colorbar\": {\"outlinewidth\": 0, \"ticks\": \"\"}, \"type\": \"choropleth\"}], \"contour\": [{\"colorbar\": {\"outlinewidth\": 0, \"ticks\": \"\"}, \"colorscale\": [[0.0, \"#0d0887\"], [0.1111111111111111, \"#46039f\"], [0.2222222222222222, \"#7201a8\"], [0.3333333333333333, \"#9c179e\"], [0.4444444444444444, \"#bd3786\"], [0.5555555555555556, \"#d8576b\"], [0.6666666666666666, \"#ed7953\"], [0.7777777777777778, \"#fb9f3a\"], [0.8888888888888888, \"#fdca26\"], [1.0, \"#f0f921\"]], \"type\": \"contour\"}], \"contourcarpet\": [{\"colorbar\": {\"outlinewidth\": 0, \"ticks\": \"\"}, \"type\": \"contourcarpet\"}], \"heatmap\": [{\"colorbar\": {\"outlinewidth\": 0, \"ticks\": \"\"}, \"colorscale\": [[0.0, \"#0d0887\"], [0.1111111111111111, \"#46039f\"], [0.2222222222222222, \"#7201a8\"], [0.3333333333333333, \"#9c179e\"], [0.4444444444444444, \"#bd3786\"], [0.5555555555555556, \"#d8576b\"], [0.6666666666666666, \"#ed7953\"], [0.7777777777777778, \"#fb9f3a\"], [0.8888888888888888, \"#fdca26\"], [1.0, \"#f0f921\"]], \"type\": \"heatmap\"}], \"heatmapgl\": [{\"colorbar\": {\"outlinewidth\": 0, \"ticks\": \"\"}, \"colorscale\": [[0.0, \"#0d0887\"], [0.1111111111111111, \"#46039f\"], [0.2222222222222222, \"#7201a8\"], [0.3333333333333333, \"#9c179e\"], [0.4444444444444444, \"#bd3786\"], [0.5555555555555556, \"#d8576b\"], [0.6666666666666666, \"#ed7953\"], [0.7777777777777778, \"#fb9f3a\"], [0.8888888888888888, \"#fdca26\"], [1.0, \"#f0f921\"]], \"type\": \"heatmapgl\"}], \"histogram\": [{\"marker\": {\"colorbar\": {\"outlinewidth\": 0, \"ticks\": \"\"}}, \"type\": \"histogram\"}], \"histogram2d\": [{\"colorbar\": {\"outlinewidth\": 0, \"ticks\": \"\"}, \"colorscale\": [[0.0, \"#0d0887\"], [0.1111111111111111, \"#46039f\"], [0.2222222222222222, \"#7201a8\"], [0.3333333333333333, \"#9c179e\"], [0.4444444444444444, \"#bd3786\"], [0.5555555555555556, \"#d8576b\"], [0.6666666666666666, \"#ed7953\"], [0.7777777777777778, \"#fb9f3a\"], [0.8888888888888888, \"#fdca26\"], [1.0, \"#f0f921\"]], \"type\": \"histogram2d\"}], \"histogram2dcontour\": [{\"colorbar\": {\"outlinewidth\": 0, \"ticks\": \"\"}, \"colorscale\": [[0.0, \"#0d0887\"], [0.1111111111111111, \"#46039f\"], [0.2222222222222222, \"#7201a8\"], [0.3333333333333333, \"#9c179e\"], [0.4444444444444444, \"#bd3786\"], [0.5555555555555556, \"#d8576b\"], [0.6666666666666666, \"#ed7953\"], [0.7777777777777778, \"#fb9f3a\"], [0.8888888888888888, \"#fdca26\"], [1.0, \"#f0f921\"]], \"type\": \"histogram2dcontour\"}], \"mesh3d\": [{\"colorbar\": {\"outlinewidth\": 0, \"ticks\": \"\"}, \"type\": \"mesh3d\"}], \"parcoords\": [{\"line\": {\"colorbar\": {\"outlinewidth\": 0, \"ticks\": \"\"}}, \"type\": \"parcoords\"}], \"pie\": [{\"automargin\": true, \"type\": \"pie\"}], \"scatter\": [{\"marker\": {\"colorbar\": {\"outlinewidth\": 0, \"ticks\": \"\"}}, \"type\": \"scatter\"}], \"scatter3d\": [{\"line\": {\"colorbar\": {\"outlinewidth\": 0, \"ticks\": \"\"}}, \"marker\": {\"colorbar\": {\"outlinewidth\": 0, \"ticks\": \"\"}}, \"type\": \"scatter3d\"}], \"scattercarpet\": [{\"marker\": {\"colorbar\": {\"outlinewidth\": 0, \"ticks\": \"\"}}, \"type\": \"scattercarpet\"}], \"scattergeo\": [{\"marker\": {\"colorbar\": {\"outlinewidth\": 0, \"ticks\": \"\"}}, \"type\": \"scattergeo\"}], \"scattergl\": [{\"marker\": {\"colorbar\": {\"outlinewidth\": 0, \"ticks\": \"\"}}, \"type\": \"scattergl\"}], \"scattermapbox\": [{\"marker\": {\"colorbar\": {\"outlinewidth\": 0, \"ticks\": \"\"}}, \"type\": \"scattermapbox\"}], \"scatterpolar\": [{\"marker\": {\"colorbar\": {\"outlinewidth\": 0, \"ticks\": \"\"}}, \"type\": \"scatterpolar\"}], \"scatterpolargl\": [{\"marker\": {\"colorbar\": {\"outlinewidth\": 0, \"ticks\": \"\"}}, \"type\": \"scatterpolargl\"}], \"scatterternary\": [{\"marker\": {\"colorbar\": {\"outlinewidth\": 0, \"ticks\": \"\"}}, \"type\": \"scatterternary\"}], \"surface\": [{\"colorbar\": {\"outlinewidth\": 0, \"ticks\": \"\"}, \"colorscale\": [[0.0, \"#0d0887\"], [0.1111111111111111, \"#46039f\"], [0.2222222222222222, \"#7201a8\"], [0.3333333333333333, \"#9c179e\"], [0.4444444444444444, \"#bd3786\"], [0.5555555555555556, \"#d8576b\"], [0.6666666666666666, \"#ed7953\"], [0.7777777777777778, \"#fb9f3a\"], [0.8888888888888888, \"#fdca26\"], [1.0, \"#f0f921\"]], \"type\": \"surface\"}], \"table\": [{\"cells\": {\"fill\": {\"color\": \"#EBF0F8\"}, \"line\": {\"color\": \"white\"}}, \"header\": {\"fill\": {\"color\": \"#C8D4E3\"}, \"line\": {\"color\": \"white\"}}, \"type\": \"table\"}]}, \"layout\": {\"annotationdefaults\": {\"arrowcolor\": \"#2a3f5f\", \"arrowhead\": 0, \"arrowwidth\": 1}, \"coloraxis\": {\"colorbar\": {\"outlinewidth\": 0, \"ticks\": \"\"}}, \"colorscale\": {\"diverging\": [[0, \"#8e0152\"], [0.1, \"#c51b7d\"], [0.2, \"#de77ae\"], [0.3, \"#f1b6da\"], [0.4, \"#fde0ef\"], [0.5, \"#f7f7f7\"], [0.6, \"#e6f5d0\"], [0.7, \"#b8e186\"], [0.8, \"#7fbc41\"], [0.9, \"#4d9221\"], [1, \"#276419\"]], \"sequential\": [[0.0, \"#0d0887\"], [0.1111111111111111, \"#46039f\"], [0.2222222222222222, \"#7201a8\"], [0.3333333333333333, \"#9c179e\"], [0.4444444444444444, \"#bd3786\"], [0.5555555555555556, \"#d8576b\"], [0.6666666666666666, \"#ed7953\"], [0.7777777777777778, \"#fb9f3a\"], [0.8888888888888888, \"#fdca26\"], [1.0, \"#f0f921\"]], \"sequentialminus\": [[0.0, \"#0d0887\"], [0.1111111111111111, \"#46039f\"], [0.2222222222222222, \"#7201a8\"], [0.3333333333333333, \"#9c179e\"], [0.4444444444444444, \"#bd3786\"], [0.5555555555555556, \"#d8576b\"], [0.6666666666666666, \"#ed7953\"], [0.7777777777777778, \"#fb9f3a\"], [0.8888888888888888, \"#fdca26\"], [1.0, \"#f0f921\"]]}, \"colorway\": [\"#636efa\", \"#EF553B\", \"#00cc96\", \"#ab63fa\", \"#FFA15A\", \"#19d3f3\", \"#FF6692\", \"#B6E880\", \"#FF97FF\", \"#FECB52\"], \"font\": {\"color\": \"#2a3f5f\"}, \"geo\": {\"bgcolor\": \"white\", \"lakecolor\": \"white\", \"landcolor\": \"#E5ECF6\", \"showlakes\": true, \"showland\": true, \"subunitcolor\": \"white\"}, \"hoverlabel\": {\"align\": \"left\"}, \"hovermode\": \"closest\", \"mapbox\": {\"style\": \"light\"}, \"paper_bgcolor\": \"white\", \"plot_bgcolor\": \"#E5ECF6\", \"polar\": {\"angularaxis\": {\"gridcolor\": \"white\", \"linecolor\": \"white\", \"ticks\": \"\"}, \"bgcolor\": \"#E5ECF6\", \"radialaxis\": {\"gridcolor\": \"white\", \"linecolor\": \"white\", \"ticks\": \"\"}}, \"scene\": {\"xaxis\": {\"backgroundcolor\": \"#E5ECF6\", \"gridcolor\": \"white\", \"gridwidth\": 2, \"linecolor\": \"white\", \"showbackground\": true, \"ticks\": \"\", \"zerolinecolor\": \"white\"}, \"yaxis\": {\"backgroundcolor\": \"#E5ECF6\", \"gridcolor\": \"white\", \"gridwidth\": 2, \"linecolor\": \"white\", \"showbackground\": true, \"ticks\": \"\", \"zerolinecolor\": \"white\"}, \"zaxis\": {\"backgroundcolor\": \"#E5ECF6\", \"gridcolor\": \"white\", \"gridwidth\": 2, \"linecolor\": \"white\", \"showbackground\": true, \"ticks\": \"\", \"zerolinecolor\": \"white\"}}, \"shapedefaults\": {\"line\": {\"color\": \"#2a3f5f\"}}, \"ternary\": {\"aaxis\": {\"gridcolor\": \"white\", \"linecolor\": \"white\", \"ticks\": \"\"}, \"baxis\": {\"gridcolor\": \"white\", \"linecolor\": \"white\", \"ticks\": \"\"}, \"bgcolor\": \"#E5ECF6\", \"caxis\": {\"gridcolor\": \"white\", \"linecolor\": \"white\", \"ticks\": \"\"}}, \"title\": {\"x\": 0.05}, \"xaxis\": {\"automargin\": true, \"gridcolor\": \"white\", \"linecolor\": \"white\", \"ticks\": \"\", \"title\": {\"standoff\": 15}, \"zerolinecolor\": \"white\", \"zerolinewidth\": 2}, \"yaxis\": {\"automargin\": true, \"gridcolor\": \"white\", \"linecolor\": \"white\", \"ticks\": \"\", \"title\": {\"standoff\": 15}, \"zerolinecolor\": \"white\", \"zerolinewidth\": 2}}}, \"title\": {\"text\": \"ESCENARIO A : Actual >= Consensus >= Previous\"}, \"xaxis\": {\"anchor\": \"y\", \"domain\": [0.0, 0.45], \"title\": {\"text\": \"Fecha\"}}, \"xaxis2\": {\"anchor\": \"y2\", \"domain\": [0.55, 1.0], \"title\": {\"text\": \"Fecha\"}}, \"xaxis3\": {\"anchor\": \"y3\", \"domain\": [0.0, 0.45], \"title\": {\"text\": \"Fecha\"}}, \"xaxis4\": {\"anchor\": \"y4\", \"domain\": [0.55, 1.0], \"title\": {\"text\": \"Fecha\"}}, \"yaxis\": {\"anchor\": \"x\", \"domain\": [0.625, 1.0], \"title\": {\"text\": \"Valor\"}}, \"yaxis2\": {\"anchor\": \"x2\", \"domain\": [0.625, 1.0], \"title\": {\"text\": \"Valor\"}}, \"yaxis3\": {\"anchor\": \"x3\", \"domain\": [0.0, 0.375], \"title\": {\"text\": \"Valor\"}}, \"yaxis4\": {\"anchor\": \"x4\", \"domain\": [0.0, 0.375], \"title\": {\"text\": \"Valor\"}}},\n",
       "                        {\"responsive\": true}\n",
       "                    ).then(function(){\n",
       "                            \n",
       "var gd = document.getElementById('b56fe2e6-838e-4925-8379-2d1430ac2510');\n",
       "var x = new MutationObserver(function (mutations, observer) {{\n",
       "        var display = window.getComputedStyle(gd).display;\n",
       "        if (!display || display === 'none') {{\n",
       "            console.log([gd, 'removed!']);\n",
       "            Plotly.purge(gd);\n",
       "            observer.disconnect();\n",
       "        }}\n",
       "}});\n",
       "\n",
       "// Listen for the removal of the full notebook cells\n",
       "var notebookContainer = gd.closest('#notebook-container');\n",
       "if (notebookContainer) {{\n",
       "    x.observe(notebookContainer, {childList: true});\n",
       "}}\n",
       "\n",
       "// Listen for the clearing of the current output cell\n",
       "var outputEl = gd.closest('.output');\n",
       "if (outputEl) {{\n",
       "    x.observe(outputEl, {childList: true});\n",
       "}}\n",
       "\n",
       "                        })\n",
       "                };\n",
       "                });\n",
       "            </script>\n",
       "        </div>"
      ]
     },
     "metadata": {},
     "output_type": "display_data"
    }
   ],
   "source": [
    "plotesc(EUR,Aeur,\"ESCENARIO A : Actual >= Consensus >= Previous\")"
   ]
  },
  {
   "cell_type": "code",
   "execution_count": 22,
   "metadata": {},
   "outputs": [
    {
     "data": {
      "application/vnd.plotly.v1+json": {
       "config": {
        "plotlyServerURL": "https://plot.ly"
       },
       "data": [
        {
         "type": "scatter",
         "x": [
          "2011-08-05T06:45:00+00:00",
          "2011-09-08T06:45:00+00:00",
          "2012-01-09T07:45:00+00:00",
          "2012-02-07T07:45:00+00:00",
          "2012-06-08T06:45:00+00:00",
          "2012-10-09T06:45:00+00:00",
          "2013-01-08T07:45:00+00:00",
          "2014-03-07T07:45:00+00:00",
          "2014-06-06T06:45:00+00:00",
          "2014-11-07T07:45:00+00:00",
          "2014-12-09T07:45:00+00:00",
          "2015-01-09T07:45:00+00:00",
          "2015-02-06T07:45:00+00:00",
          "2015-04-08T06:45:00+00:00",
          "2015-10-07T06:45:00+00:00",
          "2016-03-08T07:45:00+00:00",
          "2016-08-05T06:45:00+00:00",
          "2017-02-07T07:45:00+00:00",
          "2017-06-08T06:45:00+00:00",
          "2017-08-08T06:45:00+00:00",
          "2017-11-08T07:45:00+00:00",
          "2018-06-07T06:45:00+00:00",
          "2018-11-08T07:45:00+00:00",
          "2018-12-07T07:45:00+00:00",
          "2019-01-08T07:45:00+00:00",
          "2019-03-08T07:45:00+00:00",
          "2019-04-05T06:45:00+00:00"
         ],
         "xaxis": "x",
         "y": [
          0.003149999999999986,
          0.00042000000000008697,
          0.00029999999999996696,
          -0.0017700000000002714,
          -1.999999999990898e-05,
          -0.0012300000000002864,
          -0.0002700000000002145,
          0.0005500000000000504,
          -0.0009500000000000064,
          0.0010300000000000864,
          0.0022899999999999032,
          0.0019000000000000128,
          -0.00025999999999992696,
          0.0031399999999999206,
          -0.002409999999999801,
          -0.000320000000000098,
          -0.00035999999999991594,
          -0.0027800000000000047,
          0.00017000000000000348,
          -0.00013000000000018552,
          0.0007600000000000939,
          0.0013600000000000279,
          0.0006900000000000794,
          -0.00048000000000003595,
          -0.00036999999999998145,
          3.999999999981796e-05,
          -0.0007600000000000939
         ],
         "yaxis": "y"
        },
        {
         "type": "scatter",
         "x": [
          "2011-08-05T06:45:00+00:00",
          "2011-09-08T06:45:00+00:00",
          "2012-01-09T07:45:00+00:00",
          "2012-02-07T07:45:00+00:00",
          "2012-06-08T06:45:00+00:00",
          "2012-10-09T06:45:00+00:00",
          "2013-01-08T07:45:00+00:00",
          "2014-03-07T07:45:00+00:00",
          "2014-06-06T06:45:00+00:00",
          "2014-11-07T07:45:00+00:00",
          "2014-12-09T07:45:00+00:00",
          "2015-01-09T07:45:00+00:00",
          "2015-02-06T07:45:00+00:00",
          "2015-04-08T06:45:00+00:00",
          "2015-10-07T06:45:00+00:00",
          "2016-03-08T07:45:00+00:00",
          "2016-08-05T06:45:00+00:00",
          "2017-02-07T07:45:00+00:00",
          "2017-06-08T06:45:00+00:00",
          "2017-08-08T06:45:00+00:00",
          "2017-11-08T07:45:00+00:00",
          "2018-06-07T06:45:00+00:00",
          "2018-11-08T07:45:00+00:00",
          "2018-12-07T07:45:00+00:00",
          "2019-01-08T07:45:00+00:00",
          "2019-03-08T07:45:00+00:00",
          "2019-04-05T06:45:00+00:00"
         ],
         "xaxis": "x2",
         "y": [
          0.006739999999999968,
          0.0017400000000002969,
          0.0017000000000000348,
          0.0011099999999999444,
          0.001100000000000101,
          0.00012999999999974143,
          0.0005500000000000504,
          0.0009500000000000064,
          0.00015999999999993797,
          0.0013500000000001844,
          0.0034600000000000186,
          0.0021800000000000708,
          0.0002900000000001235,
          0.0035799999999999166,
          8.000000000030205e-05,
          0.0012900000000000134,
          0.00045999999999990493,
          0.00014999999999987246,
          0.00032999999999994145,
          0.0006299999999999084,
          0.0014400000000001079,
          0.0016000000000000458,
          0.0012300000000000644,
          0.00024999999999986144,
          0.0008099999999999774,
          0.0007399999999999629,
          0.00011999999999989797
         ],
         "yaxis": "y2"
        },
        {
         "type": "scatter",
         "x": [
          "2011-08-05T06:45:00+00:00",
          "2011-09-08T06:45:00+00:00",
          "2012-01-09T07:45:00+00:00",
          "2012-02-07T07:45:00+00:00",
          "2012-06-08T06:45:00+00:00",
          "2012-10-09T06:45:00+00:00",
          "2013-01-08T07:45:00+00:00",
          "2014-03-07T07:45:00+00:00",
          "2014-06-06T06:45:00+00:00",
          "2014-11-07T07:45:00+00:00",
          "2014-12-09T07:45:00+00:00",
          "2015-01-09T07:45:00+00:00",
          "2015-02-06T07:45:00+00:00",
          "2015-04-08T06:45:00+00:00",
          "2015-10-07T06:45:00+00:00",
          "2016-03-08T07:45:00+00:00",
          "2016-08-05T06:45:00+00:00",
          "2017-02-07T07:45:00+00:00",
          "2017-06-08T06:45:00+00:00",
          "2017-08-08T06:45:00+00:00",
          "2017-11-08T07:45:00+00:00",
          "2018-06-07T06:45:00+00:00",
          "2018-11-08T07:45:00+00:00",
          "2018-12-07T07:45:00+00:00",
          "2019-01-08T07:45:00+00:00",
          "2019-03-08T07:45:00+00:00",
          "2019-04-05T06:45:00+00:00"
         ],
         "xaxis": "x3",
         "y": [
          5.999999999994898e-05,
          0.0004999999999999449,
          0.0007399999999999629,
          0.0020500000000001073,
          0.0006399999999999739,
          0.0012300000000002864,
          0.0012600000000000389,
          5.999999999972694e-05,
          0.0010499999999999954,
          0.0005100000000000104,
          0.00042999999999993044,
          1.999999999990898e-05,
          0.0015600000000000058,
          0.00012999999999996348,
          0.003229999999999844,
          0.00041000000000002146,
          0.0007200000000000539,
          0.002930000000000099,
          0.0007899999999998464,
          0.00038000000000004697,
          0.0005399999999999849,
          0,
          0.00025999999999992696,
          0.0005999999999999339,
          0.0006900000000000794,
          0.00048000000000003595,
          0.0008000000000001339
         ],
         "yaxis": "y3"
        },
        {
         "type": "scatter",
         "x": [
          "2011-08-05T06:45:00+00:00",
          "2011-09-08T06:45:00+00:00",
          "2012-01-09T07:45:00+00:00",
          "2012-02-07T07:45:00+00:00",
          "2012-06-08T06:45:00+00:00",
          "2012-10-09T06:45:00+00:00",
          "2013-01-08T07:45:00+00:00",
          "2014-03-07T07:45:00+00:00",
          "2014-06-06T06:45:00+00:00",
          "2014-11-07T07:45:00+00:00",
          "2014-12-09T07:45:00+00:00",
          "2015-01-09T07:45:00+00:00",
          "2015-02-06T07:45:00+00:00",
          "2015-04-08T06:45:00+00:00",
          "2015-10-07T06:45:00+00:00",
          "2016-03-08T07:45:00+00:00",
          "2016-08-05T06:45:00+00:00",
          "2017-02-07T07:45:00+00:00",
          "2017-06-08T06:45:00+00:00",
          "2017-08-08T06:45:00+00:00",
          "2017-11-08T07:45:00+00:00",
          "2018-06-07T06:45:00+00:00",
          "2018-11-08T07:45:00+00:00",
          "2018-12-07T07:45:00+00:00",
          "2019-01-08T07:45:00+00:00",
          "2019-03-08T07:45:00+00:00",
          "2019-04-05T06:45:00+00:00"
         ],
         "xaxis": "x4",
         "y": [
          0.007639999999999869,
          0.0026200000000000667,
          0.0037399999999998546,
          0.004689999999999861,
          0.0025600000000001177,
          0.0019900000000001583,
          0.0018100000000000893,
          0.0016499999999999293,
          0.0013099999999999223,
          0.0020000000000000018,
          0.004690000000000083,
          0.0022199999999998887,
          0.0018500000000001293,
          0.0037199999999999456,
          0.0035199999999999676,
          0.0023200000000000998,
          0.0011799999999999589,
          0.003710000000000102,
          0.0015799999999999148,
          0.001100000000000101,
          0.002080000000000082,
          0.0027000000000001467,
          0.0027800000000000047,
          0.0012900000000000134,
          0.0019400000000000528,
          0.0015000000000000568,
          0.001140000000000141
         ],
         "yaxis": "y4"
        }
       ],
       "layout": {
        "annotations": [
         {
          "font": {
           "size": 16
          },
          "showarrow": false,
          "text": "Dirección",
          "x": 0.225,
          "xanchor": "center",
          "xref": "paper",
          "y": 1,
          "yanchor": "bottom",
          "yref": "paper"
         },
         {
          "font": {
           "size": 16
          },
          "showarrow": false,
          "text": "Pips Alcistas",
          "x": 0.775,
          "xanchor": "center",
          "xref": "paper",
          "y": 1,
          "yanchor": "bottom",
          "yref": "paper"
         },
         {
          "font": {
           "size": 16
          },
          "showarrow": false,
          "text": "Pips Bajistas",
          "x": 0.225,
          "xanchor": "center",
          "xref": "paper",
          "y": 0.375,
          "yanchor": "bottom",
          "yref": "paper"
         },
         {
          "font": {
           "size": 16
          },
          "showarrow": false,
          "text": "Volatilidad",
          "x": 0.775,
          "xanchor": "center",
          "xref": "paper",
          "y": 0.375,
          "yanchor": "bottom",
          "yref": "paper"
         }
        ],
        "height": 700,
        "showlegend": false,
        "template": {
         "data": {
          "bar": [
           {
            "error_x": {
             "color": "#2a3f5f"
            },
            "error_y": {
             "color": "#2a3f5f"
            },
            "marker": {
             "line": {
              "color": "#E5ECF6",
              "width": 0.5
             }
            },
            "type": "bar"
           }
          ],
          "barpolar": [
           {
            "marker": {
             "line": {
              "color": "#E5ECF6",
              "width": 0.5
             }
            },
            "type": "barpolar"
           }
          ],
          "carpet": [
           {
            "aaxis": {
             "endlinecolor": "#2a3f5f",
             "gridcolor": "white",
             "linecolor": "white",
             "minorgridcolor": "white",
             "startlinecolor": "#2a3f5f"
            },
            "baxis": {
             "endlinecolor": "#2a3f5f",
             "gridcolor": "white",
             "linecolor": "white",
             "minorgridcolor": "white",
             "startlinecolor": "#2a3f5f"
            },
            "type": "carpet"
           }
          ],
          "choropleth": [
           {
            "colorbar": {
             "outlinewidth": 0,
             "ticks": ""
            },
            "type": "choropleth"
           }
          ],
          "contour": [
           {
            "colorbar": {
             "outlinewidth": 0,
             "ticks": ""
            },
            "colorscale": [
             [
              0,
              "#0d0887"
             ],
             [
              0.1111111111111111,
              "#46039f"
             ],
             [
              0.2222222222222222,
              "#7201a8"
             ],
             [
              0.3333333333333333,
              "#9c179e"
             ],
             [
              0.4444444444444444,
              "#bd3786"
             ],
             [
              0.5555555555555556,
              "#d8576b"
             ],
             [
              0.6666666666666666,
              "#ed7953"
             ],
             [
              0.7777777777777778,
              "#fb9f3a"
             ],
             [
              0.8888888888888888,
              "#fdca26"
             ],
             [
              1,
              "#f0f921"
             ]
            ],
            "type": "contour"
           }
          ],
          "contourcarpet": [
           {
            "colorbar": {
             "outlinewidth": 0,
             "ticks": ""
            },
            "type": "contourcarpet"
           }
          ],
          "heatmap": [
           {
            "colorbar": {
             "outlinewidth": 0,
             "ticks": ""
            },
            "colorscale": [
             [
              0,
              "#0d0887"
             ],
             [
              0.1111111111111111,
              "#46039f"
             ],
             [
              0.2222222222222222,
              "#7201a8"
             ],
             [
              0.3333333333333333,
              "#9c179e"
             ],
             [
              0.4444444444444444,
              "#bd3786"
             ],
             [
              0.5555555555555556,
              "#d8576b"
             ],
             [
              0.6666666666666666,
              "#ed7953"
             ],
             [
              0.7777777777777778,
              "#fb9f3a"
             ],
             [
              0.8888888888888888,
              "#fdca26"
             ],
             [
              1,
              "#f0f921"
             ]
            ],
            "type": "heatmap"
           }
          ],
          "heatmapgl": [
           {
            "colorbar": {
             "outlinewidth": 0,
             "ticks": ""
            },
            "colorscale": [
             [
              0,
              "#0d0887"
             ],
             [
              0.1111111111111111,
              "#46039f"
             ],
             [
              0.2222222222222222,
              "#7201a8"
             ],
             [
              0.3333333333333333,
              "#9c179e"
             ],
             [
              0.4444444444444444,
              "#bd3786"
             ],
             [
              0.5555555555555556,
              "#d8576b"
             ],
             [
              0.6666666666666666,
              "#ed7953"
             ],
             [
              0.7777777777777778,
              "#fb9f3a"
             ],
             [
              0.8888888888888888,
              "#fdca26"
             ],
             [
              1,
              "#f0f921"
             ]
            ],
            "type": "heatmapgl"
           }
          ],
          "histogram": [
           {
            "marker": {
             "colorbar": {
              "outlinewidth": 0,
              "ticks": ""
             }
            },
            "type": "histogram"
           }
          ],
          "histogram2d": [
           {
            "colorbar": {
             "outlinewidth": 0,
             "ticks": ""
            },
            "colorscale": [
             [
              0,
              "#0d0887"
             ],
             [
              0.1111111111111111,
              "#46039f"
             ],
             [
              0.2222222222222222,
              "#7201a8"
             ],
             [
              0.3333333333333333,
              "#9c179e"
             ],
             [
              0.4444444444444444,
              "#bd3786"
             ],
             [
              0.5555555555555556,
              "#d8576b"
             ],
             [
              0.6666666666666666,
              "#ed7953"
             ],
             [
              0.7777777777777778,
              "#fb9f3a"
             ],
             [
              0.8888888888888888,
              "#fdca26"
             ],
             [
              1,
              "#f0f921"
             ]
            ],
            "type": "histogram2d"
           }
          ],
          "histogram2dcontour": [
           {
            "colorbar": {
             "outlinewidth": 0,
             "ticks": ""
            },
            "colorscale": [
             [
              0,
              "#0d0887"
             ],
             [
              0.1111111111111111,
              "#46039f"
             ],
             [
              0.2222222222222222,
              "#7201a8"
             ],
             [
              0.3333333333333333,
              "#9c179e"
             ],
             [
              0.4444444444444444,
              "#bd3786"
             ],
             [
              0.5555555555555556,
              "#d8576b"
             ],
             [
              0.6666666666666666,
              "#ed7953"
             ],
             [
              0.7777777777777778,
              "#fb9f3a"
             ],
             [
              0.8888888888888888,
              "#fdca26"
             ],
             [
              1,
              "#f0f921"
             ]
            ],
            "type": "histogram2dcontour"
           }
          ],
          "mesh3d": [
           {
            "colorbar": {
             "outlinewidth": 0,
             "ticks": ""
            },
            "type": "mesh3d"
           }
          ],
          "parcoords": [
           {
            "line": {
             "colorbar": {
              "outlinewidth": 0,
              "ticks": ""
             }
            },
            "type": "parcoords"
           }
          ],
          "pie": [
           {
            "automargin": true,
            "type": "pie"
           }
          ],
          "scatter": [
           {
            "marker": {
             "colorbar": {
              "outlinewidth": 0,
              "ticks": ""
             }
            },
            "type": "scatter"
           }
          ],
          "scatter3d": [
           {
            "line": {
             "colorbar": {
              "outlinewidth": 0,
              "ticks": ""
             }
            },
            "marker": {
             "colorbar": {
              "outlinewidth": 0,
              "ticks": ""
             }
            },
            "type": "scatter3d"
           }
          ],
          "scattercarpet": [
           {
            "marker": {
             "colorbar": {
              "outlinewidth": 0,
              "ticks": ""
             }
            },
            "type": "scattercarpet"
           }
          ],
          "scattergeo": [
           {
            "marker": {
             "colorbar": {
              "outlinewidth": 0,
              "ticks": ""
             }
            },
            "type": "scattergeo"
           }
          ],
          "scattergl": [
           {
            "marker": {
             "colorbar": {
              "outlinewidth": 0,
              "ticks": ""
             }
            },
            "type": "scattergl"
           }
          ],
          "scattermapbox": [
           {
            "marker": {
             "colorbar": {
              "outlinewidth": 0,
              "ticks": ""
             }
            },
            "type": "scattermapbox"
           }
          ],
          "scatterpolar": [
           {
            "marker": {
             "colorbar": {
              "outlinewidth": 0,
              "ticks": ""
             }
            },
            "type": "scatterpolar"
           }
          ],
          "scatterpolargl": [
           {
            "marker": {
             "colorbar": {
              "outlinewidth": 0,
              "ticks": ""
             }
            },
            "type": "scatterpolargl"
           }
          ],
          "scatterternary": [
           {
            "marker": {
             "colorbar": {
              "outlinewidth": 0,
              "ticks": ""
             }
            },
            "type": "scatterternary"
           }
          ],
          "surface": [
           {
            "colorbar": {
             "outlinewidth": 0,
             "ticks": ""
            },
            "colorscale": [
             [
              0,
              "#0d0887"
             ],
             [
              0.1111111111111111,
              "#46039f"
             ],
             [
              0.2222222222222222,
              "#7201a8"
             ],
             [
              0.3333333333333333,
              "#9c179e"
             ],
             [
              0.4444444444444444,
              "#bd3786"
             ],
             [
              0.5555555555555556,
              "#d8576b"
             ],
             [
              0.6666666666666666,
              "#ed7953"
             ],
             [
              0.7777777777777778,
              "#fb9f3a"
             ],
             [
              0.8888888888888888,
              "#fdca26"
             ],
             [
              1,
              "#f0f921"
             ]
            ],
            "type": "surface"
           }
          ],
          "table": [
           {
            "cells": {
             "fill": {
              "color": "#EBF0F8"
             },
             "line": {
              "color": "white"
             }
            },
            "header": {
             "fill": {
              "color": "#C8D4E3"
             },
             "line": {
              "color": "white"
             }
            },
            "type": "table"
           }
          ]
         },
         "layout": {
          "annotationdefaults": {
           "arrowcolor": "#2a3f5f",
           "arrowhead": 0,
           "arrowwidth": 1
          },
          "coloraxis": {
           "colorbar": {
            "outlinewidth": 0,
            "ticks": ""
           }
          },
          "colorscale": {
           "diverging": [
            [
             0,
             "#8e0152"
            ],
            [
             0.1,
             "#c51b7d"
            ],
            [
             0.2,
             "#de77ae"
            ],
            [
             0.3,
             "#f1b6da"
            ],
            [
             0.4,
             "#fde0ef"
            ],
            [
             0.5,
             "#f7f7f7"
            ],
            [
             0.6,
             "#e6f5d0"
            ],
            [
             0.7,
             "#b8e186"
            ],
            [
             0.8,
             "#7fbc41"
            ],
            [
             0.9,
             "#4d9221"
            ],
            [
             1,
             "#276419"
            ]
           ],
           "sequential": [
            [
             0,
             "#0d0887"
            ],
            [
             0.1111111111111111,
             "#46039f"
            ],
            [
             0.2222222222222222,
             "#7201a8"
            ],
            [
             0.3333333333333333,
             "#9c179e"
            ],
            [
             0.4444444444444444,
             "#bd3786"
            ],
            [
             0.5555555555555556,
             "#d8576b"
            ],
            [
             0.6666666666666666,
             "#ed7953"
            ],
            [
             0.7777777777777778,
             "#fb9f3a"
            ],
            [
             0.8888888888888888,
             "#fdca26"
            ],
            [
             1,
             "#f0f921"
            ]
           ],
           "sequentialminus": [
            [
             0,
             "#0d0887"
            ],
            [
             0.1111111111111111,
             "#46039f"
            ],
            [
             0.2222222222222222,
             "#7201a8"
            ],
            [
             0.3333333333333333,
             "#9c179e"
            ],
            [
             0.4444444444444444,
             "#bd3786"
            ],
            [
             0.5555555555555556,
             "#d8576b"
            ],
            [
             0.6666666666666666,
             "#ed7953"
            ],
            [
             0.7777777777777778,
             "#fb9f3a"
            ],
            [
             0.8888888888888888,
             "#fdca26"
            ],
            [
             1,
             "#f0f921"
            ]
           ]
          },
          "colorway": [
           "#636efa",
           "#EF553B",
           "#00cc96",
           "#ab63fa",
           "#FFA15A",
           "#19d3f3",
           "#FF6692",
           "#B6E880",
           "#FF97FF",
           "#FECB52"
          ],
          "font": {
           "color": "#2a3f5f"
          },
          "geo": {
           "bgcolor": "white",
           "lakecolor": "white",
           "landcolor": "#E5ECF6",
           "showlakes": true,
           "showland": true,
           "subunitcolor": "white"
          },
          "hoverlabel": {
           "align": "left"
          },
          "hovermode": "closest",
          "mapbox": {
           "style": "light"
          },
          "paper_bgcolor": "white",
          "plot_bgcolor": "#E5ECF6",
          "polar": {
           "angularaxis": {
            "gridcolor": "white",
            "linecolor": "white",
            "ticks": ""
           },
           "bgcolor": "#E5ECF6",
           "radialaxis": {
            "gridcolor": "white",
            "linecolor": "white",
            "ticks": ""
           }
          },
          "scene": {
           "xaxis": {
            "backgroundcolor": "#E5ECF6",
            "gridcolor": "white",
            "gridwidth": 2,
            "linecolor": "white",
            "showbackground": true,
            "ticks": "",
            "zerolinecolor": "white"
           },
           "yaxis": {
            "backgroundcolor": "#E5ECF6",
            "gridcolor": "white",
            "gridwidth": 2,
            "linecolor": "white",
            "showbackground": true,
            "ticks": "",
            "zerolinecolor": "white"
           },
           "zaxis": {
            "backgroundcolor": "#E5ECF6",
            "gridcolor": "white",
            "gridwidth": 2,
            "linecolor": "white",
            "showbackground": true,
            "ticks": "",
            "zerolinecolor": "white"
           }
          },
          "shapedefaults": {
           "line": {
            "color": "#2a3f5f"
           }
          },
          "ternary": {
           "aaxis": {
            "gridcolor": "white",
            "linecolor": "white",
            "ticks": ""
           },
           "baxis": {
            "gridcolor": "white",
            "linecolor": "white",
            "ticks": ""
           },
           "bgcolor": "#E5ECF6",
           "caxis": {
            "gridcolor": "white",
            "linecolor": "white",
            "ticks": ""
           }
          },
          "title": {
           "x": 0.05
          },
          "xaxis": {
           "automargin": true,
           "gridcolor": "white",
           "linecolor": "white",
           "ticks": "",
           "title": {
            "standoff": 15
           },
           "zerolinecolor": "white",
           "zerolinewidth": 2
          },
          "yaxis": {
           "automargin": true,
           "gridcolor": "white",
           "linecolor": "white",
           "ticks": "",
           "title": {
            "standoff": 15
           },
           "zerolinecolor": "white",
           "zerolinewidth": 2
          }
         }
        },
        "title": {
         "text": "ESCENARIO B : Actual >= Consensus < Previous"
        },
        "xaxis": {
         "anchor": "y",
         "domain": [
          0,
          0.45
         ],
         "title": {
          "text": "Fecha"
         }
        },
        "xaxis2": {
         "anchor": "y2",
         "domain": [
          0.55,
          1
         ],
         "title": {
          "text": "Fecha"
         }
        },
        "xaxis3": {
         "anchor": "y3",
         "domain": [
          0,
          0.45
         ],
         "title": {
          "text": "Fecha"
         }
        },
        "xaxis4": {
         "anchor": "y4",
         "domain": [
          0.55,
          1
         ],
         "title": {
          "text": "Fecha"
         }
        },
        "yaxis": {
         "anchor": "x",
         "domain": [
          0.625,
          1
         ],
         "title": {
          "text": "Valor"
         }
        },
        "yaxis2": {
         "anchor": "x2",
         "domain": [
          0.625,
          1
         ],
         "title": {
          "text": "Valor"
         }
        },
        "yaxis3": {
         "anchor": "x3",
         "domain": [
          0,
          0.375
         ],
         "title": {
          "text": "Valor"
         }
        },
        "yaxis4": {
         "anchor": "x4",
         "domain": [
          0,
          0.375
         ],
         "title": {
          "text": "Valor"
         }
        }
       }
      },
      "text/html": [
       "<div>\n",
       "        \n",
       "        \n",
       "            <div id=\"11a39438-5c53-4b4b-aee2-5549e03b7ce2\" class=\"plotly-graph-div\" style=\"height:700px; width:100%;\"></div>\n",
       "            <script type=\"text/javascript\">\n",
       "                require([\"plotly\"], function(Plotly) {\n",
       "                    window.PLOTLYENV=window.PLOTLYENV || {};\n",
       "                    \n",
       "                if (document.getElementById(\"11a39438-5c53-4b4b-aee2-5549e03b7ce2\")) {\n",
       "                    Plotly.newPlot(\n",
       "                        '11a39438-5c53-4b4b-aee2-5549e03b7ce2',\n",
       "                        [{\"type\": \"scatter\", \"x\": [\"2011-08-05T06:45:00+00:00\", \"2011-09-08T06:45:00+00:00\", \"2012-01-09T07:45:00+00:00\", \"2012-02-07T07:45:00+00:00\", \"2012-06-08T06:45:00+00:00\", \"2012-10-09T06:45:00+00:00\", \"2013-01-08T07:45:00+00:00\", \"2014-03-07T07:45:00+00:00\", \"2014-06-06T06:45:00+00:00\", \"2014-11-07T07:45:00+00:00\", \"2014-12-09T07:45:00+00:00\", \"2015-01-09T07:45:00+00:00\", \"2015-02-06T07:45:00+00:00\", \"2015-04-08T06:45:00+00:00\", \"2015-10-07T06:45:00+00:00\", \"2016-03-08T07:45:00+00:00\", \"2016-08-05T06:45:00+00:00\", \"2017-02-07T07:45:00+00:00\", \"2017-06-08T06:45:00+00:00\", \"2017-08-08T06:45:00+00:00\", \"2017-11-08T07:45:00+00:00\", \"2018-06-07T06:45:00+00:00\", \"2018-11-08T07:45:00+00:00\", \"2018-12-07T07:45:00+00:00\", \"2019-01-08T07:45:00+00:00\", \"2019-03-08T07:45:00+00:00\", \"2019-04-05T06:45:00+00:00\"], \"xaxis\": \"x\", \"y\": [0.003149999999999986, 0.00042000000000008697, 0.00029999999999996696, -0.0017700000000002714, -1.999999999990898e-05, -0.0012300000000002864, -0.0002700000000002145, 0.0005500000000000504, -0.0009500000000000064, 0.0010300000000000864, 0.0022899999999999032, 0.0019000000000000128, -0.00025999999999992696, 0.0031399999999999206, -0.002409999999999801, -0.000320000000000098, -0.00035999999999991594, -0.0027800000000000047, 0.00017000000000000348, -0.00013000000000018552, 0.0007600000000000939, 0.0013600000000000279, 0.0006900000000000794, -0.00048000000000003595, -0.00036999999999998145, 3.999999999981796e-05, -0.0007600000000000939], \"yaxis\": \"y\"}, {\"type\": \"scatter\", \"x\": [\"2011-08-05T06:45:00+00:00\", \"2011-09-08T06:45:00+00:00\", \"2012-01-09T07:45:00+00:00\", \"2012-02-07T07:45:00+00:00\", \"2012-06-08T06:45:00+00:00\", \"2012-10-09T06:45:00+00:00\", \"2013-01-08T07:45:00+00:00\", \"2014-03-07T07:45:00+00:00\", \"2014-06-06T06:45:00+00:00\", \"2014-11-07T07:45:00+00:00\", \"2014-12-09T07:45:00+00:00\", \"2015-01-09T07:45:00+00:00\", \"2015-02-06T07:45:00+00:00\", \"2015-04-08T06:45:00+00:00\", \"2015-10-07T06:45:00+00:00\", \"2016-03-08T07:45:00+00:00\", \"2016-08-05T06:45:00+00:00\", \"2017-02-07T07:45:00+00:00\", \"2017-06-08T06:45:00+00:00\", \"2017-08-08T06:45:00+00:00\", \"2017-11-08T07:45:00+00:00\", \"2018-06-07T06:45:00+00:00\", \"2018-11-08T07:45:00+00:00\", \"2018-12-07T07:45:00+00:00\", \"2019-01-08T07:45:00+00:00\", \"2019-03-08T07:45:00+00:00\", \"2019-04-05T06:45:00+00:00\"], \"xaxis\": \"x2\", \"y\": [0.006739999999999968, 0.0017400000000002969, 0.0017000000000000348, 0.0011099999999999444, 0.001100000000000101, 0.00012999999999974143, 0.0005500000000000504, 0.0009500000000000064, 0.00015999999999993797, 0.0013500000000001844, 0.0034600000000000186, 0.0021800000000000708, 0.0002900000000001235, 0.0035799999999999166, 8.000000000030205e-05, 0.0012900000000000134, 0.00045999999999990493, 0.00014999999999987246, 0.00032999999999994145, 0.0006299999999999084, 0.0014400000000001079, 0.0016000000000000458, 0.0012300000000000644, 0.00024999999999986144, 0.0008099999999999774, 0.0007399999999999629, 0.00011999999999989797], \"yaxis\": \"y2\"}, {\"type\": \"scatter\", \"x\": [\"2011-08-05T06:45:00+00:00\", \"2011-09-08T06:45:00+00:00\", \"2012-01-09T07:45:00+00:00\", \"2012-02-07T07:45:00+00:00\", \"2012-06-08T06:45:00+00:00\", \"2012-10-09T06:45:00+00:00\", \"2013-01-08T07:45:00+00:00\", \"2014-03-07T07:45:00+00:00\", \"2014-06-06T06:45:00+00:00\", \"2014-11-07T07:45:00+00:00\", \"2014-12-09T07:45:00+00:00\", \"2015-01-09T07:45:00+00:00\", \"2015-02-06T07:45:00+00:00\", \"2015-04-08T06:45:00+00:00\", \"2015-10-07T06:45:00+00:00\", \"2016-03-08T07:45:00+00:00\", \"2016-08-05T06:45:00+00:00\", \"2017-02-07T07:45:00+00:00\", \"2017-06-08T06:45:00+00:00\", \"2017-08-08T06:45:00+00:00\", \"2017-11-08T07:45:00+00:00\", \"2018-06-07T06:45:00+00:00\", \"2018-11-08T07:45:00+00:00\", \"2018-12-07T07:45:00+00:00\", \"2019-01-08T07:45:00+00:00\", \"2019-03-08T07:45:00+00:00\", \"2019-04-05T06:45:00+00:00\"], \"xaxis\": \"x3\", \"y\": [5.999999999994898e-05, 0.0004999999999999449, 0.0007399999999999629, 0.0020500000000001073, 0.0006399999999999739, 0.0012300000000002864, 0.0012600000000000389, 5.999999999972694e-05, 0.0010499999999999954, 0.0005100000000000104, 0.00042999999999993044, 1.999999999990898e-05, 0.0015600000000000058, 0.00012999999999996348, 0.003229999999999844, 0.00041000000000002146, 0.0007200000000000539, 0.002930000000000099, 0.0007899999999998464, 0.00038000000000004697, 0.0005399999999999849, 0.0, 0.00025999999999992696, 0.0005999999999999339, 0.0006900000000000794, 0.00048000000000003595, 0.0008000000000001339], \"yaxis\": \"y3\"}, {\"type\": \"scatter\", \"x\": [\"2011-08-05T06:45:00+00:00\", \"2011-09-08T06:45:00+00:00\", \"2012-01-09T07:45:00+00:00\", \"2012-02-07T07:45:00+00:00\", \"2012-06-08T06:45:00+00:00\", \"2012-10-09T06:45:00+00:00\", \"2013-01-08T07:45:00+00:00\", \"2014-03-07T07:45:00+00:00\", \"2014-06-06T06:45:00+00:00\", \"2014-11-07T07:45:00+00:00\", \"2014-12-09T07:45:00+00:00\", \"2015-01-09T07:45:00+00:00\", \"2015-02-06T07:45:00+00:00\", \"2015-04-08T06:45:00+00:00\", \"2015-10-07T06:45:00+00:00\", \"2016-03-08T07:45:00+00:00\", \"2016-08-05T06:45:00+00:00\", \"2017-02-07T07:45:00+00:00\", \"2017-06-08T06:45:00+00:00\", \"2017-08-08T06:45:00+00:00\", \"2017-11-08T07:45:00+00:00\", \"2018-06-07T06:45:00+00:00\", \"2018-11-08T07:45:00+00:00\", \"2018-12-07T07:45:00+00:00\", \"2019-01-08T07:45:00+00:00\", \"2019-03-08T07:45:00+00:00\", \"2019-04-05T06:45:00+00:00\"], \"xaxis\": \"x4\", \"y\": [0.007639999999999869, 0.0026200000000000667, 0.0037399999999998546, 0.004689999999999861, 0.0025600000000001177, 0.0019900000000001583, 0.0018100000000000893, 0.0016499999999999293, 0.0013099999999999223, 0.0020000000000000018, 0.004690000000000083, 0.0022199999999998887, 0.0018500000000001293, 0.0037199999999999456, 0.0035199999999999676, 0.0023200000000000998, 0.0011799999999999589, 0.003710000000000102, 0.0015799999999999148, 0.001100000000000101, 0.002080000000000082, 0.0027000000000001467, 0.0027800000000000047, 0.0012900000000000134, 0.0019400000000000528, 0.0015000000000000568, 0.001140000000000141], \"yaxis\": \"y4\"}],\n",
       "                        {\"annotations\": [{\"font\": {\"size\": 16}, \"showarrow\": false, \"text\": \"Direcci\\u00f3n\", \"x\": 0.225, \"xanchor\": \"center\", \"xref\": \"paper\", \"y\": 1.0, \"yanchor\": \"bottom\", \"yref\": \"paper\"}, {\"font\": {\"size\": 16}, \"showarrow\": false, \"text\": \"Pips Alcistas\", \"x\": 0.775, \"xanchor\": \"center\", \"xref\": \"paper\", \"y\": 1.0, \"yanchor\": \"bottom\", \"yref\": \"paper\"}, {\"font\": {\"size\": 16}, \"showarrow\": false, \"text\": \"Pips Bajistas\", \"x\": 0.225, \"xanchor\": \"center\", \"xref\": \"paper\", \"y\": 0.375, \"yanchor\": \"bottom\", \"yref\": \"paper\"}, {\"font\": {\"size\": 16}, \"showarrow\": false, \"text\": \"Volatilidad\", \"x\": 0.775, \"xanchor\": \"center\", \"xref\": \"paper\", \"y\": 0.375, \"yanchor\": \"bottom\", \"yref\": \"paper\"}], \"height\": 700, \"showlegend\": false, \"template\": {\"data\": {\"bar\": [{\"error_x\": {\"color\": \"#2a3f5f\"}, \"error_y\": {\"color\": \"#2a3f5f\"}, \"marker\": {\"line\": {\"color\": \"#E5ECF6\", \"width\": 0.5}}, \"type\": \"bar\"}], \"barpolar\": [{\"marker\": {\"line\": {\"color\": \"#E5ECF6\", \"width\": 0.5}}, \"type\": \"barpolar\"}], \"carpet\": [{\"aaxis\": {\"endlinecolor\": \"#2a3f5f\", \"gridcolor\": \"white\", \"linecolor\": \"white\", \"minorgridcolor\": \"white\", \"startlinecolor\": \"#2a3f5f\"}, \"baxis\": {\"endlinecolor\": \"#2a3f5f\", \"gridcolor\": \"white\", \"linecolor\": \"white\", \"minorgridcolor\": \"white\", \"startlinecolor\": \"#2a3f5f\"}, \"type\": \"carpet\"}], \"choropleth\": [{\"colorbar\": {\"outlinewidth\": 0, \"ticks\": \"\"}, \"type\": \"choropleth\"}], \"contour\": [{\"colorbar\": {\"outlinewidth\": 0, \"ticks\": \"\"}, \"colorscale\": [[0.0, \"#0d0887\"], [0.1111111111111111, \"#46039f\"], [0.2222222222222222, \"#7201a8\"], [0.3333333333333333, \"#9c179e\"], [0.4444444444444444, \"#bd3786\"], [0.5555555555555556, \"#d8576b\"], [0.6666666666666666, \"#ed7953\"], [0.7777777777777778, \"#fb9f3a\"], [0.8888888888888888, \"#fdca26\"], [1.0, \"#f0f921\"]], \"type\": \"contour\"}], \"contourcarpet\": [{\"colorbar\": {\"outlinewidth\": 0, \"ticks\": \"\"}, \"type\": \"contourcarpet\"}], \"heatmap\": [{\"colorbar\": {\"outlinewidth\": 0, \"ticks\": \"\"}, \"colorscale\": [[0.0, \"#0d0887\"], [0.1111111111111111, \"#46039f\"], [0.2222222222222222, \"#7201a8\"], [0.3333333333333333, \"#9c179e\"], [0.4444444444444444, \"#bd3786\"], [0.5555555555555556, \"#d8576b\"], [0.6666666666666666, \"#ed7953\"], [0.7777777777777778, \"#fb9f3a\"], [0.8888888888888888, \"#fdca26\"], [1.0, \"#f0f921\"]], \"type\": \"heatmap\"}], \"heatmapgl\": [{\"colorbar\": {\"outlinewidth\": 0, \"ticks\": \"\"}, \"colorscale\": [[0.0, \"#0d0887\"], [0.1111111111111111, \"#46039f\"], [0.2222222222222222, \"#7201a8\"], [0.3333333333333333, \"#9c179e\"], [0.4444444444444444, \"#bd3786\"], [0.5555555555555556, \"#d8576b\"], [0.6666666666666666, \"#ed7953\"], [0.7777777777777778, \"#fb9f3a\"], [0.8888888888888888, \"#fdca26\"], [1.0, \"#f0f921\"]], \"type\": \"heatmapgl\"}], \"histogram\": [{\"marker\": {\"colorbar\": {\"outlinewidth\": 0, \"ticks\": \"\"}}, \"type\": \"histogram\"}], \"histogram2d\": [{\"colorbar\": {\"outlinewidth\": 0, \"ticks\": \"\"}, \"colorscale\": [[0.0, \"#0d0887\"], [0.1111111111111111, \"#46039f\"], [0.2222222222222222, \"#7201a8\"], [0.3333333333333333, \"#9c179e\"], [0.4444444444444444, \"#bd3786\"], [0.5555555555555556, \"#d8576b\"], [0.6666666666666666, \"#ed7953\"], [0.7777777777777778, \"#fb9f3a\"], [0.8888888888888888, \"#fdca26\"], [1.0, \"#f0f921\"]], \"type\": \"histogram2d\"}], \"histogram2dcontour\": [{\"colorbar\": {\"outlinewidth\": 0, \"ticks\": \"\"}, \"colorscale\": [[0.0, \"#0d0887\"], [0.1111111111111111, \"#46039f\"], [0.2222222222222222, \"#7201a8\"], [0.3333333333333333, \"#9c179e\"], [0.4444444444444444, \"#bd3786\"], [0.5555555555555556, \"#d8576b\"], [0.6666666666666666, \"#ed7953\"], [0.7777777777777778, \"#fb9f3a\"], [0.8888888888888888, \"#fdca26\"], [1.0, \"#f0f921\"]], \"type\": \"histogram2dcontour\"}], \"mesh3d\": [{\"colorbar\": {\"outlinewidth\": 0, \"ticks\": \"\"}, \"type\": \"mesh3d\"}], \"parcoords\": [{\"line\": {\"colorbar\": {\"outlinewidth\": 0, \"ticks\": \"\"}}, \"type\": \"parcoords\"}], \"pie\": [{\"automargin\": true, \"type\": \"pie\"}], \"scatter\": [{\"marker\": {\"colorbar\": {\"outlinewidth\": 0, \"ticks\": \"\"}}, \"type\": \"scatter\"}], \"scatter3d\": [{\"line\": {\"colorbar\": {\"outlinewidth\": 0, \"ticks\": \"\"}}, \"marker\": {\"colorbar\": {\"outlinewidth\": 0, \"ticks\": \"\"}}, \"type\": \"scatter3d\"}], \"scattercarpet\": [{\"marker\": {\"colorbar\": {\"outlinewidth\": 0, \"ticks\": \"\"}}, \"type\": \"scattercarpet\"}], \"scattergeo\": [{\"marker\": {\"colorbar\": {\"outlinewidth\": 0, \"ticks\": \"\"}}, \"type\": \"scattergeo\"}], \"scattergl\": [{\"marker\": {\"colorbar\": {\"outlinewidth\": 0, \"ticks\": \"\"}}, \"type\": \"scattergl\"}], \"scattermapbox\": [{\"marker\": {\"colorbar\": {\"outlinewidth\": 0, \"ticks\": \"\"}}, \"type\": \"scattermapbox\"}], \"scatterpolar\": [{\"marker\": {\"colorbar\": {\"outlinewidth\": 0, \"ticks\": \"\"}}, \"type\": \"scatterpolar\"}], \"scatterpolargl\": [{\"marker\": {\"colorbar\": {\"outlinewidth\": 0, \"ticks\": \"\"}}, \"type\": \"scatterpolargl\"}], \"scatterternary\": [{\"marker\": {\"colorbar\": {\"outlinewidth\": 0, \"ticks\": \"\"}}, \"type\": \"scatterternary\"}], \"surface\": [{\"colorbar\": {\"outlinewidth\": 0, \"ticks\": \"\"}, \"colorscale\": [[0.0, \"#0d0887\"], [0.1111111111111111, \"#46039f\"], [0.2222222222222222, \"#7201a8\"], [0.3333333333333333, \"#9c179e\"], [0.4444444444444444, \"#bd3786\"], [0.5555555555555556, \"#d8576b\"], [0.6666666666666666, \"#ed7953\"], [0.7777777777777778, \"#fb9f3a\"], [0.8888888888888888, \"#fdca26\"], [1.0, \"#f0f921\"]], \"type\": \"surface\"}], \"table\": [{\"cells\": {\"fill\": {\"color\": \"#EBF0F8\"}, \"line\": {\"color\": \"white\"}}, \"header\": {\"fill\": {\"color\": \"#C8D4E3\"}, \"line\": {\"color\": \"white\"}}, \"type\": \"table\"}]}, \"layout\": {\"annotationdefaults\": {\"arrowcolor\": \"#2a3f5f\", \"arrowhead\": 0, \"arrowwidth\": 1}, \"coloraxis\": {\"colorbar\": {\"outlinewidth\": 0, \"ticks\": \"\"}}, \"colorscale\": {\"diverging\": [[0, \"#8e0152\"], [0.1, \"#c51b7d\"], [0.2, \"#de77ae\"], [0.3, \"#f1b6da\"], [0.4, \"#fde0ef\"], [0.5, \"#f7f7f7\"], [0.6, \"#e6f5d0\"], [0.7, \"#b8e186\"], [0.8, \"#7fbc41\"], [0.9, \"#4d9221\"], [1, \"#276419\"]], \"sequential\": [[0.0, \"#0d0887\"], [0.1111111111111111, \"#46039f\"], [0.2222222222222222, \"#7201a8\"], [0.3333333333333333, \"#9c179e\"], [0.4444444444444444, \"#bd3786\"], [0.5555555555555556, \"#d8576b\"], [0.6666666666666666, \"#ed7953\"], [0.7777777777777778, \"#fb9f3a\"], [0.8888888888888888, \"#fdca26\"], [1.0, \"#f0f921\"]], \"sequentialminus\": [[0.0, \"#0d0887\"], [0.1111111111111111, \"#46039f\"], [0.2222222222222222, \"#7201a8\"], [0.3333333333333333, \"#9c179e\"], [0.4444444444444444, \"#bd3786\"], [0.5555555555555556, \"#d8576b\"], [0.6666666666666666, \"#ed7953\"], [0.7777777777777778, \"#fb9f3a\"], [0.8888888888888888, \"#fdca26\"], [1.0, \"#f0f921\"]]}, \"colorway\": [\"#636efa\", \"#EF553B\", \"#00cc96\", \"#ab63fa\", \"#FFA15A\", \"#19d3f3\", \"#FF6692\", \"#B6E880\", \"#FF97FF\", \"#FECB52\"], \"font\": {\"color\": \"#2a3f5f\"}, \"geo\": {\"bgcolor\": \"white\", \"lakecolor\": \"white\", \"landcolor\": \"#E5ECF6\", \"showlakes\": true, \"showland\": true, \"subunitcolor\": \"white\"}, \"hoverlabel\": {\"align\": \"left\"}, \"hovermode\": \"closest\", \"mapbox\": {\"style\": \"light\"}, \"paper_bgcolor\": \"white\", \"plot_bgcolor\": \"#E5ECF6\", \"polar\": {\"angularaxis\": {\"gridcolor\": \"white\", \"linecolor\": \"white\", \"ticks\": \"\"}, \"bgcolor\": \"#E5ECF6\", \"radialaxis\": {\"gridcolor\": \"white\", \"linecolor\": \"white\", \"ticks\": \"\"}}, \"scene\": {\"xaxis\": {\"backgroundcolor\": \"#E5ECF6\", \"gridcolor\": \"white\", \"gridwidth\": 2, \"linecolor\": \"white\", \"showbackground\": true, \"ticks\": \"\", \"zerolinecolor\": \"white\"}, \"yaxis\": {\"backgroundcolor\": \"#E5ECF6\", \"gridcolor\": \"white\", \"gridwidth\": 2, \"linecolor\": \"white\", \"showbackground\": true, \"ticks\": \"\", \"zerolinecolor\": \"white\"}, \"zaxis\": {\"backgroundcolor\": \"#E5ECF6\", \"gridcolor\": \"white\", \"gridwidth\": 2, \"linecolor\": \"white\", \"showbackground\": true, \"ticks\": \"\", \"zerolinecolor\": \"white\"}}, \"shapedefaults\": {\"line\": {\"color\": \"#2a3f5f\"}}, \"ternary\": {\"aaxis\": {\"gridcolor\": \"white\", \"linecolor\": \"white\", \"ticks\": \"\"}, \"baxis\": {\"gridcolor\": \"white\", \"linecolor\": \"white\", \"ticks\": \"\"}, \"bgcolor\": \"#E5ECF6\", \"caxis\": {\"gridcolor\": \"white\", \"linecolor\": \"white\", \"ticks\": \"\"}}, \"title\": {\"x\": 0.05}, \"xaxis\": {\"automargin\": true, \"gridcolor\": \"white\", \"linecolor\": \"white\", \"ticks\": \"\", \"title\": {\"standoff\": 15}, \"zerolinecolor\": \"white\", \"zerolinewidth\": 2}, \"yaxis\": {\"automargin\": true, \"gridcolor\": \"white\", \"linecolor\": \"white\", \"ticks\": \"\", \"title\": {\"standoff\": 15}, \"zerolinecolor\": \"white\", \"zerolinewidth\": 2}}}, \"title\": {\"text\": \"ESCENARIO B : Actual >= Consensus < Previous\"}, \"xaxis\": {\"anchor\": \"y\", \"domain\": [0.0, 0.45], \"title\": {\"text\": \"Fecha\"}}, \"xaxis2\": {\"anchor\": \"y2\", \"domain\": [0.55, 1.0], \"title\": {\"text\": \"Fecha\"}}, \"xaxis3\": {\"anchor\": \"y3\", \"domain\": [0.0, 0.45], \"title\": {\"text\": \"Fecha\"}}, \"xaxis4\": {\"anchor\": \"y4\", \"domain\": [0.55, 1.0], \"title\": {\"text\": \"Fecha\"}}, \"yaxis\": {\"anchor\": \"x\", \"domain\": [0.625, 1.0], \"title\": {\"text\": \"Valor\"}}, \"yaxis2\": {\"anchor\": \"x2\", \"domain\": [0.625, 1.0], \"title\": {\"text\": \"Valor\"}}, \"yaxis3\": {\"anchor\": \"x3\", \"domain\": [0.0, 0.375], \"title\": {\"text\": \"Valor\"}}, \"yaxis4\": {\"anchor\": \"x4\", \"domain\": [0.0, 0.375], \"title\": {\"text\": \"Valor\"}}},\n",
       "                        {\"responsive\": true}\n",
       "                    ).then(function(){\n",
       "                            \n",
       "var gd = document.getElementById('11a39438-5c53-4b4b-aee2-5549e03b7ce2');\n",
       "var x = new MutationObserver(function (mutations, observer) {{\n",
       "        var display = window.getComputedStyle(gd).display;\n",
       "        if (!display || display === 'none') {{\n",
       "            console.log([gd, 'removed!']);\n",
       "            Plotly.purge(gd);\n",
       "            observer.disconnect();\n",
       "        }}\n",
       "}});\n",
       "\n",
       "// Listen for the removal of the full notebook cells\n",
       "var notebookContainer = gd.closest('#notebook-container');\n",
       "if (notebookContainer) {{\n",
       "    x.observe(notebookContainer, {childList: true});\n",
       "}}\n",
       "\n",
       "// Listen for the clearing of the current output cell\n",
       "var outputEl = gd.closest('.output');\n",
       "if (outputEl) {{\n",
       "    x.observe(outputEl, {childList: true});\n",
       "}}\n",
       "\n",
       "                        })\n",
       "                };\n",
       "                });\n",
       "            </script>\n",
       "        </div>"
      ]
     },
     "metadata": {},
     "output_type": "display_data"
    }
   ],
   "source": [
    "plotesc(EUR,Beur,\"ESCENARIO B : Actual >= Consensus < Previous\")"
   ]
  },
  {
   "cell_type": "code",
   "execution_count": 23,
   "metadata": {},
   "outputs": [
    {
     "data": {
      "application/vnd.plotly.v1+json": {
       "config": {
        "plotlyServerURL": "https://plot.ly"
       },
       "data": [
        {
         "type": "scatter",
         "x": [
          "2009-02-11T13:30:00+00:00",
          "2009-09-10T12:30:00+00:00",
          "2010-07-13T12:30:00+00:00",
          "2011-04-12T12:30:00+00:00",
          "2011-08-11T12:30:00+00:00",
          "2012-03-09T13:30:00+00:00",
          "2012-06-08T12:30:00+00:00",
          "2013-01-11T13:30:00+00:00",
          "2013-07-03T12:30:00+00:00",
          "2014-04-03T12:30:00+00:00",
          "2014-05-06T12:30:00+00:00",
          "2014-06-04T12:30:00+00:00",
          "2014-12-05T13:30:00+00:00",
          "2015-02-05T13:30:00+00:00",
          "2015-03-06T13:30:00+00:00",
          "2015-12-04T13:30:00+00:00",
          "2016-10-05T12:30:00+00:00",
          "2017-01-06T13:30:00+00:00",
          "2017-07-06T12:30:00+00:00",
          "2019-08-02T12:30:00+00:00",
          "2019-09-04T12:30:00+00:00"
         ],
         "xaxis": "x",
         "y": [
          0.0021399999999998087,
          0.0018599999999997507,
          0.00541999999999998,
          0.001980000000000315,
          0.002889999999999837,
          -0.006359999999999699,
          -0.00025999999999992696,
          0.0015199999999999658,
          -0.0015000000000000568,
          -0.0009199999999998099,
          -0.0007699999999999374,
          8.000000000008001e-05,
          -0.0051200000000002355,
          0.0028800000000002157,
          -0.008199999999999985,
          0.0006200000000000649,
          -5.0000000000105516e-05,
          -0.003929999999999989,
          -0.00046999999999997044,
          -0.0012800000000001699,
          -0.000140000000000029
         ],
         "yaxis": "y"
        },
        {
         "type": "scatter",
         "x": [
          "2009-02-11T13:30:00+00:00",
          "2009-09-10T12:30:00+00:00",
          "2010-07-13T12:30:00+00:00",
          "2011-04-12T12:30:00+00:00",
          "2011-08-11T12:30:00+00:00",
          "2012-03-09T13:30:00+00:00",
          "2012-06-08T12:30:00+00:00",
          "2013-01-11T13:30:00+00:00",
          "2013-07-03T12:30:00+00:00",
          "2014-04-03T12:30:00+00:00",
          "2014-05-06T12:30:00+00:00",
          "2014-06-04T12:30:00+00:00",
          "2014-12-05T13:30:00+00:00",
          "2015-02-05T13:30:00+00:00",
          "2015-03-06T13:30:00+00:00",
          "2015-12-04T13:30:00+00:00",
          "2016-10-05T12:30:00+00:00",
          "2017-01-06T13:30:00+00:00",
          "2017-07-06T12:30:00+00:00",
          "2019-08-02T12:30:00+00:00",
          "2019-09-04T12:30:00+00:00"
         ],
         "xaxis": "x2",
         "y": [
          0.005160000000000053,
          0.004959999999999853,
          0.005900000000000016,
          0.0024600000000001288,
          0.005069999999999908,
          0.0007200000000000539,
          0.0012400000000001299,
          0.0028200000000000447,
          0.0007699999999999374,
          0.0050200000000002465,
          0.00024000000000001798,
          0.0012499999999999734,
          0,
          0.004060000000000175,
          0.0010300000000000864,
          0.000920000000000254,
          0.0003799999999998249,
          0.003470000000000084,
          0.0003500000000000725,
          0.0006999999999999229,
          0.00018999999999991246
         ],
         "yaxis": "y2"
        },
        {
         "type": "scatter",
         "x": [
          "2009-02-11T13:30:00+00:00",
          "2009-09-10T12:30:00+00:00",
          "2010-07-13T12:30:00+00:00",
          "2011-04-12T12:30:00+00:00",
          "2011-08-11T12:30:00+00:00",
          "2012-03-09T13:30:00+00:00",
          "2012-06-08T12:30:00+00:00",
          "2013-01-11T13:30:00+00:00",
          "2013-07-03T12:30:00+00:00",
          "2014-04-03T12:30:00+00:00",
          "2014-05-06T12:30:00+00:00",
          "2014-06-04T12:30:00+00:00",
          "2014-12-05T13:30:00+00:00",
          "2015-02-05T13:30:00+00:00",
          "2015-03-06T13:30:00+00:00",
          "2015-12-04T13:30:00+00:00",
          "2016-10-05T12:30:00+00:00",
          "2017-01-06T13:30:00+00:00",
          "2017-07-06T12:30:00+00:00",
          "2019-08-02T12:30:00+00:00",
          "2019-09-04T12:30:00+00:00"
         ],
         "xaxis": "x3",
         "y": [
          0.000280000000000058,
          0.00024000000000024002,
          0.000140000000000029,
          0.0004199999999998649,
          0.0027200000000000557,
          0.00653999999999999,
          0.0015199999999997438,
          0.000140000000000029,
          0.0019400000000000528,
          0.0016699999999998383,
          0.0008699999999999264,
          0.000140000000000029,
          0.009100000000000108,
          0.0007099999999999884,
          0.01081999999999983,
          0.00649999999999995,
          0.0006300000000001305,
          0.005109999999999948,
          0.0006300000000001305,
          0.0021300000000001873,
          0.0007900000000000684
         ],
         "yaxis": "y3"
        },
        {
         "type": "scatter",
         "x": [
          "2009-02-11T13:30:00+00:00",
          "2009-09-10T12:30:00+00:00",
          "2010-07-13T12:30:00+00:00",
          "2011-04-12T12:30:00+00:00",
          "2011-08-11T12:30:00+00:00",
          "2012-03-09T13:30:00+00:00",
          "2012-06-08T12:30:00+00:00",
          "2013-01-11T13:30:00+00:00",
          "2013-07-03T12:30:00+00:00",
          "2014-04-03T12:30:00+00:00",
          "2014-05-06T12:30:00+00:00",
          "2014-06-04T12:30:00+00:00",
          "2014-12-05T13:30:00+00:00",
          "2015-02-05T13:30:00+00:00",
          "2015-03-06T13:30:00+00:00",
          "2015-12-04T13:30:00+00:00",
          "2016-10-05T12:30:00+00:00",
          "2017-01-06T13:30:00+00:00",
          "2017-07-06T12:30:00+00:00",
          "2019-08-02T12:30:00+00:00",
          "2019-09-04T12:30:00+00:00"
         ],
         "xaxis": "x4",
         "y": [
          0.008140000000000036,
          0.006380000000000052,
          0.006040000000000045,
          0.00541999999999998,
          0.007789999999999964,
          0.007340000000000124,
          0.0036399999999998656,
          0.00873999999999997,
          0.0041400000000000325,
          0.006690000000000085,
          0.0013600000000000279,
          0.0017899999999999583,
          0.009989999999999943,
          0.005400000000000071,
          0.011849999999999916,
          0.008690000000000087,
          0.0016300000000000203,
          0.008580000000000032,
          0.0018700000000002603,
          0.00287000000000015,
          0.0011099999999999444
         ],
         "yaxis": "y4"
        }
       ],
       "layout": {
        "annotations": [
         {
          "font": {
           "size": 16
          },
          "showarrow": false,
          "text": "Dirección",
          "x": 0.225,
          "xanchor": "center",
          "xref": "paper",
          "y": 1,
          "yanchor": "bottom",
          "yref": "paper"
         },
         {
          "font": {
           "size": 16
          },
          "showarrow": false,
          "text": "Pips Alcistas",
          "x": 0.775,
          "xanchor": "center",
          "xref": "paper",
          "y": 1,
          "yanchor": "bottom",
          "yref": "paper"
         },
         {
          "font": {
           "size": 16
          },
          "showarrow": false,
          "text": "Pips Bajistas",
          "x": 0.225,
          "xanchor": "center",
          "xref": "paper",
          "y": 0.375,
          "yanchor": "bottom",
          "yref": "paper"
         },
         {
          "font": {
           "size": 16
          },
          "showarrow": false,
          "text": "Volatilidad",
          "x": 0.775,
          "xanchor": "center",
          "xref": "paper",
          "y": 0.375,
          "yanchor": "bottom",
          "yref": "paper"
         }
        ],
        "height": 700,
        "showlegend": false,
        "template": {
         "data": {
          "bar": [
           {
            "error_x": {
             "color": "#2a3f5f"
            },
            "error_y": {
             "color": "#2a3f5f"
            },
            "marker": {
             "line": {
              "color": "#E5ECF6",
              "width": 0.5
             }
            },
            "type": "bar"
           }
          ],
          "barpolar": [
           {
            "marker": {
             "line": {
              "color": "#E5ECF6",
              "width": 0.5
             }
            },
            "type": "barpolar"
           }
          ],
          "carpet": [
           {
            "aaxis": {
             "endlinecolor": "#2a3f5f",
             "gridcolor": "white",
             "linecolor": "white",
             "minorgridcolor": "white",
             "startlinecolor": "#2a3f5f"
            },
            "baxis": {
             "endlinecolor": "#2a3f5f",
             "gridcolor": "white",
             "linecolor": "white",
             "minorgridcolor": "white",
             "startlinecolor": "#2a3f5f"
            },
            "type": "carpet"
           }
          ],
          "choropleth": [
           {
            "colorbar": {
             "outlinewidth": 0,
             "ticks": ""
            },
            "type": "choropleth"
           }
          ],
          "contour": [
           {
            "colorbar": {
             "outlinewidth": 0,
             "ticks": ""
            },
            "colorscale": [
             [
              0,
              "#0d0887"
             ],
             [
              0.1111111111111111,
              "#46039f"
             ],
             [
              0.2222222222222222,
              "#7201a8"
             ],
             [
              0.3333333333333333,
              "#9c179e"
             ],
             [
              0.4444444444444444,
              "#bd3786"
             ],
             [
              0.5555555555555556,
              "#d8576b"
             ],
             [
              0.6666666666666666,
              "#ed7953"
             ],
             [
              0.7777777777777778,
              "#fb9f3a"
             ],
             [
              0.8888888888888888,
              "#fdca26"
             ],
             [
              1,
              "#f0f921"
             ]
            ],
            "type": "contour"
           }
          ],
          "contourcarpet": [
           {
            "colorbar": {
             "outlinewidth": 0,
             "ticks": ""
            },
            "type": "contourcarpet"
           }
          ],
          "heatmap": [
           {
            "colorbar": {
             "outlinewidth": 0,
             "ticks": ""
            },
            "colorscale": [
             [
              0,
              "#0d0887"
             ],
             [
              0.1111111111111111,
              "#46039f"
             ],
             [
              0.2222222222222222,
              "#7201a8"
             ],
             [
              0.3333333333333333,
              "#9c179e"
             ],
             [
              0.4444444444444444,
              "#bd3786"
             ],
             [
              0.5555555555555556,
              "#d8576b"
             ],
             [
              0.6666666666666666,
              "#ed7953"
             ],
             [
              0.7777777777777778,
              "#fb9f3a"
             ],
             [
              0.8888888888888888,
              "#fdca26"
             ],
             [
              1,
              "#f0f921"
             ]
            ],
            "type": "heatmap"
           }
          ],
          "heatmapgl": [
           {
            "colorbar": {
             "outlinewidth": 0,
             "ticks": ""
            },
            "colorscale": [
             [
              0,
              "#0d0887"
             ],
             [
              0.1111111111111111,
              "#46039f"
             ],
             [
              0.2222222222222222,
              "#7201a8"
             ],
             [
              0.3333333333333333,
              "#9c179e"
             ],
             [
              0.4444444444444444,
              "#bd3786"
             ],
             [
              0.5555555555555556,
              "#d8576b"
             ],
             [
              0.6666666666666666,
              "#ed7953"
             ],
             [
              0.7777777777777778,
              "#fb9f3a"
             ],
             [
              0.8888888888888888,
              "#fdca26"
             ],
             [
              1,
              "#f0f921"
             ]
            ],
            "type": "heatmapgl"
           }
          ],
          "histogram": [
           {
            "marker": {
             "colorbar": {
              "outlinewidth": 0,
              "ticks": ""
             }
            },
            "type": "histogram"
           }
          ],
          "histogram2d": [
           {
            "colorbar": {
             "outlinewidth": 0,
             "ticks": ""
            },
            "colorscale": [
             [
              0,
              "#0d0887"
             ],
             [
              0.1111111111111111,
              "#46039f"
             ],
             [
              0.2222222222222222,
              "#7201a8"
             ],
             [
              0.3333333333333333,
              "#9c179e"
             ],
             [
              0.4444444444444444,
              "#bd3786"
             ],
             [
              0.5555555555555556,
              "#d8576b"
             ],
             [
              0.6666666666666666,
              "#ed7953"
             ],
             [
              0.7777777777777778,
              "#fb9f3a"
             ],
             [
              0.8888888888888888,
              "#fdca26"
             ],
             [
              1,
              "#f0f921"
             ]
            ],
            "type": "histogram2d"
           }
          ],
          "histogram2dcontour": [
           {
            "colorbar": {
             "outlinewidth": 0,
             "ticks": ""
            },
            "colorscale": [
             [
              0,
              "#0d0887"
             ],
             [
              0.1111111111111111,
              "#46039f"
             ],
             [
              0.2222222222222222,
              "#7201a8"
             ],
             [
              0.3333333333333333,
              "#9c179e"
             ],
             [
              0.4444444444444444,
              "#bd3786"
             ],
             [
              0.5555555555555556,
              "#d8576b"
             ],
             [
              0.6666666666666666,
              "#ed7953"
             ],
             [
              0.7777777777777778,
              "#fb9f3a"
             ],
             [
              0.8888888888888888,
              "#fdca26"
             ],
             [
              1,
              "#f0f921"
             ]
            ],
            "type": "histogram2dcontour"
           }
          ],
          "mesh3d": [
           {
            "colorbar": {
             "outlinewidth": 0,
             "ticks": ""
            },
            "type": "mesh3d"
           }
          ],
          "parcoords": [
           {
            "line": {
             "colorbar": {
              "outlinewidth": 0,
              "ticks": ""
             }
            },
            "type": "parcoords"
           }
          ],
          "pie": [
           {
            "automargin": true,
            "type": "pie"
           }
          ],
          "scatter": [
           {
            "marker": {
             "colorbar": {
              "outlinewidth": 0,
              "ticks": ""
             }
            },
            "type": "scatter"
           }
          ],
          "scatter3d": [
           {
            "line": {
             "colorbar": {
              "outlinewidth": 0,
              "ticks": ""
             }
            },
            "marker": {
             "colorbar": {
              "outlinewidth": 0,
              "ticks": ""
             }
            },
            "type": "scatter3d"
           }
          ],
          "scattercarpet": [
           {
            "marker": {
             "colorbar": {
              "outlinewidth": 0,
              "ticks": ""
             }
            },
            "type": "scattercarpet"
           }
          ],
          "scattergeo": [
           {
            "marker": {
             "colorbar": {
              "outlinewidth": 0,
              "ticks": ""
             }
            },
            "type": "scattergeo"
           }
          ],
          "scattergl": [
           {
            "marker": {
             "colorbar": {
              "outlinewidth": 0,
              "ticks": ""
             }
            },
            "type": "scattergl"
           }
          ],
          "scattermapbox": [
           {
            "marker": {
             "colorbar": {
              "outlinewidth": 0,
              "ticks": ""
             }
            },
            "type": "scattermapbox"
           }
          ],
          "scatterpolar": [
           {
            "marker": {
             "colorbar": {
              "outlinewidth": 0,
              "ticks": ""
             }
            },
            "type": "scatterpolar"
           }
          ],
          "scatterpolargl": [
           {
            "marker": {
             "colorbar": {
              "outlinewidth": 0,
              "ticks": ""
             }
            },
            "type": "scatterpolargl"
           }
          ],
          "scatterternary": [
           {
            "marker": {
             "colorbar": {
              "outlinewidth": 0,
              "ticks": ""
             }
            },
            "type": "scatterternary"
           }
          ],
          "surface": [
           {
            "colorbar": {
             "outlinewidth": 0,
             "ticks": ""
            },
            "colorscale": [
             [
              0,
              "#0d0887"
             ],
             [
              0.1111111111111111,
              "#46039f"
             ],
             [
              0.2222222222222222,
              "#7201a8"
             ],
             [
              0.3333333333333333,
              "#9c179e"
             ],
             [
              0.4444444444444444,
              "#bd3786"
             ],
             [
              0.5555555555555556,
              "#d8576b"
             ],
             [
              0.6666666666666666,
              "#ed7953"
             ],
             [
              0.7777777777777778,
              "#fb9f3a"
             ],
             [
              0.8888888888888888,
              "#fdca26"
             ],
             [
              1,
              "#f0f921"
             ]
            ],
            "type": "surface"
           }
          ],
          "table": [
           {
            "cells": {
             "fill": {
              "color": "#EBF0F8"
             },
             "line": {
              "color": "white"
             }
            },
            "header": {
             "fill": {
              "color": "#C8D4E3"
             },
             "line": {
              "color": "white"
             }
            },
            "type": "table"
           }
          ]
         },
         "layout": {
          "annotationdefaults": {
           "arrowcolor": "#2a3f5f",
           "arrowhead": 0,
           "arrowwidth": 1
          },
          "coloraxis": {
           "colorbar": {
            "outlinewidth": 0,
            "ticks": ""
           }
          },
          "colorscale": {
           "diverging": [
            [
             0,
             "#8e0152"
            ],
            [
             0.1,
             "#c51b7d"
            ],
            [
             0.2,
             "#de77ae"
            ],
            [
             0.3,
             "#f1b6da"
            ],
            [
             0.4,
             "#fde0ef"
            ],
            [
             0.5,
             "#f7f7f7"
            ],
            [
             0.6,
             "#e6f5d0"
            ],
            [
             0.7,
             "#b8e186"
            ],
            [
             0.8,
             "#7fbc41"
            ],
            [
             0.9,
             "#4d9221"
            ],
            [
             1,
             "#276419"
            ]
           ],
           "sequential": [
            [
             0,
             "#0d0887"
            ],
            [
             0.1111111111111111,
             "#46039f"
            ],
            [
             0.2222222222222222,
             "#7201a8"
            ],
            [
             0.3333333333333333,
             "#9c179e"
            ],
            [
             0.4444444444444444,
             "#bd3786"
            ],
            [
             0.5555555555555556,
             "#d8576b"
            ],
            [
             0.6666666666666666,
             "#ed7953"
            ],
            [
             0.7777777777777778,
             "#fb9f3a"
            ],
            [
             0.8888888888888888,
             "#fdca26"
            ],
            [
             1,
             "#f0f921"
            ]
           ],
           "sequentialminus": [
            [
             0,
             "#0d0887"
            ],
            [
             0.1111111111111111,
             "#46039f"
            ],
            [
             0.2222222222222222,
             "#7201a8"
            ],
            [
             0.3333333333333333,
             "#9c179e"
            ],
            [
             0.4444444444444444,
             "#bd3786"
            ],
            [
             0.5555555555555556,
             "#d8576b"
            ],
            [
             0.6666666666666666,
             "#ed7953"
            ],
            [
             0.7777777777777778,
             "#fb9f3a"
            ],
            [
             0.8888888888888888,
             "#fdca26"
            ],
            [
             1,
             "#f0f921"
            ]
           ]
          },
          "colorway": [
           "#636efa",
           "#EF553B",
           "#00cc96",
           "#ab63fa",
           "#FFA15A",
           "#19d3f3",
           "#FF6692",
           "#B6E880",
           "#FF97FF",
           "#FECB52"
          ],
          "font": {
           "color": "#2a3f5f"
          },
          "geo": {
           "bgcolor": "white",
           "lakecolor": "white",
           "landcolor": "#E5ECF6",
           "showlakes": true,
           "showland": true,
           "subunitcolor": "white"
          },
          "hoverlabel": {
           "align": "left"
          },
          "hovermode": "closest",
          "mapbox": {
           "style": "light"
          },
          "paper_bgcolor": "white",
          "plot_bgcolor": "#E5ECF6",
          "polar": {
           "angularaxis": {
            "gridcolor": "white",
            "linecolor": "white",
            "ticks": ""
           },
           "bgcolor": "#E5ECF6",
           "radialaxis": {
            "gridcolor": "white",
            "linecolor": "white",
            "ticks": ""
           }
          },
          "scene": {
           "xaxis": {
            "backgroundcolor": "#E5ECF6",
            "gridcolor": "white",
            "gridwidth": 2,
            "linecolor": "white",
            "showbackground": true,
            "ticks": "",
            "zerolinecolor": "white"
           },
           "yaxis": {
            "backgroundcolor": "#E5ECF6",
            "gridcolor": "white",
            "gridwidth": 2,
            "linecolor": "white",
            "showbackground": true,
            "ticks": "",
            "zerolinecolor": "white"
           },
           "zaxis": {
            "backgroundcolor": "#E5ECF6",
            "gridcolor": "white",
            "gridwidth": 2,
            "linecolor": "white",
            "showbackground": true,
            "ticks": "",
            "zerolinecolor": "white"
           }
          },
          "shapedefaults": {
           "line": {
            "color": "#2a3f5f"
           }
          },
          "ternary": {
           "aaxis": {
            "gridcolor": "white",
            "linecolor": "white",
            "ticks": ""
           },
           "baxis": {
            "gridcolor": "white",
            "linecolor": "white",
            "ticks": ""
           },
           "bgcolor": "#E5ECF6",
           "caxis": {
            "gridcolor": "white",
            "linecolor": "white",
            "ticks": ""
           }
          },
          "title": {
           "x": 0.05
          },
          "xaxis": {
           "automargin": true,
           "gridcolor": "white",
           "linecolor": "white",
           "ticks": "",
           "title": {
            "standoff": 15
           },
           "zerolinecolor": "white",
           "zerolinewidth": 2
          },
          "yaxis": {
           "automargin": true,
           "gridcolor": "white",
           "linecolor": "white",
           "ticks": "",
           "title": {
            "standoff": 15
           },
           "zerolinecolor": "white",
           "zerolinewidth": 2
          }
         }
        },
        "title": {
         "text": "ESCENARIO C : Actual < Consensus >= Previous"
        },
        "xaxis": {
         "anchor": "y",
         "domain": [
          0,
          0.45
         ],
         "title": {
          "text": "Fecha"
         }
        },
        "xaxis2": {
         "anchor": "y2",
         "domain": [
          0.55,
          1
         ],
         "title": {
          "text": "Fecha"
         }
        },
        "xaxis3": {
         "anchor": "y3",
         "domain": [
          0,
          0.45
         ],
         "title": {
          "text": "Fecha"
         }
        },
        "xaxis4": {
         "anchor": "y4",
         "domain": [
          0.55,
          1
         ],
         "title": {
          "text": "Fecha"
         }
        },
        "yaxis": {
         "anchor": "x",
         "domain": [
          0.625,
          1
         ],
         "title": {
          "text": "Valor"
         }
        },
        "yaxis2": {
         "anchor": "x2",
         "domain": [
          0.625,
          1
         ],
         "title": {
          "text": "Valor"
         }
        },
        "yaxis3": {
         "anchor": "x3",
         "domain": [
          0,
          0.375
         ],
         "title": {
          "text": "Valor"
         }
        },
        "yaxis4": {
         "anchor": "x4",
         "domain": [
          0,
          0.375
         ],
         "title": {
          "text": "Valor"
         }
        }
       }
      },
      "text/html": [
       "<div>\n",
       "        \n",
       "        \n",
       "            <div id=\"db4efcfc-2617-45dd-86a0-9a0afe302b7f\" class=\"plotly-graph-div\" style=\"height:700px; width:100%;\"></div>\n",
       "            <script type=\"text/javascript\">\n",
       "                require([\"plotly\"], function(Plotly) {\n",
       "                    window.PLOTLYENV=window.PLOTLYENV || {};\n",
       "                    \n",
       "                if (document.getElementById(\"db4efcfc-2617-45dd-86a0-9a0afe302b7f\")) {\n",
       "                    Plotly.newPlot(\n",
       "                        'db4efcfc-2617-45dd-86a0-9a0afe302b7f',\n",
       "                        [{\"type\": \"scatter\", \"x\": [\"2009-02-11T13:30:00+00:00\", \"2009-09-10T12:30:00+00:00\", \"2010-07-13T12:30:00+00:00\", \"2011-04-12T12:30:00+00:00\", \"2011-08-11T12:30:00+00:00\", \"2012-03-09T13:30:00+00:00\", \"2012-06-08T12:30:00+00:00\", \"2013-01-11T13:30:00+00:00\", \"2013-07-03T12:30:00+00:00\", \"2014-04-03T12:30:00+00:00\", \"2014-05-06T12:30:00+00:00\", \"2014-06-04T12:30:00+00:00\", \"2014-12-05T13:30:00+00:00\", \"2015-02-05T13:30:00+00:00\", \"2015-03-06T13:30:00+00:00\", \"2015-12-04T13:30:00+00:00\", \"2016-10-05T12:30:00+00:00\", \"2017-01-06T13:30:00+00:00\", \"2017-07-06T12:30:00+00:00\", \"2019-08-02T12:30:00+00:00\", \"2019-09-04T12:30:00+00:00\"], \"xaxis\": \"x\", \"y\": [0.0021399999999998087, 0.0018599999999997507, 0.00541999999999998, 0.001980000000000315, 0.002889999999999837, -0.006359999999999699, -0.00025999999999992696, 0.0015199999999999658, -0.0015000000000000568, -0.0009199999999998099, -0.0007699999999999374, 8.000000000008001e-05, -0.0051200000000002355, 0.0028800000000002157, -0.008199999999999985, 0.0006200000000000649, -5.0000000000105516e-05, -0.003929999999999989, -0.00046999999999997044, -0.0012800000000001699, -0.000140000000000029], \"yaxis\": \"y\"}, {\"type\": \"scatter\", \"x\": [\"2009-02-11T13:30:00+00:00\", \"2009-09-10T12:30:00+00:00\", \"2010-07-13T12:30:00+00:00\", \"2011-04-12T12:30:00+00:00\", \"2011-08-11T12:30:00+00:00\", \"2012-03-09T13:30:00+00:00\", \"2012-06-08T12:30:00+00:00\", \"2013-01-11T13:30:00+00:00\", \"2013-07-03T12:30:00+00:00\", \"2014-04-03T12:30:00+00:00\", \"2014-05-06T12:30:00+00:00\", \"2014-06-04T12:30:00+00:00\", \"2014-12-05T13:30:00+00:00\", \"2015-02-05T13:30:00+00:00\", \"2015-03-06T13:30:00+00:00\", \"2015-12-04T13:30:00+00:00\", \"2016-10-05T12:30:00+00:00\", \"2017-01-06T13:30:00+00:00\", \"2017-07-06T12:30:00+00:00\", \"2019-08-02T12:30:00+00:00\", \"2019-09-04T12:30:00+00:00\"], \"xaxis\": \"x2\", \"y\": [0.005160000000000053, 0.004959999999999853, 0.005900000000000016, 0.0024600000000001288, 0.005069999999999908, 0.0007200000000000539, 0.0012400000000001299, 0.0028200000000000447, 0.0007699999999999374, 0.0050200000000002465, 0.00024000000000001798, 0.0012499999999999734, 0.0, 0.004060000000000175, 0.0010300000000000864, 0.000920000000000254, 0.0003799999999998249, 0.003470000000000084, 0.0003500000000000725, 0.0006999999999999229, 0.00018999999999991246], \"yaxis\": \"y2\"}, {\"type\": \"scatter\", \"x\": [\"2009-02-11T13:30:00+00:00\", \"2009-09-10T12:30:00+00:00\", \"2010-07-13T12:30:00+00:00\", \"2011-04-12T12:30:00+00:00\", \"2011-08-11T12:30:00+00:00\", \"2012-03-09T13:30:00+00:00\", \"2012-06-08T12:30:00+00:00\", \"2013-01-11T13:30:00+00:00\", \"2013-07-03T12:30:00+00:00\", \"2014-04-03T12:30:00+00:00\", \"2014-05-06T12:30:00+00:00\", \"2014-06-04T12:30:00+00:00\", \"2014-12-05T13:30:00+00:00\", \"2015-02-05T13:30:00+00:00\", \"2015-03-06T13:30:00+00:00\", \"2015-12-04T13:30:00+00:00\", \"2016-10-05T12:30:00+00:00\", \"2017-01-06T13:30:00+00:00\", \"2017-07-06T12:30:00+00:00\", \"2019-08-02T12:30:00+00:00\", \"2019-09-04T12:30:00+00:00\"], \"xaxis\": \"x3\", \"y\": [0.000280000000000058, 0.00024000000000024002, 0.000140000000000029, 0.0004199999999998649, 0.0027200000000000557, 0.00653999999999999, 0.0015199999999997438, 0.000140000000000029, 0.0019400000000000528, 0.0016699999999998383, 0.0008699999999999264, 0.000140000000000029, 0.009100000000000108, 0.0007099999999999884, 0.01081999999999983, 0.00649999999999995, 0.0006300000000001305, 0.005109999999999948, 0.0006300000000001305, 0.0021300000000001873, 0.0007900000000000684], \"yaxis\": \"y3\"}, {\"type\": \"scatter\", \"x\": [\"2009-02-11T13:30:00+00:00\", \"2009-09-10T12:30:00+00:00\", \"2010-07-13T12:30:00+00:00\", \"2011-04-12T12:30:00+00:00\", \"2011-08-11T12:30:00+00:00\", \"2012-03-09T13:30:00+00:00\", \"2012-06-08T12:30:00+00:00\", \"2013-01-11T13:30:00+00:00\", \"2013-07-03T12:30:00+00:00\", \"2014-04-03T12:30:00+00:00\", \"2014-05-06T12:30:00+00:00\", \"2014-06-04T12:30:00+00:00\", \"2014-12-05T13:30:00+00:00\", \"2015-02-05T13:30:00+00:00\", \"2015-03-06T13:30:00+00:00\", \"2015-12-04T13:30:00+00:00\", \"2016-10-05T12:30:00+00:00\", \"2017-01-06T13:30:00+00:00\", \"2017-07-06T12:30:00+00:00\", \"2019-08-02T12:30:00+00:00\", \"2019-09-04T12:30:00+00:00\"], \"xaxis\": \"x4\", \"y\": [0.008140000000000036, 0.006380000000000052, 0.006040000000000045, 0.00541999999999998, 0.007789999999999964, 0.007340000000000124, 0.0036399999999998656, 0.00873999999999997, 0.0041400000000000325, 0.006690000000000085, 0.0013600000000000279, 0.0017899999999999583, 0.009989999999999943, 0.005400000000000071, 0.011849999999999916, 0.008690000000000087, 0.0016300000000000203, 0.008580000000000032, 0.0018700000000002603, 0.00287000000000015, 0.0011099999999999444], \"yaxis\": \"y4\"}],\n",
       "                        {\"annotations\": [{\"font\": {\"size\": 16}, \"showarrow\": false, \"text\": \"Direcci\\u00f3n\", \"x\": 0.225, \"xanchor\": \"center\", \"xref\": \"paper\", \"y\": 1.0, \"yanchor\": \"bottom\", \"yref\": \"paper\"}, {\"font\": {\"size\": 16}, \"showarrow\": false, \"text\": \"Pips Alcistas\", \"x\": 0.775, \"xanchor\": \"center\", \"xref\": \"paper\", \"y\": 1.0, \"yanchor\": \"bottom\", \"yref\": \"paper\"}, {\"font\": {\"size\": 16}, \"showarrow\": false, \"text\": \"Pips Bajistas\", \"x\": 0.225, \"xanchor\": \"center\", \"xref\": \"paper\", \"y\": 0.375, \"yanchor\": \"bottom\", \"yref\": \"paper\"}, {\"font\": {\"size\": 16}, \"showarrow\": false, \"text\": \"Volatilidad\", \"x\": 0.775, \"xanchor\": \"center\", \"xref\": \"paper\", \"y\": 0.375, \"yanchor\": \"bottom\", \"yref\": \"paper\"}], \"height\": 700, \"showlegend\": false, \"template\": {\"data\": {\"bar\": [{\"error_x\": {\"color\": \"#2a3f5f\"}, \"error_y\": {\"color\": \"#2a3f5f\"}, \"marker\": {\"line\": {\"color\": \"#E5ECF6\", \"width\": 0.5}}, \"type\": \"bar\"}], \"barpolar\": [{\"marker\": {\"line\": {\"color\": \"#E5ECF6\", \"width\": 0.5}}, \"type\": \"barpolar\"}], \"carpet\": [{\"aaxis\": {\"endlinecolor\": \"#2a3f5f\", \"gridcolor\": \"white\", \"linecolor\": \"white\", \"minorgridcolor\": \"white\", \"startlinecolor\": \"#2a3f5f\"}, \"baxis\": {\"endlinecolor\": \"#2a3f5f\", \"gridcolor\": \"white\", \"linecolor\": \"white\", \"minorgridcolor\": \"white\", \"startlinecolor\": \"#2a3f5f\"}, \"type\": \"carpet\"}], \"choropleth\": [{\"colorbar\": {\"outlinewidth\": 0, \"ticks\": \"\"}, \"type\": \"choropleth\"}], \"contour\": [{\"colorbar\": {\"outlinewidth\": 0, \"ticks\": \"\"}, \"colorscale\": [[0.0, \"#0d0887\"], [0.1111111111111111, \"#46039f\"], [0.2222222222222222, \"#7201a8\"], [0.3333333333333333, \"#9c179e\"], [0.4444444444444444, \"#bd3786\"], [0.5555555555555556, \"#d8576b\"], [0.6666666666666666, \"#ed7953\"], [0.7777777777777778, \"#fb9f3a\"], [0.8888888888888888, \"#fdca26\"], [1.0, \"#f0f921\"]], \"type\": \"contour\"}], \"contourcarpet\": [{\"colorbar\": {\"outlinewidth\": 0, \"ticks\": \"\"}, \"type\": \"contourcarpet\"}], \"heatmap\": [{\"colorbar\": {\"outlinewidth\": 0, \"ticks\": \"\"}, \"colorscale\": [[0.0, \"#0d0887\"], [0.1111111111111111, \"#46039f\"], [0.2222222222222222, \"#7201a8\"], [0.3333333333333333, \"#9c179e\"], [0.4444444444444444, \"#bd3786\"], [0.5555555555555556, \"#d8576b\"], [0.6666666666666666, \"#ed7953\"], [0.7777777777777778, \"#fb9f3a\"], [0.8888888888888888, \"#fdca26\"], [1.0, \"#f0f921\"]], \"type\": \"heatmap\"}], \"heatmapgl\": [{\"colorbar\": {\"outlinewidth\": 0, \"ticks\": \"\"}, \"colorscale\": [[0.0, \"#0d0887\"], [0.1111111111111111, \"#46039f\"], [0.2222222222222222, \"#7201a8\"], [0.3333333333333333, \"#9c179e\"], [0.4444444444444444, \"#bd3786\"], [0.5555555555555556, \"#d8576b\"], [0.6666666666666666, \"#ed7953\"], [0.7777777777777778, \"#fb9f3a\"], [0.8888888888888888, \"#fdca26\"], [1.0, \"#f0f921\"]], \"type\": \"heatmapgl\"}], \"histogram\": [{\"marker\": {\"colorbar\": {\"outlinewidth\": 0, \"ticks\": \"\"}}, \"type\": \"histogram\"}], \"histogram2d\": [{\"colorbar\": {\"outlinewidth\": 0, \"ticks\": \"\"}, \"colorscale\": [[0.0, \"#0d0887\"], [0.1111111111111111, \"#46039f\"], [0.2222222222222222, \"#7201a8\"], [0.3333333333333333, \"#9c179e\"], [0.4444444444444444, \"#bd3786\"], [0.5555555555555556, \"#d8576b\"], [0.6666666666666666, \"#ed7953\"], [0.7777777777777778, \"#fb9f3a\"], [0.8888888888888888, \"#fdca26\"], [1.0, \"#f0f921\"]], \"type\": \"histogram2d\"}], \"histogram2dcontour\": [{\"colorbar\": {\"outlinewidth\": 0, \"ticks\": \"\"}, \"colorscale\": [[0.0, \"#0d0887\"], [0.1111111111111111, \"#46039f\"], [0.2222222222222222, \"#7201a8\"], [0.3333333333333333, \"#9c179e\"], [0.4444444444444444, \"#bd3786\"], [0.5555555555555556, \"#d8576b\"], [0.6666666666666666, \"#ed7953\"], [0.7777777777777778, \"#fb9f3a\"], [0.8888888888888888, \"#fdca26\"], [1.0, \"#f0f921\"]], \"type\": \"histogram2dcontour\"}], \"mesh3d\": [{\"colorbar\": {\"outlinewidth\": 0, \"ticks\": \"\"}, \"type\": \"mesh3d\"}], \"parcoords\": [{\"line\": {\"colorbar\": {\"outlinewidth\": 0, \"ticks\": \"\"}}, \"type\": \"parcoords\"}], \"pie\": [{\"automargin\": true, \"type\": \"pie\"}], \"scatter\": [{\"marker\": {\"colorbar\": {\"outlinewidth\": 0, \"ticks\": \"\"}}, \"type\": \"scatter\"}], \"scatter3d\": [{\"line\": {\"colorbar\": {\"outlinewidth\": 0, \"ticks\": \"\"}}, \"marker\": {\"colorbar\": {\"outlinewidth\": 0, \"ticks\": \"\"}}, \"type\": \"scatter3d\"}], \"scattercarpet\": [{\"marker\": {\"colorbar\": {\"outlinewidth\": 0, \"ticks\": \"\"}}, \"type\": \"scattercarpet\"}], \"scattergeo\": [{\"marker\": {\"colorbar\": {\"outlinewidth\": 0, \"ticks\": \"\"}}, \"type\": \"scattergeo\"}], \"scattergl\": [{\"marker\": {\"colorbar\": {\"outlinewidth\": 0, \"ticks\": \"\"}}, \"type\": \"scattergl\"}], \"scattermapbox\": [{\"marker\": {\"colorbar\": {\"outlinewidth\": 0, \"ticks\": \"\"}}, \"type\": \"scattermapbox\"}], \"scatterpolar\": [{\"marker\": {\"colorbar\": {\"outlinewidth\": 0, \"ticks\": \"\"}}, \"type\": \"scatterpolar\"}], \"scatterpolargl\": [{\"marker\": {\"colorbar\": {\"outlinewidth\": 0, \"ticks\": \"\"}}, \"type\": \"scatterpolargl\"}], \"scatterternary\": [{\"marker\": {\"colorbar\": {\"outlinewidth\": 0, \"ticks\": \"\"}}, \"type\": \"scatterternary\"}], \"surface\": [{\"colorbar\": {\"outlinewidth\": 0, \"ticks\": \"\"}, \"colorscale\": [[0.0, \"#0d0887\"], [0.1111111111111111, \"#46039f\"], [0.2222222222222222, \"#7201a8\"], [0.3333333333333333, \"#9c179e\"], [0.4444444444444444, \"#bd3786\"], [0.5555555555555556, \"#d8576b\"], [0.6666666666666666, \"#ed7953\"], [0.7777777777777778, \"#fb9f3a\"], [0.8888888888888888, \"#fdca26\"], [1.0, \"#f0f921\"]], \"type\": \"surface\"}], \"table\": [{\"cells\": {\"fill\": {\"color\": \"#EBF0F8\"}, \"line\": {\"color\": \"white\"}}, \"header\": {\"fill\": {\"color\": \"#C8D4E3\"}, \"line\": {\"color\": \"white\"}}, \"type\": \"table\"}]}, \"layout\": {\"annotationdefaults\": {\"arrowcolor\": \"#2a3f5f\", \"arrowhead\": 0, \"arrowwidth\": 1}, \"coloraxis\": {\"colorbar\": {\"outlinewidth\": 0, \"ticks\": \"\"}}, \"colorscale\": {\"diverging\": [[0, \"#8e0152\"], [0.1, \"#c51b7d\"], [0.2, \"#de77ae\"], [0.3, \"#f1b6da\"], [0.4, \"#fde0ef\"], [0.5, \"#f7f7f7\"], [0.6, \"#e6f5d0\"], [0.7, \"#b8e186\"], [0.8, \"#7fbc41\"], [0.9, \"#4d9221\"], [1, \"#276419\"]], \"sequential\": [[0.0, \"#0d0887\"], [0.1111111111111111, \"#46039f\"], [0.2222222222222222, \"#7201a8\"], [0.3333333333333333, \"#9c179e\"], [0.4444444444444444, \"#bd3786\"], [0.5555555555555556, \"#d8576b\"], [0.6666666666666666, \"#ed7953\"], [0.7777777777777778, \"#fb9f3a\"], [0.8888888888888888, \"#fdca26\"], [1.0, \"#f0f921\"]], \"sequentialminus\": [[0.0, \"#0d0887\"], [0.1111111111111111, \"#46039f\"], [0.2222222222222222, \"#7201a8\"], [0.3333333333333333, \"#9c179e\"], [0.4444444444444444, \"#bd3786\"], [0.5555555555555556, \"#d8576b\"], [0.6666666666666666, \"#ed7953\"], [0.7777777777777778, \"#fb9f3a\"], [0.8888888888888888, \"#fdca26\"], [1.0, \"#f0f921\"]]}, \"colorway\": [\"#636efa\", \"#EF553B\", \"#00cc96\", \"#ab63fa\", \"#FFA15A\", \"#19d3f3\", \"#FF6692\", \"#B6E880\", \"#FF97FF\", \"#FECB52\"], \"font\": {\"color\": \"#2a3f5f\"}, \"geo\": {\"bgcolor\": \"white\", \"lakecolor\": \"white\", \"landcolor\": \"#E5ECF6\", \"showlakes\": true, \"showland\": true, \"subunitcolor\": \"white\"}, \"hoverlabel\": {\"align\": \"left\"}, \"hovermode\": \"closest\", \"mapbox\": {\"style\": \"light\"}, \"paper_bgcolor\": \"white\", \"plot_bgcolor\": \"#E5ECF6\", \"polar\": {\"angularaxis\": {\"gridcolor\": \"white\", \"linecolor\": \"white\", \"ticks\": \"\"}, \"bgcolor\": \"#E5ECF6\", \"radialaxis\": {\"gridcolor\": \"white\", \"linecolor\": \"white\", \"ticks\": \"\"}}, \"scene\": {\"xaxis\": {\"backgroundcolor\": \"#E5ECF6\", \"gridcolor\": \"white\", \"gridwidth\": 2, \"linecolor\": \"white\", \"showbackground\": true, \"ticks\": \"\", \"zerolinecolor\": \"white\"}, \"yaxis\": {\"backgroundcolor\": \"#E5ECF6\", \"gridcolor\": \"white\", \"gridwidth\": 2, \"linecolor\": \"white\", \"showbackground\": true, \"ticks\": \"\", \"zerolinecolor\": \"white\"}, \"zaxis\": {\"backgroundcolor\": \"#E5ECF6\", \"gridcolor\": \"white\", \"gridwidth\": 2, \"linecolor\": \"white\", \"showbackground\": true, \"ticks\": \"\", \"zerolinecolor\": \"white\"}}, \"shapedefaults\": {\"line\": {\"color\": \"#2a3f5f\"}}, \"ternary\": {\"aaxis\": {\"gridcolor\": \"white\", \"linecolor\": \"white\", \"ticks\": \"\"}, \"baxis\": {\"gridcolor\": \"white\", \"linecolor\": \"white\", \"ticks\": \"\"}, \"bgcolor\": \"#E5ECF6\", \"caxis\": {\"gridcolor\": \"white\", \"linecolor\": \"white\", \"ticks\": \"\"}}, \"title\": {\"x\": 0.05}, \"xaxis\": {\"automargin\": true, \"gridcolor\": \"white\", \"linecolor\": \"white\", \"ticks\": \"\", \"title\": {\"standoff\": 15}, \"zerolinecolor\": \"white\", \"zerolinewidth\": 2}, \"yaxis\": {\"automargin\": true, \"gridcolor\": \"white\", \"linecolor\": \"white\", \"ticks\": \"\", \"title\": {\"standoff\": 15}, \"zerolinecolor\": \"white\", \"zerolinewidth\": 2}}}, \"title\": {\"text\": \"ESCENARIO C : Actual < Consensus >= Previous\"}, \"xaxis\": {\"anchor\": \"y\", \"domain\": [0.0, 0.45], \"title\": {\"text\": \"Fecha\"}}, \"xaxis2\": {\"anchor\": \"y2\", \"domain\": [0.55, 1.0], \"title\": {\"text\": \"Fecha\"}}, \"xaxis3\": {\"anchor\": \"y3\", \"domain\": [0.0, 0.45], \"title\": {\"text\": \"Fecha\"}}, \"xaxis4\": {\"anchor\": \"y4\", \"domain\": [0.55, 1.0], \"title\": {\"text\": \"Fecha\"}}, \"yaxis\": {\"anchor\": \"x\", \"domain\": [0.625, 1.0], \"title\": {\"text\": \"Valor\"}}, \"yaxis2\": {\"anchor\": \"x2\", \"domain\": [0.625, 1.0], \"title\": {\"text\": \"Valor\"}}, \"yaxis3\": {\"anchor\": \"x3\", \"domain\": [0.0, 0.375], \"title\": {\"text\": \"Valor\"}}, \"yaxis4\": {\"anchor\": \"x4\", \"domain\": [0.0, 0.375], \"title\": {\"text\": \"Valor\"}}},\n",
       "                        {\"responsive\": true}\n",
       "                    ).then(function(){\n",
       "                            \n",
       "var gd = document.getElementById('db4efcfc-2617-45dd-86a0-9a0afe302b7f');\n",
       "var x = new MutationObserver(function (mutations, observer) {{\n",
       "        var display = window.getComputedStyle(gd).display;\n",
       "        if (!display || display === 'none') {{\n",
       "            console.log([gd, 'removed!']);\n",
       "            Plotly.purge(gd);\n",
       "            observer.disconnect();\n",
       "        }}\n",
       "}});\n",
       "\n",
       "// Listen for the removal of the full notebook cells\n",
       "var notebookContainer = gd.closest('#notebook-container');\n",
       "if (notebookContainer) {{\n",
       "    x.observe(notebookContainer, {childList: true});\n",
       "}}\n",
       "\n",
       "// Listen for the clearing of the current output cell\n",
       "var outputEl = gd.closest('.output');\n",
       "if (outputEl) {{\n",
       "    x.observe(outputEl, {childList: true});\n",
       "}}\n",
       "\n",
       "                        })\n",
       "                };\n",
       "                });\n",
       "            </script>\n",
       "        </div>"
      ]
     },
     "metadata": {},
     "output_type": "display_data"
    }
   ],
   "source": [
    "plotesc(USD,Cusd,\"ESCENARIO C : Actual < Consensus >= Previous\")"
   ]
  },
  {
   "cell_type": "code",
   "execution_count": 24,
   "metadata": {},
   "outputs": [
    {
     "data": {
      "application/vnd.plotly.v1+json": {
       "config": {
        "plotlyServerURL": "https://plot.ly"
       },
       "data": [
        {
         "type": "scatter",
         "x": [
          "2009-11-13T13:30:00+00:00",
          "2010-01-12T13:30:00+00:00",
          "2010-02-10T13:30:00+00:00",
          "2010-04-13T12:30:00+00:00",
          "2010-05-12T12:30:00+00:00",
          "2010-08-11T12:30:00+00:00",
          "2011-03-10T13:30:00+00:00",
          "2011-07-12T12:30:00+00:00",
          "2012-01-13T13:30:00+00:00",
          "2012-02-10T13:30:00+00:00",
          "2012-05-10T12:30:00+00:00",
          "2013-03-07T13:30:00+00:00",
          "2013-11-14T13:30:00+00:00",
          "2014-02-06T13:30:00+00:00",
          "2014-03-07T13:30:00+00:00",
          "2014-11-04T13:30:00+00:00",
          "2015-05-05T12:30:00+00:00",
          "2015-08-05T12:30:00+00:00",
          "2015-10-06T12:30:00+00:00",
          "2016-02-05T13:30:00+00:00",
          "2016-03-04T13:30:00+00:00",
          "2016-04-05T12:30:00+00:00",
          "2016-07-06T12:30:00+00:00",
          "2016-08-05T12:30:00+00:00",
          "2016-12-06T13:30:00+00:00",
          "2017-06-02T12:30:00+00:00",
          "2017-11-03T12:30:00+00:00",
          "2017-12-05T13:30:00+00:00",
          "2018-01-05T13:30:00+00:00",
          "2018-02-06T13:30:00+00:00",
          "2018-03-07T13:30:00+00:00",
          "2018-04-05T12:30:00+00:00",
          "2018-11-02T12:30:00+00:00",
          "2018-12-06T13:30:00+00:00",
          "2019-03-06T13:30:00+00:00",
          "2019-06-06T12:30:00+00:00",
          "2019-07-03T12:30:00+00:00"
         ],
         "xaxis": "x",
         "y": [
          -0.0021299999999999653,
          -0.0007099999999999884,
          -0.00038000000000004697,
          0.0033600000000000296,
          -0.0005999999999999339,
          -0.0023599999999999177,
          0.0008199999999998209,
          0.0017000000000000348,
          -0.006929999999999881,
          -1.999999999990898e-05,
          -8.999999999992347e-05,
          0.006559999999999899,
          0.0014799999999999258,
          0.010029999999999983,
          -0.003929999999999989,
          -0.0002500000000000835,
          0.003049999999999997,
          -0.0013600000000000279,
          -0.0012900000000000134,
          -0.008199999999999985,
          0.0033000000000000806,
          0.00034000000000000696,
          9.999999999998899e-05,
          -0.006340000000000012,
          -0.0006399999999999739,
          0.003869999999999818,
          -0.0009399999999999409,
          -0.0006300000000001305,
          0.0001100000000000545,
          0.0007999999999999119,
          6.000000000017103e-05,
          0.0007600000000000939,
          -0.0020199999999999108,
          -0.00025999999999992696,
          0.00015999999999993797,
          0.0025599999999998957,
          -0.0011699999999998933
         ],
         "yaxis": "y"
        },
        {
         "type": "scatter",
         "x": [
          "2009-11-13T13:30:00+00:00",
          "2010-01-12T13:30:00+00:00",
          "2010-02-10T13:30:00+00:00",
          "2010-04-13T12:30:00+00:00",
          "2010-05-12T12:30:00+00:00",
          "2010-08-11T12:30:00+00:00",
          "2011-03-10T13:30:00+00:00",
          "2011-07-12T12:30:00+00:00",
          "2012-01-13T13:30:00+00:00",
          "2012-02-10T13:30:00+00:00",
          "2012-05-10T12:30:00+00:00",
          "2013-03-07T13:30:00+00:00",
          "2013-11-14T13:30:00+00:00",
          "2014-02-06T13:30:00+00:00",
          "2014-03-07T13:30:00+00:00",
          "2014-11-04T13:30:00+00:00",
          "2015-05-05T12:30:00+00:00",
          "2015-08-05T12:30:00+00:00",
          "2015-10-06T12:30:00+00:00",
          "2016-02-05T13:30:00+00:00",
          "2016-03-04T13:30:00+00:00",
          "2016-04-05T12:30:00+00:00",
          "2016-07-06T12:30:00+00:00",
          "2016-08-05T12:30:00+00:00",
          "2016-12-06T13:30:00+00:00",
          "2017-06-02T12:30:00+00:00",
          "2017-11-03T12:30:00+00:00",
          "2017-12-05T13:30:00+00:00",
          "2018-01-05T13:30:00+00:00",
          "2018-02-06T13:30:00+00:00",
          "2018-03-07T13:30:00+00:00",
          "2018-04-05T12:30:00+00:00",
          "2018-11-02T12:30:00+00:00",
          "2018-12-06T13:30:00+00:00",
          "2019-03-06T13:30:00+00:00",
          "2019-06-06T12:30:00+00:00",
          "2019-07-03T12:30:00+00:00"
         ],
         "xaxis": "x2",
         "y": [
          0.0018000000000000238,
          0.0007699999999999374,
          0.0006500000000000394,
          0.0036599999999999966,
          0.0007200000000000539,
          0.001140000000000141,
          0.0015000000000000568,
          0.0049799999999999844,
          0.0005300000000001415,
          0.0009799999999999809,
          0.00024999999999986144,
          0.007050000000000001,
          0.0019799999999998708,
          0.01097999999999999,
          0.00017999999999984695,
          0.0005499999999998284,
          0.005249999999999977,
          0.0009200000000000319,
          8.999999999992347e-05,
          0.0035800000000001386,
          0.005589999999999984,
          0.0014799999999999258,
          0.0016299999999997983,
          0.00038999999999989043,
          0.0005800000000000249,
          0.006529999999999925,
          0.0031799999999999606,
          0.0004199999999998649,
          0.0031799999999999606,
          0.0009500000000000064,
          0.0014000000000000679,
          0.002120000000000122,
          0.0005900000000000905,
          0.00041000000000002146,
          0.00026999999999999247,
          0.0047200000000000575,
          0
         ],
         "yaxis": "y2"
        },
        {
         "type": "scatter",
         "x": [
          "2009-11-13T13:30:00+00:00",
          "2010-01-12T13:30:00+00:00",
          "2010-02-10T13:30:00+00:00",
          "2010-04-13T12:30:00+00:00",
          "2010-05-12T12:30:00+00:00",
          "2010-08-11T12:30:00+00:00",
          "2011-03-10T13:30:00+00:00",
          "2011-07-12T12:30:00+00:00",
          "2012-01-13T13:30:00+00:00",
          "2012-02-10T13:30:00+00:00",
          "2012-05-10T12:30:00+00:00",
          "2013-03-07T13:30:00+00:00",
          "2013-11-14T13:30:00+00:00",
          "2014-02-06T13:30:00+00:00",
          "2014-03-07T13:30:00+00:00",
          "2014-11-04T13:30:00+00:00",
          "2015-05-05T12:30:00+00:00",
          "2015-08-05T12:30:00+00:00",
          "2015-10-06T12:30:00+00:00",
          "2016-02-05T13:30:00+00:00",
          "2016-03-04T13:30:00+00:00",
          "2016-04-05T12:30:00+00:00",
          "2016-07-06T12:30:00+00:00",
          "2016-08-05T12:30:00+00:00",
          "2016-12-06T13:30:00+00:00",
          "2017-06-02T12:30:00+00:00",
          "2017-11-03T12:30:00+00:00",
          "2017-12-05T13:30:00+00:00",
          "2018-01-05T13:30:00+00:00",
          "2018-02-06T13:30:00+00:00",
          "2018-03-07T13:30:00+00:00",
          "2018-04-05T12:30:00+00:00",
          "2018-11-02T12:30:00+00:00",
          "2018-12-06T13:30:00+00:00",
          "2019-03-06T13:30:00+00:00",
          "2019-06-06T12:30:00+00:00",
          "2019-07-03T12:30:00+00:00"
         ],
         "xaxis": "x3",
         "y": [
          0.002529999999999921,
          0.0017899999999999583,
          0.0030000000000001137,
          0,
          0.0015199999999999658,
          0.0030799999999999716,
          0.0015600000000000058,
          4.999999999988347e-05,
          0.007089999999999819,
          0.0019000000000000128,
          0.0013399999999998968,
          0.0032399999999999096,
          0.00012000000000012001,
          0.0013600000000000279,
          0.0048399999999999554,
          0.000500000000000167,
          0.00026999999999999247,
          0.0018800000000001038,
          0.002389999999999892,
          0.008559999999999679,
          0.006739999999999968,
          0.00019999999999997797,
          0.00028000000000028,
          0.006799999999999917,
          0.0014399999999998858,
          0,
          0.001100000000000101,
          0.0013700000000000934,
          0.00043999999999999595,
          0.0018000000000000238,
          0.00028999999999990145,
          0.0006599999999998829,
          0.0025999999999999357,
          0.0005599999999998939,
          0.0020500000000001073,
          0,
          0.0015999999999998238
         ],
         "yaxis": "y3"
        },
        {
         "type": "scatter",
         "x": [
          "2009-11-13T13:30:00+00:00",
          "2010-01-12T13:30:00+00:00",
          "2010-02-10T13:30:00+00:00",
          "2010-04-13T12:30:00+00:00",
          "2010-05-12T12:30:00+00:00",
          "2010-08-11T12:30:00+00:00",
          "2011-03-10T13:30:00+00:00",
          "2011-07-12T12:30:00+00:00",
          "2012-01-13T13:30:00+00:00",
          "2012-02-10T13:30:00+00:00",
          "2012-05-10T12:30:00+00:00",
          "2013-03-07T13:30:00+00:00",
          "2013-11-14T13:30:00+00:00",
          "2014-02-06T13:30:00+00:00",
          "2014-03-07T13:30:00+00:00",
          "2014-11-04T13:30:00+00:00",
          "2015-05-05T12:30:00+00:00",
          "2015-08-05T12:30:00+00:00",
          "2015-10-06T12:30:00+00:00",
          "2016-02-05T13:30:00+00:00",
          "2016-03-04T13:30:00+00:00",
          "2016-04-05T12:30:00+00:00",
          "2016-07-06T12:30:00+00:00",
          "2016-08-05T12:30:00+00:00",
          "2016-12-06T13:30:00+00:00",
          "2017-06-02T12:30:00+00:00",
          "2017-11-03T12:30:00+00:00",
          "2017-12-05T13:30:00+00:00",
          "2018-01-05T13:30:00+00:00",
          "2018-02-06T13:30:00+00:00",
          "2018-03-07T13:30:00+00:00",
          "2018-04-05T12:30:00+00:00",
          "2018-11-02T12:30:00+00:00",
          "2018-12-06T13:30:00+00:00",
          "2019-03-06T13:30:00+00:00",
          "2019-06-06T12:30:00+00:00",
          "2019-07-03T12:30:00+00:00"
         ],
         "xaxis": "x4",
         "y": [
          0.004329999999999945,
          0.0041599999999999415,
          0.003650000000000153,
          0.0042999999999999705,
          0.0033199999999999896,
          0.0042200000000001125,
          0.0034799999999999276,
          0.005039999999999933,
          0.00761999999999996,
          0.004830000000000112,
          0.0018499999999999073,
          0.01028999999999991,
          0.0029199999999998116,
          0.012340000000000018,
          0.005479999999999929,
          0.0014999999999998348,
          0.006380000000000052,
          0.00558000000000014,
          0.002609999999999779,
          0.012139999999999818,
          0.012329999999999952,
          0.0021100000000000563,
          0.003449999999999953,
          0.008129999999999749,
          0.0020199999999999108,
          0.007679999999999909,
          0.0046200000000000685,
          0.0020100000000000673,
          0.0038799999999998835,
          0.00275000000000003,
          0.0021500000000000963,
          0.0027800000000000047,
          0.003970000000000029,
          0.0022100000000000453,
          0.0029600000000000737,
          0.0049200000000000355,
          0.0023299999999999432
         ],
         "yaxis": "y4"
        }
       ],
       "layout": {
        "annotations": [
         {
          "font": {
           "size": 16
          },
          "showarrow": false,
          "text": "Dirección",
          "x": 0.225,
          "xanchor": "center",
          "xref": "paper",
          "y": 1,
          "yanchor": "bottom",
          "yref": "paper"
         },
         {
          "font": {
           "size": 16
          },
          "showarrow": false,
          "text": "Pips Alcistas",
          "x": 0.775,
          "xanchor": "center",
          "xref": "paper",
          "y": 1,
          "yanchor": "bottom",
          "yref": "paper"
         },
         {
          "font": {
           "size": 16
          },
          "showarrow": false,
          "text": "Pips Bajistas",
          "x": 0.225,
          "xanchor": "center",
          "xref": "paper",
          "y": 0.375,
          "yanchor": "bottom",
          "yref": "paper"
         },
         {
          "font": {
           "size": 16
          },
          "showarrow": false,
          "text": "Volatilidad",
          "x": 0.775,
          "xanchor": "center",
          "xref": "paper",
          "y": 0.375,
          "yanchor": "bottom",
          "yref": "paper"
         }
        ],
        "height": 700,
        "showlegend": false,
        "template": {
         "data": {
          "bar": [
           {
            "error_x": {
             "color": "#2a3f5f"
            },
            "error_y": {
             "color": "#2a3f5f"
            },
            "marker": {
             "line": {
              "color": "#E5ECF6",
              "width": 0.5
             }
            },
            "type": "bar"
           }
          ],
          "barpolar": [
           {
            "marker": {
             "line": {
              "color": "#E5ECF6",
              "width": 0.5
             }
            },
            "type": "barpolar"
           }
          ],
          "carpet": [
           {
            "aaxis": {
             "endlinecolor": "#2a3f5f",
             "gridcolor": "white",
             "linecolor": "white",
             "minorgridcolor": "white",
             "startlinecolor": "#2a3f5f"
            },
            "baxis": {
             "endlinecolor": "#2a3f5f",
             "gridcolor": "white",
             "linecolor": "white",
             "minorgridcolor": "white",
             "startlinecolor": "#2a3f5f"
            },
            "type": "carpet"
           }
          ],
          "choropleth": [
           {
            "colorbar": {
             "outlinewidth": 0,
             "ticks": ""
            },
            "type": "choropleth"
           }
          ],
          "contour": [
           {
            "colorbar": {
             "outlinewidth": 0,
             "ticks": ""
            },
            "colorscale": [
             [
              0,
              "#0d0887"
             ],
             [
              0.1111111111111111,
              "#46039f"
             ],
             [
              0.2222222222222222,
              "#7201a8"
             ],
             [
              0.3333333333333333,
              "#9c179e"
             ],
             [
              0.4444444444444444,
              "#bd3786"
             ],
             [
              0.5555555555555556,
              "#d8576b"
             ],
             [
              0.6666666666666666,
              "#ed7953"
             ],
             [
              0.7777777777777778,
              "#fb9f3a"
             ],
             [
              0.8888888888888888,
              "#fdca26"
             ],
             [
              1,
              "#f0f921"
             ]
            ],
            "type": "contour"
           }
          ],
          "contourcarpet": [
           {
            "colorbar": {
             "outlinewidth": 0,
             "ticks": ""
            },
            "type": "contourcarpet"
           }
          ],
          "heatmap": [
           {
            "colorbar": {
             "outlinewidth": 0,
             "ticks": ""
            },
            "colorscale": [
             [
              0,
              "#0d0887"
             ],
             [
              0.1111111111111111,
              "#46039f"
             ],
             [
              0.2222222222222222,
              "#7201a8"
             ],
             [
              0.3333333333333333,
              "#9c179e"
             ],
             [
              0.4444444444444444,
              "#bd3786"
             ],
             [
              0.5555555555555556,
              "#d8576b"
             ],
             [
              0.6666666666666666,
              "#ed7953"
             ],
             [
              0.7777777777777778,
              "#fb9f3a"
             ],
             [
              0.8888888888888888,
              "#fdca26"
             ],
             [
              1,
              "#f0f921"
             ]
            ],
            "type": "heatmap"
           }
          ],
          "heatmapgl": [
           {
            "colorbar": {
             "outlinewidth": 0,
             "ticks": ""
            },
            "colorscale": [
             [
              0,
              "#0d0887"
             ],
             [
              0.1111111111111111,
              "#46039f"
             ],
             [
              0.2222222222222222,
              "#7201a8"
             ],
             [
              0.3333333333333333,
              "#9c179e"
             ],
             [
              0.4444444444444444,
              "#bd3786"
             ],
             [
              0.5555555555555556,
              "#d8576b"
             ],
             [
              0.6666666666666666,
              "#ed7953"
             ],
             [
              0.7777777777777778,
              "#fb9f3a"
             ],
             [
              0.8888888888888888,
              "#fdca26"
             ],
             [
              1,
              "#f0f921"
             ]
            ],
            "type": "heatmapgl"
           }
          ],
          "histogram": [
           {
            "marker": {
             "colorbar": {
              "outlinewidth": 0,
              "ticks": ""
             }
            },
            "type": "histogram"
           }
          ],
          "histogram2d": [
           {
            "colorbar": {
             "outlinewidth": 0,
             "ticks": ""
            },
            "colorscale": [
             [
              0,
              "#0d0887"
             ],
             [
              0.1111111111111111,
              "#46039f"
             ],
             [
              0.2222222222222222,
              "#7201a8"
             ],
             [
              0.3333333333333333,
              "#9c179e"
             ],
             [
              0.4444444444444444,
              "#bd3786"
             ],
             [
              0.5555555555555556,
              "#d8576b"
             ],
             [
              0.6666666666666666,
              "#ed7953"
             ],
             [
              0.7777777777777778,
              "#fb9f3a"
             ],
             [
              0.8888888888888888,
              "#fdca26"
             ],
             [
              1,
              "#f0f921"
             ]
            ],
            "type": "histogram2d"
           }
          ],
          "histogram2dcontour": [
           {
            "colorbar": {
             "outlinewidth": 0,
             "ticks": ""
            },
            "colorscale": [
             [
              0,
              "#0d0887"
             ],
             [
              0.1111111111111111,
              "#46039f"
             ],
             [
              0.2222222222222222,
              "#7201a8"
             ],
             [
              0.3333333333333333,
              "#9c179e"
             ],
             [
              0.4444444444444444,
              "#bd3786"
             ],
             [
              0.5555555555555556,
              "#d8576b"
             ],
             [
              0.6666666666666666,
              "#ed7953"
             ],
             [
              0.7777777777777778,
              "#fb9f3a"
             ],
             [
              0.8888888888888888,
              "#fdca26"
             ],
             [
              1,
              "#f0f921"
             ]
            ],
            "type": "histogram2dcontour"
           }
          ],
          "mesh3d": [
           {
            "colorbar": {
             "outlinewidth": 0,
             "ticks": ""
            },
            "type": "mesh3d"
           }
          ],
          "parcoords": [
           {
            "line": {
             "colorbar": {
              "outlinewidth": 0,
              "ticks": ""
             }
            },
            "type": "parcoords"
           }
          ],
          "pie": [
           {
            "automargin": true,
            "type": "pie"
           }
          ],
          "scatter": [
           {
            "marker": {
             "colorbar": {
              "outlinewidth": 0,
              "ticks": ""
             }
            },
            "type": "scatter"
           }
          ],
          "scatter3d": [
           {
            "line": {
             "colorbar": {
              "outlinewidth": 0,
              "ticks": ""
             }
            },
            "marker": {
             "colorbar": {
              "outlinewidth": 0,
              "ticks": ""
             }
            },
            "type": "scatter3d"
           }
          ],
          "scattercarpet": [
           {
            "marker": {
             "colorbar": {
              "outlinewidth": 0,
              "ticks": ""
             }
            },
            "type": "scattercarpet"
           }
          ],
          "scattergeo": [
           {
            "marker": {
             "colorbar": {
              "outlinewidth": 0,
              "ticks": ""
             }
            },
            "type": "scattergeo"
           }
          ],
          "scattergl": [
           {
            "marker": {
             "colorbar": {
              "outlinewidth": 0,
              "ticks": ""
             }
            },
            "type": "scattergl"
           }
          ],
          "scattermapbox": [
           {
            "marker": {
             "colorbar": {
              "outlinewidth": 0,
              "ticks": ""
             }
            },
            "type": "scattermapbox"
           }
          ],
          "scatterpolar": [
           {
            "marker": {
             "colorbar": {
              "outlinewidth": 0,
              "ticks": ""
             }
            },
            "type": "scatterpolar"
           }
          ],
          "scatterpolargl": [
           {
            "marker": {
             "colorbar": {
              "outlinewidth": 0,
              "ticks": ""
             }
            },
            "type": "scatterpolargl"
           }
          ],
          "scatterternary": [
           {
            "marker": {
             "colorbar": {
              "outlinewidth": 0,
              "ticks": ""
             }
            },
            "type": "scatterternary"
           }
          ],
          "surface": [
           {
            "colorbar": {
             "outlinewidth": 0,
             "ticks": ""
            },
            "colorscale": [
             [
              0,
              "#0d0887"
             ],
             [
              0.1111111111111111,
              "#46039f"
             ],
             [
              0.2222222222222222,
              "#7201a8"
             ],
             [
              0.3333333333333333,
              "#9c179e"
             ],
             [
              0.4444444444444444,
              "#bd3786"
             ],
             [
              0.5555555555555556,
              "#d8576b"
             ],
             [
              0.6666666666666666,
              "#ed7953"
             ],
             [
              0.7777777777777778,
              "#fb9f3a"
             ],
             [
              0.8888888888888888,
              "#fdca26"
             ],
             [
              1,
              "#f0f921"
             ]
            ],
            "type": "surface"
           }
          ],
          "table": [
           {
            "cells": {
             "fill": {
              "color": "#EBF0F8"
             },
             "line": {
              "color": "white"
             }
            },
            "header": {
             "fill": {
              "color": "#C8D4E3"
             },
             "line": {
              "color": "white"
             }
            },
            "type": "table"
           }
          ]
         },
         "layout": {
          "annotationdefaults": {
           "arrowcolor": "#2a3f5f",
           "arrowhead": 0,
           "arrowwidth": 1
          },
          "coloraxis": {
           "colorbar": {
            "outlinewidth": 0,
            "ticks": ""
           }
          },
          "colorscale": {
           "diverging": [
            [
             0,
             "#8e0152"
            ],
            [
             0.1,
             "#c51b7d"
            ],
            [
             0.2,
             "#de77ae"
            ],
            [
             0.3,
             "#f1b6da"
            ],
            [
             0.4,
             "#fde0ef"
            ],
            [
             0.5,
             "#f7f7f7"
            ],
            [
             0.6,
             "#e6f5d0"
            ],
            [
             0.7,
             "#b8e186"
            ],
            [
             0.8,
             "#7fbc41"
            ],
            [
             0.9,
             "#4d9221"
            ],
            [
             1,
             "#276419"
            ]
           ],
           "sequential": [
            [
             0,
             "#0d0887"
            ],
            [
             0.1111111111111111,
             "#46039f"
            ],
            [
             0.2222222222222222,
             "#7201a8"
            ],
            [
             0.3333333333333333,
             "#9c179e"
            ],
            [
             0.4444444444444444,
             "#bd3786"
            ],
            [
             0.5555555555555556,
             "#d8576b"
            ],
            [
             0.6666666666666666,
             "#ed7953"
            ],
            [
             0.7777777777777778,
             "#fb9f3a"
            ],
            [
             0.8888888888888888,
             "#fdca26"
            ],
            [
             1,
             "#f0f921"
            ]
           ],
           "sequentialminus": [
            [
             0,
             "#0d0887"
            ],
            [
             0.1111111111111111,
             "#46039f"
            ],
            [
             0.2222222222222222,
             "#7201a8"
            ],
            [
             0.3333333333333333,
             "#9c179e"
            ],
            [
             0.4444444444444444,
             "#bd3786"
            ],
            [
             0.5555555555555556,
             "#d8576b"
            ],
            [
             0.6666666666666666,
             "#ed7953"
            ],
            [
             0.7777777777777778,
             "#fb9f3a"
            ],
            [
             0.8888888888888888,
             "#fdca26"
            ],
            [
             1,
             "#f0f921"
            ]
           ]
          },
          "colorway": [
           "#636efa",
           "#EF553B",
           "#00cc96",
           "#ab63fa",
           "#FFA15A",
           "#19d3f3",
           "#FF6692",
           "#B6E880",
           "#FF97FF",
           "#FECB52"
          ],
          "font": {
           "color": "#2a3f5f"
          },
          "geo": {
           "bgcolor": "white",
           "lakecolor": "white",
           "landcolor": "#E5ECF6",
           "showlakes": true,
           "showland": true,
           "subunitcolor": "white"
          },
          "hoverlabel": {
           "align": "left"
          },
          "hovermode": "closest",
          "mapbox": {
           "style": "light"
          },
          "paper_bgcolor": "white",
          "plot_bgcolor": "#E5ECF6",
          "polar": {
           "angularaxis": {
            "gridcolor": "white",
            "linecolor": "white",
            "ticks": ""
           },
           "bgcolor": "#E5ECF6",
           "radialaxis": {
            "gridcolor": "white",
            "linecolor": "white",
            "ticks": ""
           }
          },
          "scene": {
           "xaxis": {
            "backgroundcolor": "#E5ECF6",
            "gridcolor": "white",
            "gridwidth": 2,
            "linecolor": "white",
            "showbackground": true,
            "ticks": "",
            "zerolinecolor": "white"
           },
           "yaxis": {
            "backgroundcolor": "#E5ECF6",
            "gridcolor": "white",
            "gridwidth": 2,
            "linecolor": "white",
            "showbackground": true,
            "ticks": "",
            "zerolinecolor": "white"
           },
           "zaxis": {
            "backgroundcolor": "#E5ECF6",
            "gridcolor": "white",
            "gridwidth": 2,
            "linecolor": "white",
            "showbackground": true,
            "ticks": "",
            "zerolinecolor": "white"
           }
          },
          "shapedefaults": {
           "line": {
            "color": "#2a3f5f"
           }
          },
          "ternary": {
           "aaxis": {
            "gridcolor": "white",
            "linecolor": "white",
            "ticks": ""
           },
           "baxis": {
            "gridcolor": "white",
            "linecolor": "white",
            "ticks": ""
           },
           "bgcolor": "#E5ECF6",
           "caxis": {
            "gridcolor": "white",
            "linecolor": "white",
            "ticks": ""
           }
          },
          "title": {
           "x": 0.05
          },
          "xaxis": {
           "automargin": true,
           "gridcolor": "white",
           "linecolor": "white",
           "ticks": "",
           "title": {
            "standoff": 15
           },
           "zerolinecolor": "white",
           "zerolinewidth": 2
          },
          "yaxis": {
           "automargin": true,
           "gridcolor": "white",
           "linecolor": "white",
           "ticks": "",
           "title": {
            "standoff": 15
           },
           "zerolinecolor": "white",
           "zerolinewidth": 2
          }
         }
        },
        "title": {
         "text": "ESCENARIO D : Actual < Consensus < Previous"
        },
        "xaxis": {
         "anchor": "y",
         "domain": [
          0,
          0.45
         ],
         "title": {
          "text": "Fecha"
         }
        },
        "xaxis2": {
         "anchor": "y2",
         "domain": [
          0.55,
          1
         ],
         "title": {
          "text": "Fecha"
         }
        },
        "xaxis3": {
         "anchor": "y3",
         "domain": [
          0,
          0.45
         ],
         "title": {
          "text": "Fecha"
         }
        },
        "xaxis4": {
         "anchor": "y4",
         "domain": [
          0.55,
          1
         ],
         "title": {
          "text": "Fecha"
         }
        },
        "yaxis": {
         "anchor": "x",
         "domain": [
          0.625,
          1
         ],
         "title": {
          "text": "Valor"
         }
        },
        "yaxis2": {
         "anchor": "x2",
         "domain": [
          0.625,
          1
         ],
         "title": {
          "text": "Valor"
         }
        },
        "yaxis3": {
         "anchor": "x3",
         "domain": [
          0,
          0.375
         ],
         "title": {
          "text": "Valor"
         }
        },
        "yaxis4": {
         "anchor": "x4",
         "domain": [
          0,
          0.375
         ],
         "title": {
          "text": "Valor"
         }
        }
       }
      },
      "text/html": [
       "<div>\n",
       "        \n",
       "        \n",
       "            <div id=\"5dc3b0af-11e7-475c-822f-0d61a475e624\" class=\"plotly-graph-div\" style=\"height:700px; width:100%;\"></div>\n",
       "            <script type=\"text/javascript\">\n",
       "                require([\"plotly\"], function(Plotly) {\n",
       "                    window.PLOTLYENV=window.PLOTLYENV || {};\n",
       "                    \n",
       "                if (document.getElementById(\"5dc3b0af-11e7-475c-822f-0d61a475e624\")) {\n",
       "                    Plotly.newPlot(\n",
       "                        '5dc3b0af-11e7-475c-822f-0d61a475e624',\n",
       "                        [{\"type\": \"scatter\", \"x\": [\"2009-11-13T13:30:00+00:00\", \"2010-01-12T13:30:00+00:00\", \"2010-02-10T13:30:00+00:00\", \"2010-04-13T12:30:00+00:00\", \"2010-05-12T12:30:00+00:00\", \"2010-08-11T12:30:00+00:00\", \"2011-03-10T13:30:00+00:00\", \"2011-07-12T12:30:00+00:00\", \"2012-01-13T13:30:00+00:00\", \"2012-02-10T13:30:00+00:00\", \"2012-05-10T12:30:00+00:00\", \"2013-03-07T13:30:00+00:00\", \"2013-11-14T13:30:00+00:00\", \"2014-02-06T13:30:00+00:00\", \"2014-03-07T13:30:00+00:00\", \"2014-11-04T13:30:00+00:00\", \"2015-05-05T12:30:00+00:00\", \"2015-08-05T12:30:00+00:00\", \"2015-10-06T12:30:00+00:00\", \"2016-02-05T13:30:00+00:00\", \"2016-03-04T13:30:00+00:00\", \"2016-04-05T12:30:00+00:00\", \"2016-07-06T12:30:00+00:00\", \"2016-08-05T12:30:00+00:00\", \"2016-12-06T13:30:00+00:00\", \"2017-06-02T12:30:00+00:00\", \"2017-11-03T12:30:00+00:00\", \"2017-12-05T13:30:00+00:00\", \"2018-01-05T13:30:00+00:00\", \"2018-02-06T13:30:00+00:00\", \"2018-03-07T13:30:00+00:00\", \"2018-04-05T12:30:00+00:00\", \"2018-11-02T12:30:00+00:00\", \"2018-12-06T13:30:00+00:00\", \"2019-03-06T13:30:00+00:00\", \"2019-06-06T12:30:00+00:00\", \"2019-07-03T12:30:00+00:00\"], \"xaxis\": \"x\", \"y\": [-0.0021299999999999653, -0.0007099999999999884, -0.00038000000000004697, 0.0033600000000000296, -0.0005999999999999339, -0.0023599999999999177, 0.0008199999999998209, 0.0017000000000000348, -0.006929999999999881, -1.999999999990898e-05, -8.999999999992347e-05, 0.006559999999999899, 0.0014799999999999258, 0.010029999999999983, -0.003929999999999989, -0.0002500000000000835, 0.003049999999999997, -0.0013600000000000279, -0.0012900000000000134, -0.008199999999999985, 0.0033000000000000806, 0.00034000000000000696, 9.999999999998899e-05, -0.006340000000000012, -0.0006399999999999739, 0.003869999999999818, -0.0009399999999999409, -0.0006300000000001305, 0.0001100000000000545, 0.0007999999999999119, 6.000000000017103e-05, 0.0007600000000000939, -0.0020199999999999108, -0.00025999999999992696, 0.00015999999999993797, 0.0025599999999998957, -0.0011699999999998933], \"yaxis\": \"y\"}, {\"type\": \"scatter\", \"x\": [\"2009-11-13T13:30:00+00:00\", \"2010-01-12T13:30:00+00:00\", \"2010-02-10T13:30:00+00:00\", \"2010-04-13T12:30:00+00:00\", \"2010-05-12T12:30:00+00:00\", \"2010-08-11T12:30:00+00:00\", \"2011-03-10T13:30:00+00:00\", \"2011-07-12T12:30:00+00:00\", \"2012-01-13T13:30:00+00:00\", \"2012-02-10T13:30:00+00:00\", \"2012-05-10T12:30:00+00:00\", \"2013-03-07T13:30:00+00:00\", \"2013-11-14T13:30:00+00:00\", \"2014-02-06T13:30:00+00:00\", \"2014-03-07T13:30:00+00:00\", \"2014-11-04T13:30:00+00:00\", \"2015-05-05T12:30:00+00:00\", \"2015-08-05T12:30:00+00:00\", \"2015-10-06T12:30:00+00:00\", \"2016-02-05T13:30:00+00:00\", \"2016-03-04T13:30:00+00:00\", \"2016-04-05T12:30:00+00:00\", \"2016-07-06T12:30:00+00:00\", \"2016-08-05T12:30:00+00:00\", \"2016-12-06T13:30:00+00:00\", \"2017-06-02T12:30:00+00:00\", \"2017-11-03T12:30:00+00:00\", \"2017-12-05T13:30:00+00:00\", \"2018-01-05T13:30:00+00:00\", \"2018-02-06T13:30:00+00:00\", \"2018-03-07T13:30:00+00:00\", \"2018-04-05T12:30:00+00:00\", \"2018-11-02T12:30:00+00:00\", \"2018-12-06T13:30:00+00:00\", \"2019-03-06T13:30:00+00:00\", \"2019-06-06T12:30:00+00:00\", \"2019-07-03T12:30:00+00:00\"], \"xaxis\": \"x2\", \"y\": [0.0018000000000000238, 0.0007699999999999374, 0.0006500000000000394, 0.0036599999999999966, 0.0007200000000000539, 0.001140000000000141, 0.0015000000000000568, 0.0049799999999999844, 0.0005300000000001415, 0.0009799999999999809, 0.00024999999999986144, 0.007050000000000001, 0.0019799999999998708, 0.01097999999999999, 0.00017999999999984695, 0.0005499999999998284, 0.005249999999999977, 0.0009200000000000319, 8.999999999992347e-05, 0.0035800000000001386, 0.005589999999999984, 0.0014799999999999258, 0.0016299999999997983, 0.00038999999999989043, 0.0005800000000000249, 0.006529999999999925, 0.0031799999999999606, 0.0004199999999998649, 0.0031799999999999606, 0.0009500000000000064, 0.0014000000000000679, 0.002120000000000122, 0.0005900000000000905, 0.00041000000000002146, 0.00026999999999999247, 0.0047200000000000575, 0.0], \"yaxis\": \"y2\"}, {\"type\": \"scatter\", \"x\": [\"2009-11-13T13:30:00+00:00\", \"2010-01-12T13:30:00+00:00\", \"2010-02-10T13:30:00+00:00\", \"2010-04-13T12:30:00+00:00\", \"2010-05-12T12:30:00+00:00\", \"2010-08-11T12:30:00+00:00\", \"2011-03-10T13:30:00+00:00\", \"2011-07-12T12:30:00+00:00\", \"2012-01-13T13:30:00+00:00\", \"2012-02-10T13:30:00+00:00\", \"2012-05-10T12:30:00+00:00\", \"2013-03-07T13:30:00+00:00\", \"2013-11-14T13:30:00+00:00\", \"2014-02-06T13:30:00+00:00\", \"2014-03-07T13:30:00+00:00\", \"2014-11-04T13:30:00+00:00\", \"2015-05-05T12:30:00+00:00\", \"2015-08-05T12:30:00+00:00\", \"2015-10-06T12:30:00+00:00\", \"2016-02-05T13:30:00+00:00\", \"2016-03-04T13:30:00+00:00\", \"2016-04-05T12:30:00+00:00\", \"2016-07-06T12:30:00+00:00\", \"2016-08-05T12:30:00+00:00\", \"2016-12-06T13:30:00+00:00\", \"2017-06-02T12:30:00+00:00\", \"2017-11-03T12:30:00+00:00\", \"2017-12-05T13:30:00+00:00\", \"2018-01-05T13:30:00+00:00\", \"2018-02-06T13:30:00+00:00\", \"2018-03-07T13:30:00+00:00\", \"2018-04-05T12:30:00+00:00\", \"2018-11-02T12:30:00+00:00\", \"2018-12-06T13:30:00+00:00\", \"2019-03-06T13:30:00+00:00\", \"2019-06-06T12:30:00+00:00\", \"2019-07-03T12:30:00+00:00\"], \"xaxis\": \"x3\", \"y\": [0.002529999999999921, 0.0017899999999999583, 0.0030000000000001137, 0.0, 0.0015199999999999658, 0.0030799999999999716, 0.0015600000000000058, 4.999999999988347e-05, 0.007089999999999819, 0.0019000000000000128, 0.0013399999999998968, 0.0032399999999999096, 0.00012000000000012001, 0.0013600000000000279, 0.0048399999999999554, 0.000500000000000167, 0.00026999999999999247, 0.0018800000000001038, 0.002389999999999892, 0.008559999999999679, 0.006739999999999968, 0.00019999999999997797, 0.00028000000000028, 0.006799999999999917, 0.0014399999999998858, 0.0, 0.001100000000000101, 0.0013700000000000934, 0.00043999999999999595, 0.0018000000000000238, 0.00028999999999990145, 0.0006599999999998829, 0.0025999999999999357, 0.0005599999999998939, 0.0020500000000001073, 0.0, 0.0015999999999998238], \"yaxis\": \"y3\"}, {\"type\": \"scatter\", \"x\": [\"2009-11-13T13:30:00+00:00\", \"2010-01-12T13:30:00+00:00\", \"2010-02-10T13:30:00+00:00\", \"2010-04-13T12:30:00+00:00\", \"2010-05-12T12:30:00+00:00\", \"2010-08-11T12:30:00+00:00\", \"2011-03-10T13:30:00+00:00\", \"2011-07-12T12:30:00+00:00\", \"2012-01-13T13:30:00+00:00\", \"2012-02-10T13:30:00+00:00\", \"2012-05-10T12:30:00+00:00\", \"2013-03-07T13:30:00+00:00\", \"2013-11-14T13:30:00+00:00\", \"2014-02-06T13:30:00+00:00\", \"2014-03-07T13:30:00+00:00\", \"2014-11-04T13:30:00+00:00\", \"2015-05-05T12:30:00+00:00\", \"2015-08-05T12:30:00+00:00\", \"2015-10-06T12:30:00+00:00\", \"2016-02-05T13:30:00+00:00\", \"2016-03-04T13:30:00+00:00\", \"2016-04-05T12:30:00+00:00\", \"2016-07-06T12:30:00+00:00\", \"2016-08-05T12:30:00+00:00\", \"2016-12-06T13:30:00+00:00\", \"2017-06-02T12:30:00+00:00\", \"2017-11-03T12:30:00+00:00\", \"2017-12-05T13:30:00+00:00\", \"2018-01-05T13:30:00+00:00\", \"2018-02-06T13:30:00+00:00\", \"2018-03-07T13:30:00+00:00\", \"2018-04-05T12:30:00+00:00\", \"2018-11-02T12:30:00+00:00\", \"2018-12-06T13:30:00+00:00\", \"2019-03-06T13:30:00+00:00\", \"2019-06-06T12:30:00+00:00\", \"2019-07-03T12:30:00+00:00\"], \"xaxis\": \"x4\", \"y\": [0.004329999999999945, 0.0041599999999999415, 0.003650000000000153, 0.0042999999999999705, 0.0033199999999999896, 0.0042200000000001125, 0.0034799999999999276, 0.005039999999999933, 0.00761999999999996, 0.004830000000000112, 0.0018499999999999073, 0.01028999999999991, 0.0029199999999998116, 0.012340000000000018, 0.005479999999999929, 0.0014999999999998348, 0.006380000000000052, 0.00558000000000014, 0.002609999999999779, 0.012139999999999818, 0.012329999999999952, 0.0021100000000000563, 0.003449999999999953, 0.008129999999999749, 0.0020199999999999108, 0.007679999999999909, 0.0046200000000000685, 0.0020100000000000673, 0.0038799999999998835, 0.00275000000000003, 0.0021500000000000963, 0.0027800000000000047, 0.003970000000000029, 0.0022100000000000453, 0.0029600000000000737, 0.0049200000000000355, 0.0023299999999999432], \"yaxis\": \"y4\"}],\n",
       "                        {\"annotations\": [{\"font\": {\"size\": 16}, \"showarrow\": false, \"text\": \"Direcci\\u00f3n\", \"x\": 0.225, \"xanchor\": \"center\", \"xref\": \"paper\", \"y\": 1.0, \"yanchor\": \"bottom\", \"yref\": \"paper\"}, {\"font\": {\"size\": 16}, \"showarrow\": false, \"text\": \"Pips Alcistas\", \"x\": 0.775, \"xanchor\": \"center\", \"xref\": \"paper\", \"y\": 1.0, \"yanchor\": \"bottom\", \"yref\": \"paper\"}, {\"font\": {\"size\": 16}, \"showarrow\": false, \"text\": \"Pips Bajistas\", \"x\": 0.225, \"xanchor\": \"center\", \"xref\": \"paper\", \"y\": 0.375, \"yanchor\": \"bottom\", \"yref\": \"paper\"}, {\"font\": {\"size\": 16}, \"showarrow\": false, \"text\": \"Volatilidad\", \"x\": 0.775, \"xanchor\": \"center\", \"xref\": \"paper\", \"y\": 0.375, \"yanchor\": \"bottom\", \"yref\": \"paper\"}], \"height\": 700, \"showlegend\": false, \"template\": {\"data\": {\"bar\": [{\"error_x\": {\"color\": \"#2a3f5f\"}, \"error_y\": {\"color\": \"#2a3f5f\"}, \"marker\": {\"line\": {\"color\": \"#E5ECF6\", \"width\": 0.5}}, \"type\": \"bar\"}], \"barpolar\": [{\"marker\": {\"line\": {\"color\": \"#E5ECF6\", \"width\": 0.5}}, \"type\": \"barpolar\"}], \"carpet\": [{\"aaxis\": {\"endlinecolor\": \"#2a3f5f\", \"gridcolor\": \"white\", \"linecolor\": \"white\", \"minorgridcolor\": \"white\", \"startlinecolor\": \"#2a3f5f\"}, \"baxis\": {\"endlinecolor\": \"#2a3f5f\", \"gridcolor\": \"white\", \"linecolor\": \"white\", \"minorgridcolor\": \"white\", \"startlinecolor\": \"#2a3f5f\"}, \"type\": \"carpet\"}], \"choropleth\": [{\"colorbar\": {\"outlinewidth\": 0, \"ticks\": \"\"}, \"type\": \"choropleth\"}], \"contour\": [{\"colorbar\": {\"outlinewidth\": 0, \"ticks\": \"\"}, \"colorscale\": [[0.0, \"#0d0887\"], [0.1111111111111111, \"#46039f\"], [0.2222222222222222, \"#7201a8\"], [0.3333333333333333, \"#9c179e\"], [0.4444444444444444, \"#bd3786\"], [0.5555555555555556, \"#d8576b\"], [0.6666666666666666, \"#ed7953\"], [0.7777777777777778, \"#fb9f3a\"], [0.8888888888888888, \"#fdca26\"], [1.0, \"#f0f921\"]], \"type\": \"contour\"}], \"contourcarpet\": [{\"colorbar\": {\"outlinewidth\": 0, \"ticks\": \"\"}, \"type\": \"contourcarpet\"}], \"heatmap\": [{\"colorbar\": {\"outlinewidth\": 0, \"ticks\": \"\"}, \"colorscale\": [[0.0, \"#0d0887\"], [0.1111111111111111, \"#46039f\"], [0.2222222222222222, \"#7201a8\"], [0.3333333333333333, \"#9c179e\"], [0.4444444444444444, \"#bd3786\"], [0.5555555555555556, \"#d8576b\"], [0.6666666666666666, \"#ed7953\"], [0.7777777777777778, \"#fb9f3a\"], [0.8888888888888888, \"#fdca26\"], [1.0, \"#f0f921\"]], \"type\": \"heatmap\"}], \"heatmapgl\": [{\"colorbar\": {\"outlinewidth\": 0, \"ticks\": \"\"}, \"colorscale\": [[0.0, \"#0d0887\"], [0.1111111111111111, \"#46039f\"], [0.2222222222222222, \"#7201a8\"], [0.3333333333333333, \"#9c179e\"], [0.4444444444444444, \"#bd3786\"], [0.5555555555555556, \"#d8576b\"], [0.6666666666666666, \"#ed7953\"], [0.7777777777777778, \"#fb9f3a\"], [0.8888888888888888, \"#fdca26\"], [1.0, \"#f0f921\"]], \"type\": \"heatmapgl\"}], \"histogram\": [{\"marker\": {\"colorbar\": {\"outlinewidth\": 0, \"ticks\": \"\"}}, \"type\": \"histogram\"}], \"histogram2d\": [{\"colorbar\": {\"outlinewidth\": 0, \"ticks\": \"\"}, \"colorscale\": [[0.0, \"#0d0887\"], [0.1111111111111111, \"#46039f\"], [0.2222222222222222, \"#7201a8\"], [0.3333333333333333, \"#9c179e\"], [0.4444444444444444, \"#bd3786\"], [0.5555555555555556, \"#d8576b\"], [0.6666666666666666, \"#ed7953\"], [0.7777777777777778, \"#fb9f3a\"], [0.8888888888888888, \"#fdca26\"], [1.0, \"#f0f921\"]], \"type\": \"histogram2d\"}], \"histogram2dcontour\": [{\"colorbar\": {\"outlinewidth\": 0, \"ticks\": \"\"}, \"colorscale\": [[0.0, \"#0d0887\"], [0.1111111111111111, \"#46039f\"], [0.2222222222222222, \"#7201a8\"], [0.3333333333333333, \"#9c179e\"], [0.4444444444444444, \"#bd3786\"], [0.5555555555555556, \"#d8576b\"], [0.6666666666666666, \"#ed7953\"], [0.7777777777777778, \"#fb9f3a\"], [0.8888888888888888, \"#fdca26\"], [1.0, \"#f0f921\"]], \"type\": \"histogram2dcontour\"}], \"mesh3d\": [{\"colorbar\": {\"outlinewidth\": 0, \"ticks\": \"\"}, \"type\": \"mesh3d\"}], \"parcoords\": [{\"line\": {\"colorbar\": {\"outlinewidth\": 0, \"ticks\": \"\"}}, \"type\": \"parcoords\"}], \"pie\": [{\"automargin\": true, \"type\": \"pie\"}], \"scatter\": [{\"marker\": {\"colorbar\": {\"outlinewidth\": 0, \"ticks\": \"\"}}, \"type\": \"scatter\"}], \"scatter3d\": [{\"line\": {\"colorbar\": {\"outlinewidth\": 0, \"ticks\": \"\"}}, \"marker\": {\"colorbar\": {\"outlinewidth\": 0, \"ticks\": \"\"}}, \"type\": \"scatter3d\"}], \"scattercarpet\": [{\"marker\": {\"colorbar\": {\"outlinewidth\": 0, \"ticks\": \"\"}}, \"type\": \"scattercarpet\"}], \"scattergeo\": [{\"marker\": {\"colorbar\": {\"outlinewidth\": 0, \"ticks\": \"\"}}, \"type\": \"scattergeo\"}], \"scattergl\": [{\"marker\": {\"colorbar\": {\"outlinewidth\": 0, \"ticks\": \"\"}}, \"type\": \"scattergl\"}], \"scattermapbox\": [{\"marker\": {\"colorbar\": {\"outlinewidth\": 0, \"ticks\": \"\"}}, \"type\": \"scattermapbox\"}], \"scatterpolar\": [{\"marker\": {\"colorbar\": {\"outlinewidth\": 0, \"ticks\": \"\"}}, \"type\": \"scatterpolar\"}], \"scatterpolargl\": [{\"marker\": {\"colorbar\": {\"outlinewidth\": 0, \"ticks\": \"\"}}, \"type\": \"scatterpolargl\"}], \"scatterternary\": [{\"marker\": {\"colorbar\": {\"outlinewidth\": 0, \"ticks\": \"\"}}, \"type\": \"scatterternary\"}], \"surface\": [{\"colorbar\": {\"outlinewidth\": 0, \"ticks\": \"\"}, \"colorscale\": [[0.0, \"#0d0887\"], [0.1111111111111111, \"#46039f\"], [0.2222222222222222, \"#7201a8\"], [0.3333333333333333, \"#9c179e\"], [0.4444444444444444, \"#bd3786\"], [0.5555555555555556, \"#d8576b\"], [0.6666666666666666, \"#ed7953\"], [0.7777777777777778, \"#fb9f3a\"], [0.8888888888888888, \"#fdca26\"], [1.0, \"#f0f921\"]], \"type\": \"surface\"}], \"table\": [{\"cells\": {\"fill\": {\"color\": \"#EBF0F8\"}, \"line\": {\"color\": \"white\"}}, \"header\": {\"fill\": {\"color\": \"#C8D4E3\"}, \"line\": {\"color\": \"white\"}}, \"type\": \"table\"}]}, \"layout\": {\"annotationdefaults\": {\"arrowcolor\": \"#2a3f5f\", \"arrowhead\": 0, \"arrowwidth\": 1}, \"coloraxis\": {\"colorbar\": {\"outlinewidth\": 0, \"ticks\": \"\"}}, \"colorscale\": {\"diverging\": [[0, \"#8e0152\"], [0.1, \"#c51b7d\"], [0.2, \"#de77ae\"], [0.3, \"#f1b6da\"], [0.4, \"#fde0ef\"], [0.5, \"#f7f7f7\"], [0.6, \"#e6f5d0\"], [0.7, \"#b8e186\"], [0.8, \"#7fbc41\"], [0.9, \"#4d9221\"], [1, \"#276419\"]], \"sequential\": [[0.0, \"#0d0887\"], [0.1111111111111111, \"#46039f\"], [0.2222222222222222, \"#7201a8\"], [0.3333333333333333, \"#9c179e\"], [0.4444444444444444, \"#bd3786\"], [0.5555555555555556, \"#d8576b\"], [0.6666666666666666, \"#ed7953\"], [0.7777777777777778, \"#fb9f3a\"], [0.8888888888888888, \"#fdca26\"], [1.0, \"#f0f921\"]], \"sequentialminus\": [[0.0, \"#0d0887\"], [0.1111111111111111, \"#46039f\"], [0.2222222222222222, \"#7201a8\"], [0.3333333333333333, \"#9c179e\"], [0.4444444444444444, \"#bd3786\"], [0.5555555555555556, \"#d8576b\"], [0.6666666666666666, \"#ed7953\"], [0.7777777777777778, \"#fb9f3a\"], [0.8888888888888888, \"#fdca26\"], [1.0, \"#f0f921\"]]}, \"colorway\": [\"#636efa\", \"#EF553B\", \"#00cc96\", \"#ab63fa\", \"#FFA15A\", \"#19d3f3\", \"#FF6692\", \"#B6E880\", \"#FF97FF\", \"#FECB52\"], \"font\": {\"color\": \"#2a3f5f\"}, \"geo\": {\"bgcolor\": \"white\", \"lakecolor\": \"white\", \"landcolor\": \"#E5ECF6\", \"showlakes\": true, \"showland\": true, \"subunitcolor\": \"white\"}, \"hoverlabel\": {\"align\": \"left\"}, \"hovermode\": \"closest\", \"mapbox\": {\"style\": \"light\"}, \"paper_bgcolor\": \"white\", \"plot_bgcolor\": \"#E5ECF6\", \"polar\": {\"angularaxis\": {\"gridcolor\": \"white\", \"linecolor\": \"white\", \"ticks\": \"\"}, \"bgcolor\": \"#E5ECF6\", \"radialaxis\": {\"gridcolor\": \"white\", \"linecolor\": \"white\", \"ticks\": \"\"}}, \"scene\": {\"xaxis\": {\"backgroundcolor\": \"#E5ECF6\", \"gridcolor\": \"white\", \"gridwidth\": 2, \"linecolor\": \"white\", \"showbackground\": true, \"ticks\": \"\", \"zerolinecolor\": \"white\"}, \"yaxis\": {\"backgroundcolor\": \"#E5ECF6\", \"gridcolor\": \"white\", \"gridwidth\": 2, \"linecolor\": \"white\", \"showbackground\": true, \"ticks\": \"\", \"zerolinecolor\": \"white\"}, \"zaxis\": {\"backgroundcolor\": \"#E5ECF6\", \"gridcolor\": \"white\", \"gridwidth\": 2, \"linecolor\": \"white\", \"showbackground\": true, \"ticks\": \"\", \"zerolinecolor\": \"white\"}}, \"shapedefaults\": {\"line\": {\"color\": \"#2a3f5f\"}}, \"ternary\": {\"aaxis\": {\"gridcolor\": \"white\", \"linecolor\": \"white\", \"ticks\": \"\"}, \"baxis\": {\"gridcolor\": \"white\", \"linecolor\": \"white\", \"ticks\": \"\"}, \"bgcolor\": \"#E5ECF6\", \"caxis\": {\"gridcolor\": \"white\", \"linecolor\": \"white\", \"ticks\": \"\"}}, \"title\": {\"x\": 0.05}, \"xaxis\": {\"automargin\": true, \"gridcolor\": \"white\", \"linecolor\": \"white\", \"ticks\": \"\", \"title\": {\"standoff\": 15}, \"zerolinecolor\": \"white\", \"zerolinewidth\": 2}, \"yaxis\": {\"automargin\": true, \"gridcolor\": \"white\", \"linecolor\": \"white\", \"ticks\": \"\", \"title\": {\"standoff\": 15}, \"zerolinecolor\": \"white\", \"zerolinewidth\": 2}}}, \"title\": {\"text\": \"ESCENARIO D : Actual < Consensus < Previous\"}, \"xaxis\": {\"anchor\": \"y\", \"domain\": [0.0, 0.45], \"title\": {\"text\": \"Fecha\"}}, \"xaxis2\": {\"anchor\": \"y2\", \"domain\": [0.55, 1.0], \"title\": {\"text\": \"Fecha\"}}, \"xaxis3\": {\"anchor\": \"y3\", \"domain\": [0.0, 0.45], \"title\": {\"text\": \"Fecha\"}}, \"xaxis4\": {\"anchor\": \"y4\", \"domain\": [0.55, 1.0], \"title\": {\"text\": \"Fecha\"}}, \"yaxis\": {\"anchor\": \"x\", \"domain\": [0.625, 1.0], \"title\": {\"text\": \"Valor\"}}, \"yaxis2\": {\"anchor\": \"x2\", \"domain\": [0.625, 1.0], \"title\": {\"text\": \"Valor\"}}, \"yaxis3\": {\"anchor\": \"x3\", \"domain\": [0.0, 0.375], \"title\": {\"text\": \"Valor\"}}, \"yaxis4\": {\"anchor\": \"x4\", \"domain\": [0.0, 0.375], \"title\": {\"text\": \"Valor\"}}},\n",
       "                        {\"responsive\": true}\n",
       "                    ).then(function(){\n",
       "                            \n",
       "var gd = document.getElementById('5dc3b0af-11e7-475c-822f-0d61a475e624');\n",
       "var x = new MutationObserver(function (mutations, observer) {{\n",
       "        var display = window.getComputedStyle(gd).display;\n",
       "        if (!display || display === 'none') {{\n",
       "            console.log([gd, 'removed!']);\n",
       "            Plotly.purge(gd);\n",
       "            observer.disconnect();\n",
       "        }}\n",
       "}});\n",
       "\n",
       "// Listen for the removal of the full notebook cells\n",
       "var notebookContainer = gd.closest('#notebook-container');\n",
       "if (notebookContainer) {{\n",
       "    x.observe(notebookContainer, {childList: true});\n",
       "}}\n",
       "\n",
       "// Listen for the clearing of the current output cell\n",
       "var outputEl = gd.closest('.output');\n",
       "if (outputEl) {{\n",
       "    x.observe(outputEl, {childList: true});\n",
       "}}\n",
       "\n",
       "                        })\n",
       "                };\n",
       "                });\n",
       "            </script>\n",
       "        </div>"
      ]
     },
     "metadata": {},
     "output_type": "display_data"
    }
   ],
   "source": [
    "plotesc(USD,Dusd,\"ESCENARIO D : Actual < Consensus < Previous\")"
   ]
  },
  {
   "cell_type": "code",
   "execution_count": 25,
   "metadata": {},
   "outputs": [],
   "source": [
    "def plotesc(indicador,escenario,title):\n",
    "    A = indicador.loc[indicador['escenario'] == 'A']\n",
    "    B = indicador.loc[indicador['escenario'] == 'B']\n",
    "    C = indicador.loc[indicador['escenario'] == 'C']\n",
    "    D = indicador.loc[indicador['escenario'] == 'D']\n",
    "    x = escenario['timestamp']\n",
    "    data1 = go.Scatter(x=x,y= escenario['Direccion'], mode= 'lines+markers', name= 'Direccion')\n",
    "    data2 = go.Scatter(x=x,y= escenario['Pips Alcistas'], mode= 'lines+markers', name= 'Pips Alcistas')\n",
    "    data3 = go.Scatter(x=x,y= escenario['Pips Bajistas'], mode= 'lines+markers', name= 'Pips Bajistas')\n",
    "    data4 = go.Scatter(x=x,y= escenario['Volatilidad'], mode= 'lines+markers', name= 'Volatilidad')\n",
    "\n",
    "    data= [data1,data2,data3,data4]\n",
    "    layout = go.Layout(title=title, xaxis=dict(title='Fechas'),yaxis=dict(title='Rendimiento'))\n",
    "    fig = go.Figure(data=data,layout=layout)\n",
    "    iplot(fig)"
   ]
  },
  {
   "cell_type": "code",
   "execution_count": 26,
   "metadata": {},
   "outputs": [
    {
     "data": {
      "application/vnd.plotly.v1+json": {
       "config": {
        "linkText": "Export to plot.ly",
        "plotlyServerURL": "https://plot.ly",
        "showLink": false
       },
       "data": [
        {
         "mode": "lines+markers",
         "name": "Direccion",
         "type": "scatter",
         "x": [
          "2011-05-06T06:45:00+00:00",
          "2011-10-07T06:45:00+00:00",
          "2011-12-07T07:45:00+00:00",
          "2012-05-09T06:45:00+00:00",
          "2012-07-06T06:45:00+00:00",
          "2012-09-07T06:45:00+00:00",
          "2012-11-08T07:45:00+00:00",
          "2012-12-07T07:45:00+00:00",
          "2013-05-07T06:45:00+00:00",
          "2013-06-07T06:45:00+00:00",
          "2013-08-07T06:45:00+00:00",
          "2013-12-06T07:45:00+00:00",
          "2014-04-08T06:45:00+00:00",
          "2014-10-09T06:45:00+00:00",
          "2015-06-05T06:45:00+00:00",
          "2015-08-07T06:45:00+00:00",
          "2016-02-05T07:45:00+00:00",
          "2016-07-07T06:45:00+00:00",
          "2017-01-06T07:45:00+00:00",
          "2017-05-10T06:45:00+00:00",
          "2017-07-07T06:45:00+00:00",
          "2017-10-06T06:45:00+00:00",
          "2018-02-07T07:45:00+00:00",
          "2018-09-07T06:45:00+00:00",
          "2019-07-05T06:45:00+00:00"
         ],
         "y": [
          -0.0011899999999998023,
          0.0026399999999999757,
          0.00012000000000012001,
          -0.0009900000000000464,
          -0.0009700000000001374,
          0.0018700000000000383,
          0,
          0.0006300000000001305,
          -7.00000000000145e-05,
          0.0005799999999998029,
          -0.0007699999999999374,
          -0.0003500000000000725,
          0.0006900000000000794,
          0.0009399999999999409,
          0.0009000000000001229,
          0.0005399999999999849,
          -0.00013999999999980695,
          -0.0004099999999997994,
          0.0012399999999999078,
          0.000600000000000156,
          9.999999999998899e-05,
          0,
          -0.0023299999999999432,
          -9.999999999998899e-05,
          -0.00029999999999996696
         ]
        },
        {
         "mode": "lines+markers",
         "name": "Pips Alcistas",
         "type": "scatter",
         "x": [
          "2011-05-06T06:45:00+00:00",
          "2011-10-07T06:45:00+00:00",
          "2011-12-07T07:45:00+00:00",
          "2012-05-09T06:45:00+00:00",
          "2012-07-06T06:45:00+00:00",
          "2012-09-07T06:45:00+00:00",
          "2012-11-08T07:45:00+00:00",
          "2012-12-07T07:45:00+00:00",
          "2013-05-07T06:45:00+00:00",
          "2013-06-07T06:45:00+00:00",
          "2013-08-07T06:45:00+00:00",
          "2013-12-06T07:45:00+00:00",
          "2014-04-08T06:45:00+00:00",
          "2014-10-09T06:45:00+00:00",
          "2015-06-05T06:45:00+00:00",
          "2015-08-07T06:45:00+00:00",
          "2016-02-05T07:45:00+00:00",
          "2016-07-07T06:45:00+00:00",
          "2017-01-06T07:45:00+00:00",
          "2017-05-10T06:45:00+00:00",
          "2017-07-07T06:45:00+00:00",
          "2017-10-06T06:45:00+00:00",
          "2018-02-07T07:45:00+00:00",
          "2018-09-07T06:45:00+00:00",
          "2019-07-05T06:45:00+00:00"
         ],
         "y": [
          0.0011600000000000499,
          0.0031200000000000117,
          0.0006200000000000649,
          0.000220000000000109,
          0,
          0.00266999999999995,
          0.0012100000000001554,
          0.001080000000000192,
          0.00024000000000001798,
          0.0016799999999999038,
          0.0010099999999999554,
          0.0006099999999999994,
          0.0008600000000000829,
          0.002569999999999961,
          0.0031200000000000117,
          0.0007600000000000939,
          0.0014500000000001734,
          0.0004999999999999449,
          0.0014499999999999513,
          0.0010200000000000209,
          0.0010799999999997478,
          0.000660000000000105,
          0.0005800000000000249,
          0.0010799999999999699,
          8.999999999992347e-05
         ]
        },
        {
         "mode": "lines+markers",
         "name": "Pips Bajistas",
         "type": "scatter",
         "x": [
          "2011-05-06T06:45:00+00:00",
          "2011-10-07T06:45:00+00:00",
          "2011-12-07T07:45:00+00:00",
          "2012-05-09T06:45:00+00:00",
          "2012-07-06T06:45:00+00:00",
          "2012-09-07T06:45:00+00:00",
          "2012-11-08T07:45:00+00:00",
          "2012-12-07T07:45:00+00:00",
          "2013-05-07T06:45:00+00:00",
          "2013-06-07T06:45:00+00:00",
          "2013-08-07T06:45:00+00:00",
          "2013-12-06T07:45:00+00:00",
          "2014-04-08T06:45:00+00:00",
          "2014-10-09T06:45:00+00:00",
          "2015-06-05T06:45:00+00:00",
          "2015-08-07T06:45:00+00:00",
          "2016-02-05T07:45:00+00:00",
          "2016-07-07T06:45:00+00:00",
          "2017-01-06T07:45:00+00:00",
          "2017-05-10T06:45:00+00:00",
          "2017-07-07T06:45:00+00:00",
          "2017-10-06T06:45:00+00:00",
          "2018-02-07T07:45:00+00:00",
          "2018-09-07T06:45:00+00:00",
          "2019-07-05T06:45:00+00:00"
         ],
         "y": [
          0.0023199999999998777,
          0.00039999999999995595,
          0.0007599999999998719,
          0.0017699999999998273,
          0.0017700000000000493,
          0.0006500000000000394,
          0.00031999999999987594,
          5.999999999994898e-05,
          0.0014799999999999258,
          4.000000000026205e-05,
          0.0010900000000000354,
          0.0004999999999999449,
          0.00018999999999991246,
          0,
          0.0008799999999999919,
          0.0008399999999999519,
          0.0010099999999999554,
          0.0007999999999999119,
          0.00039999999999995595,
          5.999999999972694e-05,
          0.00034000000000000696,
          0.000180000000000069,
          0.0027400000000001867,
          0.0005599999999998939,
          0.00039999999999995595
         ]
        },
        {
         "mode": "lines+markers",
         "name": "Volatilidad",
         "type": "scatter",
         "x": [
          "2011-05-06T06:45:00+00:00",
          "2011-10-07T06:45:00+00:00",
          "2011-12-07T07:45:00+00:00",
          "2012-05-09T06:45:00+00:00",
          "2012-07-06T06:45:00+00:00",
          "2012-09-07T06:45:00+00:00",
          "2012-11-08T07:45:00+00:00",
          "2012-12-07T07:45:00+00:00",
          "2013-05-07T06:45:00+00:00",
          "2013-06-07T06:45:00+00:00",
          "2013-08-07T06:45:00+00:00",
          "2013-12-06T07:45:00+00:00",
          "2014-04-08T06:45:00+00:00",
          "2014-10-09T06:45:00+00:00",
          "2015-06-05T06:45:00+00:00",
          "2015-08-07T06:45:00+00:00",
          "2016-02-05T07:45:00+00:00",
          "2016-07-07T06:45:00+00:00",
          "2017-01-06T07:45:00+00:00",
          "2017-05-10T06:45:00+00:00",
          "2017-07-07T06:45:00+00:00",
          "2017-10-06T06:45:00+00:00",
          "2018-02-07T07:45:00+00:00",
          "2018-09-07T06:45:00+00:00",
          "2019-07-05T06:45:00+00:00"
         ],
         "y": [
          0.004150000000000098,
          0.0040199999999999125,
          0.0020899999999999253,
          0.0019899999999999363,
          0.001980000000000093,
          0.0035800000000001386,
          0.0023900000000001143,
          0.0035000000000000586,
          0.0017199999999999438,
          0.0017599999999999838,
          0.0021599999999999397,
          0.0011099999999999444,
          0.0012600000000000389,
          0.003689999999999971,
          0.005440000000000111,
          0.002020000000000133,
          0.0024600000000001288,
          0.0017099999999998783,
          0.0018499999999999073,
          0.0013399999999998968,
          0.0016999999999998128,
          0.000980000000000203,
          0.0043600000000001415,
          0.0016399999999998638,
          0.0006599999999998829
         ]
        }
       ],
       "layout": {
        "template": {
         "data": {
          "bar": [
           {
            "error_x": {
             "color": "#2a3f5f"
            },
            "error_y": {
             "color": "#2a3f5f"
            },
            "marker": {
             "line": {
              "color": "#E5ECF6",
              "width": 0.5
             }
            },
            "type": "bar"
           }
          ],
          "barpolar": [
           {
            "marker": {
             "line": {
              "color": "#E5ECF6",
              "width": 0.5
             }
            },
            "type": "barpolar"
           }
          ],
          "carpet": [
           {
            "aaxis": {
             "endlinecolor": "#2a3f5f",
             "gridcolor": "white",
             "linecolor": "white",
             "minorgridcolor": "white",
             "startlinecolor": "#2a3f5f"
            },
            "baxis": {
             "endlinecolor": "#2a3f5f",
             "gridcolor": "white",
             "linecolor": "white",
             "minorgridcolor": "white",
             "startlinecolor": "#2a3f5f"
            },
            "type": "carpet"
           }
          ],
          "choropleth": [
           {
            "colorbar": {
             "outlinewidth": 0,
             "ticks": ""
            },
            "type": "choropleth"
           }
          ],
          "contour": [
           {
            "colorbar": {
             "outlinewidth": 0,
             "ticks": ""
            },
            "colorscale": [
             [
              0,
              "#0d0887"
             ],
             [
              0.1111111111111111,
              "#46039f"
             ],
             [
              0.2222222222222222,
              "#7201a8"
             ],
             [
              0.3333333333333333,
              "#9c179e"
             ],
             [
              0.4444444444444444,
              "#bd3786"
             ],
             [
              0.5555555555555556,
              "#d8576b"
             ],
             [
              0.6666666666666666,
              "#ed7953"
             ],
             [
              0.7777777777777778,
              "#fb9f3a"
             ],
             [
              0.8888888888888888,
              "#fdca26"
             ],
             [
              1,
              "#f0f921"
             ]
            ],
            "type": "contour"
           }
          ],
          "contourcarpet": [
           {
            "colorbar": {
             "outlinewidth": 0,
             "ticks": ""
            },
            "type": "contourcarpet"
           }
          ],
          "heatmap": [
           {
            "colorbar": {
             "outlinewidth": 0,
             "ticks": ""
            },
            "colorscale": [
             [
              0,
              "#0d0887"
             ],
             [
              0.1111111111111111,
              "#46039f"
             ],
             [
              0.2222222222222222,
              "#7201a8"
             ],
             [
              0.3333333333333333,
              "#9c179e"
             ],
             [
              0.4444444444444444,
              "#bd3786"
             ],
             [
              0.5555555555555556,
              "#d8576b"
             ],
             [
              0.6666666666666666,
              "#ed7953"
             ],
             [
              0.7777777777777778,
              "#fb9f3a"
             ],
             [
              0.8888888888888888,
              "#fdca26"
             ],
             [
              1,
              "#f0f921"
             ]
            ],
            "type": "heatmap"
           }
          ],
          "heatmapgl": [
           {
            "colorbar": {
             "outlinewidth": 0,
             "ticks": ""
            },
            "colorscale": [
             [
              0,
              "#0d0887"
             ],
             [
              0.1111111111111111,
              "#46039f"
             ],
             [
              0.2222222222222222,
              "#7201a8"
             ],
             [
              0.3333333333333333,
              "#9c179e"
             ],
             [
              0.4444444444444444,
              "#bd3786"
             ],
             [
              0.5555555555555556,
              "#d8576b"
             ],
             [
              0.6666666666666666,
              "#ed7953"
             ],
             [
              0.7777777777777778,
              "#fb9f3a"
             ],
             [
              0.8888888888888888,
              "#fdca26"
             ],
             [
              1,
              "#f0f921"
             ]
            ],
            "type": "heatmapgl"
           }
          ],
          "histogram": [
           {
            "marker": {
             "colorbar": {
              "outlinewidth": 0,
              "ticks": ""
             }
            },
            "type": "histogram"
           }
          ],
          "histogram2d": [
           {
            "colorbar": {
             "outlinewidth": 0,
             "ticks": ""
            },
            "colorscale": [
             [
              0,
              "#0d0887"
             ],
             [
              0.1111111111111111,
              "#46039f"
             ],
             [
              0.2222222222222222,
              "#7201a8"
             ],
             [
              0.3333333333333333,
              "#9c179e"
             ],
             [
              0.4444444444444444,
              "#bd3786"
             ],
             [
              0.5555555555555556,
              "#d8576b"
             ],
             [
              0.6666666666666666,
              "#ed7953"
             ],
             [
              0.7777777777777778,
              "#fb9f3a"
             ],
             [
              0.8888888888888888,
              "#fdca26"
             ],
             [
              1,
              "#f0f921"
             ]
            ],
            "type": "histogram2d"
           }
          ],
          "histogram2dcontour": [
           {
            "colorbar": {
             "outlinewidth": 0,
             "ticks": ""
            },
            "colorscale": [
             [
              0,
              "#0d0887"
             ],
             [
              0.1111111111111111,
              "#46039f"
             ],
             [
              0.2222222222222222,
              "#7201a8"
             ],
             [
              0.3333333333333333,
              "#9c179e"
             ],
             [
              0.4444444444444444,
              "#bd3786"
             ],
             [
              0.5555555555555556,
              "#d8576b"
             ],
             [
              0.6666666666666666,
              "#ed7953"
             ],
             [
              0.7777777777777778,
              "#fb9f3a"
             ],
             [
              0.8888888888888888,
              "#fdca26"
             ],
             [
              1,
              "#f0f921"
             ]
            ],
            "type": "histogram2dcontour"
           }
          ],
          "mesh3d": [
           {
            "colorbar": {
             "outlinewidth": 0,
             "ticks": ""
            },
            "type": "mesh3d"
           }
          ],
          "parcoords": [
           {
            "line": {
             "colorbar": {
              "outlinewidth": 0,
              "ticks": ""
             }
            },
            "type": "parcoords"
           }
          ],
          "pie": [
           {
            "automargin": true,
            "type": "pie"
           }
          ],
          "scatter": [
           {
            "marker": {
             "colorbar": {
              "outlinewidth": 0,
              "ticks": ""
             }
            },
            "type": "scatter"
           }
          ],
          "scatter3d": [
           {
            "line": {
             "colorbar": {
              "outlinewidth": 0,
              "ticks": ""
             }
            },
            "marker": {
             "colorbar": {
              "outlinewidth": 0,
              "ticks": ""
             }
            },
            "type": "scatter3d"
           }
          ],
          "scattercarpet": [
           {
            "marker": {
             "colorbar": {
              "outlinewidth": 0,
              "ticks": ""
             }
            },
            "type": "scattercarpet"
           }
          ],
          "scattergeo": [
           {
            "marker": {
             "colorbar": {
              "outlinewidth": 0,
              "ticks": ""
             }
            },
            "type": "scattergeo"
           }
          ],
          "scattergl": [
           {
            "marker": {
             "colorbar": {
              "outlinewidth": 0,
              "ticks": ""
             }
            },
            "type": "scattergl"
           }
          ],
          "scattermapbox": [
           {
            "marker": {
             "colorbar": {
              "outlinewidth": 0,
              "ticks": ""
             }
            },
            "type": "scattermapbox"
           }
          ],
          "scatterpolar": [
           {
            "marker": {
             "colorbar": {
              "outlinewidth": 0,
              "ticks": ""
             }
            },
            "type": "scatterpolar"
           }
          ],
          "scatterpolargl": [
           {
            "marker": {
             "colorbar": {
              "outlinewidth": 0,
              "ticks": ""
             }
            },
            "type": "scatterpolargl"
           }
          ],
          "scatterternary": [
           {
            "marker": {
             "colorbar": {
              "outlinewidth": 0,
              "ticks": ""
             }
            },
            "type": "scatterternary"
           }
          ],
          "surface": [
           {
            "colorbar": {
             "outlinewidth": 0,
             "ticks": ""
            },
            "colorscale": [
             [
              0,
              "#0d0887"
             ],
             [
              0.1111111111111111,
              "#46039f"
             ],
             [
              0.2222222222222222,
              "#7201a8"
             ],
             [
              0.3333333333333333,
              "#9c179e"
             ],
             [
              0.4444444444444444,
              "#bd3786"
             ],
             [
              0.5555555555555556,
              "#d8576b"
             ],
             [
              0.6666666666666666,
              "#ed7953"
             ],
             [
              0.7777777777777778,
              "#fb9f3a"
             ],
             [
              0.8888888888888888,
              "#fdca26"
             ],
             [
              1,
              "#f0f921"
             ]
            ],
            "type": "surface"
           }
          ],
          "table": [
           {
            "cells": {
             "fill": {
              "color": "#EBF0F8"
             },
             "line": {
              "color": "white"
             }
            },
            "header": {
             "fill": {
              "color": "#C8D4E3"
             },
             "line": {
              "color": "white"
             }
            },
            "type": "table"
           }
          ]
         },
         "layout": {
          "annotationdefaults": {
           "arrowcolor": "#2a3f5f",
           "arrowhead": 0,
           "arrowwidth": 1
          },
          "coloraxis": {
           "colorbar": {
            "outlinewidth": 0,
            "ticks": ""
           }
          },
          "colorscale": {
           "diverging": [
            [
             0,
             "#8e0152"
            ],
            [
             0.1,
             "#c51b7d"
            ],
            [
             0.2,
             "#de77ae"
            ],
            [
             0.3,
             "#f1b6da"
            ],
            [
             0.4,
             "#fde0ef"
            ],
            [
             0.5,
             "#f7f7f7"
            ],
            [
             0.6,
             "#e6f5d0"
            ],
            [
             0.7,
             "#b8e186"
            ],
            [
             0.8,
             "#7fbc41"
            ],
            [
             0.9,
             "#4d9221"
            ],
            [
             1,
             "#276419"
            ]
           ],
           "sequential": [
            [
             0,
             "#0d0887"
            ],
            [
             0.1111111111111111,
             "#46039f"
            ],
            [
             0.2222222222222222,
             "#7201a8"
            ],
            [
             0.3333333333333333,
             "#9c179e"
            ],
            [
             0.4444444444444444,
             "#bd3786"
            ],
            [
             0.5555555555555556,
             "#d8576b"
            ],
            [
             0.6666666666666666,
             "#ed7953"
            ],
            [
             0.7777777777777778,
             "#fb9f3a"
            ],
            [
             0.8888888888888888,
             "#fdca26"
            ],
            [
             1,
             "#f0f921"
            ]
           ],
           "sequentialminus": [
            [
             0,
             "#0d0887"
            ],
            [
             0.1111111111111111,
             "#46039f"
            ],
            [
             0.2222222222222222,
             "#7201a8"
            ],
            [
             0.3333333333333333,
             "#9c179e"
            ],
            [
             0.4444444444444444,
             "#bd3786"
            ],
            [
             0.5555555555555556,
             "#d8576b"
            ],
            [
             0.6666666666666666,
             "#ed7953"
            ],
            [
             0.7777777777777778,
             "#fb9f3a"
            ],
            [
             0.8888888888888888,
             "#fdca26"
            ],
            [
             1,
             "#f0f921"
            ]
           ]
          },
          "colorway": [
           "#636efa",
           "#EF553B",
           "#00cc96",
           "#ab63fa",
           "#FFA15A",
           "#19d3f3",
           "#FF6692",
           "#B6E880",
           "#FF97FF",
           "#FECB52"
          ],
          "font": {
           "color": "#2a3f5f"
          },
          "geo": {
           "bgcolor": "white",
           "lakecolor": "white",
           "landcolor": "#E5ECF6",
           "showlakes": true,
           "showland": true,
           "subunitcolor": "white"
          },
          "hoverlabel": {
           "align": "left"
          },
          "hovermode": "closest",
          "mapbox": {
           "style": "light"
          },
          "paper_bgcolor": "white",
          "plot_bgcolor": "#E5ECF6",
          "polar": {
           "angularaxis": {
            "gridcolor": "white",
            "linecolor": "white",
            "ticks": ""
           },
           "bgcolor": "#E5ECF6",
           "radialaxis": {
            "gridcolor": "white",
            "linecolor": "white",
            "ticks": ""
           }
          },
          "scene": {
           "xaxis": {
            "backgroundcolor": "#E5ECF6",
            "gridcolor": "white",
            "gridwidth": 2,
            "linecolor": "white",
            "showbackground": true,
            "ticks": "",
            "zerolinecolor": "white"
           },
           "yaxis": {
            "backgroundcolor": "#E5ECF6",
            "gridcolor": "white",
            "gridwidth": 2,
            "linecolor": "white",
            "showbackground": true,
            "ticks": "",
            "zerolinecolor": "white"
           },
           "zaxis": {
            "backgroundcolor": "#E5ECF6",
            "gridcolor": "white",
            "gridwidth": 2,
            "linecolor": "white",
            "showbackground": true,
            "ticks": "",
            "zerolinecolor": "white"
           }
          },
          "shapedefaults": {
           "line": {
            "color": "#2a3f5f"
           }
          },
          "ternary": {
           "aaxis": {
            "gridcolor": "white",
            "linecolor": "white",
            "ticks": ""
           },
           "baxis": {
            "gridcolor": "white",
            "linecolor": "white",
            "ticks": ""
           },
           "bgcolor": "#E5ECF6",
           "caxis": {
            "gridcolor": "white",
            "linecolor": "white",
            "ticks": ""
           }
          },
          "title": {
           "x": 0.05
          },
          "xaxis": {
           "automargin": true,
           "gridcolor": "white",
           "linecolor": "white",
           "ticks": "",
           "title": {
            "standoff": 15
           },
           "zerolinecolor": "white",
           "zerolinewidth": 2
          },
          "yaxis": {
           "automargin": true,
           "gridcolor": "white",
           "linecolor": "white",
           "ticks": "",
           "title": {
            "standoff": 15
           },
           "zerolinecolor": "white",
           "zerolinewidth": 2
          }
         }
        },
        "title": {
         "text": "ESCENARIO A : Actual >= Consensus >= Previous"
        },
        "xaxis": {
         "title": {
          "text": "Fechas"
         }
        },
        "yaxis": {
         "title": {
          "text": "Rendimiento"
         }
        }
       }
      },
      "text/html": [
       "<div>\n",
       "        \n",
       "        \n",
       "            <div id=\"53915bb7-0c86-4c4c-93a8-6628c3a27fb2\" class=\"plotly-graph-div\" style=\"height:525px; width:100%;\"></div>\n",
       "            <script type=\"text/javascript\">\n",
       "                require([\"plotly\"], function(Plotly) {\n",
       "                    window.PLOTLYENV=window.PLOTLYENV || {};\n",
       "                    \n",
       "                if (document.getElementById(\"53915bb7-0c86-4c4c-93a8-6628c3a27fb2\")) {\n",
       "                    Plotly.newPlot(\n",
       "                        '53915bb7-0c86-4c4c-93a8-6628c3a27fb2',\n",
       "                        [{\"mode\": \"lines+markers\", \"name\": \"Direccion\", \"type\": \"scatter\", \"x\": [\"2011-05-06T06:45:00+00:00\", \"2011-10-07T06:45:00+00:00\", \"2011-12-07T07:45:00+00:00\", \"2012-05-09T06:45:00+00:00\", \"2012-07-06T06:45:00+00:00\", \"2012-09-07T06:45:00+00:00\", \"2012-11-08T07:45:00+00:00\", \"2012-12-07T07:45:00+00:00\", \"2013-05-07T06:45:00+00:00\", \"2013-06-07T06:45:00+00:00\", \"2013-08-07T06:45:00+00:00\", \"2013-12-06T07:45:00+00:00\", \"2014-04-08T06:45:00+00:00\", \"2014-10-09T06:45:00+00:00\", \"2015-06-05T06:45:00+00:00\", \"2015-08-07T06:45:00+00:00\", \"2016-02-05T07:45:00+00:00\", \"2016-07-07T06:45:00+00:00\", \"2017-01-06T07:45:00+00:00\", \"2017-05-10T06:45:00+00:00\", \"2017-07-07T06:45:00+00:00\", \"2017-10-06T06:45:00+00:00\", \"2018-02-07T07:45:00+00:00\", \"2018-09-07T06:45:00+00:00\", \"2019-07-05T06:45:00+00:00\"], \"y\": [-0.0011899999999998023, 0.0026399999999999757, 0.00012000000000012001, -0.0009900000000000464, -0.0009700000000001374, 0.0018700000000000383, 0.0, 0.0006300000000001305, -7.00000000000145e-05, 0.0005799999999998029, -0.0007699999999999374, -0.0003500000000000725, 0.0006900000000000794, 0.0009399999999999409, 0.0009000000000001229, 0.0005399999999999849, -0.00013999999999980695, -0.0004099999999997994, 0.0012399999999999078, 0.000600000000000156, 9.999999999998899e-05, 0.0, -0.0023299999999999432, -9.999999999998899e-05, -0.00029999999999996696]}, {\"mode\": \"lines+markers\", \"name\": \"Pips Alcistas\", \"type\": \"scatter\", \"x\": [\"2011-05-06T06:45:00+00:00\", \"2011-10-07T06:45:00+00:00\", \"2011-12-07T07:45:00+00:00\", \"2012-05-09T06:45:00+00:00\", \"2012-07-06T06:45:00+00:00\", \"2012-09-07T06:45:00+00:00\", \"2012-11-08T07:45:00+00:00\", \"2012-12-07T07:45:00+00:00\", \"2013-05-07T06:45:00+00:00\", \"2013-06-07T06:45:00+00:00\", \"2013-08-07T06:45:00+00:00\", \"2013-12-06T07:45:00+00:00\", \"2014-04-08T06:45:00+00:00\", \"2014-10-09T06:45:00+00:00\", \"2015-06-05T06:45:00+00:00\", \"2015-08-07T06:45:00+00:00\", \"2016-02-05T07:45:00+00:00\", \"2016-07-07T06:45:00+00:00\", \"2017-01-06T07:45:00+00:00\", \"2017-05-10T06:45:00+00:00\", \"2017-07-07T06:45:00+00:00\", \"2017-10-06T06:45:00+00:00\", \"2018-02-07T07:45:00+00:00\", \"2018-09-07T06:45:00+00:00\", \"2019-07-05T06:45:00+00:00\"], \"y\": [0.0011600000000000499, 0.0031200000000000117, 0.0006200000000000649, 0.000220000000000109, 0.0, 0.00266999999999995, 0.0012100000000001554, 0.001080000000000192, 0.00024000000000001798, 0.0016799999999999038, 0.0010099999999999554, 0.0006099999999999994, 0.0008600000000000829, 0.002569999999999961, 0.0031200000000000117, 0.0007600000000000939, 0.0014500000000001734, 0.0004999999999999449, 0.0014499999999999513, 0.0010200000000000209, 0.0010799999999997478, 0.000660000000000105, 0.0005800000000000249, 0.0010799999999999699, 8.999999999992347e-05]}, {\"mode\": \"lines+markers\", \"name\": \"Pips Bajistas\", \"type\": \"scatter\", \"x\": [\"2011-05-06T06:45:00+00:00\", \"2011-10-07T06:45:00+00:00\", \"2011-12-07T07:45:00+00:00\", \"2012-05-09T06:45:00+00:00\", \"2012-07-06T06:45:00+00:00\", \"2012-09-07T06:45:00+00:00\", \"2012-11-08T07:45:00+00:00\", \"2012-12-07T07:45:00+00:00\", \"2013-05-07T06:45:00+00:00\", \"2013-06-07T06:45:00+00:00\", \"2013-08-07T06:45:00+00:00\", \"2013-12-06T07:45:00+00:00\", \"2014-04-08T06:45:00+00:00\", \"2014-10-09T06:45:00+00:00\", \"2015-06-05T06:45:00+00:00\", \"2015-08-07T06:45:00+00:00\", \"2016-02-05T07:45:00+00:00\", \"2016-07-07T06:45:00+00:00\", \"2017-01-06T07:45:00+00:00\", \"2017-05-10T06:45:00+00:00\", \"2017-07-07T06:45:00+00:00\", \"2017-10-06T06:45:00+00:00\", \"2018-02-07T07:45:00+00:00\", \"2018-09-07T06:45:00+00:00\", \"2019-07-05T06:45:00+00:00\"], \"y\": [0.0023199999999998777, 0.00039999999999995595, 0.0007599999999998719, 0.0017699999999998273, 0.0017700000000000493, 0.0006500000000000394, 0.00031999999999987594, 5.999999999994898e-05, 0.0014799999999999258, 4.000000000026205e-05, 0.0010900000000000354, 0.0004999999999999449, 0.00018999999999991246, 0.0, 0.0008799999999999919, 0.0008399999999999519, 0.0010099999999999554, 0.0007999999999999119, 0.00039999999999995595, 5.999999999972694e-05, 0.00034000000000000696, 0.000180000000000069, 0.0027400000000001867, 0.0005599999999998939, 0.00039999999999995595]}, {\"mode\": \"lines+markers\", \"name\": \"Volatilidad\", \"type\": \"scatter\", \"x\": [\"2011-05-06T06:45:00+00:00\", \"2011-10-07T06:45:00+00:00\", \"2011-12-07T07:45:00+00:00\", \"2012-05-09T06:45:00+00:00\", \"2012-07-06T06:45:00+00:00\", \"2012-09-07T06:45:00+00:00\", \"2012-11-08T07:45:00+00:00\", \"2012-12-07T07:45:00+00:00\", \"2013-05-07T06:45:00+00:00\", \"2013-06-07T06:45:00+00:00\", \"2013-08-07T06:45:00+00:00\", \"2013-12-06T07:45:00+00:00\", \"2014-04-08T06:45:00+00:00\", \"2014-10-09T06:45:00+00:00\", \"2015-06-05T06:45:00+00:00\", \"2015-08-07T06:45:00+00:00\", \"2016-02-05T07:45:00+00:00\", \"2016-07-07T06:45:00+00:00\", \"2017-01-06T07:45:00+00:00\", \"2017-05-10T06:45:00+00:00\", \"2017-07-07T06:45:00+00:00\", \"2017-10-06T06:45:00+00:00\", \"2018-02-07T07:45:00+00:00\", \"2018-09-07T06:45:00+00:00\", \"2019-07-05T06:45:00+00:00\"], \"y\": [0.004150000000000098, 0.0040199999999999125, 0.0020899999999999253, 0.0019899999999999363, 0.001980000000000093, 0.0035800000000001386, 0.0023900000000001143, 0.0035000000000000586, 0.0017199999999999438, 0.0017599999999999838, 0.0021599999999999397, 0.0011099999999999444, 0.0012600000000000389, 0.003689999999999971, 0.005440000000000111, 0.002020000000000133, 0.0024600000000001288, 0.0017099999999998783, 0.0018499999999999073, 0.0013399999999998968, 0.0016999999999998128, 0.000980000000000203, 0.0043600000000001415, 0.0016399999999998638, 0.0006599999999998829]}],\n",
       "                        {\"template\": {\"data\": {\"bar\": [{\"error_x\": {\"color\": \"#2a3f5f\"}, \"error_y\": {\"color\": \"#2a3f5f\"}, \"marker\": {\"line\": {\"color\": \"#E5ECF6\", \"width\": 0.5}}, \"type\": \"bar\"}], \"barpolar\": [{\"marker\": {\"line\": {\"color\": \"#E5ECF6\", \"width\": 0.5}}, \"type\": \"barpolar\"}], \"carpet\": [{\"aaxis\": {\"endlinecolor\": \"#2a3f5f\", \"gridcolor\": \"white\", \"linecolor\": \"white\", \"minorgridcolor\": \"white\", \"startlinecolor\": \"#2a3f5f\"}, \"baxis\": {\"endlinecolor\": \"#2a3f5f\", \"gridcolor\": \"white\", \"linecolor\": \"white\", \"minorgridcolor\": \"white\", \"startlinecolor\": \"#2a3f5f\"}, \"type\": \"carpet\"}], \"choropleth\": [{\"colorbar\": {\"outlinewidth\": 0, \"ticks\": \"\"}, \"type\": \"choropleth\"}], \"contour\": [{\"colorbar\": {\"outlinewidth\": 0, \"ticks\": \"\"}, \"colorscale\": [[0.0, \"#0d0887\"], [0.1111111111111111, \"#46039f\"], [0.2222222222222222, \"#7201a8\"], [0.3333333333333333, \"#9c179e\"], [0.4444444444444444, \"#bd3786\"], [0.5555555555555556, \"#d8576b\"], [0.6666666666666666, \"#ed7953\"], [0.7777777777777778, \"#fb9f3a\"], [0.8888888888888888, \"#fdca26\"], [1.0, \"#f0f921\"]], \"type\": \"contour\"}], \"contourcarpet\": [{\"colorbar\": {\"outlinewidth\": 0, \"ticks\": \"\"}, \"type\": \"contourcarpet\"}], \"heatmap\": [{\"colorbar\": {\"outlinewidth\": 0, \"ticks\": \"\"}, \"colorscale\": [[0.0, \"#0d0887\"], [0.1111111111111111, \"#46039f\"], [0.2222222222222222, \"#7201a8\"], [0.3333333333333333, \"#9c179e\"], [0.4444444444444444, \"#bd3786\"], [0.5555555555555556, \"#d8576b\"], [0.6666666666666666, \"#ed7953\"], [0.7777777777777778, \"#fb9f3a\"], [0.8888888888888888, \"#fdca26\"], [1.0, \"#f0f921\"]], \"type\": \"heatmap\"}], \"heatmapgl\": [{\"colorbar\": {\"outlinewidth\": 0, \"ticks\": \"\"}, \"colorscale\": [[0.0, \"#0d0887\"], [0.1111111111111111, \"#46039f\"], [0.2222222222222222, \"#7201a8\"], [0.3333333333333333, \"#9c179e\"], [0.4444444444444444, \"#bd3786\"], [0.5555555555555556, \"#d8576b\"], [0.6666666666666666, \"#ed7953\"], [0.7777777777777778, \"#fb9f3a\"], [0.8888888888888888, \"#fdca26\"], [1.0, \"#f0f921\"]], \"type\": \"heatmapgl\"}], \"histogram\": [{\"marker\": {\"colorbar\": {\"outlinewidth\": 0, \"ticks\": \"\"}}, \"type\": \"histogram\"}], \"histogram2d\": [{\"colorbar\": {\"outlinewidth\": 0, \"ticks\": \"\"}, \"colorscale\": [[0.0, \"#0d0887\"], [0.1111111111111111, \"#46039f\"], [0.2222222222222222, \"#7201a8\"], [0.3333333333333333, \"#9c179e\"], [0.4444444444444444, \"#bd3786\"], [0.5555555555555556, \"#d8576b\"], [0.6666666666666666, \"#ed7953\"], [0.7777777777777778, \"#fb9f3a\"], [0.8888888888888888, \"#fdca26\"], [1.0, \"#f0f921\"]], \"type\": \"histogram2d\"}], \"histogram2dcontour\": [{\"colorbar\": {\"outlinewidth\": 0, \"ticks\": \"\"}, \"colorscale\": [[0.0, \"#0d0887\"], [0.1111111111111111, \"#46039f\"], [0.2222222222222222, \"#7201a8\"], [0.3333333333333333, \"#9c179e\"], [0.4444444444444444, \"#bd3786\"], [0.5555555555555556, \"#d8576b\"], [0.6666666666666666, \"#ed7953\"], [0.7777777777777778, \"#fb9f3a\"], [0.8888888888888888, \"#fdca26\"], [1.0, \"#f0f921\"]], \"type\": \"histogram2dcontour\"}], \"mesh3d\": [{\"colorbar\": {\"outlinewidth\": 0, \"ticks\": \"\"}, \"type\": \"mesh3d\"}], \"parcoords\": [{\"line\": {\"colorbar\": {\"outlinewidth\": 0, \"ticks\": \"\"}}, \"type\": \"parcoords\"}], \"pie\": [{\"automargin\": true, \"type\": \"pie\"}], \"scatter\": [{\"marker\": {\"colorbar\": {\"outlinewidth\": 0, \"ticks\": \"\"}}, \"type\": \"scatter\"}], \"scatter3d\": [{\"line\": {\"colorbar\": {\"outlinewidth\": 0, \"ticks\": \"\"}}, \"marker\": {\"colorbar\": {\"outlinewidth\": 0, \"ticks\": \"\"}}, \"type\": \"scatter3d\"}], \"scattercarpet\": [{\"marker\": {\"colorbar\": {\"outlinewidth\": 0, \"ticks\": \"\"}}, \"type\": \"scattercarpet\"}], \"scattergeo\": [{\"marker\": {\"colorbar\": {\"outlinewidth\": 0, \"ticks\": \"\"}}, \"type\": \"scattergeo\"}], \"scattergl\": [{\"marker\": {\"colorbar\": {\"outlinewidth\": 0, \"ticks\": \"\"}}, \"type\": \"scattergl\"}], \"scattermapbox\": [{\"marker\": {\"colorbar\": {\"outlinewidth\": 0, \"ticks\": \"\"}}, \"type\": \"scattermapbox\"}], \"scatterpolar\": [{\"marker\": {\"colorbar\": {\"outlinewidth\": 0, \"ticks\": \"\"}}, \"type\": \"scatterpolar\"}], \"scatterpolargl\": [{\"marker\": {\"colorbar\": {\"outlinewidth\": 0, \"ticks\": \"\"}}, \"type\": \"scatterpolargl\"}], \"scatterternary\": [{\"marker\": {\"colorbar\": {\"outlinewidth\": 0, \"ticks\": \"\"}}, \"type\": \"scatterternary\"}], \"surface\": [{\"colorbar\": {\"outlinewidth\": 0, \"ticks\": \"\"}, \"colorscale\": [[0.0, \"#0d0887\"], [0.1111111111111111, \"#46039f\"], [0.2222222222222222, \"#7201a8\"], [0.3333333333333333, \"#9c179e\"], [0.4444444444444444, \"#bd3786\"], [0.5555555555555556, \"#d8576b\"], [0.6666666666666666, \"#ed7953\"], [0.7777777777777778, \"#fb9f3a\"], [0.8888888888888888, \"#fdca26\"], [1.0, \"#f0f921\"]], \"type\": \"surface\"}], \"table\": [{\"cells\": {\"fill\": {\"color\": \"#EBF0F8\"}, \"line\": {\"color\": \"white\"}}, \"header\": {\"fill\": {\"color\": \"#C8D4E3\"}, \"line\": {\"color\": \"white\"}}, \"type\": \"table\"}]}, \"layout\": {\"annotationdefaults\": {\"arrowcolor\": \"#2a3f5f\", \"arrowhead\": 0, \"arrowwidth\": 1}, \"coloraxis\": {\"colorbar\": {\"outlinewidth\": 0, \"ticks\": \"\"}}, \"colorscale\": {\"diverging\": [[0, \"#8e0152\"], [0.1, \"#c51b7d\"], [0.2, \"#de77ae\"], [0.3, \"#f1b6da\"], [0.4, \"#fde0ef\"], [0.5, \"#f7f7f7\"], [0.6, \"#e6f5d0\"], [0.7, \"#b8e186\"], [0.8, \"#7fbc41\"], [0.9, \"#4d9221\"], [1, \"#276419\"]], \"sequential\": [[0.0, \"#0d0887\"], [0.1111111111111111, \"#46039f\"], [0.2222222222222222, \"#7201a8\"], [0.3333333333333333, \"#9c179e\"], [0.4444444444444444, \"#bd3786\"], [0.5555555555555556, \"#d8576b\"], [0.6666666666666666, \"#ed7953\"], [0.7777777777777778, \"#fb9f3a\"], [0.8888888888888888, \"#fdca26\"], [1.0, \"#f0f921\"]], \"sequentialminus\": [[0.0, \"#0d0887\"], [0.1111111111111111, \"#46039f\"], [0.2222222222222222, \"#7201a8\"], [0.3333333333333333, \"#9c179e\"], [0.4444444444444444, \"#bd3786\"], [0.5555555555555556, \"#d8576b\"], [0.6666666666666666, \"#ed7953\"], [0.7777777777777778, \"#fb9f3a\"], [0.8888888888888888, \"#fdca26\"], [1.0, \"#f0f921\"]]}, \"colorway\": [\"#636efa\", \"#EF553B\", \"#00cc96\", \"#ab63fa\", \"#FFA15A\", \"#19d3f3\", \"#FF6692\", \"#B6E880\", \"#FF97FF\", \"#FECB52\"], \"font\": {\"color\": \"#2a3f5f\"}, \"geo\": {\"bgcolor\": \"white\", \"lakecolor\": \"white\", \"landcolor\": \"#E5ECF6\", \"showlakes\": true, \"showland\": true, \"subunitcolor\": \"white\"}, \"hoverlabel\": {\"align\": \"left\"}, \"hovermode\": \"closest\", \"mapbox\": {\"style\": \"light\"}, \"paper_bgcolor\": \"white\", \"plot_bgcolor\": \"#E5ECF6\", \"polar\": {\"angularaxis\": {\"gridcolor\": \"white\", \"linecolor\": \"white\", \"ticks\": \"\"}, \"bgcolor\": \"#E5ECF6\", \"radialaxis\": {\"gridcolor\": \"white\", \"linecolor\": \"white\", \"ticks\": \"\"}}, \"scene\": {\"xaxis\": {\"backgroundcolor\": \"#E5ECF6\", \"gridcolor\": \"white\", \"gridwidth\": 2, \"linecolor\": \"white\", \"showbackground\": true, \"ticks\": \"\", \"zerolinecolor\": \"white\"}, \"yaxis\": {\"backgroundcolor\": \"#E5ECF6\", \"gridcolor\": \"white\", \"gridwidth\": 2, \"linecolor\": \"white\", \"showbackground\": true, \"ticks\": \"\", \"zerolinecolor\": \"white\"}, \"zaxis\": {\"backgroundcolor\": \"#E5ECF6\", \"gridcolor\": \"white\", \"gridwidth\": 2, \"linecolor\": \"white\", \"showbackground\": true, \"ticks\": \"\", \"zerolinecolor\": \"white\"}}, \"shapedefaults\": {\"line\": {\"color\": \"#2a3f5f\"}}, \"ternary\": {\"aaxis\": {\"gridcolor\": \"white\", \"linecolor\": \"white\", \"ticks\": \"\"}, \"baxis\": {\"gridcolor\": \"white\", \"linecolor\": \"white\", \"ticks\": \"\"}, \"bgcolor\": \"#E5ECF6\", \"caxis\": {\"gridcolor\": \"white\", \"linecolor\": \"white\", \"ticks\": \"\"}}, \"title\": {\"x\": 0.05}, \"xaxis\": {\"automargin\": true, \"gridcolor\": \"white\", \"linecolor\": \"white\", \"ticks\": \"\", \"title\": {\"standoff\": 15}, \"zerolinecolor\": \"white\", \"zerolinewidth\": 2}, \"yaxis\": {\"automargin\": true, \"gridcolor\": \"white\", \"linecolor\": \"white\", \"ticks\": \"\", \"title\": {\"standoff\": 15}, \"zerolinecolor\": \"white\", \"zerolinewidth\": 2}}}, \"title\": {\"text\": \"ESCENARIO A : Actual >= Consensus >= Previous\"}, \"xaxis\": {\"title\": {\"text\": \"Fechas\"}}, \"yaxis\": {\"title\": {\"text\": \"Rendimiento\"}}},\n",
       "                        {\"responsive\": true}\n",
       "                    ).then(function(){\n",
       "                            \n",
       "var gd = document.getElementById('53915bb7-0c86-4c4c-93a8-6628c3a27fb2');\n",
       "var x = new MutationObserver(function (mutations, observer) {{\n",
       "        var display = window.getComputedStyle(gd).display;\n",
       "        if (!display || display === 'none') {{\n",
       "            console.log([gd, 'removed!']);\n",
       "            Plotly.purge(gd);\n",
       "            observer.disconnect();\n",
       "        }}\n",
       "}});\n",
       "\n",
       "// Listen for the removal of the full notebook cells\n",
       "var notebookContainer = gd.closest('#notebook-container');\n",
       "if (notebookContainer) {{\n",
       "    x.observe(notebookContainer, {childList: true});\n",
       "}}\n",
       "\n",
       "// Listen for the clearing of the current output cell\n",
       "var outputEl = gd.closest('.output');\n",
       "if (outputEl) {{\n",
       "    x.observe(outputEl, {childList: true});\n",
       "}}\n",
       "\n",
       "                        })\n",
       "                };\n",
       "                });\n",
       "            </script>\n",
       "        </div>"
      ]
     },
     "metadata": {},
     "output_type": "display_data"
    }
   ],
   "source": [
    "plotesc(EUR,Aeur,\"ESCENARIO A : Actual >= Consensus >= Previous\")"
   ]
  },
  {
   "cell_type": "code",
   "execution_count": 27,
   "metadata": {},
   "outputs": [
    {
     "data": {
      "application/vnd.plotly.v1+json": {
       "config": {
        "linkText": "Export to plot.ly",
        "plotlyServerURL": "https://plot.ly",
        "showLink": false
       },
       "data": [
        {
         "mode": "lines+markers",
         "name": "Direccion",
         "type": "scatter",
         "x": [
          "2011-08-05T06:45:00+00:00",
          "2011-09-08T06:45:00+00:00",
          "2012-01-09T07:45:00+00:00",
          "2012-02-07T07:45:00+00:00",
          "2012-06-08T06:45:00+00:00",
          "2012-10-09T06:45:00+00:00",
          "2013-01-08T07:45:00+00:00",
          "2014-03-07T07:45:00+00:00",
          "2014-06-06T06:45:00+00:00",
          "2014-11-07T07:45:00+00:00",
          "2014-12-09T07:45:00+00:00",
          "2015-01-09T07:45:00+00:00",
          "2015-02-06T07:45:00+00:00",
          "2015-04-08T06:45:00+00:00",
          "2015-10-07T06:45:00+00:00",
          "2016-03-08T07:45:00+00:00",
          "2016-08-05T06:45:00+00:00",
          "2017-02-07T07:45:00+00:00",
          "2017-06-08T06:45:00+00:00",
          "2017-08-08T06:45:00+00:00",
          "2017-11-08T07:45:00+00:00",
          "2018-06-07T06:45:00+00:00",
          "2018-11-08T07:45:00+00:00",
          "2018-12-07T07:45:00+00:00",
          "2019-01-08T07:45:00+00:00",
          "2019-03-08T07:45:00+00:00",
          "2019-04-05T06:45:00+00:00"
         ],
         "y": [
          0.003149999999999986,
          0.00042000000000008697,
          0.00029999999999996696,
          -0.0017700000000002714,
          -1.999999999990898e-05,
          -0.0012300000000002864,
          -0.0002700000000002145,
          0.0005500000000000504,
          -0.0009500000000000064,
          0.0010300000000000864,
          0.0022899999999999032,
          0.0019000000000000128,
          -0.00025999999999992696,
          0.0031399999999999206,
          -0.002409999999999801,
          -0.000320000000000098,
          -0.00035999999999991594,
          -0.0027800000000000047,
          0.00017000000000000348,
          -0.00013000000000018552,
          0.0007600000000000939,
          0.0013600000000000279,
          0.0006900000000000794,
          -0.00048000000000003595,
          -0.00036999999999998145,
          3.999999999981796e-05,
          -0.0007600000000000939
         ]
        },
        {
         "mode": "lines+markers",
         "name": "Pips Alcistas",
         "type": "scatter",
         "x": [
          "2011-08-05T06:45:00+00:00",
          "2011-09-08T06:45:00+00:00",
          "2012-01-09T07:45:00+00:00",
          "2012-02-07T07:45:00+00:00",
          "2012-06-08T06:45:00+00:00",
          "2012-10-09T06:45:00+00:00",
          "2013-01-08T07:45:00+00:00",
          "2014-03-07T07:45:00+00:00",
          "2014-06-06T06:45:00+00:00",
          "2014-11-07T07:45:00+00:00",
          "2014-12-09T07:45:00+00:00",
          "2015-01-09T07:45:00+00:00",
          "2015-02-06T07:45:00+00:00",
          "2015-04-08T06:45:00+00:00",
          "2015-10-07T06:45:00+00:00",
          "2016-03-08T07:45:00+00:00",
          "2016-08-05T06:45:00+00:00",
          "2017-02-07T07:45:00+00:00",
          "2017-06-08T06:45:00+00:00",
          "2017-08-08T06:45:00+00:00",
          "2017-11-08T07:45:00+00:00",
          "2018-06-07T06:45:00+00:00",
          "2018-11-08T07:45:00+00:00",
          "2018-12-07T07:45:00+00:00",
          "2019-01-08T07:45:00+00:00",
          "2019-03-08T07:45:00+00:00",
          "2019-04-05T06:45:00+00:00"
         ],
         "y": [
          0.006739999999999968,
          0.0017400000000002969,
          0.0017000000000000348,
          0.0011099999999999444,
          0.001100000000000101,
          0.00012999999999974143,
          0.0005500000000000504,
          0.0009500000000000064,
          0.00015999999999993797,
          0.0013500000000001844,
          0.0034600000000000186,
          0.0021800000000000708,
          0.0002900000000001235,
          0.0035799999999999166,
          8.000000000030205e-05,
          0.0012900000000000134,
          0.00045999999999990493,
          0.00014999999999987246,
          0.00032999999999994145,
          0.0006299999999999084,
          0.0014400000000001079,
          0.0016000000000000458,
          0.0012300000000000644,
          0.00024999999999986144,
          0.0008099999999999774,
          0.0007399999999999629,
          0.00011999999999989797
         ]
        },
        {
         "mode": "lines+markers",
         "name": "Pips Bajistas",
         "type": "scatter",
         "x": [
          "2011-08-05T06:45:00+00:00",
          "2011-09-08T06:45:00+00:00",
          "2012-01-09T07:45:00+00:00",
          "2012-02-07T07:45:00+00:00",
          "2012-06-08T06:45:00+00:00",
          "2012-10-09T06:45:00+00:00",
          "2013-01-08T07:45:00+00:00",
          "2014-03-07T07:45:00+00:00",
          "2014-06-06T06:45:00+00:00",
          "2014-11-07T07:45:00+00:00",
          "2014-12-09T07:45:00+00:00",
          "2015-01-09T07:45:00+00:00",
          "2015-02-06T07:45:00+00:00",
          "2015-04-08T06:45:00+00:00",
          "2015-10-07T06:45:00+00:00",
          "2016-03-08T07:45:00+00:00",
          "2016-08-05T06:45:00+00:00",
          "2017-02-07T07:45:00+00:00",
          "2017-06-08T06:45:00+00:00",
          "2017-08-08T06:45:00+00:00",
          "2017-11-08T07:45:00+00:00",
          "2018-06-07T06:45:00+00:00",
          "2018-11-08T07:45:00+00:00",
          "2018-12-07T07:45:00+00:00",
          "2019-01-08T07:45:00+00:00",
          "2019-03-08T07:45:00+00:00",
          "2019-04-05T06:45:00+00:00"
         ],
         "y": [
          5.999999999994898e-05,
          0.0004999999999999449,
          0.0007399999999999629,
          0.0020500000000001073,
          0.0006399999999999739,
          0.0012300000000002864,
          0.0012600000000000389,
          5.999999999972694e-05,
          0.0010499999999999954,
          0.0005100000000000104,
          0.00042999999999993044,
          1.999999999990898e-05,
          0.0015600000000000058,
          0.00012999999999996348,
          0.003229999999999844,
          0.00041000000000002146,
          0.0007200000000000539,
          0.002930000000000099,
          0.0007899999999998464,
          0.00038000000000004697,
          0.0005399999999999849,
          0,
          0.00025999999999992696,
          0.0005999999999999339,
          0.0006900000000000794,
          0.00048000000000003595,
          0.0008000000000001339
         ]
        },
        {
         "mode": "lines+markers",
         "name": "Volatilidad",
         "type": "scatter",
         "x": [
          "2011-08-05T06:45:00+00:00",
          "2011-09-08T06:45:00+00:00",
          "2012-01-09T07:45:00+00:00",
          "2012-02-07T07:45:00+00:00",
          "2012-06-08T06:45:00+00:00",
          "2012-10-09T06:45:00+00:00",
          "2013-01-08T07:45:00+00:00",
          "2014-03-07T07:45:00+00:00",
          "2014-06-06T06:45:00+00:00",
          "2014-11-07T07:45:00+00:00",
          "2014-12-09T07:45:00+00:00",
          "2015-01-09T07:45:00+00:00",
          "2015-02-06T07:45:00+00:00",
          "2015-04-08T06:45:00+00:00",
          "2015-10-07T06:45:00+00:00",
          "2016-03-08T07:45:00+00:00",
          "2016-08-05T06:45:00+00:00",
          "2017-02-07T07:45:00+00:00",
          "2017-06-08T06:45:00+00:00",
          "2017-08-08T06:45:00+00:00",
          "2017-11-08T07:45:00+00:00",
          "2018-06-07T06:45:00+00:00",
          "2018-11-08T07:45:00+00:00",
          "2018-12-07T07:45:00+00:00",
          "2019-01-08T07:45:00+00:00",
          "2019-03-08T07:45:00+00:00",
          "2019-04-05T06:45:00+00:00"
         ],
         "y": [
          0.007639999999999869,
          0.0026200000000000667,
          0.0037399999999998546,
          0.004689999999999861,
          0.0025600000000001177,
          0.0019900000000001583,
          0.0018100000000000893,
          0.0016499999999999293,
          0.0013099999999999223,
          0.0020000000000000018,
          0.004690000000000083,
          0.0022199999999998887,
          0.0018500000000001293,
          0.0037199999999999456,
          0.0035199999999999676,
          0.0023200000000000998,
          0.0011799999999999589,
          0.003710000000000102,
          0.0015799999999999148,
          0.001100000000000101,
          0.002080000000000082,
          0.0027000000000001467,
          0.0027800000000000047,
          0.0012900000000000134,
          0.0019400000000000528,
          0.0015000000000000568,
          0.001140000000000141
         ]
        }
       ],
       "layout": {
        "template": {
         "data": {
          "bar": [
           {
            "error_x": {
             "color": "#2a3f5f"
            },
            "error_y": {
             "color": "#2a3f5f"
            },
            "marker": {
             "line": {
              "color": "#E5ECF6",
              "width": 0.5
             }
            },
            "type": "bar"
           }
          ],
          "barpolar": [
           {
            "marker": {
             "line": {
              "color": "#E5ECF6",
              "width": 0.5
             }
            },
            "type": "barpolar"
           }
          ],
          "carpet": [
           {
            "aaxis": {
             "endlinecolor": "#2a3f5f",
             "gridcolor": "white",
             "linecolor": "white",
             "minorgridcolor": "white",
             "startlinecolor": "#2a3f5f"
            },
            "baxis": {
             "endlinecolor": "#2a3f5f",
             "gridcolor": "white",
             "linecolor": "white",
             "minorgridcolor": "white",
             "startlinecolor": "#2a3f5f"
            },
            "type": "carpet"
           }
          ],
          "choropleth": [
           {
            "colorbar": {
             "outlinewidth": 0,
             "ticks": ""
            },
            "type": "choropleth"
           }
          ],
          "contour": [
           {
            "colorbar": {
             "outlinewidth": 0,
             "ticks": ""
            },
            "colorscale": [
             [
              0,
              "#0d0887"
             ],
             [
              0.1111111111111111,
              "#46039f"
             ],
             [
              0.2222222222222222,
              "#7201a8"
             ],
             [
              0.3333333333333333,
              "#9c179e"
             ],
             [
              0.4444444444444444,
              "#bd3786"
             ],
             [
              0.5555555555555556,
              "#d8576b"
             ],
             [
              0.6666666666666666,
              "#ed7953"
             ],
             [
              0.7777777777777778,
              "#fb9f3a"
             ],
             [
              0.8888888888888888,
              "#fdca26"
             ],
             [
              1,
              "#f0f921"
             ]
            ],
            "type": "contour"
           }
          ],
          "contourcarpet": [
           {
            "colorbar": {
             "outlinewidth": 0,
             "ticks": ""
            },
            "type": "contourcarpet"
           }
          ],
          "heatmap": [
           {
            "colorbar": {
             "outlinewidth": 0,
             "ticks": ""
            },
            "colorscale": [
             [
              0,
              "#0d0887"
             ],
             [
              0.1111111111111111,
              "#46039f"
             ],
             [
              0.2222222222222222,
              "#7201a8"
             ],
             [
              0.3333333333333333,
              "#9c179e"
             ],
             [
              0.4444444444444444,
              "#bd3786"
             ],
             [
              0.5555555555555556,
              "#d8576b"
             ],
             [
              0.6666666666666666,
              "#ed7953"
             ],
             [
              0.7777777777777778,
              "#fb9f3a"
             ],
             [
              0.8888888888888888,
              "#fdca26"
             ],
             [
              1,
              "#f0f921"
             ]
            ],
            "type": "heatmap"
           }
          ],
          "heatmapgl": [
           {
            "colorbar": {
             "outlinewidth": 0,
             "ticks": ""
            },
            "colorscale": [
             [
              0,
              "#0d0887"
             ],
             [
              0.1111111111111111,
              "#46039f"
             ],
             [
              0.2222222222222222,
              "#7201a8"
             ],
             [
              0.3333333333333333,
              "#9c179e"
             ],
             [
              0.4444444444444444,
              "#bd3786"
             ],
             [
              0.5555555555555556,
              "#d8576b"
             ],
             [
              0.6666666666666666,
              "#ed7953"
             ],
             [
              0.7777777777777778,
              "#fb9f3a"
             ],
             [
              0.8888888888888888,
              "#fdca26"
             ],
             [
              1,
              "#f0f921"
             ]
            ],
            "type": "heatmapgl"
           }
          ],
          "histogram": [
           {
            "marker": {
             "colorbar": {
              "outlinewidth": 0,
              "ticks": ""
             }
            },
            "type": "histogram"
           }
          ],
          "histogram2d": [
           {
            "colorbar": {
             "outlinewidth": 0,
             "ticks": ""
            },
            "colorscale": [
             [
              0,
              "#0d0887"
             ],
             [
              0.1111111111111111,
              "#46039f"
             ],
             [
              0.2222222222222222,
              "#7201a8"
             ],
             [
              0.3333333333333333,
              "#9c179e"
             ],
             [
              0.4444444444444444,
              "#bd3786"
             ],
             [
              0.5555555555555556,
              "#d8576b"
             ],
             [
              0.6666666666666666,
              "#ed7953"
             ],
             [
              0.7777777777777778,
              "#fb9f3a"
             ],
             [
              0.8888888888888888,
              "#fdca26"
             ],
             [
              1,
              "#f0f921"
             ]
            ],
            "type": "histogram2d"
           }
          ],
          "histogram2dcontour": [
           {
            "colorbar": {
             "outlinewidth": 0,
             "ticks": ""
            },
            "colorscale": [
             [
              0,
              "#0d0887"
             ],
             [
              0.1111111111111111,
              "#46039f"
             ],
             [
              0.2222222222222222,
              "#7201a8"
             ],
             [
              0.3333333333333333,
              "#9c179e"
             ],
             [
              0.4444444444444444,
              "#bd3786"
             ],
             [
              0.5555555555555556,
              "#d8576b"
             ],
             [
              0.6666666666666666,
              "#ed7953"
             ],
             [
              0.7777777777777778,
              "#fb9f3a"
             ],
             [
              0.8888888888888888,
              "#fdca26"
             ],
             [
              1,
              "#f0f921"
             ]
            ],
            "type": "histogram2dcontour"
           }
          ],
          "mesh3d": [
           {
            "colorbar": {
             "outlinewidth": 0,
             "ticks": ""
            },
            "type": "mesh3d"
           }
          ],
          "parcoords": [
           {
            "line": {
             "colorbar": {
              "outlinewidth": 0,
              "ticks": ""
             }
            },
            "type": "parcoords"
           }
          ],
          "pie": [
           {
            "automargin": true,
            "type": "pie"
           }
          ],
          "scatter": [
           {
            "marker": {
             "colorbar": {
              "outlinewidth": 0,
              "ticks": ""
             }
            },
            "type": "scatter"
           }
          ],
          "scatter3d": [
           {
            "line": {
             "colorbar": {
              "outlinewidth": 0,
              "ticks": ""
             }
            },
            "marker": {
             "colorbar": {
              "outlinewidth": 0,
              "ticks": ""
             }
            },
            "type": "scatter3d"
           }
          ],
          "scattercarpet": [
           {
            "marker": {
             "colorbar": {
              "outlinewidth": 0,
              "ticks": ""
             }
            },
            "type": "scattercarpet"
           }
          ],
          "scattergeo": [
           {
            "marker": {
             "colorbar": {
              "outlinewidth": 0,
              "ticks": ""
             }
            },
            "type": "scattergeo"
           }
          ],
          "scattergl": [
           {
            "marker": {
             "colorbar": {
              "outlinewidth": 0,
              "ticks": ""
             }
            },
            "type": "scattergl"
           }
          ],
          "scattermapbox": [
           {
            "marker": {
             "colorbar": {
              "outlinewidth": 0,
              "ticks": ""
             }
            },
            "type": "scattermapbox"
           }
          ],
          "scatterpolar": [
           {
            "marker": {
             "colorbar": {
              "outlinewidth": 0,
              "ticks": ""
             }
            },
            "type": "scatterpolar"
           }
          ],
          "scatterpolargl": [
           {
            "marker": {
             "colorbar": {
              "outlinewidth": 0,
              "ticks": ""
             }
            },
            "type": "scatterpolargl"
           }
          ],
          "scatterternary": [
           {
            "marker": {
             "colorbar": {
              "outlinewidth": 0,
              "ticks": ""
             }
            },
            "type": "scatterternary"
           }
          ],
          "surface": [
           {
            "colorbar": {
             "outlinewidth": 0,
             "ticks": ""
            },
            "colorscale": [
             [
              0,
              "#0d0887"
             ],
             [
              0.1111111111111111,
              "#46039f"
             ],
             [
              0.2222222222222222,
              "#7201a8"
             ],
             [
              0.3333333333333333,
              "#9c179e"
             ],
             [
              0.4444444444444444,
              "#bd3786"
             ],
             [
              0.5555555555555556,
              "#d8576b"
             ],
             [
              0.6666666666666666,
              "#ed7953"
             ],
             [
              0.7777777777777778,
              "#fb9f3a"
             ],
             [
              0.8888888888888888,
              "#fdca26"
             ],
             [
              1,
              "#f0f921"
             ]
            ],
            "type": "surface"
           }
          ],
          "table": [
           {
            "cells": {
             "fill": {
              "color": "#EBF0F8"
             },
             "line": {
              "color": "white"
             }
            },
            "header": {
             "fill": {
              "color": "#C8D4E3"
             },
             "line": {
              "color": "white"
             }
            },
            "type": "table"
           }
          ]
         },
         "layout": {
          "annotationdefaults": {
           "arrowcolor": "#2a3f5f",
           "arrowhead": 0,
           "arrowwidth": 1
          },
          "coloraxis": {
           "colorbar": {
            "outlinewidth": 0,
            "ticks": ""
           }
          },
          "colorscale": {
           "diverging": [
            [
             0,
             "#8e0152"
            ],
            [
             0.1,
             "#c51b7d"
            ],
            [
             0.2,
             "#de77ae"
            ],
            [
             0.3,
             "#f1b6da"
            ],
            [
             0.4,
             "#fde0ef"
            ],
            [
             0.5,
             "#f7f7f7"
            ],
            [
             0.6,
             "#e6f5d0"
            ],
            [
             0.7,
             "#b8e186"
            ],
            [
             0.8,
             "#7fbc41"
            ],
            [
             0.9,
             "#4d9221"
            ],
            [
             1,
             "#276419"
            ]
           ],
           "sequential": [
            [
             0,
             "#0d0887"
            ],
            [
             0.1111111111111111,
             "#46039f"
            ],
            [
             0.2222222222222222,
             "#7201a8"
            ],
            [
             0.3333333333333333,
             "#9c179e"
            ],
            [
             0.4444444444444444,
             "#bd3786"
            ],
            [
             0.5555555555555556,
             "#d8576b"
            ],
            [
             0.6666666666666666,
             "#ed7953"
            ],
            [
             0.7777777777777778,
             "#fb9f3a"
            ],
            [
             0.8888888888888888,
             "#fdca26"
            ],
            [
             1,
             "#f0f921"
            ]
           ],
           "sequentialminus": [
            [
             0,
             "#0d0887"
            ],
            [
             0.1111111111111111,
             "#46039f"
            ],
            [
             0.2222222222222222,
             "#7201a8"
            ],
            [
             0.3333333333333333,
             "#9c179e"
            ],
            [
             0.4444444444444444,
             "#bd3786"
            ],
            [
             0.5555555555555556,
             "#d8576b"
            ],
            [
             0.6666666666666666,
             "#ed7953"
            ],
            [
             0.7777777777777778,
             "#fb9f3a"
            ],
            [
             0.8888888888888888,
             "#fdca26"
            ],
            [
             1,
             "#f0f921"
            ]
           ]
          },
          "colorway": [
           "#636efa",
           "#EF553B",
           "#00cc96",
           "#ab63fa",
           "#FFA15A",
           "#19d3f3",
           "#FF6692",
           "#B6E880",
           "#FF97FF",
           "#FECB52"
          ],
          "font": {
           "color": "#2a3f5f"
          },
          "geo": {
           "bgcolor": "white",
           "lakecolor": "white",
           "landcolor": "#E5ECF6",
           "showlakes": true,
           "showland": true,
           "subunitcolor": "white"
          },
          "hoverlabel": {
           "align": "left"
          },
          "hovermode": "closest",
          "mapbox": {
           "style": "light"
          },
          "paper_bgcolor": "white",
          "plot_bgcolor": "#E5ECF6",
          "polar": {
           "angularaxis": {
            "gridcolor": "white",
            "linecolor": "white",
            "ticks": ""
           },
           "bgcolor": "#E5ECF6",
           "radialaxis": {
            "gridcolor": "white",
            "linecolor": "white",
            "ticks": ""
           }
          },
          "scene": {
           "xaxis": {
            "backgroundcolor": "#E5ECF6",
            "gridcolor": "white",
            "gridwidth": 2,
            "linecolor": "white",
            "showbackground": true,
            "ticks": "",
            "zerolinecolor": "white"
           },
           "yaxis": {
            "backgroundcolor": "#E5ECF6",
            "gridcolor": "white",
            "gridwidth": 2,
            "linecolor": "white",
            "showbackground": true,
            "ticks": "",
            "zerolinecolor": "white"
           },
           "zaxis": {
            "backgroundcolor": "#E5ECF6",
            "gridcolor": "white",
            "gridwidth": 2,
            "linecolor": "white",
            "showbackground": true,
            "ticks": "",
            "zerolinecolor": "white"
           }
          },
          "shapedefaults": {
           "line": {
            "color": "#2a3f5f"
           }
          },
          "ternary": {
           "aaxis": {
            "gridcolor": "white",
            "linecolor": "white",
            "ticks": ""
           },
           "baxis": {
            "gridcolor": "white",
            "linecolor": "white",
            "ticks": ""
           },
           "bgcolor": "#E5ECF6",
           "caxis": {
            "gridcolor": "white",
            "linecolor": "white",
            "ticks": ""
           }
          },
          "title": {
           "x": 0.05
          },
          "xaxis": {
           "automargin": true,
           "gridcolor": "white",
           "linecolor": "white",
           "ticks": "",
           "title": {
            "standoff": 15
           },
           "zerolinecolor": "white",
           "zerolinewidth": 2
          },
          "yaxis": {
           "automargin": true,
           "gridcolor": "white",
           "linecolor": "white",
           "ticks": "",
           "title": {
            "standoff": 15
           },
           "zerolinecolor": "white",
           "zerolinewidth": 2
          }
         }
        },
        "title": {
         "text": "ESCENARIO B : Actual >= Consensus < Previous"
        },
        "xaxis": {
         "title": {
          "text": "Fechas"
         }
        },
        "yaxis": {
         "title": {
          "text": "Rendimiento"
         }
        }
       }
      },
      "text/html": [
       "<div>\n",
       "        \n",
       "        \n",
       "            <div id=\"bf1bb33c-3cc4-4da5-a265-7415dc648ca4\" class=\"plotly-graph-div\" style=\"height:525px; width:100%;\"></div>\n",
       "            <script type=\"text/javascript\">\n",
       "                require([\"plotly\"], function(Plotly) {\n",
       "                    window.PLOTLYENV=window.PLOTLYENV || {};\n",
       "                    \n",
       "                if (document.getElementById(\"bf1bb33c-3cc4-4da5-a265-7415dc648ca4\")) {\n",
       "                    Plotly.newPlot(\n",
       "                        'bf1bb33c-3cc4-4da5-a265-7415dc648ca4',\n",
       "                        [{\"mode\": \"lines+markers\", \"name\": \"Direccion\", \"type\": \"scatter\", \"x\": [\"2011-08-05T06:45:00+00:00\", \"2011-09-08T06:45:00+00:00\", \"2012-01-09T07:45:00+00:00\", \"2012-02-07T07:45:00+00:00\", \"2012-06-08T06:45:00+00:00\", \"2012-10-09T06:45:00+00:00\", \"2013-01-08T07:45:00+00:00\", \"2014-03-07T07:45:00+00:00\", \"2014-06-06T06:45:00+00:00\", \"2014-11-07T07:45:00+00:00\", \"2014-12-09T07:45:00+00:00\", \"2015-01-09T07:45:00+00:00\", \"2015-02-06T07:45:00+00:00\", \"2015-04-08T06:45:00+00:00\", \"2015-10-07T06:45:00+00:00\", \"2016-03-08T07:45:00+00:00\", \"2016-08-05T06:45:00+00:00\", \"2017-02-07T07:45:00+00:00\", \"2017-06-08T06:45:00+00:00\", \"2017-08-08T06:45:00+00:00\", \"2017-11-08T07:45:00+00:00\", \"2018-06-07T06:45:00+00:00\", \"2018-11-08T07:45:00+00:00\", \"2018-12-07T07:45:00+00:00\", \"2019-01-08T07:45:00+00:00\", \"2019-03-08T07:45:00+00:00\", \"2019-04-05T06:45:00+00:00\"], \"y\": [0.003149999999999986, 0.00042000000000008697, 0.00029999999999996696, -0.0017700000000002714, -1.999999999990898e-05, -0.0012300000000002864, -0.0002700000000002145, 0.0005500000000000504, -0.0009500000000000064, 0.0010300000000000864, 0.0022899999999999032, 0.0019000000000000128, -0.00025999999999992696, 0.0031399999999999206, -0.002409999999999801, -0.000320000000000098, -0.00035999999999991594, -0.0027800000000000047, 0.00017000000000000348, -0.00013000000000018552, 0.0007600000000000939, 0.0013600000000000279, 0.0006900000000000794, -0.00048000000000003595, -0.00036999999999998145, 3.999999999981796e-05, -0.0007600000000000939]}, {\"mode\": \"lines+markers\", \"name\": \"Pips Alcistas\", \"type\": \"scatter\", \"x\": [\"2011-08-05T06:45:00+00:00\", \"2011-09-08T06:45:00+00:00\", \"2012-01-09T07:45:00+00:00\", \"2012-02-07T07:45:00+00:00\", \"2012-06-08T06:45:00+00:00\", \"2012-10-09T06:45:00+00:00\", \"2013-01-08T07:45:00+00:00\", \"2014-03-07T07:45:00+00:00\", \"2014-06-06T06:45:00+00:00\", \"2014-11-07T07:45:00+00:00\", \"2014-12-09T07:45:00+00:00\", \"2015-01-09T07:45:00+00:00\", \"2015-02-06T07:45:00+00:00\", \"2015-04-08T06:45:00+00:00\", \"2015-10-07T06:45:00+00:00\", \"2016-03-08T07:45:00+00:00\", \"2016-08-05T06:45:00+00:00\", \"2017-02-07T07:45:00+00:00\", \"2017-06-08T06:45:00+00:00\", \"2017-08-08T06:45:00+00:00\", \"2017-11-08T07:45:00+00:00\", \"2018-06-07T06:45:00+00:00\", \"2018-11-08T07:45:00+00:00\", \"2018-12-07T07:45:00+00:00\", \"2019-01-08T07:45:00+00:00\", \"2019-03-08T07:45:00+00:00\", \"2019-04-05T06:45:00+00:00\"], \"y\": [0.006739999999999968, 0.0017400000000002969, 0.0017000000000000348, 0.0011099999999999444, 0.001100000000000101, 0.00012999999999974143, 0.0005500000000000504, 0.0009500000000000064, 0.00015999999999993797, 0.0013500000000001844, 0.0034600000000000186, 0.0021800000000000708, 0.0002900000000001235, 0.0035799999999999166, 8.000000000030205e-05, 0.0012900000000000134, 0.00045999999999990493, 0.00014999999999987246, 0.00032999999999994145, 0.0006299999999999084, 0.0014400000000001079, 0.0016000000000000458, 0.0012300000000000644, 0.00024999999999986144, 0.0008099999999999774, 0.0007399999999999629, 0.00011999999999989797]}, {\"mode\": \"lines+markers\", \"name\": \"Pips Bajistas\", \"type\": \"scatter\", \"x\": [\"2011-08-05T06:45:00+00:00\", \"2011-09-08T06:45:00+00:00\", \"2012-01-09T07:45:00+00:00\", \"2012-02-07T07:45:00+00:00\", \"2012-06-08T06:45:00+00:00\", \"2012-10-09T06:45:00+00:00\", \"2013-01-08T07:45:00+00:00\", \"2014-03-07T07:45:00+00:00\", \"2014-06-06T06:45:00+00:00\", \"2014-11-07T07:45:00+00:00\", \"2014-12-09T07:45:00+00:00\", \"2015-01-09T07:45:00+00:00\", \"2015-02-06T07:45:00+00:00\", \"2015-04-08T06:45:00+00:00\", \"2015-10-07T06:45:00+00:00\", \"2016-03-08T07:45:00+00:00\", \"2016-08-05T06:45:00+00:00\", \"2017-02-07T07:45:00+00:00\", \"2017-06-08T06:45:00+00:00\", \"2017-08-08T06:45:00+00:00\", \"2017-11-08T07:45:00+00:00\", \"2018-06-07T06:45:00+00:00\", \"2018-11-08T07:45:00+00:00\", \"2018-12-07T07:45:00+00:00\", \"2019-01-08T07:45:00+00:00\", \"2019-03-08T07:45:00+00:00\", \"2019-04-05T06:45:00+00:00\"], \"y\": [5.999999999994898e-05, 0.0004999999999999449, 0.0007399999999999629, 0.0020500000000001073, 0.0006399999999999739, 0.0012300000000002864, 0.0012600000000000389, 5.999999999972694e-05, 0.0010499999999999954, 0.0005100000000000104, 0.00042999999999993044, 1.999999999990898e-05, 0.0015600000000000058, 0.00012999999999996348, 0.003229999999999844, 0.00041000000000002146, 0.0007200000000000539, 0.002930000000000099, 0.0007899999999998464, 0.00038000000000004697, 0.0005399999999999849, 0.0, 0.00025999999999992696, 0.0005999999999999339, 0.0006900000000000794, 0.00048000000000003595, 0.0008000000000001339]}, {\"mode\": \"lines+markers\", \"name\": \"Volatilidad\", \"type\": \"scatter\", \"x\": [\"2011-08-05T06:45:00+00:00\", \"2011-09-08T06:45:00+00:00\", \"2012-01-09T07:45:00+00:00\", \"2012-02-07T07:45:00+00:00\", \"2012-06-08T06:45:00+00:00\", \"2012-10-09T06:45:00+00:00\", \"2013-01-08T07:45:00+00:00\", \"2014-03-07T07:45:00+00:00\", \"2014-06-06T06:45:00+00:00\", \"2014-11-07T07:45:00+00:00\", \"2014-12-09T07:45:00+00:00\", \"2015-01-09T07:45:00+00:00\", \"2015-02-06T07:45:00+00:00\", \"2015-04-08T06:45:00+00:00\", \"2015-10-07T06:45:00+00:00\", \"2016-03-08T07:45:00+00:00\", \"2016-08-05T06:45:00+00:00\", \"2017-02-07T07:45:00+00:00\", \"2017-06-08T06:45:00+00:00\", \"2017-08-08T06:45:00+00:00\", \"2017-11-08T07:45:00+00:00\", \"2018-06-07T06:45:00+00:00\", \"2018-11-08T07:45:00+00:00\", \"2018-12-07T07:45:00+00:00\", \"2019-01-08T07:45:00+00:00\", \"2019-03-08T07:45:00+00:00\", \"2019-04-05T06:45:00+00:00\"], \"y\": [0.007639999999999869, 0.0026200000000000667, 0.0037399999999998546, 0.004689999999999861, 0.0025600000000001177, 0.0019900000000001583, 0.0018100000000000893, 0.0016499999999999293, 0.0013099999999999223, 0.0020000000000000018, 0.004690000000000083, 0.0022199999999998887, 0.0018500000000001293, 0.0037199999999999456, 0.0035199999999999676, 0.0023200000000000998, 0.0011799999999999589, 0.003710000000000102, 0.0015799999999999148, 0.001100000000000101, 0.002080000000000082, 0.0027000000000001467, 0.0027800000000000047, 0.0012900000000000134, 0.0019400000000000528, 0.0015000000000000568, 0.001140000000000141]}],\n",
       "                        {\"template\": {\"data\": {\"bar\": [{\"error_x\": {\"color\": \"#2a3f5f\"}, \"error_y\": {\"color\": \"#2a3f5f\"}, \"marker\": {\"line\": {\"color\": \"#E5ECF6\", \"width\": 0.5}}, \"type\": \"bar\"}], \"barpolar\": [{\"marker\": {\"line\": {\"color\": \"#E5ECF6\", \"width\": 0.5}}, \"type\": \"barpolar\"}], \"carpet\": [{\"aaxis\": {\"endlinecolor\": \"#2a3f5f\", \"gridcolor\": \"white\", \"linecolor\": \"white\", \"minorgridcolor\": \"white\", \"startlinecolor\": \"#2a3f5f\"}, \"baxis\": {\"endlinecolor\": \"#2a3f5f\", \"gridcolor\": \"white\", \"linecolor\": \"white\", \"minorgridcolor\": \"white\", \"startlinecolor\": \"#2a3f5f\"}, \"type\": \"carpet\"}], \"choropleth\": [{\"colorbar\": {\"outlinewidth\": 0, \"ticks\": \"\"}, \"type\": \"choropleth\"}], \"contour\": [{\"colorbar\": {\"outlinewidth\": 0, \"ticks\": \"\"}, \"colorscale\": [[0.0, \"#0d0887\"], [0.1111111111111111, \"#46039f\"], [0.2222222222222222, \"#7201a8\"], [0.3333333333333333, \"#9c179e\"], [0.4444444444444444, \"#bd3786\"], [0.5555555555555556, \"#d8576b\"], [0.6666666666666666, \"#ed7953\"], [0.7777777777777778, \"#fb9f3a\"], [0.8888888888888888, \"#fdca26\"], [1.0, \"#f0f921\"]], \"type\": \"contour\"}], \"contourcarpet\": [{\"colorbar\": {\"outlinewidth\": 0, \"ticks\": \"\"}, \"type\": \"contourcarpet\"}], \"heatmap\": [{\"colorbar\": {\"outlinewidth\": 0, \"ticks\": \"\"}, \"colorscale\": [[0.0, \"#0d0887\"], [0.1111111111111111, \"#46039f\"], [0.2222222222222222, \"#7201a8\"], [0.3333333333333333, \"#9c179e\"], [0.4444444444444444, \"#bd3786\"], [0.5555555555555556, \"#d8576b\"], [0.6666666666666666, \"#ed7953\"], [0.7777777777777778, \"#fb9f3a\"], [0.8888888888888888, \"#fdca26\"], [1.0, \"#f0f921\"]], \"type\": \"heatmap\"}], \"heatmapgl\": [{\"colorbar\": {\"outlinewidth\": 0, \"ticks\": \"\"}, \"colorscale\": [[0.0, \"#0d0887\"], [0.1111111111111111, \"#46039f\"], [0.2222222222222222, \"#7201a8\"], [0.3333333333333333, \"#9c179e\"], [0.4444444444444444, \"#bd3786\"], [0.5555555555555556, \"#d8576b\"], [0.6666666666666666, \"#ed7953\"], [0.7777777777777778, \"#fb9f3a\"], [0.8888888888888888, \"#fdca26\"], [1.0, \"#f0f921\"]], \"type\": \"heatmapgl\"}], \"histogram\": [{\"marker\": {\"colorbar\": {\"outlinewidth\": 0, \"ticks\": \"\"}}, \"type\": \"histogram\"}], \"histogram2d\": [{\"colorbar\": {\"outlinewidth\": 0, \"ticks\": \"\"}, \"colorscale\": [[0.0, \"#0d0887\"], [0.1111111111111111, \"#46039f\"], [0.2222222222222222, \"#7201a8\"], [0.3333333333333333, \"#9c179e\"], [0.4444444444444444, \"#bd3786\"], [0.5555555555555556, \"#d8576b\"], [0.6666666666666666, \"#ed7953\"], [0.7777777777777778, \"#fb9f3a\"], [0.8888888888888888, \"#fdca26\"], [1.0, \"#f0f921\"]], \"type\": \"histogram2d\"}], \"histogram2dcontour\": [{\"colorbar\": {\"outlinewidth\": 0, \"ticks\": \"\"}, \"colorscale\": [[0.0, \"#0d0887\"], [0.1111111111111111, \"#46039f\"], [0.2222222222222222, \"#7201a8\"], [0.3333333333333333, \"#9c179e\"], [0.4444444444444444, \"#bd3786\"], [0.5555555555555556, \"#d8576b\"], [0.6666666666666666, \"#ed7953\"], [0.7777777777777778, \"#fb9f3a\"], [0.8888888888888888, \"#fdca26\"], [1.0, \"#f0f921\"]], \"type\": \"histogram2dcontour\"}], \"mesh3d\": [{\"colorbar\": {\"outlinewidth\": 0, \"ticks\": \"\"}, \"type\": \"mesh3d\"}], \"parcoords\": [{\"line\": {\"colorbar\": {\"outlinewidth\": 0, \"ticks\": \"\"}}, \"type\": \"parcoords\"}], \"pie\": [{\"automargin\": true, \"type\": \"pie\"}], \"scatter\": [{\"marker\": {\"colorbar\": {\"outlinewidth\": 0, \"ticks\": \"\"}}, \"type\": \"scatter\"}], \"scatter3d\": [{\"line\": {\"colorbar\": {\"outlinewidth\": 0, \"ticks\": \"\"}}, \"marker\": {\"colorbar\": {\"outlinewidth\": 0, \"ticks\": \"\"}}, \"type\": \"scatter3d\"}], \"scattercarpet\": [{\"marker\": {\"colorbar\": {\"outlinewidth\": 0, \"ticks\": \"\"}}, \"type\": \"scattercarpet\"}], \"scattergeo\": [{\"marker\": {\"colorbar\": {\"outlinewidth\": 0, \"ticks\": \"\"}}, \"type\": \"scattergeo\"}], \"scattergl\": [{\"marker\": {\"colorbar\": {\"outlinewidth\": 0, \"ticks\": \"\"}}, \"type\": \"scattergl\"}], \"scattermapbox\": [{\"marker\": {\"colorbar\": {\"outlinewidth\": 0, \"ticks\": \"\"}}, \"type\": \"scattermapbox\"}], \"scatterpolar\": [{\"marker\": {\"colorbar\": {\"outlinewidth\": 0, \"ticks\": \"\"}}, \"type\": \"scatterpolar\"}], \"scatterpolargl\": [{\"marker\": {\"colorbar\": {\"outlinewidth\": 0, \"ticks\": \"\"}}, \"type\": \"scatterpolargl\"}], \"scatterternary\": [{\"marker\": {\"colorbar\": {\"outlinewidth\": 0, \"ticks\": \"\"}}, \"type\": \"scatterternary\"}], \"surface\": [{\"colorbar\": {\"outlinewidth\": 0, \"ticks\": \"\"}, \"colorscale\": [[0.0, \"#0d0887\"], [0.1111111111111111, \"#46039f\"], [0.2222222222222222, \"#7201a8\"], [0.3333333333333333, \"#9c179e\"], [0.4444444444444444, \"#bd3786\"], [0.5555555555555556, \"#d8576b\"], [0.6666666666666666, \"#ed7953\"], [0.7777777777777778, \"#fb9f3a\"], [0.8888888888888888, \"#fdca26\"], [1.0, \"#f0f921\"]], \"type\": \"surface\"}], \"table\": [{\"cells\": {\"fill\": {\"color\": \"#EBF0F8\"}, \"line\": {\"color\": \"white\"}}, \"header\": {\"fill\": {\"color\": \"#C8D4E3\"}, \"line\": {\"color\": \"white\"}}, \"type\": \"table\"}]}, \"layout\": {\"annotationdefaults\": {\"arrowcolor\": \"#2a3f5f\", \"arrowhead\": 0, \"arrowwidth\": 1}, \"coloraxis\": {\"colorbar\": {\"outlinewidth\": 0, \"ticks\": \"\"}}, \"colorscale\": {\"diverging\": [[0, \"#8e0152\"], [0.1, \"#c51b7d\"], [0.2, \"#de77ae\"], [0.3, \"#f1b6da\"], [0.4, \"#fde0ef\"], [0.5, \"#f7f7f7\"], [0.6, \"#e6f5d0\"], [0.7, \"#b8e186\"], [0.8, \"#7fbc41\"], [0.9, \"#4d9221\"], [1, \"#276419\"]], \"sequential\": [[0.0, \"#0d0887\"], [0.1111111111111111, \"#46039f\"], [0.2222222222222222, \"#7201a8\"], [0.3333333333333333, \"#9c179e\"], [0.4444444444444444, \"#bd3786\"], [0.5555555555555556, \"#d8576b\"], [0.6666666666666666, \"#ed7953\"], [0.7777777777777778, \"#fb9f3a\"], [0.8888888888888888, \"#fdca26\"], [1.0, \"#f0f921\"]], \"sequentialminus\": [[0.0, \"#0d0887\"], [0.1111111111111111, \"#46039f\"], [0.2222222222222222, \"#7201a8\"], [0.3333333333333333, \"#9c179e\"], [0.4444444444444444, \"#bd3786\"], [0.5555555555555556, \"#d8576b\"], [0.6666666666666666, \"#ed7953\"], [0.7777777777777778, \"#fb9f3a\"], [0.8888888888888888, \"#fdca26\"], [1.0, \"#f0f921\"]]}, \"colorway\": [\"#636efa\", \"#EF553B\", \"#00cc96\", \"#ab63fa\", \"#FFA15A\", \"#19d3f3\", \"#FF6692\", \"#B6E880\", \"#FF97FF\", \"#FECB52\"], \"font\": {\"color\": \"#2a3f5f\"}, \"geo\": {\"bgcolor\": \"white\", \"lakecolor\": \"white\", \"landcolor\": \"#E5ECF6\", \"showlakes\": true, \"showland\": true, \"subunitcolor\": \"white\"}, \"hoverlabel\": {\"align\": \"left\"}, \"hovermode\": \"closest\", \"mapbox\": {\"style\": \"light\"}, \"paper_bgcolor\": \"white\", \"plot_bgcolor\": \"#E5ECF6\", \"polar\": {\"angularaxis\": {\"gridcolor\": \"white\", \"linecolor\": \"white\", \"ticks\": \"\"}, \"bgcolor\": \"#E5ECF6\", \"radialaxis\": {\"gridcolor\": \"white\", \"linecolor\": \"white\", \"ticks\": \"\"}}, \"scene\": {\"xaxis\": {\"backgroundcolor\": \"#E5ECF6\", \"gridcolor\": \"white\", \"gridwidth\": 2, \"linecolor\": \"white\", \"showbackground\": true, \"ticks\": \"\", \"zerolinecolor\": \"white\"}, \"yaxis\": {\"backgroundcolor\": \"#E5ECF6\", \"gridcolor\": \"white\", \"gridwidth\": 2, \"linecolor\": \"white\", \"showbackground\": true, \"ticks\": \"\", \"zerolinecolor\": \"white\"}, \"zaxis\": {\"backgroundcolor\": \"#E5ECF6\", \"gridcolor\": \"white\", \"gridwidth\": 2, \"linecolor\": \"white\", \"showbackground\": true, \"ticks\": \"\", \"zerolinecolor\": \"white\"}}, \"shapedefaults\": {\"line\": {\"color\": \"#2a3f5f\"}}, \"ternary\": {\"aaxis\": {\"gridcolor\": \"white\", \"linecolor\": \"white\", \"ticks\": \"\"}, \"baxis\": {\"gridcolor\": \"white\", \"linecolor\": \"white\", \"ticks\": \"\"}, \"bgcolor\": \"#E5ECF6\", \"caxis\": {\"gridcolor\": \"white\", \"linecolor\": \"white\", \"ticks\": \"\"}}, \"title\": {\"x\": 0.05}, \"xaxis\": {\"automargin\": true, \"gridcolor\": \"white\", \"linecolor\": \"white\", \"ticks\": \"\", \"title\": {\"standoff\": 15}, \"zerolinecolor\": \"white\", \"zerolinewidth\": 2}, \"yaxis\": {\"automargin\": true, \"gridcolor\": \"white\", \"linecolor\": \"white\", \"ticks\": \"\", \"title\": {\"standoff\": 15}, \"zerolinecolor\": \"white\", \"zerolinewidth\": 2}}}, \"title\": {\"text\": \"ESCENARIO B : Actual >= Consensus < Previous\"}, \"xaxis\": {\"title\": {\"text\": \"Fechas\"}}, \"yaxis\": {\"title\": {\"text\": \"Rendimiento\"}}},\n",
       "                        {\"responsive\": true}\n",
       "                    ).then(function(){\n",
       "                            \n",
       "var gd = document.getElementById('bf1bb33c-3cc4-4da5-a265-7415dc648ca4');\n",
       "var x = new MutationObserver(function (mutations, observer) {{\n",
       "        var display = window.getComputedStyle(gd).display;\n",
       "        if (!display || display === 'none') {{\n",
       "            console.log([gd, 'removed!']);\n",
       "            Plotly.purge(gd);\n",
       "            observer.disconnect();\n",
       "        }}\n",
       "}});\n",
       "\n",
       "// Listen for the removal of the full notebook cells\n",
       "var notebookContainer = gd.closest('#notebook-container');\n",
       "if (notebookContainer) {{\n",
       "    x.observe(notebookContainer, {childList: true});\n",
       "}}\n",
       "\n",
       "// Listen for the clearing of the current output cell\n",
       "var outputEl = gd.closest('.output');\n",
       "if (outputEl) {{\n",
       "    x.observe(outputEl, {childList: true});\n",
       "}}\n",
       "\n",
       "                        })\n",
       "                };\n",
       "                });\n",
       "            </script>\n",
       "        </div>"
      ]
     },
     "metadata": {},
     "output_type": "display_data"
    }
   ],
   "source": [
    "plotesc(EUR,Beur,\"ESCENARIO B : Actual >= Consensus < Previous\")"
   ]
  },
  {
   "cell_type": "code",
   "execution_count": 28,
   "metadata": {},
   "outputs": [
    {
     "data": {
      "application/vnd.plotly.v1+json": {
       "config": {
        "linkText": "Export to plot.ly",
        "plotlyServerURL": "https://plot.ly",
        "showLink": false
       },
       "data": [
        {
         "mode": "lines+markers",
         "name": "Direccion",
         "type": "scatter",
         "x": [
          "2009-02-11T13:30:00+00:00",
          "2009-09-10T12:30:00+00:00",
          "2010-07-13T12:30:00+00:00",
          "2011-04-12T12:30:00+00:00",
          "2011-08-11T12:30:00+00:00",
          "2012-03-09T13:30:00+00:00",
          "2012-06-08T12:30:00+00:00",
          "2013-01-11T13:30:00+00:00",
          "2013-07-03T12:30:00+00:00",
          "2014-04-03T12:30:00+00:00",
          "2014-05-06T12:30:00+00:00",
          "2014-06-04T12:30:00+00:00",
          "2014-12-05T13:30:00+00:00",
          "2015-02-05T13:30:00+00:00",
          "2015-03-06T13:30:00+00:00",
          "2015-12-04T13:30:00+00:00",
          "2016-10-05T12:30:00+00:00",
          "2017-01-06T13:30:00+00:00",
          "2017-07-06T12:30:00+00:00",
          "2019-08-02T12:30:00+00:00",
          "2019-09-04T12:30:00+00:00"
         ],
         "y": [
          0.0021399999999998087,
          0.0018599999999997507,
          0.00541999999999998,
          0.001980000000000315,
          0.002889999999999837,
          -0.006359999999999699,
          -0.00025999999999992696,
          0.0015199999999999658,
          -0.0015000000000000568,
          -0.0009199999999998099,
          -0.0007699999999999374,
          8.000000000008001e-05,
          -0.0051200000000002355,
          0.0028800000000002157,
          -0.008199999999999985,
          0.0006200000000000649,
          -5.0000000000105516e-05,
          -0.003929999999999989,
          -0.00046999999999997044,
          -0.0012800000000001699,
          -0.000140000000000029
         ]
        },
        {
         "mode": "lines+markers",
         "name": "Pips Alcistas",
         "type": "scatter",
         "x": [
          "2009-02-11T13:30:00+00:00",
          "2009-09-10T12:30:00+00:00",
          "2010-07-13T12:30:00+00:00",
          "2011-04-12T12:30:00+00:00",
          "2011-08-11T12:30:00+00:00",
          "2012-03-09T13:30:00+00:00",
          "2012-06-08T12:30:00+00:00",
          "2013-01-11T13:30:00+00:00",
          "2013-07-03T12:30:00+00:00",
          "2014-04-03T12:30:00+00:00",
          "2014-05-06T12:30:00+00:00",
          "2014-06-04T12:30:00+00:00",
          "2014-12-05T13:30:00+00:00",
          "2015-02-05T13:30:00+00:00",
          "2015-03-06T13:30:00+00:00",
          "2015-12-04T13:30:00+00:00",
          "2016-10-05T12:30:00+00:00",
          "2017-01-06T13:30:00+00:00",
          "2017-07-06T12:30:00+00:00",
          "2019-08-02T12:30:00+00:00",
          "2019-09-04T12:30:00+00:00"
         ],
         "y": [
          0.005160000000000053,
          0.004959999999999853,
          0.005900000000000016,
          0.0024600000000001288,
          0.005069999999999908,
          0.0007200000000000539,
          0.0012400000000001299,
          0.0028200000000000447,
          0.0007699999999999374,
          0.0050200000000002465,
          0.00024000000000001798,
          0.0012499999999999734,
          0,
          0.004060000000000175,
          0.0010300000000000864,
          0.000920000000000254,
          0.0003799999999998249,
          0.003470000000000084,
          0.0003500000000000725,
          0.0006999999999999229,
          0.00018999999999991246
         ]
        },
        {
         "mode": "lines+markers",
         "name": "Pips Bajistas",
         "type": "scatter",
         "x": [
          "2009-02-11T13:30:00+00:00",
          "2009-09-10T12:30:00+00:00",
          "2010-07-13T12:30:00+00:00",
          "2011-04-12T12:30:00+00:00",
          "2011-08-11T12:30:00+00:00",
          "2012-03-09T13:30:00+00:00",
          "2012-06-08T12:30:00+00:00",
          "2013-01-11T13:30:00+00:00",
          "2013-07-03T12:30:00+00:00",
          "2014-04-03T12:30:00+00:00",
          "2014-05-06T12:30:00+00:00",
          "2014-06-04T12:30:00+00:00",
          "2014-12-05T13:30:00+00:00",
          "2015-02-05T13:30:00+00:00",
          "2015-03-06T13:30:00+00:00",
          "2015-12-04T13:30:00+00:00",
          "2016-10-05T12:30:00+00:00",
          "2017-01-06T13:30:00+00:00",
          "2017-07-06T12:30:00+00:00",
          "2019-08-02T12:30:00+00:00",
          "2019-09-04T12:30:00+00:00"
         ],
         "y": [
          0.000280000000000058,
          0.00024000000000024002,
          0.000140000000000029,
          0.0004199999999998649,
          0.0027200000000000557,
          0.00653999999999999,
          0.0015199999999997438,
          0.000140000000000029,
          0.0019400000000000528,
          0.0016699999999998383,
          0.0008699999999999264,
          0.000140000000000029,
          0.009100000000000108,
          0.0007099999999999884,
          0.01081999999999983,
          0.00649999999999995,
          0.0006300000000001305,
          0.005109999999999948,
          0.0006300000000001305,
          0.0021300000000001873,
          0.0007900000000000684
         ]
        },
        {
         "mode": "lines+markers",
         "name": "Volatilidad",
         "type": "scatter",
         "x": [
          "2009-02-11T13:30:00+00:00",
          "2009-09-10T12:30:00+00:00",
          "2010-07-13T12:30:00+00:00",
          "2011-04-12T12:30:00+00:00",
          "2011-08-11T12:30:00+00:00",
          "2012-03-09T13:30:00+00:00",
          "2012-06-08T12:30:00+00:00",
          "2013-01-11T13:30:00+00:00",
          "2013-07-03T12:30:00+00:00",
          "2014-04-03T12:30:00+00:00",
          "2014-05-06T12:30:00+00:00",
          "2014-06-04T12:30:00+00:00",
          "2014-12-05T13:30:00+00:00",
          "2015-02-05T13:30:00+00:00",
          "2015-03-06T13:30:00+00:00",
          "2015-12-04T13:30:00+00:00",
          "2016-10-05T12:30:00+00:00",
          "2017-01-06T13:30:00+00:00",
          "2017-07-06T12:30:00+00:00",
          "2019-08-02T12:30:00+00:00",
          "2019-09-04T12:30:00+00:00"
         ],
         "y": [
          0.008140000000000036,
          0.006380000000000052,
          0.006040000000000045,
          0.00541999999999998,
          0.007789999999999964,
          0.007340000000000124,
          0.0036399999999998656,
          0.00873999999999997,
          0.0041400000000000325,
          0.006690000000000085,
          0.0013600000000000279,
          0.0017899999999999583,
          0.009989999999999943,
          0.005400000000000071,
          0.011849999999999916,
          0.008690000000000087,
          0.0016300000000000203,
          0.008580000000000032,
          0.0018700000000002603,
          0.00287000000000015,
          0.0011099999999999444
         ]
        }
       ],
       "layout": {
        "template": {
         "data": {
          "bar": [
           {
            "error_x": {
             "color": "#2a3f5f"
            },
            "error_y": {
             "color": "#2a3f5f"
            },
            "marker": {
             "line": {
              "color": "#E5ECF6",
              "width": 0.5
             }
            },
            "type": "bar"
           }
          ],
          "barpolar": [
           {
            "marker": {
             "line": {
              "color": "#E5ECF6",
              "width": 0.5
             }
            },
            "type": "barpolar"
           }
          ],
          "carpet": [
           {
            "aaxis": {
             "endlinecolor": "#2a3f5f",
             "gridcolor": "white",
             "linecolor": "white",
             "minorgridcolor": "white",
             "startlinecolor": "#2a3f5f"
            },
            "baxis": {
             "endlinecolor": "#2a3f5f",
             "gridcolor": "white",
             "linecolor": "white",
             "minorgridcolor": "white",
             "startlinecolor": "#2a3f5f"
            },
            "type": "carpet"
           }
          ],
          "choropleth": [
           {
            "colorbar": {
             "outlinewidth": 0,
             "ticks": ""
            },
            "type": "choropleth"
           }
          ],
          "contour": [
           {
            "colorbar": {
             "outlinewidth": 0,
             "ticks": ""
            },
            "colorscale": [
             [
              0,
              "#0d0887"
             ],
             [
              0.1111111111111111,
              "#46039f"
             ],
             [
              0.2222222222222222,
              "#7201a8"
             ],
             [
              0.3333333333333333,
              "#9c179e"
             ],
             [
              0.4444444444444444,
              "#bd3786"
             ],
             [
              0.5555555555555556,
              "#d8576b"
             ],
             [
              0.6666666666666666,
              "#ed7953"
             ],
             [
              0.7777777777777778,
              "#fb9f3a"
             ],
             [
              0.8888888888888888,
              "#fdca26"
             ],
             [
              1,
              "#f0f921"
             ]
            ],
            "type": "contour"
           }
          ],
          "contourcarpet": [
           {
            "colorbar": {
             "outlinewidth": 0,
             "ticks": ""
            },
            "type": "contourcarpet"
           }
          ],
          "heatmap": [
           {
            "colorbar": {
             "outlinewidth": 0,
             "ticks": ""
            },
            "colorscale": [
             [
              0,
              "#0d0887"
             ],
             [
              0.1111111111111111,
              "#46039f"
             ],
             [
              0.2222222222222222,
              "#7201a8"
             ],
             [
              0.3333333333333333,
              "#9c179e"
             ],
             [
              0.4444444444444444,
              "#bd3786"
             ],
             [
              0.5555555555555556,
              "#d8576b"
             ],
             [
              0.6666666666666666,
              "#ed7953"
             ],
             [
              0.7777777777777778,
              "#fb9f3a"
             ],
             [
              0.8888888888888888,
              "#fdca26"
             ],
             [
              1,
              "#f0f921"
             ]
            ],
            "type": "heatmap"
           }
          ],
          "heatmapgl": [
           {
            "colorbar": {
             "outlinewidth": 0,
             "ticks": ""
            },
            "colorscale": [
             [
              0,
              "#0d0887"
             ],
             [
              0.1111111111111111,
              "#46039f"
             ],
             [
              0.2222222222222222,
              "#7201a8"
             ],
             [
              0.3333333333333333,
              "#9c179e"
             ],
             [
              0.4444444444444444,
              "#bd3786"
             ],
             [
              0.5555555555555556,
              "#d8576b"
             ],
             [
              0.6666666666666666,
              "#ed7953"
             ],
             [
              0.7777777777777778,
              "#fb9f3a"
             ],
             [
              0.8888888888888888,
              "#fdca26"
             ],
             [
              1,
              "#f0f921"
             ]
            ],
            "type": "heatmapgl"
           }
          ],
          "histogram": [
           {
            "marker": {
             "colorbar": {
              "outlinewidth": 0,
              "ticks": ""
             }
            },
            "type": "histogram"
           }
          ],
          "histogram2d": [
           {
            "colorbar": {
             "outlinewidth": 0,
             "ticks": ""
            },
            "colorscale": [
             [
              0,
              "#0d0887"
             ],
             [
              0.1111111111111111,
              "#46039f"
             ],
             [
              0.2222222222222222,
              "#7201a8"
             ],
             [
              0.3333333333333333,
              "#9c179e"
             ],
             [
              0.4444444444444444,
              "#bd3786"
             ],
             [
              0.5555555555555556,
              "#d8576b"
             ],
             [
              0.6666666666666666,
              "#ed7953"
             ],
             [
              0.7777777777777778,
              "#fb9f3a"
             ],
             [
              0.8888888888888888,
              "#fdca26"
             ],
             [
              1,
              "#f0f921"
             ]
            ],
            "type": "histogram2d"
           }
          ],
          "histogram2dcontour": [
           {
            "colorbar": {
             "outlinewidth": 0,
             "ticks": ""
            },
            "colorscale": [
             [
              0,
              "#0d0887"
             ],
             [
              0.1111111111111111,
              "#46039f"
             ],
             [
              0.2222222222222222,
              "#7201a8"
             ],
             [
              0.3333333333333333,
              "#9c179e"
             ],
             [
              0.4444444444444444,
              "#bd3786"
             ],
             [
              0.5555555555555556,
              "#d8576b"
             ],
             [
              0.6666666666666666,
              "#ed7953"
             ],
             [
              0.7777777777777778,
              "#fb9f3a"
             ],
             [
              0.8888888888888888,
              "#fdca26"
             ],
             [
              1,
              "#f0f921"
             ]
            ],
            "type": "histogram2dcontour"
           }
          ],
          "mesh3d": [
           {
            "colorbar": {
             "outlinewidth": 0,
             "ticks": ""
            },
            "type": "mesh3d"
           }
          ],
          "parcoords": [
           {
            "line": {
             "colorbar": {
              "outlinewidth": 0,
              "ticks": ""
             }
            },
            "type": "parcoords"
           }
          ],
          "pie": [
           {
            "automargin": true,
            "type": "pie"
           }
          ],
          "scatter": [
           {
            "marker": {
             "colorbar": {
              "outlinewidth": 0,
              "ticks": ""
             }
            },
            "type": "scatter"
           }
          ],
          "scatter3d": [
           {
            "line": {
             "colorbar": {
              "outlinewidth": 0,
              "ticks": ""
             }
            },
            "marker": {
             "colorbar": {
              "outlinewidth": 0,
              "ticks": ""
             }
            },
            "type": "scatter3d"
           }
          ],
          "scattercarpet": [
           {
            "marker": {
             "colorbar": {
              "outlinewidth": 0,
              "ticks": ""
             }
            },
            "type": "scattercarpet"
           }
          ],
          "scattergeo": [
           {
            "marker": {
             "colorbar": {
              "outlinewidth": 0,
              "ticks": ""
             }
            },
            "type": "scattergeo"
           }
          ],
          "scattergl": [
           {
            "marker": {
             "colorbar": {
              "outlinewidth": 0,
              "ticks": ""
             }
            },
            "type": "scattergl"
           }
          ],
          "scattermapbox": [
           {
            "marker": {
             "colorbar": {
              "outlinewidth": 0,
              "ticks": ""
             }
            },
            "type": "scattermapbox"
           }
          ],
          "scatterpolar": [
           {
            "marker": {
             "colorbar": {
              "outlinewidth": 0,
              "ticks": ""
             }
            },
            "type": "scatterpolar"
           }
          ],
          "scatterpolargl": [
           {
            "marker": {
             "colorbar": {
              "outlinewidth": 0,
              "ticks": ""
             }
            },
            "type": "scatterpolargl"
           }
          ],
          "scatterternary": [
           {
            "marker": {
             "colorbar": {
              "outlinewidth": 0,
              "ticks": ""
             }
            },
            "type": "scatterternary"
           }
          ],
          "surface": [
           {
            "colorbar": {
             "outlinewidth": 0,
             "ticks": ""
            },
            "colorscale": [
             [
              0,
              "#0d0887"
             ],
             [
              0.1111111111111111,
              "#46039f"
             ],
             [
              0.2222222222222222,
              "#7201a8"
             ],
             [
              0.3333333333333333,
              "#9c179e"
             ],
             [
              0.4444444444444444,
              "#bd3786"
             ],
             [
              0.5555555555555556,
              "#d8576b"
             ],
             [
              0.6666666666666666,
              "#ed7953"
             ],
             [
              0.7777777777777778,
              "#fb9f3a"
             ],
             [
              0.8888888888888888,
              "#fdca26"
             ],
             [
              1,
              "#f0f921"
             ]
            ],
            "type": "surface"
           }
          ],
          "table": [
           {
            "cells": {
             "fill": {
              "color": "#EBF0F8"
             },
             "line": {
              "color": "white"
             }
            },
            "header": {
             "fill": {
              "color": "#C8D4E3"
             },
             "line": {
              "color": "white"
             }
            },
            "type": "table"
           }
          ]
         },
         "layout": {
          "annotationdefaults": {
           "arrowcolor": "#2a3f5f",
           "arrowhead": 0,
           "arrowwidth": 1
          },
          "coloraxis": {
           "colorbar": {
            "outlinewidth": 0,
            "ticks": ""
           }
          },
          "colorscale": {
           "diverging": [
            [
             0,
             "#8e0152"
            ],
            [
             0.1,
             "#c51b7d"
            ],
            [
             0.2,
             "#de77ae"
            ],
            [
             0.3,
             "#f1b6da"
            ],
            [
             0.4,
             "#fde0ef"
            ],
            [
             0.5,
             "#f7f7f7"
            ],
            [
             0.6,
             "#e6f5d0"
            ],
            [
             0.7,
             "#b8e186"
            ],
            [
             0.8,
             "#7fbc41"
            ],
            [
             0.9,
             "#4d9221"
            ],
            [
             1,
             "#276419"
            ]
           ],
           "sequential": [
            [
             0,
             "#0d0887"
            ],
            [
             0.1111111111111111,
             "#46039f"
            ],
            [
             0.2222222222222222,
             "#7201a8"
            ],
            [
             0.3333333333333333,
             "#9c179e"
            ],
            [
             0.4444444444444444,
             "#bd3786"
            ],
            [
             0.5555555555555556,
             "#d8576b"
            ],
            [
             0.6666666666666666,
             "#ed7953"
            ],
            [
             0.7777777777777778,
             "#fb9f3a"
            ],
            [
             0.8888888888888888,
             "#fdca26"
            ],
            [
             1,
             "#f0f921"
            ]
           ],
           "sequentialminus": [
            [
             0,
             "#0d0887"
            ],
            [
             0.1111111111111111,
             "#46039f"
            ],
            [
             0.2222222222222222,
             "#7201a8"
            ],
            [
             0.3333333333333333,
             "#9c179e"
            ],
            [
             0.4444444444444444,
             "#bd3786"
            ],
            [
             0.5555555555555556,
             "#d8576b"
            ],
            [
             0.6666666666666666,
             "#ed7953"
            ],
            [
             0.7777777777777778,
             "#fb9f3a"
            ],
            [
             0.8888888888888888,
             "#fdca26"
            ],
            [
             1,
             "#f0f921"
            ]
           ]
          },
          "colorway": [
           "#636efa",
           "#EF553B",
           "#00cc96",
           "#ab63fa",
           "#FFA15A",
           "#19d3f3",
           "#FF6692",
           "#B6E880",
           "#FF97FF",
           "#FECB52"
          ],
          "font": {
           "color": "#2a3f5f"
          },
          "geo": {
           "bgcolor": "white",
           "lakecolor": "white",
           "landcolor": "#E5ECF6",
           "showlakes": true,
           "showland": true,
           "subunitcolor": "white"
          },
          "hoverlabel": {
           "align": "left"
          },
          "hovermode": "closest",
          "mapbox": {
           "style": "light"
          },
          "paper_bgcolor": "white",
          "plot_bgcolor": "#E5ECF6",
          "polar": {
           "angularaxis": {
            "gridcolor": "white",
            "linecolor": "white",
            "ticks": ""
           },
           "bgcolor": "#E5ECF6",
           "radialaxis": {
            "gridcolor": "white",
            "linecolor": "white",
            "ticks": ""
           }
          },
          "scene": {
           "xaxis": {
            "backgroundcolor": "#E5ECF6",
            "gridcolor": "white",
            "gridwidth": 2,
            "linecolor": "white",
            "showbackground": true,
            "ticks": "",
            "zerolinecolor": "white"
           },
           "yaxis": {
            "backgroundcolor": "#E5ECF6",
            "gridcolor": "white",
            "gridwidth": 2,
            "linecolor": "white",
            "showbackground": true,
            "ticks": "",
            "zerolinecolor": "white"
           },
           "zaxis": {
            "backgroundcolor": "#E5ECF6",
            "gridcolor": "white",
            "gridwidth": 2,
            "linecolor": "white",
            "showbackground": true,
            "ticks": "",
            "zerolinecolor": "white"
           }
          },
          "shapedefaults": {
           "line": {
            "color": "#2a3f5f"
           }
          },
          "ternary": {
           "aaxis": {
            "gridcolor": "white",
            "linecolor": "white",
            "ticks": ""
           },
           "baxis": {
            "gridcolor": "white",
            "linecolor": "white",
            "ticks": ""
           },
           "bgcolor": "#E5ECF6",
           "caxis": {
            "gridcolor": "white",
            "linecolor": "white",
            "ticks": ""
           }
          },
          "title": {
           "x": 0.05
          },
          "xaxis": {
           "automargin": true,
           "gridcolor": "white",
           "linecolor": "white",
           "ticks": "",
           "title": {
            "standoff": 15
           },
           "zerolinecolor": "white",
           "zerolinewidth": 2
          },
          "yaxis": {
           "automargin": true,
           "gridcolor": "white",
           "linecolor": "white",
           "ticks": "",
           "title": {
            "standoff": 15
           },
           "zerolinecolor": "white",
           "zerolinewidth": 2
          }
         }
        },
        "title": {
         "text": "ESCENARIO C : Actual < Consensus >= Previous"
        },
        "xaxis": {
         "title": {
          "text": "Fechas"
         }
        },
        "yaxis": {
         "title": {
          "text": "Rendimiento"
         }
        }
       }
      },
      "text/html": [
       "<div>\n",
       "        \n",
       "        \n",
       "            <div id=\"98524703-cdf9-4e64-98f5-683c003175c2\" class=\"plotly-graph-div\" style=\"height:525px; width:100%;\"></div>\n",
       "            <script type=\"text/javascript\">\n",
       "                require([\"plotly\"], function(Plotly) {\n",
       "                    window.PLOTLYENV=window.PLOTLYENV || {};\n",
       "                    \n",
       "                if (document.getElementById(\"98524703-cdf9-4e64-98f5-683c003175c2\")) {\n",
       "                    Plotly.newPlot(\n",
       "                        '98524703-cdf9-4e64-98f5-683c003175c2',\n",
       "                        [{\"mode\": \"lines+markers\", \"name\": \"Direccion\", \"type\": \"scatter\", \"x\": [\"2009-02-11T13:30:00+00:00\", \"2009-09-10T12:30:00+00:00\", \"2010-07-13T12:30:00+00:00\", \"2011-04-12T12:30:00+00:00\", \"2011-08-11T12:30:00+00:00\", \"2012-03-09T13:30:00+00:00\", \"2012-06-08T12:30:00+00:00\", \"2013-01-11T13:30:00+00:00\", \"2013-07-03T12:30:00+00:00\", \"2014-04-03T12:30:00+00:00\", \"2014-05-06T12:30:00+00:00\", \"2014-06-04T12:30:00+00:00\", \"2014-12-05T13:30:00+00:00\", \"2015-02-05T13:30:00+00:00\", \"2015-03-06T13:30:00+00:00\", \"2015-12-04T13:30:00+00:00\", \"2016-10-05T12:30:00+00:00\", \"2017-01-06T13:30:00+00:00\", \"2017-07-06T12:30:00+00:00\", \"2019-08-02T12:30:00+00:00\", \"2019-09-04T12:30:00+00:00\"], \"y\": [0.0021399999999998087, 0.0018599999999997507, 0.00541999999999998, 0.001980000000000315, 0.002889999999999837, -0.006359999999999699, -0.00025999999999992696, 0.0015199999999999658, -0.0015000000000000568, -0.0009199999999998099, -0.0007699999999999374, 8.000000000008001e-05, -0.0051200000000002355, 0.0028800000000002157, -0.008199999999999985, 0.0006200000000000649, -5.0000000000105516e-05, -0.003929999999999989, -0.00046999999999997044, -0.0012800000000001699, -0.000140000000000029]}, {\"mode\": \"lines+markers\", \"name\": \"Pips Alcistas\", \"type\": \"scatter\", \"x\": [\"2009-02-11T13:30:00+00:00\", \"2009-09-10T12:30:00+00:00\", \"2010-07-13T12:30:00+00:00\", \"2011-04-12T12:30:00+00:00\", \"2011-08-11T12:30:00+00:00\", \"2012-03-09T13:30:00+00:00\", \"2012-06-08T12:30:00+00:00\", \"2013-01-11T13:30:00+00:00\", \"2013-07-03T12:30:00+00:00\", \"2014-04-03T12:30:00+00:00\", \"2014-05-06T12:30:00+00:00\", \"2014-06-04T12:30:00+00:00\", \"2014-12-05T13:30:00+00:00\", \"2015-02-05T13:30:00+00:00\", \"2015-03-06T13:30:00+00:00\", \"2015-12-04T13:30:00+00:00\", \"2016-10-05T12:30:00+00:00\", \"2017-01-06T13:30:00+00:00\", \"2017-07-06T12:30:00+00:00\", \"2019-08-02T12:30:00+00:00\", \"2019-09-04T12:30:00+00:00\"], \"y\": [0.005160000000000053, 0.004959999999999853, 0.005900000000000016, 0.0024600000000001288, 0.005069999999999908, 0.0007200000000000539, 0.0012400000000001299, 0.0028200000000000447, 0.0007699999999999374, 0.0050200000000002465, 0.00024000000000001798, 0.0012499999999999734, 0.0, 0.004060000000000175, 0.0010300000000000864, 0.000920000000000254, 0.0003799999999998249, 0.003470000000000084, 0.0003500000000000725, 0.0006999999999999229, 0.00018999999999991246]}, {\"mode\": \"lines+markers\", \"name\": \"Pips Bajistas\", \"type\": \"scatter\", \"x\": [\"2009-02-11T13:30:00+00:00\", \"2009-09-10T12:30:00+00:00\", \"2010-07-13T12:30:00+00:00\", \"2011-04-12T12:30:00+00:00\", \"2011-08-11T12:30:00+00:00\", \"2012-03-09T13:30:00+00:00\", \"2012-06-08T12:30:00+00:00\", \"2013-01-11T13:30:00+00:00\", \"2013-07-03T12:30:00+00:00\", \"2014-04-03T12:30:00+00:00\", \"2014-05-06T12:30:00+00:00\", \"2014-06-04T12:30:00+00:00\", \"2014-12-05T13:30:00+00:00\", \"2015-02-05T13:30:00+00:00\", \"2015-03-06T13:30:00+00:00\", \"2015-12-04T13:30:00+00:00\", \"2016-10-05T12:30:00+00:00\", \"2017-01-06T13:30:00+00:00\", \"2017-07-06T12:30:00+00:00\", \"2019-08-02T12:30:00+00:00\", \"2019-09-04T12:30:00+00:00\"], \"y\": [0.000280000000000058, 0.00024000000000024002, 0.000140000000000029, 0.0004199999999998649, 0.0027200000000000557, 0.00653999999999999, 0.0015199999999997438, 0.000140000000000029, 0.0019400000000000528, 0.0016699999999998383, 0.0008699999999999264, 0.000140000000000029, 0.009100000000000108, 0.0007099999999999884, 0.01081999999999983, 0.00649999999999995, 0.0006300000000001305, 0.005109999999999948, 0.0006300000000001305, 0.0021300000000001873, 0.0007900000000000684]}, {\"mode\": \"lines+markers\", \"name\": \"Volatilidad\", \"type\": \"scatter\", \"x\": [\"2009-02-11T13:30:00+00:00\", \"2009-09-10T12:30:00+00:00\", \"2010-07-13T12:30:00+00:00\", \"2011-04-12T12:30:00+00:00\", \"2011-08-11T12:30:00+00:00\", \"2012-03-09T13:30:00+00:00\", \"2012-06-08T12:30:00+00:00\", \"2013-01-11T13:30:00+00:00\", \"2013-07-03T12:30:00+00:00\", \"2014-04-03T12:30:00+00:00\", \"2014-05-06T12:30:00+00:00\", \"2014-06-04T12:30:00+00:00\", \"2014-12-05T13:30:00+00:00\", \"2015-02-05T13:30:00+00:00\", \"2015-03-06T13:30:00+00:00\", \"2015-12-04T13:30:00+00:00\", \"2016-10-05T12:30:00+00:00\", \"2017-01-06T13:30:00+00:00\", \"2017-07-06T12:30:00+00:00\", \"2019-08-02T12:30:00+00:00\", \"2019-09-04T12:30:00+00:00\"], \"y\": [0.008140000000000036, 0.006380000000000052, 0.006040000000000045, 0.00541999999999998, 0.007789999999999964, 0.007340000000000124, 0.0036399999999998656, 0.00873999999999997, 0.0041400000000000325, 0.006690000000000085, 0.0013600000000000279, 0.0017899999999999583, 0.009989999999999943, 0.005400000000000071, 0.011849999999999916, 0.008690000000000087, 0.0016300000000000203, 0.008580000000000032, 0.0018700000000002603, 0.00287000000000015, 0.0011099999999999444]}],\n",
       "                        {\"template\": {\"data\": {\"bar\": [{\"error_x\": {\"color\": \"#2a3f5f\"}, \"error_y\": {\"color\": \"#2a3f5f\"}, \"marker\": {\"line\": {\"color\": \"#E5ECF6\", \"width\": 0.5}}, \"type\": \"bar\"}], \"barpolar\": [{\"marker\": {\"line\": {\"color\": \"#E5ECF6\", \"width\": 0.5}}, \"type\": \"barpolar\"}], \"carpet\": [{\"aaxis\": {\"endlinecolor\": \"#2a3f5f\", \"gridcolor\": \"white\", \"linecolor\": \"white\", \"minorgridcolor\": \"white\", \"startlinecolor\": \"#2a3f5f\"}, \"baxis\": {\"endlinecolor\": \"#2a3f5f\", \"gridcolor\": \"white\", \"linecolor\": \"white\", \"minorgridcolor\": \"white\", \"startlinecolor\": \"#2a3f5f\"}, \"type\": \"carpet\"}], \"choropleth\": [{\"colorbar\": {\"outlinewidth\": 0, \"ticks\": \"\"}, \"type\": \"choropleth\"}], \"contour\": [{\"colorbar\": {\"outlinewidth\": 0, \"ticks\": \"\"}, \"colorscale\": [[0.0, \"#0d0887\"], [0.1111111111111111, \"#46039f\"], [0.2222222222222222, \"#7201a8\"], [0.3333333333333333, \"#9c179e\"], [0.4444444444444444, \"#bd3786\"], [0.5555555555555556, \"#d8576b\"], [0.6666666666666666, \"#ed7953\"], [0.7777777777777778, \"#fb9f3a\"], [0.8888888888888888, \"#fdca26\"], [1.0, \"#f0f921\"]], \"type\": \"contour\"}], \"contourcarpet\": [{\"colorbar\": {\"outlinewidth\": 0, \"ticks\": \"\"}, \"type\": \"contourcarpet\"}], \"heatmap\": [{\"colorbar\": {\"outlinewidth\": 0, \"ticks\": \"\"}, \"colorscale\": [[0.0, \"#0d0887\"], [0.1111111111111111, \"#46039f\"], [0.2222222222222222, \"#7201a8\"], [0.3333333333333333, \"#9c179e\"], [0.4444444444444444, \"#bd3786\"], [0.5555555555555556, \"#d8576b\"], [0.6666666666666666, \"#ed7953\"], [0.7777777777777778, \"#fb9f3a\"], [0.8888888888888888, \"#fdca26\"], [1.0, \"#f0f921\"]], \"type\": \"heatmap\"}], \"heatmapgl\": [{\"colorbar\": {\"outlinewidth\": 0, \"ticks\": \"\"}, \"colorscale\": [[0.0, \"#0d0887\"], [0.1111111111111111, \"#46039f\"], [0.2222222222222222, \"#7201a8\"], [0.3333333333333333, \"#9c179e\"], [0.4444444444444444, \"#bd3786\"], [0.5555555555555556, \"#d8576b\"], [0.6666666666666666, \"#ed7953\"], [0.7777777777777778, \"#fb9f3a\"], [0.8888888888888888, \"#fdca26\"], [1.0, \"#f0f921\"]], \"type\": \"heatmapgl\"}], \"histogram\": [{\"marker\": {\"colorbar\": {\"outlinewidth\": 0, \"ticks\": \"\"}}, \"type\": \"histogram\"}], \"histogram2d\": [{\"colorbar\": {\"outlinewidth\": 0, \"ticks\": \"\"}, \"colorscale\": [[0.0, \"#0d0887\"], [0.1111111111111111, \"#46039f\"], [0.2222222222222222, \"#7201a8\"], [0.3333333333333333, \"#9c179e\"], [0.4444444444444444, \"#bd3786\"], [0.5555555555555556, \"#d8576b\"], [0.6666666666666666, \"#ed7953\"], [0.7777777777777778, \"#fb9f3a\"], [0.8888888888888888, \"#fdca26\"], [1.0, \"#f0f921\"]], \"type\": \"histogram2d\"}], \"histogram2dcontour\": [{\"colorbar\": {\"outlinewidth\": 0, \"ticks\": \"\"}, \"colorscale\": [[0.0, \"#0d0887\"], [0.1111111111111111, \"#46039f\"], [0.2222222222222222, \"#7201a8\"], [0.3333333333333333, \"#9c179e\"], [0.4444444444444444, \"#bd3786\"], [0.5555555555555556, \"#d8576b\"], [0.6666666666666666, \"#ed7953\"], [0.7777777777777778, \"#fb9f3a\"], [0.8888888888888888, \"#fdca26\"], [1.0, \"#f0f921\"]], \"type\": \"histogram2dcontour\"}], \"mesh3d\": [{\"colorbar\": {\"outlinewidth\": 0, \"ticks\": \"\"}, \"type\": \"mesh3d\"}], \"parcoords\": [{\"line\": {\"colorbar\": {\"outlinewidth\": 0, \"ticks\": \"\"}}, \"type\": \"parcoords\"}], \"pie\": [{\"automargin\": true, \"type\": \"pie\"}], \"scatter\": [{\"marker\": {\"colorbar\": {\"outlinewidth\": 0, \"ticks\": \"\"}}, \"type\": \"scatter\"}], \"scatter3d\": [{\"line\": {\"colorbar\": {\"outlinewidth\": 0, \"ticks\": \"\"}}, \"marker\": {\"colorbar\": {\"outlinewidth\": 0, \"ticks\": \"\"}}, \"type\": \"scatter3d\"}], \"scattercarpet\": [{\"marker\": {\"colorbar\": {\"outlinewidth\": 0, \"ticks\": \"\"}}, \"type\": \"scattercarpet\"}], \"scattergeo\": [{\"marker\": {\"colorbar\": {\"outlinewidth\": 0, \"ticks\": \"\"}}, \"type\": \"scattergeo\"}], \"scattergl\": [{\"marker\": {\"colorbar\": {\"outlinewidth\": 0, \"ticks\": \"\"}}, \"type\": \"scattergl\"}], \"scattermapbox\": [{\"marker\": {\"colorbar\": {\"outlinewidth\": 0, \"ticks\": \"\"}}, \"type\": \"scattermapbox\"}], \"scatterpolar\": [{\"marker\": {\"colorbar\": {\"outlinewidth\": 0, \"ticks\": \"\"}}, \"type\": \"scatterpolar\"}], \"scatterpolargl\": [{\"marker\": {\"colorbar\": {\"outlinewidth\": 0, \"ticks\": \"\"}}, \"type\": \"scatterpolargl\"}], \"scatterternary\": [{\"marker\": {\"colorbar\": {\"outlinewidth\": 0, \"ticks\": \"\"}}, \"type\": \"scatterternary\"}], \"surface\": [{\"colorbar\": {\"outlinewidth\": 0, \"ticks\": \"\"}, \"colorscale\": [[0.0, \"#0d0887\"], [0.1111111111111111, \"#46039f\"], [0.2222222222222222, \"#7201a8\"], [0.3333333333333333, \"#9c179e\"], [0.4444444444444444, \"#bd3786\"], [0.5555555555555556, \"#d8576b\"], [0.6666666666666666, \"#ed7953\"], [0.7777777777777778, \"#fb9f3a\"], [0.8888888888888888, \"#fdca26\"], [1.0, \"#f0f921\"]], \"type\": \"surface\"}], \"table\": [{\"cells\": {\"fill\": {\"color\": \"#EBF0F8\"}, \"line\": {\"color\": \"white\"}}, \"header\": {\"fill\": {\"color\": \"#C8D4E3\"}, \"line\": {\"color\": \"white\"}}, \"type\": \"table\"}]}, \"layout\": {\"annotationdefaults\": {\"arrowcolor\": \"#2a3f5f\", \"arrowhead\": 0, \"arrowwidth\": 1}, \"coloraxis\": {\"colorbar\": {\"outlinewidth\": 0, \"ticks\": \"\"}}, \"colorscale\": {\"diverging\": [[0, \"#8e0152\"], [0.1, \"#c51b7d\"], [0.2, \"#de77ae\"], [0.3, \"#f1b6da\"], [0.4, \"#fde0ef\"], [0.5, \"#f7f7f7\"], [0.6, \"#e6f5d0\"], [0.7, \"#b8e186\"], [0.8, \"#7fbc41\"], [0.9, \"#4d9221\"], [1, \"#276419\"]], \"sequential\": [[0.0, \"#0d0887\"], [0.1111111111111111, \"#46039f\"], [0.2222222222222222, \"#7201a8\"], [0.3333333333333333, \"#9c179e\"], [0.4444444444444444, \"#bd3786\"], [0.5555555555555556, \"#d8576b\"], [0.6666666666666666, \"#ed7953\"], [0.7777777777777778, \"#fb9f3a\"], [0.8888888888888888, \"#fdca26\"], [1.0, \"#f0f921\"]], \"sequentialminus\": [[0.0, \"#0d0887\"], [0.1111111111111111, \"#46039f\"], [0.2222222222222222, \"#7201a8\"], [0.3333333333333333, \"#9c179e\"], [0.4444444444444444, \"#bd3786\"], [0.5555555555555556, \"#d8576b\"], [0.6666666666666666, \"#ed7953\"], [0.7777777777777778, \"#fb9f3a\"], [0.8888888888888888, \"#fdca26\"], [1.0, \"#f0f921\"]]}, \"colorway\": [\"#636efa\", \"#EF553B\", \"#00cc96\", \"#ab63fa\", \"#FFA15A\", \"#19d3f3\", \"#FF6692\", \"#B6E880\", \"#FF97FF\", \"#FECB52\"], \"font\": {\"color\": \"#2a3f5f\"}, \"geo\": {\"bgcolor\": \"white\", \"lakecolor\": \"white\", \"landcolor\": \"#E5ECF6\", \"showlakes\": true, \"showland\": true, \"subunitcolor\": \"white\"}, \"hoverlabel\": {\"align\": \"left\"}, \"hovermode\": \"closest\", \"mapbox\": {\"style\": \"light\"}, \"paper_bgcolor\": \"white\", \"plot_bgcolor\": \"#E5ECF6\", \"polar\": {\"angularaxis\": {\"gridcolor\": \"white\", \"linecolor\": \"white\", \"ticks\": \"\"}, \"bgcolor\": \"#E5ECF6\", \"radialaxis\": {\"gridcolor\": \"white\", \"linecolor\": \"white\", \"ticks\": \"\"}}, \"scene\": {\"xaxis\": {\"backgroundcolor\": \"#E5ECF6\", \"gridcolor\": \"white\", \"gridwidth\": 2, \"linecolor\": \"white\", \"showbackground\": true, \"ticks\": \"\", \"zerolinecolor\": \"white\"}, \"yaxis\": {\"backgroundcolor\": \"#E5ECF6\", \"gridcolor\": \"white\", \"gridwidth\": 2, \"linecolor\": \"white\", \"showbackground\": true, \"ticks\": \"\", \"zerolinecolor\": \"white\"}, \"zaxis\": {\"backgroundcolor\": \"#E5ECF6\", \"gridcolor\": \"white\", \"gridwidth\": 2, \"linecolor\": \"white\", \"showbackground\": true, \"ticks\": \"\", \"zerolinecolor\": \"white\"}}, \"shapedefaults\": {\"line\": {\"color\": \"#2a3f5f\"}}, \"ternary\": {\"aaxis\": {\"gridcolor\": \"white\", \"linecolor\": \"white\", \"ticks\": \"\"}, \"baxis\": {\"gridcolor\": \"white\", \"linecolor\": \"white\", \"ticks\": \"\"}, \"bgcolor\": \"#E5ECF6\", \"caxis\": {\"gridcolor\": \"white\", \"linecolor\": \"white\", \"ticks\": \"\"}}, \"title\": {\"x\": 0.05}, \"xaxis\": {\"automargin\": true, \"gridcolor\": \"white\", \"linecolor\": \"white\", \"ticks\": \"\", \"title\": {\"standoff\": 15}, \"zerolinecolor\": \"white\", \"zerolinewidth\": 2}, \"yaxis\": {\"automargin\": true, \"gridcolor\": \"white\", \"linecolor\": \"white\", \"ticks\": \"\", \"title\": {\"standoff\": 15}, \"zerolinecolor\": \"white\", \"zerolinewidth\": 2}}}, \"title\": {\"text\": \"ESCENARIO C : Actual < Consensus >= Previous\"}, \"xaxis\": {\"title\": {\"text\": \"Fechas\"}}, \"yaxis\": {\"title\": {\"text\": \"Rendimiento\"}}},\n",
       "                        {\"responsive\": true}\n",
       "                    ).then(function(){\n",
       "                            \n",
       "var gd = document.getElementById('98524703-cdf9-4e64-98f5-683c003175c2');\n",
       "var x = new MutationObserver(function (mutations, observer) {{\n",
       "        var display = window.getComputedStyle(gd).display;\n",
       "        if (!display || display === 'none') {{\n",
       "            console.log([gd, 'removed!']);\n",
       "            Plotly.purge(gd);\n",
       "            observer.disconnect();\n",
       "        }}\n",
       "}});\n",
       "\n",
       "// Listen for the removal of the full notebook cells\n",
       "var notebookContainer = gd.closest('#notebook-container');\n",
       "if (notebookContainer) {{\n",
       "    x.observe(notebookContainer, {childList: true});\n",
       "}}\n",
       "\n",
       "// Listen for the clearing of the current output cell\n",
       "var outputEl = gd.closest('.output');\n",
       "if (outputEl) {{\n",
       "    x.observe(outputEl, {childList: true});\n",
       "}}\n",
       "\n",
       "                        })\n",
       "                };\n",
       "                });\n",
       "            </script>\n",
       "        </div>"
      ]
     },
     "metadata": {},
     "output_type": "display_data"
    }
   ],
   "source": [
    "plotesc(USD,Cusd,\"ESCENARIO C : Actual < Consensus >= Previous\")"
   ]
  },
  {
   "cell_type": "code",
   "execution_count": 29,
   "metadata": {},
   "outputs": [
    {
     "data": {
      "application/vnd.plotly.v1+json": {
       "config": {
        "linkText": "Export to plot.ly",
        "plotlyServerURL": "https://plot.ly",
        "showLink": false
       },
       "data": [
        {
         "mode": "lines+markers",
         "name": "Direccion",
         "type": "scatter",
         "x": [
          "2009-11-13T13:30:00+00:00",
          "2010-01-12T13:30:00+00:00",
          "2010-02-10T13:30:00+00:00",
          "2010-04-13T12:30:00+00:00",
          "2010-05-12T12:30:00+00:00",
          "2010-08-11T12:30:00+00:00",
          "2011-03-10T13:30:00+00:00",
          "2011-07-12T12:30:00+00:00",
          "2012-01-13T13:30:00+00:00",
          "2012-02-10T13:30:00+00:00",
          "2012-05-10T12:30:00+00:00",
          "2013-03-07T13:30:00+00:00",
          "2013-11-14T13:30:00+00:00",
          "2014-02-06T13:30:00+00:00",
          "2014-03-07T13:30:00+00:00",
          "2014-11-04T13:30:00+00:00",
          "2015-05-05T12:30:00+00:00",
          "2015-08-05T12:30:00+00:00",
          "2015-10-06T12:30:00+00:00",
          "2016-02-05T13:30:00+00:00",
          "2016-03-04T13:30:00+00:00",
          "2016-04-05T12:30:00+00:00",
          "2016-07-06T12:30:00+00:00",
          "2016-08-05T12:30:00+00:00",
          "2016-12-06T13:30:00+00:00",
          "2017-06-02T12:30:00+00:00",
          "2017-11-03T12:30:00+00:00",
          "2017-12-05T13:30:00+00:00",
          "2018-01-05T13:30:00+00:00",
          "2018-02-06T13:30:00+00:00",
          "2018-03-07T13:30:00+00:00",
          "2018-04-05T12:30:00+00:00",
          "2018-11-02T12:30:00+00:00",
          "2018-12-06T13:30:00+00:00",
          "2019-03-06T13:30:00+00:00",
          "2019-06-06T12:30:00+00:00",
          "2019-07-03T12:30:00+00:00"
         ],
         "y": [
          -0.0021299999999999653,
          -0.0007099999999999884,
          -0.00038000000000004697,
          0.0033600000000000296,
          -0.0005999999999999339,
          -0.0023599999999999177,
          0.0008199999999998209,
          0.0017000000000000348,
          -0.006929999999999881,
          -1.999999999990898e-05,
          -8.999999999992347e-05,
          0.006559999999999899,
          0.0014799999999999258,
          0.010029999999999983,
          -0.003929999999999989,
          -0.0002500000000000835,
          0.003049999999999997,
          -0.0013600000000000279,
          -0.0012900000000000134,
          -0.008199999999999985,
          0.0033000000000000806,
          0.00034000000000000696,
          9.999999999998899e-05,
          -0.006340000000000012,
          -0.0006399999999999739,
          0.003869999999999818,
          -0.0009399999999999409,
          -0.0006300000000001305,
          0.0001100000000000545,
          0.0007999999999999119,
          6.000000000017103e-05,
          0.0007600000000000939,
          -0.0020199999999999108,
          -0.00025999999999992696,
          0.00015999999999993797,
          0.0025599999999998957,
          -0.0011699999999998933
         ]
        },
        {
         "mode": "lines+markers",
         "name": "Pips Alcistas",
         "type": "scatter",
         "x": [
          "2009-11-13T13:30:00+00:00",
          "2010-01-12T13:30:00+00:00",
          "2010-02-10T13:30:00+00:00",
          "2010-04-13T12:30:00+00:00",
          "2010-05-12T12:30:00+00:00",
          "2010-08-11T12:30:00+00:00",
          "2011-03-10T13:30:00+00:00",
          "2011-07-12T12:30:00+00:00",
          "2012-01-13T13:30:00+00:00",
          "2012-02-10T13:30:00+00:00",
          "2012-05-10T12:30:00+00:00",
          "2013-03-07T13:30:00+00:00",
          "2013-11-14T13:30:00+00:00",
          "2014-02-06T13:30:00+00:00",
          "2014-03-07T13:30:00+00:00",
          "2014-11-04T13:30:00+00:00",
          "2015-05-05T12:30:00+00:00",
          "2015-08-05T12:30:00+00:00",
          "2015-10-06T12:30:00+00:00",
          "2016-02-05T13:30:00+00:00",
          "2016-03-04T13:30:00+00:00",
          "2016-04-05T12:30:00+00:00",
          "2016-07-06T12:30:00+00:00",
          "2016-08-05T12:30:00+00:00",
          "2016-12-06T13:30:00+00:00",
          "2017-06-02T12:30:00+00:00",
          "2017-11-03T12:30:00+00:00",
          "2017-12-05T13:30:00+00:00",
          "2018-01-05T13:30:00+00:00",
          "2018-02-06T13:30:00+00:00",
          "2018-03-07T13:30:00+00:00",
          "2018-04-05T12:30:00+00:00",
          "2018-11-02T12:30:00+00:00",
          "2018-12-06T13:30:00+00:00",
          "2019-03-06T13:30:00+00:00",
          "2019-06-06T12:30:00+00:00",
          "2019-07-03T12:30:00+00:00"
         ],
         "y": [
          0.0018000000000000238,
          0.0007699999999999374,
          0.0006500000000000394,
          0.0036599999999999966,
          0.0007200000000000539,
          0.001140000000000141,
          0.0015000000000000568,
          0.0049799999999999844,
          0.0005300000000001415,
          0.0009799999999999809,
          0.00024999999999986144,
          0.007050000000000001,
          0.0019799999999998708,
          0.01097999999999999,
          0.00017999999999984695,
          0.0005499999999998284,
          0.005249999999999977,
          0.0009200000000000319,
          8.999999999992347e-05,
          0.0035800000000001386,
          0.005589999999999984,
          0.0014799999999999258,
          0.0016299999999997983,
          0.00038999999999989043,
          0.0005800000000000249,
          0.006529999999999925,
          0.0031799999999999606,
          0.0004199999999998649,
          0.0031799999999999606,
          0.0009500000000000064,
          0.0014000000000000679,
          0.002120000000000122,
          0.0005900000000000905,
          0.00041000000000002146,
          0.00026999999999999247,
          0.0047200000000000575,
          0
         ]
        },
        {
         "mode": "lines+markers",
         "name": "Pips Bajistas",
         "type": "scatter",
         "x": [
          "2009-11-13T13:30:00+00:00",
          "2010-01-12T13:30:00+00:00",
          "2010-02-10T13:30:00+00:00",
          "2010-04-13T12:30:00+00:00",
          "2010-05-12T12:30:00+00:00",
          "2010-08-11T12:30:00+00:00",
          "2011-03-10T13:30:00+00:00",
          "2011-07-12T12:30:00+00:00",
          "2012-01-13T13:30:00+00:00",
          "2012-02-10T13:30:00+00:00",
          "2012-05-10T12:30:00+00:00",
          "2013-03-07T13:30:00+00:00",
          "2013-11-14T13:30:00+00:00",
          "2014-02-06T13:30:00+00:00",
          "2014-03-07T13:30:00+00:00",
          "2014-11-04T13:30:00+00:00",
          "2015-05-05T12:30:00+00:00",
          "2015-08-05T12:30:00+00:00",
          "2015-10-06T12:30:00+00:00",
          "2016-02-05T13:30:00+00:00",
          "2016-03-04T13:30:00+00:00",
          "2016-04-05T12:30:00+00:00",
          "2016-07-06T12:30:00+00:00",
          "2016-08-05T12:30:00+00:00",
          "2016-12-06T13:30:00+00:00",
          "2017-06-02T12:30:00+00:00",
          "2017-11-03T12:30:00+00:00",
          "2017-12-05T13:30:00+00:00",
          "2018-01-05T13:30:00+00:00",
          "2018-02-06T13:30:00+00:00",
          "2018-03-07T13:30:00+00:00",
          "2018-04-05T12:30:00+00:00",
          "2018-11-02T12:30:00+00:00",
          "2018-12-06T13:30:00+00:00",
          "2019-03-06T13:30:00+00:00",
          "2019-06-06T12:30:00+00:00",
          "2019-07-03T12:30:00+00:00"
         ],
         "y": [
          0.002529999999999921,
          0.0017899999999999583,
          0.0030000000000001137,
          0,
          0.0015199999999999658,
          0.0030799999999999716,
          0.0015600000000000058,
          4.999999999988347e-05,
          0.007089999999999819,
          0.0019000000000000128,
          0.0013399999999998968,
          0.0032399999999999096,
          0.00012000000000012001,
          0.0013600000000000279,
          0.0048399999999999554,
          0.000500000000000167,
          0.00026999999999999247,
          0.0018800000000001038,
          0.002389999999999892,
          0.008559999999999679,
          0.006739999999999968,
          0.00019999999999997797,
          0.00028000000000028,
          0.006799999999999917,
          0.0014399999999998858,
          0,
          0.001100000000000101,
          0.0013700000000000934,
          0.00043999999999999595,
          0.0018000000000000238,
          0.00028999999999990145,
          0.0006599999999998829,
          0.0025999999999999357,
          0.0005599999999998939,
          0.0020500000000001073,
          0,
          0.0015999999999998238
         ]
        },
        {
         "mode": "lines+markers",
         "name": "Volatilidad",
         "type": "scatter",
         "x": [
          "2009-11-13T13:30:00+00:00",
          "2010-01-12T13:30:00+00:00",
          "2010-02-10T13:30:00+00:00",
          "2010-04-13T12:30:00+00:00",
          "2010-05-12T12:30:00+00:00",
          "2010-08-11T12:30:00+00:00",
          "2011-03-10T13:30:00+00:00",
          "2011-07-12T12:30:00+00:00",
          "2012-01-13T13:30:00+00:00",
          "2012-02-10T13:30:00+00:00",
          "2012-05-10T12:30:00+00:00",
          "2013-03-07T13:30:00+00:00",
          "2013-11-14T13:30:00+00:00",
          "2014-02-06T13:30:00+00:00",
          "2014-03-07T13:30:00+00:00",
          "2014-11-04T13:30:00+00:00",
          "2015-05-05T12:30:00+00:00",
          "2015-08-05T12:30:00+00:00",
          "2015-10-06T12:30:00+00:00",
          "2016-02-05T13:30:00+00:00",
          "2016-03-04T13:30:00+00:00",
          "2016-04-05T12:30:00+00:00",
          "2016-07-06T12:30:00+00:00",
          "2016-08-05T12:30:00+00:00",
          "2016-12-06T13:30:00+00:00",
          "2017-06-02T12:30:00+00:00",
          "2017-11-03T12:30:00+00:00",
          "2017-12-05T13:30:00+00:00",
          "2018-01-05T13:30:00+00:00",
          "2018-02-06T13:30:00+00:00",
          "2018-03-07T13:30:00+00:00",
          "2018-04-05T12:30:00+00:00",
          "2018-11-02T12:30:00+00:00",
          "2018-12-06T13:30:00+00:00",
          "2019-03-06T13:30:00+00:00",
          "2019-06-06T12:30:00+00:00",
          "2019-07-03T12:30:00+00:00"
         ],
         "y": [
          0.004329999999999945,
          0.0041599999999999415,
          0.003650000000000153,
          0.0042999999999999705,
          0.0033199999999999896,
          0.0042200000000001125,
          0.0034799999999999276,
          0.005039999999999933,
          0.00761999999999996,
          0.004830000000000112,
          0.0018499999999999073,
          0.01028999999999991,
          0.0029199999999998116,
          0.012340000000000018,
          0.005479999999999929,
          0.0014999999999998348,
          0.006380000000000052,
          0.00558000000000014,
          0.002609999999999779,
          0.012139999999999818,
          0.012329999999999952,
          0.0021100000000000563,
          0.003449999999999953,
          0.008129999999999749,
          0.0020199999999999108,
          0.007679999999999909,
          0.0046200000000000685,
          0.0020100000000000673,
          0.0038799999999998835,
          0.00275000000000003,
          0.0021500000000000963,
          0.0027800000000000047,
          0.003970000000000029,
          0.0022100000000000453,
          0.0029600000000000737,
          0.0049200000000000355,
          0.0023299999999999432
         ]
        }
       ],
       "layout": {
        "template": {
         "data": {
          "bar": [
           {
            "error_x": {
             "color": "#2a3f5f"
            },
            "error_y": {
             "color": "#2a3f5f"
            },
            "marker": {
             "line": {
              "color": "#E5ECF6",
              "width": 0.5
             }
            },
            "type": "bar"
           }
          ],
          "barpolar": [
           {
            "marker": {
             "line": {
              "color": "#E5ECF6",
              "width": 0.5
             }
            },
            "type": "barpolar"
           }
          ],
          "carpet": [
           {
            "aaxis": {
             "endlinecolor": "#2a3f5f",
             "gridcolor": "white",
             "linecolor": "white",
             "minorgridcolor": "white",
             "startlinecolor": "#2a3f5f"
            },
            "baxis": {
             "endlinecolor": "#2a3f5f",
             "gridcolor": "white",
             "linecolor": "white",
             "minorgridcolor": "white",
             "startlinecolor": "#2a3f5f"
            },
            "type": "carpet"
           }
          ],
          "choropleth": [
           {
            "colorbar": {
             "outlinewidth": 0,
             "ticks": ""
            },
            "type": "choropleth"
           }
          ],
          "contour": [
           {
            "colorbar": {
             "outlinewidth": 0,
             "ticks": ""
            },
            "colorscale": [
             [
              0,
              "#0d0887"
             ],
             [
              0.1111111111111111,
              "#46039f"
             ],
             [
              0.2222222222222222,
              "#7201a8"
             ],
             [
              0.3333333333333333,
              "#9c179e"
             ],
             [
              0.4444444444444444,
              "#bd3786"
             ],
             [
              0.5555555555555556,
              "#d8576b"
             ],
             [
              0.6666666666666666,
              "#ed7953"
             ],
             [
              0.7777777777777778,
              "#fb9f3a"
             ],
             [
              0.8888888888888888,
              "#fdca26"
             ],
             [
              1,
              "#f0f921"
             ]
            ],
            "type": "contour"
           }
          ],
          "contourcarpet": [
           {
            "colorbar": {
             "outlinewidth": 0,
             "ticks": ""
            },
            "type": "contourcarpet"
           }
          ],
          "heatmap": [
           {
            "colorbar": {
             "outlinewidth": 0,
             "ticks": ""
            },
            "colorscale": [
             [
              0,
              "#0d0887"
             ],
             [
              0.1111111111111111,
              "#46039f"
             ],
             [
              0.2222222222222222,
              "#7201a8"
             ],
             [
              0.3333333333333333,
              "#9c179e"
             ],
             [
              0.4444444444444444,
              "#bd3786"
             ],
             [
              0.5555555555555556,
              "#d8576b"
             ],
             [
              0.6666666666666666,
              "#ed7953"
             ],
             [
              0.7777777777777778,
              "#fb9f3a"
             ],
             [
              0.8888888888888888,
              "#fdca26"
             ],
             [
              1,
              "#f0f921"
             ]
            ],
            "type": "heatmap"
           }
          ],
          "heatmapgl": [
           {
            "colorbar": {
             "outlinewidth": 0,
             "ticks": ""
            },
            "colorscale": [
             [
              0,
              "#0d0887"
             ],
             [
              0.1111111111111111,
              "#46039f"
             ],
             [
              0.2222222222222222,
              "#7201a8"
             ],
             [
              0.3333333333333333,
              "#9c179e"
             ],
             [
              0.4444444444444444,
              "#bd3786"
             ],
             [
              0.5555555555555556,
              "#d8576b"
             ],
             [
              0.6666666666666666,
              "#ed7953"
             ],
             [
              0.7777777777777778,
              "#fb9f3a"
             ],
             [
              0.8888888888888888,
              "#fdca26"
             ],
             [
              1,
              "#f0f921"
             ]
            ],
            "type": "heatmapgl"
           }
          ],
          "histogram": [
           {
            "marker": {
             "colorbar": {
              "outlinewidth": 0,
              "ticks": ""
             }
            },
            "type": "histogram"
           }
          ],
          "histogram2d": [
           {
            "colorbar": {
             "outlinewidth": 0,
             "ticks": ""
            },
            "colorscale": [
             [
              0,
              "#0d0887"
             ],
             [
              0.1111111111111111,
              "#46039f"
             ],
             [
              0.2222222222222222,
              "#7201a8"
             ],
             [
              0.3333333333333333,
              "#9c179e"
             ],
             [
              0.4444444444444444,
              "#bd3786"
             ],
             [
              0.5555555555555556,
              "#d8576b"
             ],
             [
              0.6666666666666666,
              "#ed7953"
             ],
             [
              0.7777777777777778,
              "#fb9f3a"
             ],
             [
              0.8888888888888888,
              "#fdca26"
             ],
             [
              1,
              "#f0f921"
             ]
            ],
            "type": "histogram2d"
           }
          ],
          "histogram2dcontour": [
           {
            "colorbar": {
             "outlinewidth": 0,
             "ticks": ""
            },
            "colorscale": [
             [
              0,
              "#0d0887"
             ],
             [
              0.1111111111111111,
              "#46039f"
             ],
             [
              0.2222222222222222,
              "#7201a8"
             ],
             [
              0.3333333333333333,
              "#9c179e"
             ],
             [
              0.4444444444444444,
              "#bd3786"
             ],
             [
              0.5555555555555556,
              "#d8576b"
             ],
             [
              0.6666666666666666,
              "#ed7953"
             ],
             [
              0.7777777777777778,
              "#fb9f3a"
             ],
             [
              0.8888888888888888,
              "#fdca26"
             ],
             [
              1,
              "#f0f921"
             ]
            ],
            "type": "histogram2dcontour"
           }
          ],
          "mesh3d": [
           {
            "colorbar": {
             "outlinewidth": 0,
             "ticks": ""
            },
            "type": "mesh3d"
           }
          ],
          "parcoords": [
           {
            "line": {
             "colorbar": {
              "outlinewidth": 0,
              "ticks": ""
             }
            },
            "type": "parcoords"
           }
          ],
          "pie": [
           {
            "automargin": true,
            "type": "pie"
           }
          ],
          "scatter": [
           {
            "marker": {
             "colorbar": {
              "outlinewidth": 0,
              "ticks": ""
             }
            },
            "type": "scatter"
           }
          ],
          "scatter3d": [
           {
            "line": {
             "colorbar": {
              "outlinewidth": 0,
              "ticks": ""
             }
            },
            "marker": {
             "colorbar": {
              "outlinewidth": 0,
              "ticks": ""
             }
            },
            "type": "scatter3d"
           }
          ],
          "scattercarpet": [
           {
            "marker": {
             "colorbar": {
              "outlinewidth": 0,
              "ticks": ""
             }
            },
            "type": "scattercarpet"
           }
          ],
          "scattergeo": [
           {
            "marker": {
             "colorbar": {
              "outlinewidth": 0,
              "ticks": ""
             }
            },
            "type": "scattergeo"
           }
          ],
          "scattergl": [
           {
            "marker": {
             "colorbar": {
              "outlinewidth": 0,
              "ticks": ""
             }
            },
            "type": "scattergl"
           }
          ],
          "scattermapbox": [
           {
            "marker": {
             "colorbar": {
              "outlinewidth": 0,
              "ticks": ""
             }
            },
            "type": "scattermapbox"
           }
          ],
          "scatterpolar": [
           {
            "marker": {
             "colorbar": {
              "outlinewidth": 0,
              "ticks": ""
             }
            },
            "type": "scatterpolar"
           }
          ],
          "scatterpolargl": [
           {
            "marker": {
             "colorbar": {
              "outlinewidth": 0,
              "ticks": ""
             }
            },
            "type": "scatterpolargl"
           }
          ],
          "scatterternary": [
           {
            "marker": {
             "colorbar": {
              "outlinewidth": 0,
              "ticks": ""
             }
            },
            "type": "scatterternary"
           }
          ],
          "surface": [
           {
            "colorbar": {
             "outlinewidth": 0,
             "ticks": ""
            },
            "colorscale": [
             [
              0,
              "#0d0887"
             ],
             [
              0.1111111111111111,
              "#46039f"
             ],
             [
              0.2222222222222222,
              "#7201a8"
             ],
             [
              0.3333333333333333,
              "#9c179e"
             ],
             [
              0.4444444444444444,
              "#bd3786"
             ],
             [
              0.5555555555555556,
              "#d8576b"
             ],
             [
              0.6666666666666666,
              "#ed7953"
             ],
             [
              0.7777777777777778,
              "#fb9f3a"
             ],
             [
              0.8888888888888888,
              "#fdca26"
             ],
             [
              1,
              "#f0f921"
             ]
            ],
            "type": "surface"
           }
          ],
          "table": [
           {
            "cells": {
             "fill": {
              "color": "#EBF0F8"
             },
             "line": {
              "color": "white"
             }
            },
            "header": {
             "fill": {
              "color": "#C8D4E3"
             },
             "line": {
              "color": "white"
             }
            },
            "type": "table"
           }
          ]
         },
         "layout": {
          "annotationdefaults": {
           "arrowcolor": "#2a3f5f",
           "arrowhead": 0,
           "arrowwidth": 1
          },
          "coloraxis": {
           "colorbar": {
            "outlinewidth": 0,
            "ticks": ""
           }
          },
          "colorscale": {
           "diverging": [
            [
             0,
             "#8e0152"
            ],
            [
             0.1,
             "#c51b7d"
            ],
            [
             0.2,
             "#de77ae"
            ],
            [
             0.3,
             "#f1b6da"
            ],
            [
             0.4,
             "#fde0ef"
            ],
            [
             0.5,
             "#f7f7f7"
            ],
            [
             0.6,
             "#e6f5d0"
            ],
            [
             0.7,
             "#b8e186"
            ],
            [
             0.8,
             "#7fbc41"
            ],
            [
             0.9,
             "#4d9221"
            ],
            [
             1,
             "#276419"
            ]
           ],
           "sequential": [
            [
             0,
             "#0d0887"
            ],
            [
             0.1111111111111111,
             "#46039f"
            ],
            [
             0.2222222222222222,
             "#7201a8"
            ],
            [
             0.3333333333333333,
             "#9c179e"
            ],
            [
             0.4444444444444444,
             "#bd3786"
            ],
            [
             0.5555555555555556,
             "#d8576b"
            ],
            [
             0.6666666666666666,
             "#ed7953"
            ],
            [
             0.7777777777777778,
             "#fb9f3a"
            ],
            [
             0.8888888888888888,
             "#fdca26"
            ],
            [
             1,
             "#f0f921"
            ]
           ],
           "sequentialminus": [
            [
             0,
             "#0d0887"
            ],
            [
             0.1111111111111111,
             "#46039f"
            ],
            [
             0.2222222222222222,
             "#7201a8"
            ],
            [
             0.3333333333333333,
             "#9c179e"
            ],
            [
             0.4444444444444444,
             "#bd3786"
            ],
            [
             0.5555555555555556,
             "#d8576b"
            ],
            [
             0.6666666666666666,
             "#ed7953"
            ],
            [
             0.7777777777777778,
             "#fb9f3a"
            ],
            [
             0.8888888888888888,
             "#fdca26"
            ],
            [
             1,
             "#f0f921"
            ]
           ]
          },
          "colorway": [
           "#636efa",
           "#EF553B",
           "#00cc96",
           "#ab63fa",
           "#FFA15A",
           "#19d3f3",
           "#FF6692",
           "#B6E880",
           "#FF97FF",
           "#FECB52"
          ],
          "font": {
           "color": "#2a3f5f"
          },
          "geo": {
           "bgcolor": "white",
           "lakecolor": "white",
           "landcolor": "#E5ECF6",
           "showlakes": true,
           "showland": true,
           "subunitcolor": "white"
          },
          "hoverlabel": {
           "align": "left"
          },
          "hovermode": "closest",
          "mapbox": {
           "style": "light"
          },
          "paper_bgcolor": "white",
          "plot_bgcolor": "#E5ECF6",
          "polar": {
           "angularaxis": {
            "gridcolor": "white",
            "linecolor": "white",
            "ticks": ""
           },
           "bgcolor": "#E5ECF6",
           "radialaxis": {
            "gridcolor": "white",
            "linecolor": "white",
            "ticks": ""
           }
          },
          "scene": {
           "xaxis": {
            "backgroundcolor": "#E5ECF6",
            "gridcolor": "white",
            "gridwidth": 2,
            "linecolor": "white",
            "showbackground": true,
            "ticks": "",
            "zerolinecolor": "white"
           },
           "yaxis": {
            "backgroundcolor": "#E5ECF6",
            "gridcolor": "white",
            "gridwidth": 2,
            "linecolor": "white",
            "showbackground": true,
            "ticks": "",
            "zerolinecolor": "white"
           },
           "zaxis": {
            "backgroundcolor": "#E5ECF6",
            "gridcolor": "white",
            "gridwidth": 2,
            "linecolor": "white",
            "showbackground": true,
            "ticks": "",
            "zerolinecolor": "white"
           }
          },
          "shapedefaults": {
           "line": {
            "color": "#2a3f5f"
           }
          },
          "ternary": {
           "aaxis": {
            "gridcolor": "white",
            "linecolor": "white",
            "ticks": ""
           },
           "baxis": {
            "gridcolor": "white",
            "linecolor": "white",
            "ticks": ""
           },
           "bgcolor": "#E5ECF6",
           "caxis": {
            "gridcolor": "white",
            "linecolor": "white",
            "ticks": ""
           }
          },
          "title": {
           "x": 0.05
          },
          "xaxis": {
           "automargin": true,
           "gridcolor": "white",
           "linecolor": "white",
           "ticks": "",
           "title": {
            "standoff": 15
           },
           "zerolinecolor": "white",
           "zerolinewidth": 2
          },
          "yaxis": {
           "automargin": true,
           "gridcolor": "white",
           "linecolor": "white",
           "ticks": "",
           "title": {
            "standoff": 15
           },
           "zerolinecolor": "white",
           "zerolinewidth": 2
          }
         }
        },
        "title": {
         "text": "ESCENARIO D : Actual < Consensus < Previous"
        },
        "xaxis": {
         "title": {
          "text": "Fechas"
         }
        },
        "yaxis": {
         "title": {
          "text": "Rendimiento"
         }
        }
       }
      },
      "text/html": [
       "<div>\n",
       "        \n",
       "        \n",
       "            <div id=\"30028cc1-4055-47fc-bde6-17671394eee0\" class=\"plotly-graph-div\" style=\"height:525px; width:100%;\"></div>\n",
       "            <script type=\"text/javascript\">\n",
       "                require([\"plotly\"], function(Plotly) {\n",
       "                    window.PLOTLYENV=window.PLOTLYENV || {};\n",
       "                    \n",
       "                if (document.getElementById(\"30028cc1-4055-47fc-bde6-17671394eee0\")) {\n",
       "                    Plotly.newPlot(\n",
       "                        '30028cc1-4055-47fc-bde6-17671394eee0',\n",
       "                        [{\"mode\": \"lines+markers\", \"name\": \"Direccion\", \"type\": \"scatter\", \"x\": [\"2009-11-13T13:30:00+00:00\", \"2010-01-12T13:30:00+00:00\", \"2010-02-10T13:30:00+00:00\", \"2010-04-13T12:30:00+00:00\", \"2010-05-12T12:30:00+00:00\", \"2010-08-11T12:30:00+00:00\", \"2011-03-10T13:30:00+00:00\", \"2011-07-12T12:30:00+00:00\", \"2012-01-13T13:30:00+00:00\", \"2012-02-10T13:30:00+00:00\", \"2012-05-10T12:30:00+00:00\", \"2013-03-07T13:30:00+00:00\", \"2013-11-14T13:30:00+00:00\", \"2014-02-06T13:30:00+00:00\", \"2014-03-07T13:30:00+00:00\", \"2014-11-04T13:30:00+00:00\", \"2015-05-05T12:30:00+00:00\", \"2015-08-05T12:30:00+00:00\", \"2015-10-06T12:30:00+00:00\", \"2016-02-05T13:30:00+00:00\", \"2016-03-04T13:30:00+00:00\", \"2016-04-05T12:30:00+00:00\", \"2016-07-06T12:30:00+00:00\", \"2016-08-05T12:30:00+00:00\", \"2016-12-06T13:30:00+00:00\", \"2017-06-02T12:30:00+00:00\", \"2017-11-03T12:30:00+00:00\", \"2017-12-05T13:30:00+00:00\", \"2018-01-05T13:30:00+00:00\", \"2018-02-06T13:30:00+00:00\", \"2018-03-07T13:30:00+00:00\", \"2018-04-05T12:30:00+00:00\", \"2018-11-02T12:30:00+00:00\", \"2018-12-06T13:30:00+00:00\", \"2019-03-06T13:30:00+00:00\", \"2019-06-06T12:30:00+00:00\", \"2019-07-03T12:30:00+00:00\"], \"y\": [-0.0021299999999999653, -0.0007099999999999884, -0.00038000000000004697, 0.0033600000000000296, -0.0005999999999999339, -0.0023599999999999177, 0.0008199999999998209, 0.0017000000000000348, -0.006929999999999881, -1.999999999990898e-05, -8.999999999992347e-05, 0.006559999999999899, 0.0014799999999999258, 0.010029999999999983, -0.003929999999999989, -0.0002500000000000835, 0.003049999999999997, -0.0013600000000000279, -0.0012900000000000134, -0.008199999999999985, 0.0033000000000000806, 0.00034000000000000696, 9.999999999998899e-05, -0.006340000000000012, -0.0006399999999999739, 0.003869999999999818, -0.0009399999999999409, -0.0006300000000001305, 0.0001100000000000545, 0.0007999999999999119, 6.000000000017103e-05, 0.0007600000000000939, -0.0020199999999999108, -0.00025999999999992696, 0.00015999999999993797, 0.0025599999999998957, -0.0011699999999998933]}, {\"mode\": \"lines+markers\", \"name\": \"Pips Alcistas\", \"type\": \"scatter\", \"x\": [\"2009-11-13T13:30:00+00:00\", \"2010-01-12T13:30:00+00:00\", \"2010-02-10T13:30:00+00:00\", \"2010-04-13T12:30:00+00:00\", \"2010-05-12T12:30:00+00:00\", \"2010-08-11T12:30:00+00:00\", \"2011-03-10T13:30:00+00:00\", \"2011-07-12T12:30:00+00:00\", \"2012-01-13T13:30:00+00:00\", \"2012-02-10T13:30:00+00:00\", \"2012-05-10T12:30:00+00:00\", \"2013-03-07T13:30:00+00:00\", \"2013-11-14T13:30:00+00:00\", \"2014-02-06T13:30:00+00:00\", \"2014-03-07T13:30:00+00:00\", \"2014-11-04T13:30:00+00:00\", \"2015-05-05T12:30:00+00:00\", \"2015-08-05T12:30:00+00:00\", \"2015-10-06T12:30:00+00:00\", \"2016-02-05T13:30:00+00:00\", \"2016-03-04T13:30:00+00:00\", \"2016-04-05T12:30:00+00:00\", \"2016-07-06T12:30:00+00:00\", \"2016-08-05T12:30:00+00:00\", \"2016-12-06T13:30:00+00:00\", \"2017-06-02T12:30:00+00:00\", \"2017-11-03T12:30:00+00:00\", \"2017-12-05T13:30:00+00:00\", \"2018-01-05T13:30:00+00:00\", \"2018-02-06T13:30:00+00:00\", \"2018-03-07T13:30:00+00:00\", \"2018-04-05T12:30:00+00:00\", \"2018-11-02T12:30:00+00:00\", \"2018-12-06T13:30:00+00:00\", \"2019-03-06T13:30:00+00:00\", \"2019-06-06T12:30:00+00:00\", \"2019-07-03T12:30:00+00:00\"], \"y\": [0.0018000000000000238, 0.0007699999999999374, 0.0006500000000000394, 0.0036599999999999966, 0.0007200000000000539, 0.001140000000000141, 0.0015000000000000568, 0.0049799999999999844, 0.0005300000000001415, 0.0009799999999999809, 0.00024999999999986144, 0.007050000000000001, 0.0019799999999998708, 0.01097999999999999, 0.00017999999999984695, 0.0005499999999998284, 0.005249999999999977, 0.0009200000000000319, 8.999999999992347e-05, 0.0035800000000001386, 0.005589999999999984, 0.0014799999999999258, 0.0016299999999997983, 0.00038999999999989043, 0.0005800000000000249, 0.006529999999999925, 0.0031799999999999606, 0.0004199999999998649, 0.0031799999999999606, 0.0009500000000000064, 0.0014000000000000679, 0.002120000000000122, 0.0005900000000000905, 0.00041000000000002146, 0.00026999999999999247, 0.0047200000000000575, 0.0]}, {\"mode\": \"lines+markers\", \"name\": \"Pips Bajistas\", \"type\": \"scatter\", \"x\": [\"2009-11-13T13:30:00+00:00\", \"2010-01-12T13:30:00+00:00\", \"2010-02-10T13:30:00+00:00\", \"2010-04-13T12:30:00+00:00\", \"2010-05-12T12:30:00+00:00\", \"2010-08-11T12:30:00+00:00\", \"2011-03-10T13:30:00+00:00\", \"2011-07-12T12:30:00+00:00\", \"2012-01-13T13:30:00+00:00\", \"2012-02-10T13:30:00+00:00\", \"2012-05-10T12:30:00+00:00\", \"2013-03-07T13:30:00+00:00\", \"2013-11-14T13:30:00+00:00\", \"2014-02-06T13:30:00+00:00\", \"2014-03-07T13:30:00+00:00\", \"2014-11-04T13:30:00+00:00\", \"2015-05-05T12:30:00+00:00\", \"2015-08-05T12:30:00+00:00\", \"2015-10-06T12:30:00+00:00\", \"2016-02-05T13:30:00+00:00\", \"2016-03-04T13:30:00+00:00\", \"2016-04-05T12:30:00+00:00\", \"2016-07-06T12:30:00+00:00\", \"2016-08-05T12:30:00+00:00\", \"2016-12-06T13:30:00+00:00\", \"2017-06-02T12:30:00+00:00\", \"2017-11-03T12:30:00+00:00\", \"2017-12-05T13:30:00+00:00\", \"2018-01-05T13:30:00+00:00\", \"2018-02-06T13:30:00+00:00\", \"2018-03-07T13:30:00+00:00\", \"2018-04-05T12:30:00+00:00\", \"2018-11-02T12:30:00+00:00\", \"2018-12-06T13:30:00+00:00\", \"2019-03-06T13:30:00+00:00\", \"2019-06-06T12:30:00+00:00\", \"2019-07-03T12:30:00+00:00\"], \"y\": [0.002529999999999921, 0.0017899999999999583, 0.0030000000000001137, 0.0, 0.0015199999999999658, 0.0030799999999999716, 0.0015600000000000058, 4.999999999988347e-05, 0.007089999999999819, 0.0019000000000000128, 0.0013399999999998968, 0.0032399999999999096, 0.00012000000000012001, 0.0013600000000000279, 0.0048399999999999554, 0.000500000000000167, 0.00026999999999999247, 0.0018800000000001038, 0.002389999999999892, 0.008559999999999679, 0.006739999999999968, 0.00019999999999997797, 0.00028000000000028, 0.006799999999999917, 0.0014399999999998858, 0.0, 0.001100000000000101, 0.0013700000000000934, 0.00043999999999999595, 0.0018000000000000238, 0.00028999999999990145, 0.0006599999999998829, 0.0025999999999999357, 0.0005599999999998939, 0.0020500000000001073, 0.0, 0.0015999999999998238]}, {\"mode\": \"lines+markers\", \"name\": \"Volatilidad\", \"type\": \"scatter\", \"x\": [\"2009-11-13T13:30:00+00:00\", \"2010-01-12T13:30:00+00:00\", \"2010-02-10T13:30:00+00:00\", \"2010-04-13T12:30:00+00:00\", \"2010-05-12T12:30:00+00:00\", \"2010-08-11T12:30:00+00:00\", \"2011-03-10T13:30:00+00:00\", \"2011-07-12T12:30:00+00:00\", \"2012-01-13T13:30:00+00:00\", \"2012-02-10T13:30:00+00:00\", \"2012-05-10T12:30:00+00:00\", \"2013-03-07T13:30:00+00:00\", \"2013-11-14T13:30:00+00:00\", \"2014-02-06T13:30:00+00:00\", \"2014-03-07T13:30:00+00:00\", \"2014-11-04T13:30:00+00:00\", \"2015-05-05T12:30:00+00:00\", \"2015-08-05T12:30:00+00:00\", \"2015-10-06T12:30:00+00:00\", \"2016-02-05T13:30:00+00:00\", \"2016-03-04T13:30:00+00:00\", \"2016-04-05T12:30:00+00:00\", \"2016-07-06T12:30:00+00:00\", \"2016-08-05T12:30:00+00:00\", \"2016-12-06T13:30:00+00:00\", \"2017-06-02T12:30:00+00:00\", \"2017-11-03T12:30:00+00:00\", \"2017-12-05T13:30:00+00:00\", \"2018-01-05T13:30:00+00:00\", \"2018-02-06T13:30:00+00:00\", \"2018-03-07T13:30:00+00:00\", \"2018-04-05T12:30:00+00:00\", \"2018-11-02T12:30:00+00:00\", \"2018-12-06T13:30:00+00:00\", \"2019-03-06T13:30:00+00:00\", \"2019-06-06T12:30:00+00:00\", \"2019-07-03T12:30:00+00:00\"], \"y\": [0.004329999999999945, 0.0041599999999999415, 0.003650000000000153, 0.0042999999999999705, 0.0033199999999999896, 0.0042200000000001125, 0.0034799999999999276, 0.005039999999999933, 0.00761999999999996, 0.004830000000000112, 0.0018499999999999073, 0.01028999999999991, 0.0029199999999998116, 0.012340000000000018, 0.005479999999999929, 0.0014999999999998348, 0.006380000000000052, 0.00558000000000014, 0.002609999999999779, 0.012139999999999818, 0.012329999999999952, 0.0021100000000000563, 0.003449999999999953, 0.008129999999999749, 0.0020199999999999108, 0.007679999999999909, 0.0046200000000000685, 0.0020100000000000673, 0.0038799999999998835, 0.00275000000000003, 0.0021500000000000963, 0.0027800000000000047, 0.003970000000000029, 0.0022100000000000453, 0.0029600000000000737, 0.0049200000000000355, 0.0023299999999999432]}],\n",
       "                        {\"template\": {\"data\": {\"bar\": [{\"error_x\": {\"color\": \"#2a3f5f\"}, \"error_y\": {\"color\": \"#2a3f5f\"}, \"marker\": {\"line\": {\"color\": \"#E5ECF6\", \"width\": 0.5}}, \"type\": \"bar\"}], \"barpolar\": [{\"marker\": {\"line\": {\"color\": \"#E5ECF6\", \"width\": 0.5}}, \"type\": \"barpolar\"}], \"carpet\": [{\"aaxis\": {\"endlinecolor\": \"#2a3f5f\", \"gridcolor\": \"white\", \"linecolor\": \"white\", \"minorgridcolor\": \"white\", \"startlinecolor\": \"#2a3f5f\"}, \"baxis\": {\"endlinecolor\": \"#2a3f5f\", \"gridcolor\": \"white\", \"linecolor\": \"white\", \"minorgridcolor\": \"white\", \"startlinecolor\": \"#2a3f5f\"}, \"type\": \"carpet\"}], \"choropleth\": [{\"colorbar\": {\"outlinewidth\": 0, \"ticks\": \"\"}, \"type\": \"choropleth\"}], \"contour\": [{\"colorbar\": {\"outlinewidth\": 0, \"ticks\": \"\"}, \"colorscale\": [[0.0, \"#0d0887\"], [0.1111111111111111, \"#46039f\"], [0.2222222222222222, \"#7201a8\"], [0.3333333333333333, \"#9c179e\"], [0.4444444444444444, \"#bd3786\"], [0.5555555555555556, \"#d8576b\"], [0.6666666666666666, \"#ed7953\"], [0.7777777777777778, \"#fb9f3a\"], [0.8888888888888888, \"#fdca26\"], [1.0, \"#f0f921\"]], \"type\": \"contour\"}], \"contourcarpet\": [{\"colorbar\": {\"outlinewidth\": 0, \"ticks\": \"\"}, \"type\": \"contourcarpet\"}], \"heatmap\": [{\"colorbar\": {\"outlinewidth\": 0, \"ticks\": \"\"}, \"colorscale\": [[0.0, \"#0d0887\"], [0.1111111111111111, \"#46039f\"], [0.2222222222222222, \"#7201a8\"], [0.3333333333333333, \"#9c179e\"], [0.4444444444444444, \"#bd3786\"], [0.5555555555555556, \"#d8576b\"], [0.6666666666666666, \"#ed7953\"], [0.7777777777777778, \"#fb9f3a\"], [0.8888888888888888, \"#fdca26\"], [1.0, \"#f0f921\"]], \"type\": \"heatmap\"}], \"heatmapgl\": [{\"colorbar\": {\"outlinewidth\": 0, \"ticks\": \"\"}, \"colorscale\": [[0.0, \"#0d0887\"], [0.1111111111111111, \"#46039f\"], [0.2222222222222222, \"#7201a8\"], [0.3333333333333333, \"#9c179e\"], [0.4444444444444444, \"#bd3786\"], [0.5555555555555556, \"#d8576b\"], [0.6666666666666666, \"#ed7953\"], [0.7777777777777778, \"#fb9f3a\"], [0.8888888888888888, \"#fdca26\"], [1.0, \"#f0f921\"]], \"type\": \"heatmapgl\"}], \"histogram\": [{\"marker\": {\"colorbar\": {\"outlinewidth\": 0, \"ticks\": \"\"}}, \"type\": \"histogram\"}], \"histogram2d\": [{\"colorbar\": {\"outlinewidth\": 0, \"ticks\": \"\"}, \"colorscale\": [[0.0, \"#0d0887\"], [0.1111111111111111, \"#46039f\"], [0.2222222222222222, \"#7201a8\"], [0.3333333333333333, \"#9c179e\"], [0.4444444444444444, \"#bd3786\"], [0.5555555555555556, \"#d8576b\"], [0.6666666666666666, \"#ed7953\"], [0.7777777777777778, \"#fb9f3a\"], [0.8888888888888888, \"#fdca26\"], [1.0, \"#f0f921\"]], \"type\": \"histogram2d\"}], \"histogram2dcontour\": [{\"colorbar\": {\"outlinewidth\": 0, \"ticks\": \"\"}, \"colorscale\": [[0.0, \"#0d0887\"], [0.1111111111111111, \"#46039f\"], [0.2222222222222222, \"#7201a8\"], [0.3333333333333333, \"#9c179e\"], [0.4444444444444444, \"#bd3786\"], [0.5555555555555556, \"#d8576b\"], [0.6666666666666666, \"#ed7953\"], [0.7777777777777778, \"#fb9f3a\"], [0.8888888888888888, \"#fdca26\"], [1.0, \"#f0f921\"]], \"type\": \"histogram2dcontour\"}], \"mesh3d\": [{\"colorbar\": {\"outlinewidth\": 0, \"ticks\": \"\"}, \"type\": \"mesh3d\"}], \"parcoords\": [{\"line\": {\"colorbar\": {\"outlinewidth\": 0, \"ticks\": \"\"}}, \"type\": \"parcoords\"}], \"pie\": [{\"automargin\": true, \"type\": \"pie\"}], \"scatter\": [{\"marker\": {\"colorbar\": {\"outlinewidth\": 0, \"ticks\": \"\"}}, \"type\": \"scatter\"}], \"scatter3d\": [{\"line\": {\"colorbar\": {\"outlinewidth\": 0, \"ticks\": \"\"}}, \"marker\": {\"colorbar\": {\"outlinewidth\": 0, \"ticks\": \"\"}}, \"type\": \"scatter3d\"}], \"scattercarpet\": [{\"marker\": {\"colorbar\": {\"outlinewidth\": 0, \"ticks\": \"\"}}, \"type\": \"scattercarpet\"}], \"scattergeo\": [{\"marker\": {\"colorbar\": {\"outlinewidth\": 0, \"ticks\": \"\"}}, \"type\": \"scattergeo\"}], \"scattergl\": [{\"marker\": {\"colorbar\": {\"outlinewidth\": 0, \"ticks\": \"\"}}, \"type\": \"scattergl\"}], \"scattermapbox\": [{\"marker\": {\"colorbar\": {\"outlinewidth\": 0, \"ticks\": \"\"}}, \"type\": \"scattermapbox\"}], \"scatterpolar\": [{\"marker\": {\"colorbar\": {\"outlinewidth\": 0, \"ticks\": \"\"}}, \"type\": \"scatterpolar\"}], \"scatterpolargl\": [{\"marker\": {\"colorbar\": {\"outlinewidth\": 0, \"ticks\": \"\"}}, \"type\": \"scatterpolargl\"}], \"scatterternary\": [{\"marker\": {\"colorbar\": {\"outlinewidth\": 0, \"ticks\": \"\"}}, \"type\": \"scatterternary\"}], \"surface\": [{\"colorbar\": {\"outlinewidth\": 0, \"ticks\": \"\"}, \"colorscale\": [[0.0, \"#0d0887\"], [0.1111111111111111, \"#46039f\"], [0.2222222222222222, \"#7201a8\"], [0.3333333333333333, \"#9c179e\"], [0.4444444444444444, \"#bd3786\"], [0.5555555555555556, \"#d8576b\"], [0.6666666666666666, \"#ed7953\"], [0.7777777777777778, \"#fb9f3a\"], [0.8888888888888888, \"#fdca26\"], [1.0, \"#f0f921\"]], \"type\": \"surface\"}], \"table\": [{\"cells\": {\"fill\": {\"color\": \"#EBF0F8\"}, \"line\": {\"color\": \"white\"}}, \"header\": {\"fill\": {\"color\": \"#C8D4E3\"}, \"line\": {\"color\": \"white\"}}, \"type\": \"table\"}]}, \"layout\": {\"annotationdefaults\": {\"arrowcolor\": \"#2a3f5f\", \"arrowhead\": 0, \"arrowwidth\": 1}, \"coloraxis\": {\"colorbar\": {\"outlinewidth\": 0, \"ticks\": \"\"}}, \"colorscale\": {\"diverging\": [[0, \"#8e0152\"], [0.1, \"#c51b7d\"], [0.2, \"#de77ae\"], [0.3, \"#f1b6da\"], [0.4, \"#fde0ef\"], [0.5, \"#f7f7f7\"], [0.6, \"#e6f5d0\"], [0.7, \"#b8e186\"], [0.8, \"#7fbc41\"], [0.9, \"#4d9221\"], [1, \"#276419\"]], \"sequential\": [[0.0, \"#0d0887\"], [0.1111111111111111, \"#46039f\"], [0.2222222222222222, \"#7201a8\"], [0.3333333333333333, \"#9c179e\"], [0.4444444444444444, \"#bd3786\"], [0.5555555555555556, \"#d8576b\"], [0.6666666666666666, \"#ed7953\"], [0.7777777777777778, \"#fb9f3a\"], [0.8888888888888888, \"#fdca26\"], [1.0, \"#f0f921\"]], \"sequentialminus\": [[0.0, \"#0d0887\"], [0.1111111111111111, \"#46039f\"], [0.2222222222222222, \"#7201a8\"], [0.3333333333333333, \"#9c179e\"], [0.4444444444444444, \"#bd3786\"], [0.5555555555555556, \"#d8576b\"], [0.6666666666666666, \"#ed7953\"], [0.7777777777777778, \"#fb9f3a\"], [0.8888888888888888, \"#fdca26\"], [1.0, \"#f0f921\"]]}, \"colorway\": [\"#636efa\", \"#EF553B\", \"#00cc96\", \"#ab63fa\", \"#FFA15A\", \"#19d3f3\", \"#FF6692\", \"#B6E880\", \"#FF97FF\", \"#FECB52\"], \"font\": {\"color\": \"#2a3f5f\"}, \"geo\": {\"bgcolor\": \"white\", \"lakecolor\": \"white\", \"landcolor\": \"#E5ECF6\", \"showlakes\": true, \"showland\": true, \"subunitcolor\": \"white\"}, \"hoverlabel\": {\"align\": \"left\"}, \"hovermode\": \"closest\", \"mapbox\": {\"style\": \"light\"}, \"paper_bgcolor\": \"white\", \"plot_bgcolor\": \"#E5ECF6\", \"polar\": {\"angularaxis\": {\"gridcolor\": \"white\", \"linecolor\": \"white\", \"ticks\": \"\"}, \"bgcolor\": \"#E5ECF6\", \"radialaxis\": {\"gridcolor\": \"white\", \"linecolor\": \"white\", \"ticks\": \"\"}}, \"scene\": {\"xaxis\": {\"backgroundcolor\": \"#E5ECF6\", \"gridcolor\": \"white\", \"gridwidth\": 2, \"linecolor\": \"white\", \"showbackground\": true, \"ticks\": \"\", \"zerolinecolor\": \"white\"}, \"yaxis\": {\"backgroundcolor\": \"#E5ECF6\", \"gridcolor\": \"white\", \"gridwidth\": 2, \"linecolor\": \"white\", \"showbackground\": true, \"ticks\": \"\", \"zerolinecolor\": \"white\"}, \"zaxis\": {\"backgroundcolor\": \"#E5ECF6\", \"gridcolor\": \"white\", \"gridwidth\": 2, \"linecolor\": \"white\", \"showbackground\": true, \"ticks\": \"\", \"zerolinecolor\": \"white\"}}, \"shapedefaults\": {\"line\": {\"color\": \"#2a3f5f\"}}, \"ternary\": {\"aaxis\": {\"gridcolor\": \"white\", \"linecolor\": \"white\", \"ticks\": \"\"}, \"baxis\": {\"gridcolor\": \"white\", \"linecolor\": \"white\", \"ticks\": \"\"}, \"bgcolor\": \"#E5ECF6\", \"caxis\": {\"gridcolor\": \"white\", \"linecolor\": \"white\", \"ticks\": \"\"}}, \"title\": {\"x\": 0.05}, \"xaxis\": {\"automargin\": true, \"gridcolor\": \"white\", \"linecolor\": \"white\", \"ticks\": \"\", \"title\": {\"standoff\": 15}, \"zerolinecolor\": \"white\", \"zerolinewidth\": 2}, \"yaxis\": {\"automargin\": true, \"gridcolor\": \"white\", \"linecolor\": \"white\", \"ticks\": \"\", \"title\": {\"standoff\": 15}, \"zerolinecolor\": \"white\", \"zerolinewidth\": 2}}}, \"title\": {\"text\": \"ESCENARIO D : Actual < Consensus < Previous\"}, \"xaxis\": {\"title\": {\"text\": \"Fechas\"}}, \"yaxis\": {\"title\": {\"text\": \"Rendimiento\"}}},\n",
       "                        {\"responsive\": true}\n",
       "                    ).then(function(){\n",
       "                            \n",
       "var gd = document.getElementById('30028cc1-4055-47fc-bde6-17671394eee0');\n",
       "var x = new MutationObserver(function (mutations, observer) {{\n",
       "        var display = window.getComputedStyle(gd).display;\n",
       "        if (!display || display === 'none') {{\n",
       "            console.log([gd, 'removed!']);\n",
       "            Plotly.purge(gd);\n",
       "            observer.disconnect();\n",
       "        }}\n",
       "}});\n",
       "\n",
       "// Listen for the removal of the full notebook cells\n",
       "var notebookContainer = gd.closest('#notebook-container');\n",
       "if (notebookContainer) {{\n",
       "    x.observe(notebookContainer, {childList: true});\n",
       "}}\n",
       "\n",
       "// Listen for the clearing of the current output cell\n",
       "var outputEl = gd.closest('.output');\n",
       "if (outputEl) {{\n",
       "    x.observe(outputEl, {childList: true});\n",
       "}}\n",
       "\n",
       "                        })\n",
       "                };\n",
       "                });\n",
       "            </script>\n",
       "        </div>"
      ]
     },
     "metadata": {},
     "output_type": "display_data"
    }
   ],
   "source": [
    "plotesc(USD,Dusd,\"ESCENARIO D : Actual < Consensus < Previous\")"
   ]
  }
 ],
 "metadata": {
  "kernelspec": {
   "display_name": "Python 3",
   "language": "python",
   "name": "python3"
  },
  "language_info": {
   "codemirror_mode": {
    "name": "ipython",
    "version": 3
   },
   "file_extension": ".py",
   "mimetype": "text/x-python",
   "name": "python",
   "nbconvert_exporter": "python",
   "pygments_lexer": "ipython3",
   "version": "3.7.3"
  }
 },
 "nbformat": 4,
 "nbformat_minor": 2
}
